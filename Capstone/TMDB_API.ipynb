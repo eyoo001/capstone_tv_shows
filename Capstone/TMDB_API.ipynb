{
 "cells": [
  {
   "cell_type": "code",
   "execution_count": 1,
   "metadata": {},
   "outputs": [],
   "source": [
    "import requests\n",
    "import time\n",
    "import pandas as pd\n",
    "import pprint\n",
    "import re\n",
    "\n",
    "pp = pprint.PrettyPrinter(indent=2)"
   ]
  },
  {
   "cell_type": "code",
   "execution_count": 2,
   "metadata": {},
   "outputs": [],
   "source": [
    "import tmdbsimple as tmdb"
   ]
  },
  {
   "cell_type": "code",
   "execution_count": 22,
   "metadata": {},
   "outputs": [],
   "source": [
    "import pickle\n",
    "\n",
    "with open ('./Data/new_show_list', 'rb') as fp:\n",
    "    show_names = pickle.load(fp)\n",
    "    \n",
    "with open ('./Data/show_list', 'rb') as fp:\n",
    "    show_list = pickle.load(fp)\n",
    "    \n",
    "#with open('./tmdb_list.pickle', 'rb') as fp:\n",
    "#    messy_dict = pickle.load(fp)"
   ]
  },
  {
   "cell_type": "code",
   "execution_count": 5,
   "metadata": {},
   "outputs": [
    {
     "data": {
      "text/plain": [
       "[['Grey%27s_Anatomy'],\n",
       " ['Agents_of_S.H.I.E.L.D.'],\n",
       " ['How_to_Get_Away_with_Murder'],\n",
       " ['The_Good_Doctor_(TV_series)'],\n",
       " ['For_the_People_(2018_TV_series)'],\n",
       " ['Station_19'],\n",
       " ['Take_Two_(TV_series)'],\n",
       " ['A_Million_Little_Things'],\n",
       " ['Modern_Family'],\n",
       " ['The_Goldbergs_(2013_TV_series)']]"
      ]
     },
     "execution_count": 5,
     "metadata": {},
     "output_type": "execute_result"
    }
   ],
   "source": [
    "show_list[:10]"
   ]
  },
  {
   "cell_type": "code",
   "execution_count": 6,
   "metadata": {},
   "outputs": [],
   "source": [
    "flat_list = [item for sublist in show_list for item in sublist]\n",
    "\n",
    "flat_list = [re.sub('_', ' ', i) for i in flat_list]\n",
    "\n",
    "flat_list = [re.sub('%27', '\\'', i) for i in flat_list]\n",
    "\n",
    "flat_list = [re.sub(' \\(([^)]+)\\)', '', i) for i in flat_list]\n",
    "\n",
    "flat_list = [re.sub('%26', '&', i) for i in flat_list]\n",
    "\n",
    "flat_list = [re.sub('#', '', i) for i in flat_list]"
   ]
  },
  {
   "cell_type": "code",
   "execution_count": null,
   "metadata": {},
   "outputs": [],
   "source": [
    "# also replace '#'\n",
    "# replace Kr%C3%B6d M%C3%A4ndoon"
   ]
  },
  {
   "cell_type": "code",
   "execution_count": 13,
   "metadata": {},
   "outputs": [
    {
     "data": {
      "text/plain": [
       "[\"Grey's Anatomy\",\n",
       " 'Agents of S.H.I.E.L.D.',\n",
       " 'How to Get Away with Murder',\n",
       " 'The Good Doctor',\n",
       " 'For the People',\n",
       " 'Station 19',\n",
       " 'Take Two',\n",
       " 'A Million Little Things',\n",
       " 'Modern Family',\n",
       " 'The Goldbergs']"
      ]
     },
     "execution_count": 13,
     "metadata": {},
     "output_type": "execute_result"
    }
   ],
   "source": [
    "flat_list[:10]"
   ]
  },
  {
   "cell_type": "code",
   "execution_count": 14,
   "metadata": {},
   "outputs": [],
   "source": [
    "with open('clean_list', 'wb') as fp:\n",
    "    pickle.dump(flat_list, fp)"
   ]
  },
  {
   "cell_type": "code",
   "execution_count": 15,
   "metadata": {},
   "outputs": [
    {
     "data": {
      "text/plain": [
       "63878"
      ]
     },
     "execution_count": 15,
     "metadata": {},
     "output_type": "execute_result"
    }
   ],
   "source": [
    "len(flat_list)"
   ]
  },
  {
   "cell_type": "code",
   "execution_count": 16,
   "metadata": {},
   "outputs": [],
   "source": [
    "tmdb.API_KEY = 'a317708aa6c2e5d9aa0213f98af91cd7'"
   ]
  },
  {
   "cell_type": "code",
   "execution_count": 17,
   "metadata": {},
   "outputs": [],
   "source": [
    "search = tmdb.Search()"
   ]
  },
  {
   "cell_type": "raw",
   "metadata": {},
   "source": [
    "omdb_dict = {}\n",
    "count = 0\n",
    "for i in flat_list:\n",
    "    omdb_dict[i] = search.tv(query=i)\n",
    "    count += 1\n",
    "    if count % 250 == 0:\n",
    "        print(\"Currently pulling: \", count)"
   ]
  },
  {
   "cell_type": "code",
   "execution_count": null,
   "metadata": {},
   "outputs": [],
   "source": []
  },
  {
   "cell_type": "code",
   "execution_count": 18,
   "metadata": {
    "scrolled": true
   },
   "outputs": [
    {
     "ename": "NameError",
     "evalue": "name 'omdb_dict' is not defined",
     "output_type": "error",
     "traceback": [
      "\u001b[0;31m---------------------------------------------------------------------------\u001b[0m",
      "\u001b[0;31mNameError\u001b[0m                                 Traceback (most recent call last)",
      "\u001b[0;32m<ipython-input-18-f4fb25321782>\u001b[0m in \u001b[0;36m<module>\u001b[0;34m()\u001b[0m\n\u001b[0;32m----> 1\u001b[0;31m \u001b[0mlen\u001b[0m\u001b[0;34m(\u001b[0m\u001b[0momdb_dict\u001b[0m\u001b[0;34m)\u001b[0m\u001b[0;34m\u001b[0m\u001b[0m\n\u001b[0m",
      "\u001b[0;31mNameError\u001b[0m: name 'omdb_dict' is not defined"
     ]
    }
   ],
   "source": [
    "len(omdb_dict)"
   ]
  },
  {
   "cell_type": "code",
   "execution_count": null,
   "metadata": {
    "scrolled": true
   },
   "outputs": [],
   "source": [
    "omdb_dict.keys()"
   ]
  },
  {
   "cell_type": "markdown",
   "metadata": {},
   "source": [
    "# Need to clean - \n",
    "- \"Category: \" \n",
    "- \"Special: \"\n",
    "- \"Talk: \"\n",
    "- \"Template: \" \n",
    "- \"Network: \" (??) etc. names "
   ]
  },
  {
   "cell_type": "raw",
   "metadata": {},
   "source": [
    "entries = ('a', 'b', 'c')\n",
    "the_dict = {'b': 'foo'}\n",
    "\n",
    "def entries_to_remove(entries, the_dict):\n",
    "    for key in entries:\n",
    "        if key in the_dict:\n",
    "            del the_dict[key]\n",
    "            \n",
    "OR\n",
    "\n",
    "d = {'some':'data'}\n",
    "entriesToRemove = ('any', 'iterable')\n",
    "for k in entriesToRemove:\n",
    "    d.pop(k, None)"
   ]
  },
  {
   "cell_type": "code",
   "execution_count": null,
   "metadata": {},
   "outputs": [],
   "source": [
    "stupid_new_list_to_remove = []\n",
    "\n",
    "string = 'Category:'\n",
    "\n",
    "key_list = []\n",
    "for key in omdb_dict.keys():\n",
    "    if string in key:\n",
    "        key_list.append(key)"
   ]
  },
  {
   "cell_type": "code",
   "execution_count": null,
   "metadata": {
    "scrolled": true
   },
   "outputs": [],
   "source": [
    "omdb_dict['How to Get Away with Murder']"
   ]
  },
  {
   "cell_type": "raw",
   "metadata": {},
   "source": [
    "with open('tmdb_list.pickle', 'wb') as fp:\n",
    "    pickle.dump(omdb_dict, fp)"
   ]
  },
  {
   "cell_type": "code",
   "execution_count": null,
   "metadata": {},
   "outputs": [],
   "source": []
  },
  {
   "cell_type": "code",
   "execution_count": null,
   "metadata": {},
   "outputs": [],
   "source": [
    "omdb_dict['How to Get Away with Murder']"
   ]
  },
  {
   "cell_type": "code",
   "execution_count": null,
   "metadata": {},
   "outputs": [],
   "source": [
    "omdb_dict['How to Get Away with Murder']['results'][0]['id']"
   ]
  },
  {
   "cell_type": "code",
   "execution_count": null,
   "metadata": {},
   "outputs": [],
   "source": [
    "# Grab IDs and stick them in a df"
   ]
  },
  {
   "cell_type": "code",
   "execution_count": null,
   "metadata": {},
   "outputs": [],
   "source": [
    "import numpy as np"
   ]
  },
  {
   "cell_type": "code",
   "execution_count": null,
   "metadata": {},
   "outputs": [],
   "source": [
    "tmdb_dict = {}\n",
    "\n",
    "for i in omdb_dict:\n",
    "    tmdb_dict[i] = omdb_dict[i]['results']\n",
    "#    for number in np.arange(0, 6, 1):\n",
    "#        omdb_dict[i]['results'][number]\n",
    "\n",
    "        \n",
    "        \n",
    "        #        tmdb_dict[i] = omdb_dict[i]['results'][0]"
   ]
  },
  {
   "cell_type": "code",
   "execution_count": null,
   "metadata": {},
   "outputs": [],
   "source": []
  },
  {
   "cell_type": "code",
   "execution_count": null,
   "metadata": {},
   "outputs": [],
   "source": [
    "new_stupid_dict = {}\n",
    "\n",
    "len(tmdb_dict)"
   ]
  },
  {
   "cell_type": "code",
   "execution_count": null,
   "metadata": {},
   "outputs": [],
   "source": [
    "search.tv(query=\"Yogis Gang\")"
   ]
  },
  {
   "cell_type": "code",
   "execution_count": null,
   "metadata": {},
   "outputs": [],
   "source": []
  },
  {
   "cell_type": "code",
   "execution_count": null,
   "metadata": {},
   "outputs": [],
   "source": []
  },
  {
   "cell_type": "raw",
   "metadata": {},
   "source": [
    "test = {'a': {'aa':[{'apple': 'elppa'}, {'aapple': 'elppaa'}]}, \n",
    "        'b': {'aa':[{'apple': 'elppab'}, {'aapple': 'elppabb'}]},\n",
    "        'c': {'aa':[{'apple': 'elpparc'}, {'aapple': 'elpparcc'}]}, \n",
    "        'd': {'aa':[{'apple': 'elppad'}, {'aapple': 'elppadd'}]}}"
   ]
  },
  {
   "cell_type": "raw",
   "metadata": {},
   "source": [
    "test_dict = {}\n",
    "\n",
    "for i in test:\n",
    "    test_dict[i] = test[i]['aa'][0]['apple']\n",
    "\n",
    "test_dict"
   ]
  },
  {
   "cell_type": "code",
   "execution_count": null,
   "metadata": {},
   "outputs": [],
   "source": []
  },
  {
   "cell_type": "code",
   "execution_count": null,
   "metadata": {},
   "outputs": [],
   "source": []
  },
  {
   "cell_type": "code",
   "execution_count": null,
   "metadata": {},
   "outputs": [],
   "source": [
    "tmdb.TV_Seasons(series_id=61056, season_number=1).info()"
   ]
  },
  {
   "cell_type": "code",
   "execution_count": null,
   "metadata": {},
   "outputs": [],
   "source": [
    "tmdb.TV_Episodes(series_id=61056, season_number=1, episode_number=12).info()"
   ]
  },
  {
   "cell_type": "code",
   "execution_count": null,
   "metadata": {
    "scrolled": true
   },
   "outputs": [],
   "source": [
    "#search.tv(query='The Office')"
   ]
  },
  {
   "cell_type": "code",
   "execution_count": null,
   "metadata": {
    "scrolled": true
   },
   "outputs": [],
   "source": [
    "tv = tmdb.TV(2316)\n",
    "#pp.pprint(tv.info())"
   ]
  },
  {
   "cell_type": "code",
   "execution_count": null,
   "metadata": {},
   "outputs": [],
   "source": []
  },
  {
   "cell_type": "code",
   "execution_count": null,
   "metadata": {},
   "outputs": [],
   "source": [
    "sea = tmdb.TV_Seasons(series_id=2316, season_number=1)"
   ]
  },
  {
   "cell_type": "code",
   "execution_count": null,
   "metadata": {
    "scrolled": true
   },
   "outputs": [],
   "source": [
    "pp.pprint(sea.info())"
   ]
  },
  {
   "cell_type": "code",
   "execution_count": null,
   "metadata": {},
   "outputs": [],
   "source": [
    "ep = tmdb.TV_Episodes(series_id=2316, season_number=1, episode_number=1)"
   ]
  },
  {
   "cell_type": "code",
   "execution_count": null,
   "metadata": {
    "scrolled": true
   },
   "outputs": [],
   "source": [
    "pp.pprint(ep.info())"
   ]
  },
  {
   "cell_type": "code",
   "execution_count": null,
   "metadata": {},
   "outputs": [],
   "source": []
  },
  {
   "cell_type": "code",
   "execution_count": null,
   "metadata": {},
   "outputs": [],
   "source": []
  },
  {
   "cell_type": "code",
   "execution_count": null,
   "metadata": {},
   "outputs": [],
   "source": []
  },
  {
   "cell_type": "code",
   "execution_count": null,
   "metadata": {},
   "outputs": [],
   "source": []
  },
  {
   "cell_type": "code",
   "execution_count": null,
   "metadata": {},
   "outputs": [],
   "source": []
  },
  {
   "cell_type": "code",
   "execution_count": null,
   "metadata": {},
   "outputs": [],
   "source": [
    "search.tv(query='Breaking Bad')"
   ]
  },
  {
   "cell_type": "code",
   "execution_count": null,
   "metadata": {
    "scrolled": true
   },
   "outputs": [],
   "source": [
    "tv = tmdb.TV(1396)\n",
    "pp.pprint(tv.info())"
   ]
  },
  {
   "cell_type": "code",
   "execution_count": null,
   "metadata": {},
   "outputs": [],
   "source": []
  },
  {
   "cell_type": "code",
   "execution_count": null,
   "metadata": {},
   "outputs": [],
   "source": [
    "import pickle\n",
    "\n",
    "with open ('show_list', 'rb') as fp:\n",
    "    show_list = pickle.load(fp)"
   ]
  },
  {
   "cell_type": "code",
   "execution_count": null,
   "metadata": {},
   "outputs": [],
   "source": [
    "show_list[0]"
   ]
  },
  {
   "cell_type": "code",
   "execution_count": null,
   "metadata": {
    "scrolled": true
   },
   "outputs": [],
   "source": [
    "show_list[10:20]"
   ]
  },
  {
   "cell_type": "code",
   "execution_count": null,
   "metadata": {},
   "outputs": [],
   "source": [
    "# Replace underscore with asterisks\n",
    "# Drop parentheses\n",
    "# Drop special characters %27"
   ]
  },
  {
   "cell_type": "code",
   "execution_count": null,
   "metadata": {},
   "outputs": [],
   "source": [
    "test = 'Agents*of*S.H.I.E.L.D.'"
   ]
  },
  {
   "cell_type": "code",
   "execution_count": null,
   "metadata": {},
   "outputs": [],
   "source": [
    "search.tv(query=test)"
   ]
  },
  {
   "cell_type": "code",
   "execution_count": null,
   "metadata": {},
   "outputs": [],
   "source": [
    "# FUCK IT'S NOT SHOWING ANY RESULTS. I may need to replace characters and underscores with asterisks\n",
    "# Otherwise, I'll have to search on another API and then search this one"
   ]
  },
  {
   "cell_type": "code",
   "execution_count": null,
   "metadata": {},
   "outputs": [],
   "source": [
    "show_list[0]"
   ]
  },
  {
   "cell_type": "code",
   "execution_count": null,
   "metadata": {},
   "outputs": [],
   "source": []
  }
 ],
 "metadata": {
  "kernelspec": {
   "display_name": "Python 3",
   "language": "python",
   "name": "python3"
  },
  "language_info": {
   "codemirror_mode": {
    "name": "ipython",
    "version": 3
   },
   "file_extension": ".py",
   "mimetype": "text/x-python",
   "name": "python",
   "nbconvert_exporter": "python",
   "pygments_lexer": "ipython3",
   "version": "3.6.5"
  }
 },
 "nbformat": 4,
 "nbformat_minor": 2
}
