{
 "cells": [
  {
   "cell_type": "markdown",
   "metadata": {},
   "source": [
    "# Feature Engineering & EDA"
   ]
  },
  {
   "cell_type": "markdown",
   "metadata": {},
   "source": [
    "With the data centralized, I can take a closer look to see how my features will interact with my target variable, IMDB ratings. This will be a regression problem, so I will be using Linear Regression (including Ridge and Lasso), Random Forest Regression, and Gradient Boost as my models to try and predict with, so I will have to prepare my data accordingly. I plan on categorizing and dummying the features that aren't numerical, as well as categorize numerical data that shouldn't have a greater or worse weight based on the value (i.e. time or dates)."
   ]
  },
  {
   "cell_type": "code",
   "execution_count": 1,
   "metadata": {
    "scrolled": true
   },
   "outputs": [],
   "source": [
    "from sklearn.preprocessing import StandardScaler\n",
    "from sklearn.linear_model import LinearRegression, LassoCV, RidgeCV, ElasticNetCV\n",
    "from sklearn.ensemble import RandomForestRegressor, GradientBoostingRegressor\n",
    "from sklearn.model_selection import train_test_split, GridSearchCV\n",
    "from sklearn.feature_extraction.text import CountVectorizer\n",
    "\n",
    "import datetime, time\n",
    "import pandas as pd\n",
    "import numpy as np\n",
    "import seaborn as sns\n",
    "import matplotlib.pyplot as plt\n",
    "import pickle\n",
    "import json\n",
    "\n",
    "import warnings\n",
    "warnings.filterwarnings('ignore')\n",
    "\n",
    "%matplotlib inline"
   ]
  },
  {
   "cell_type": "code",
   "execution_count": 2,
   "metadata": {},
   "outputs": [],
   "source": [
    "with open('./Assets_&_Data/series_df_full.pickle', 'rb') as handle:\n",
    "    series_df = pickle.load(handle)"
   ]
  },
  {
   "cell_type": "code",
   "execution_count": 3,
   "metadata": {
    "scrolled": true
   },
   "outputs": [
    {
     "data": {
      "text/plain": [
       "Index(['airsDayOfWeek', 'airsTime', 'network', 'overview_x', 'rating',\n",
       "       'runtime_x', 'number_of_episodes', 'number_of_seasons', 'overview_y',\n",
       "       'status_y', 'type_x', 'actors', 'awards', 'genre_y', 'imdb_id',\n",
       "       'imdb_rating', 'imdb_votes', 'plot', 'released', 'writer'],\n",
       "      dtype='object')"
      ]
     },
     "execution_count": 3,
     "metadata": {},
     "output_type": "execute_result"
    }
   ],
   "source": [
    "series_df.columns"
   ]
  },
  {
   "cell_type": "code",
   "execution_count": 4,
   "metadata": {},
   "outputs": [
    {
     "data": {
      "text/plain": [
       "(1915, 20)"
      ]
     },
     "execution_count": 4,
     "metadata": {},
     "output_type": "execute_result"
    }
   ],
   "source": [
    "series_df.shape"
   ]
  },
  {
   "cell_type": "code",
   "execution_count": 5,
   "metadata": {
    "scrolled": true
   },
   "outputs": [
    {
     "data": {
      "text/html": [
       "<div>\n",
       "<style scoped>\n",
       "    .dataframe tbody tr th:only-of-type {\n",
       "        vertical-align: middle;\n",
       "    }\n",
       "\n",
       "    .dataframe tbody tr th {\n",
       "        vertical-align: top;\n",
       "    }\n",
       "\n",
       "    .dataframe thead th {\n",
       "        text-align: right;\n",
       "    }\n",
       "</style>\n",
       "<table border=\"1\" class=\"dataframe\">\n",
       "  <thead>\n",
       "    <tr style=\"text-align: right;\">\n",
       "      <th></th>\n",
       "      <th>airsDayOfWeek</th>\n",
       "      <th>airsTime</th>\n",
       "      <th>network</th>\n",
       "      <th>overview_x</th>\n",
       "      <th>rating</th>\n",
       "      <th>runtime_x</th>\n",
       "      <th>number_of_episodes</th>\n",
       "      <th>number_of_seasons</th>\n",
       "      <th>overview_y</th>\n",
       "      <th>status_y</th>\n",
       "      <th>type_x</th>\n",
       "      <th>actors</th>\n",
       "      <th>awards</th>\n",
       "      <th>genre_y</th>\n",
       "      <th>imdb_id</th>\n",
       "      <th>imdb_rating</th>\n",
       "      <th>imdb_votes</th>\n",
       "      <th>plot</th>\n",
       "      <th>released</th>\n",
       "      <th>writer</th>\n",
       "    </tr>\n",
       "  </thead>\n",
       "  <tbody>\n",
       "    <tr>\n",
       "      <th>Turn-On</th>\n",
       "      <td></td>\n",
       "      <td></td>\n",
       "      <td>ABC (US)</td>\n",
       "      <td>Turn-on was a fast paced comedy that featured ...</td>\n",
       "      <td></td>\n",
       "      <td>30</td>\n",
       "      <td>1.0</td>\n",
       "      <td>1</td>\n",
       "      <td>Turn-On is an American sketch comedy series th...</td>\n",
       "      <td>Ended</td>\n",
       "      <td>Scripted</td>\n",
       "      <td>Teresa Graves, Bonnie Boland, Hamilton Camp, T...</td>\n",
       "      <td>0</td>\n",
       "      <td>Comedy</td>\n",
       "      <td>tt0063960</td>\n",
       "      <td>4.6</td>\n",
       "      <td>51</td>\n",
       "      <td>A multimedia presentation satirizing sex, poli...</td>\n",
       "      <td>05 Feb 1969</td>\n",
       "      <td>0</td>\n",
       "    </tr>\n",
       "    <tr>\n",
       "      <th>Muppets Tonight</th>\n",
       "      <td></td>\n",
       "      <td></td>\n",
       "      <td>ABC (US)</td>\n",
       "      <td>None</td>\n",
       "      <td></td>\n",
       "      <td>30</td>\n",
       "      <td>22.0</td>\n",
       "      <td>2</td>\n",
       "      <td>Muppets Tonight is a live-action/puppet televi...</td>\n",
       "      <td>Ended</td>\n",
       "      <td>Scripted</td>\n",
       "      <td>Dave Goelz, Kevin Clash, Jerry Nelson, Bill Ba...</td>\n",
       "      <td>1</td>\n",
       "      <td>Comedy, Family, Music</td>\n",
       "      <td>tt0115279</td>\n",
       "      <td>7.9</td>\n",
       "      <td>1,369</td>\n",
       "      <td>Kermit the Frog is still running a variety sho...</td>\n",
       "      <td>08 Mar 1996</td>\n",
       "      <td>0</td>\n",
       "    </tr>\n",
       "    <tr>\n",
       "      <th>Ripley's Believe It or Not</th>\n",
       "      <td>Wednesday</td>\n",
       "      <td>9:00 PM</td>\n",
       "      <td>TBS Superstation</td>\n",
       "      <td>A revival of the series based on the newspaper...</td>\n",
       "      <td></td>\n",
       "      <td>60</td>\n",
       "      <td>76.0</td>\n",
       "      <td>4</td>\n",
       "      <td></td>\n",
       "      <td>Ended</td>\n",
       "      <td>Scripted</td>\n",
       "      <td>Dean Cain, Kelly Packard</td>\n",
       "      <td>0</td>\n",
       "      <td>Reality-TV</td>\n",
       "      <td>tt0218787</td>\n",
       "      <td>6.7</td>\n",
       "      <td>1,069</td>\n",
       "      <td>Ripley's Believe It or Not! is a curious forma...</td>\n",
       "      <td>12 Jan 2000</td>\n",
       "      <td>0</td>\n",
       "    </tr>\n",
       "  </tbody>\n",
       "</table>\n",
       "</div>"
      ],
      "text/plain": [
       "                           airsDayOfWeek airsTime           network  \\\n",
       "Turn-On                                                    ABC (US)   \n",
       "Muppets Tonight                                            ABC (US)   \n",
       "Ripley's Believe It or Not     Wednesday  9:00 PM  TBS Superstation   \n",
       "\n",
       "                                                                   overview_x  \\\n",
       "Turn-On                     Turn-on was a fast paced comedy that featured ...   \n",
       "Muppets Tonight                                                          None   \n",
       "Ripley's Believe It or Not  A revival of the series based on the newspaper...   \n",
       "\n",
       "                           rating runtime_x  number_of_episodes  \\\n",
       "Turn-On                                  30                 1.0   \n",
       "Muppets Tonight                          30                22.0   \n",
       "Ripley's Believe It or Not               60                76.0   \n",
       "\n",
       "                            number_of_seasons  \\\n",
       "Turn-On                                     1   \n",
       "Muppets Tonight                             2   \n",
       "Ripley's Believe It or Not                  4   \n",
       "\n",
       "                                                                   overview_y  \\\n",
       "Turn-On                     Turn-On is an American sketch comedy series th...   \n",
       "Muppets Tonight             Muppets Tonight is a live-action/puppet televi...   \n",
       "Ripley's Believe It or Not                                                      \n",
       "\n",
       "                           status_y    type_x  \\\n",
       "Turn-On                       Ended  Scripted   \n",
       "Muppets Tonight               Ended  Scripted   \n",
       "Ripley's Believe It or Not    Ended  Scripted   \n",
       "\n",
       "                                                                       actors  \\\n",
       "Turn-On                     Teresa Graves, Bonnie Boland, Hamilton Camp, T...   \n",
       "Muppets Tonight             Dave Goelz, Kevin Clash, Jerry Nelson, Bill Ba...   \n",
       "Ripley's Believe It or Not                           Dean Cain, Kelly Packard   \n",
       "\n",
       "                           awards                genre_y    imdb_id  \\\n",
       "Turn-On                         0                 Comedy  tt0063960   \n",
       "Muppets Tonight                 1  Comedy, Family, Music  tt0115279   \n",
       "Ripley's Believe It or Not      0             Reality-TV  tt0218787   \n",
       "\n",
       "                           imdb_rating imdb_votes  \\\n",
       "Turn-On                            4.6         51   \n",
       "Muppets Tonight                    7.9      1,369   \n",
       "Ripley's Believe It or Not         6.7      1,069   \n",
       "\n",
       "                                                                         plot  \\\n",
       "Turn-On                     A multimedia presentation satirizing sex, poli...   \n",
       "Muppets Tonight             Kermit the Frog is still running a variety sho...   \n",
       "Ripley's Believe It or Not  Ripley's Believe It or Not! is a curious forma...   \n",
       "\n",
       "                               released writer  \n",
       "Turn-On                     05 Feb 1969      0  \n",
       "Muppets Tonight             08 Mar 1996      0  \n",
       "Ripley's Believe It or Not  12 Jan 2000      0  "
      ]
     },
     "execution_count": 5,
     "metadata": {},
     "output_type": "execute_result"
    }
   ],
   "source": [
    "series_df.tail(3)"
   ]
  },
  {
   "cell_type": "code",
   "execution_count": 6,
   "metadata": {},
   "outputs": [
    {
     "data": {
      "text/plain": [
       "753"
      ]
     },
     "execution_count": 6,
     "metadata": {},
     "output_type": "execute_result"
    }
   ],
   "source": [
    "len(series_df[series_df['airsTime'] == ''])"
   ]
  },
  {
   "cell_type": "code",
   "execution_count": 7,
   "metadata": {
    "scrolled": false
   },
   "outputs": [
    {
     "data": {
      "text/plain": [
       "Scripted       1728\n",
       "Reality          87\n",
       "Miniseries       48\n",
       "Talk Show        30\n",
       "Documentary      11\n",
       "News             10\n",
       "Video             1\n",
       "Name: type_x, dtype: int64"
      ]
     },
     "execution_count": 7,
     "metadata": {},
     "output_type": "execute_result"
    }
   ],
   "source": [
    "series_df['type_x'].value_counts()"
   ]
  },
  {
   "cell_type": "code",
   "execution_count": 8,
   "metadata": {},
   "outputs": [
    {
     "data": {
      "text/plain": [
       "airsDayOfWeek          object\n",
       "airsTime               object\n",
       "network                object\n",
       "overview_x             object\n",
       "rating                 object\n",
       "runtime_x              object\n",
       "number_of_episodes    float64\n",
       "number_of_seasons       int64\n",
       "overview_y             object\n",
       "status_y               object\n",
       "type_x                 object\n",
       "actors                 object\n",
       "awards                 object\n",
       "genre_y                object\n",
       "imdb_id                object\n",
       "imdb_rating            object\n",
       "imdb_votes             object\n",
       "plot                   object\n",
       "released               object\n",
       "writer                 object\n",
       "dtype: object"
      ]
     },
     "execution_count": 8,
     "metadata": {},
     "output_type": "execute_result"
    }
   ],
   "source": [
    "series_df.dtypes"
   ]
  },
  {
   "cell_type": "markdown",
   "metadata": {},
   "source": [
    "Taking an initial look at the data that I've kept, it appears that I'll have to address several features:\n",
    "    - airsDayOfWeek will need to be dummied, and I'll have to fill in missing dates using the \"released\" feature as a datetime type\n",
    "    - airsTime will have to be cleaned and standardized into categories, then either dummied or grouped.\n",
    "    - network will have to be dummied\n",
    "    - the three overview columns (_x, _y, plot) were left in for the purpose of NLP/Topic Modeling, not necessarily to be used directly in the model itself\n",
    "    - rating has a lot of missing values that I'll need to make a decision on how to address (from the previous notebook)\n",
    "    - runtime has a lot of missing values that I'll need to make a decision on how to address (from the previous notebook)\n",
    "    - status will have to be dummied\n",
    "    - type will have to be dummied\n",
    "    - awards, writer and genre will need to be given some sort of numerical weight in order to be evaluated by the model\n",
    "    - imdb_votes and imdb_rating have to be floats"
   ]
  },
  {
   "cell_type": "markdown",
   "metadata": {},
   "source": [
    "# Categorizing the \"airsTime\" column \n",
    "\n",
    "Due to the amount of missing/blank values, I will be grouping them into categories to see how they are seen in a model - the categories will be:\n",
    "- morning\n",
    "- afternoon\n",
    "- evening\n",
    "- latenight \n",
    "- unknown"
   ]
  },
  {
   "cell_type": "code",
   "execution_count": 9,
   "metadata": {},
   "outputs": [],
   "source": [
    "clean_time = series_df[['airsTime']]"
   ]
  },
  {
   "cell_type": "code",
   "execution_count": 10,
   "metadata": {},
   "outputs": [],
   "source": [
    "pm_slot = clean_time[clean_time['airsTime'].str.contains('PM')]\n",
    "\n",
    "pm_slot_ = clean_time[clean_time['airsTime'].str.contains('pm')]\n",
    "\n",
    "am_slot = clean_time[clean_time['airsTime'].str.contains('AM')]\n",
    "\n",
    "am_slot_ = clean_time[clean_time['airsTime'].str.contains('am')]"
   ]
  },
  {
   "cell_type": "code",
   "execution_count": 11,
   "metadata": {},
   "outputs": [],
   "source": [
    "missing_time = clean_time[clean_time['airsTime'] == '']"
   ]
  },
  {
   "cell_type": "code",
   "execution_count": 12,
   "metadata": {},
   "outputs": [],
   "source": [
    "remaining_time = clean_time[clean_time['airsTime'] != '']\n",
    "\n",
    "remaining_time = remaining_time[~remaining_time['airsTime'].str.contains('PM')]\n",
    "\n",
    "remaining_time = remaining_time[~remaining_time['airsTime'].str.contains('pm')]\n",
    "\n",
    "remaining_time = remaining_time[~remaining_time['airsTime'].str.contains('AM')]\n",
    "\n",
    "remaining_time = remaining_time[~remaining_time['airsTime'].str.contains('am')]"
   ]
  },
  {
   "cell_type": "code",
   "execution_count": 13,
   "metadata": {},
   "outputs": [],
   "source": [
    "for i in reversed(range(1, 25)):\n",
    "    if i >= 22:\n",
    "        remaining_time[remaining_time['airsTime'].str.contains(str(i))] = 'latenight'\n",
    "    elif i >= 18:\n",
    "        remaining_time[remaining_time['airsTime'].str.contains(str(i))] = 'evening'\n",
    "    elif i >= 12:\n",
    "        remaining_time[remaining_time['airsTime'].str.contains(str(i))] = 'afternoon'\n",
    "    elif i >=5:\n",
    "        remaining_time[remaining_time['airsTime'].str.contains(str(i))] = 'morning'\n",
    "    else: \n",
    "        remaining_time[remaining_time['airsTime'].str.contains(str(i))] = 'latenight'"
   ]
  },
  {
   "cell_type": "code",
   "execution_count": 14,
   "metadata": {
    "scrolled": true
   },
   "outputs": [
    {
     "data": {
      "text/html": [
       "<div>\n",
       "<style scoped>\n",
       "    .dataframe tbody tr th:only-of-type {\n",
       "        vertical-align: middle;\n",
       "    }\n",
       "\n",
       "    .dataframe tbody tr th {\n",
       "        vertical-align: top;\n",
       "    }\n",
       "\n",
       "    .dataframe thead th {\n",
       "        text-align: right;\n",
       "    }\n",
       "</style>\n",
       "<table border=\"1\" class=\"dataframe\">\n",
       "  <thead>\n",
       "    <tr style=\"text-align: right;\">\n",
       "      <th></th>\n",
       "      <th>airsTime</th>\n",
       "    </tr>\n",
       "  </thead>\n",
       "  <tbody>\n",
       "    <tr>\n",
       "      <th>Veep</th>\n",
       "      <td>latenight</td>\n",
       "    </tr>\n",
       "    <tr>\n",
       "      <th>Crashing</th>\n",
       "      <td>latenight</td>\n",
       "    </tr>\n",
       "    <tr>\n",
       "      <th>Animals.</th>\n",
       "      <td>latenight</td>\n",
       "    </tr>\n",
       "    <tr>\n",
       "      <th>Wyatt Cenac's Problem Areas</th>\n",
       "      <td>latenight</td>\n",
       "    </tr>\n",
       "    <tr>\n",
       "      <th>HBO</th>\n",
       "      <td>morning</td>\n",
       "    </tr>\n",
       "    <tr>\n",
       "      <th>Tales from the Crypt</th>\n",
       "      <td>latenight</td>\n",
       "    </tr>\n",
       "    <tr>\n",
       "      <th>Crashbox</th>\n",
       "      <td>afternoon</td>\n",
       "    </tr>\n",
       "    <tr>\n",
       "      <th>Any Given Wednesday with Bill Simmons</th>\n",
       "      <td>latenight</td>\n",
       "    </tr>\n",
       "    <tr>\n",
       "      <th>Vinyl</th>\n",
       "      <td>evening</td>\n",
       "    </tr>\n",
       "    <tr>\n",
       "      <th>Elizabeth I</th>\n",
       "      <td>evening</td>\n",
       "    </tr>\n",
       "    <tr>\n",
       "      <th>House of Saddam</th>\n",
       "      <td>evening</td>\n",
       "    </tr>\n",
       "    <tr>\n",
       "      <th>Olive Kitteridge</th>\n",
       "      <td>evening</td>\n",
       "    </tr>\n",
       "    <tr>\n",
       "      <th>Parade's End</th>\n",
       "      <td>evening</td>\n",
       "    </tr>\n",
       "    <tr>\n",
       "      <th>Tanner '88</th>\n",
       "      <td>evening</td>\n",
       "    </tr>\n",
       "    <tr>\n",
       "      <th>New Amsterdam</th>\n",
       "      <td>evening</td>\n",
       "    </tr>\n",
       "    <tr>\n",
       "      <th>The Voice</th>\n",
       "      <td>evening</td>\n",
       "    </tr>\n",
       "    <tr>\n",
       "      <th>Today</th>\n",
       "      <td>morning</td>\n",
       "    </tr>\n",
       "    <tr>\n",
       "      <th>Sunday Night with Megyn Kelly</th>\n",
       "      <td>evening</td>\n",
       "    </tr>\n",
       "    <tr>\n",
       "      <th>NHL Winter Classic</th>\n",
       "      <td>latenight</td>\n",
       "    </tr>\n",
       "    <tr>\n",
       "      <th>Premier League</th>\n",
       "      <td>latenight</td>\n",
       "    </tr>\n",
       "    <tr>\n",
       "      <th>McMafia</th>\n",
       "      <td>evening</td>\n",
       "    </tr>\n",
       "    <tr>\n",
       "      <th>James Cameron's Story of Science Fiction</th>\n",
       "      <td>latenight</td>\n",
       "    </tr>\n",
       "    <tr>\n",
       "      <th>The Prisoner</th>\n",
       "      <td>latenight</td>\n",
       "    </tr>\n",
       "    <tr>\n",
       "      <th>The Making of the Mob</th>\n",
       "      <td>latenight</td>\n",
       "    </tr>\n",
       "    <tr>\n",
       "      <th>Cybill</th>\n",
       "      <td>evening</td>\n",
       "    </tr>\n",
       "    <tr>\n",
       "      <th>Daniel Boone</th>\n",
       "      <td>evening</td>\n",
       "    </tr>\n",
       "    <tr>\n",
       "      <th>Aqua Teen Hunger Force</th>\n",
       "      <td>latenight</td>\n",
       "    </tr>\n",
       "    <tr>\n",
       "      <th>Delocated</th>\n",
       "      <td>morning</td>\n",
       "    </tr>\n",
       "    <tr>\n",
       "      <th>Titan Maximum</th>\n",
       "      <td>morning</td>\n",
       "    </tr>\n",
       "    <tr>\n",
       "      <th>Brad Neely's Harg Nallin' Sclopio Peepio</th>\n",
       "      <td>latenight</td>\n",
       "    </tr>\n",
       "    <tr>\n",
       "      <th>...</th>\n",
       "      <td>...</td>\n",
       "    </tr>\n",
       "    <tr>\n",
       "      <th>Wagon Train</th>\n",
       "      <td>evening</td>\n",
       "    </tr>\n",
       "    <tr>\n",
       "      <th>101 Ways to Leave a Game Show</th>\n",
       "      <td>evening</td>\n",
       "    </tr>\n",
       "    <tr>\n",
       "      <th>The Thorn Birds</th>\n",
       "      <td>evening</td>\n",
       "    </tr>\n",
       "    <tr>\n",
       "      <th>North and South</th>\n",
       "      <td>evening</td>\n",
       "    </tr>\n",
       "    <tr>\n",
       "      <th>When We Rise</th>\n",
       "      <td>evening</td>\n",
       "    </tr>\n",
       "    <tr>\n",
       "      <th>Top Cat</th>\n",
       "      <td>evening</td>\n",
       "    </tr>\n",
       "    <tr>\n",
       "      <th>The Mole</th>\n",
       "      <td>latenight</td>\n",
       "    </tr>\n",
       "    <tr>\n",
       "      <th>Extreme Makeover: Home Edition</th>\n",
       "      <td>evening</td>\n",
       "    </tr>\n",
       "    <tr>\n",
       "      <th>Flash Forward</th>\n",
       "      <td>evening</td>\n",
       "    </tr>\n",
       "    <tr>\n",
       "      <th>Hong Kong Phooey</th>\n",
       "      <td>morning</td>\n",
       "    </tr>\n",
       "    <tr>\n",
       "      <th>Ocean Mysteries with Jeff Corwin</th>\n",
       "      <td>evening</td>\n",
       "    </tr>\n",
       "    <tr>\n",
       "      <th>Phil of the Future</th>\n",
       "      <td>evening</td>\n",
       "    </tr>\n",
       "    <tr>\n",
       "      <th>Sonic the Hedgehog</th>\n",
       "      <td>morning</td>\n",
       "    </tr>\n",
       "    <tr>\n",
       "      <th>The Emperor's New School</th>\n",
       "      <td>afternoon</td>\n",
       "    </tr>\n",
       "    <tr>\n",
       "      <th>The Lost Saucer</th>\n",
       "      <td>morning</td>\n",
       "    </tr>\n",
       "    <tr>\n",
       "      <th>The New Adventures of Winnie the Pooh</th>\n",
       "      <td>morning</td>\n",
       "    </tr>\n",
       "    <tr>\n",
       "      <th>Turbo Teen</th>\n",
       "      <td>latenight</td>\n",
       "    </tr>\n",
       "    <tr>\n",
       "      <th>Just the Ten of Us</th>\n",
       "      <td>evening</td>\n",
       "    </tr>\n",
       "    <tr>\n",
       "      <th>Less than Perfect</th>\n",
       "      <td>evening</td>\n",
       "    </tr>\n",
       "    <tr>\n",
       "      <th>Life with Lucy</th>\n",
       "      <td>evening</td>\n",
       "    </tr>\n",
       "    <tr>\n",
       "      <th>Manhattan Love Story</th>\n",
       "      <td>latenight</td>\n",
       "    </tr>\n",
       "    <tr>\n",
       "      <th>The Geena Davis Show</th>\n",
       "      <td>evening</td>\n",
       "    </tr>\n",
       "    <tr>\n",
       "      <th>The Jackie Thomas Show</th>\n",
       "      <td>evening</td>\n",
       "    </tr>\n",
       "    <tr>\n",
       "      <th>The Nancy Walker Show</th>\n",
       "      <td>evening</td>\n",
       "    </tr>\n",
       "    <tr>\n",
       "      <th>The New Odd Couple</th>\n",
       "      <td>morning</td>\n",
       "    </tr>\n",
       "    <tr>\n",
       "      <th>The Real O'Neals</th>\n",
       "      <td>evening</td>\n",
       "    </tr>\n",
       "    <tr>\n",
       "      <th>The Second Hundred Years</th>\n",
       "      <td>evening</td>\n",
       "    </tr>\n",
       "    <tr>\n",
       "      <th>What About Joan?</th>\n",
       "      <td>evening</td>\n",
       "    </tr>\n",
       "    <tr>\n",
       "      <th>When Things Were Rotten</th>\n",
       "      <td>evening</td>\n",
       "    </tr>\n",
       "    <tr>\n",
       "      <th>The Hollywood Palace</th>\n",
       "      <td>evening</td>\n",
       "    </tr>\n",
       "  </tbody>\n",
       "</table>\n",
       "<p>196 rows × 1 columns</p>\n",
       "</div>"
      ],
      "text/plain": [
       "                                           airsTime\n",
       "Veep                                      latenight\n",
       "Crashing                                  latenight\n",
       "Animals.                                  latenight\n",
       "Wyatt Cenac's Problem Areas               latenight\n",
       "HBO                                         morning\n",
       "Tales from the Crypt                      latenight\n",
       "Crashbox                                  afternoon\n",
       "Any Given Wednesday with Bill Simmons     latenight\n",
       "Vinyl                                       evening\n",
       "Elizabeth I                                 evening\n",
       "House of Saddam                             evening\n",
       "Olive Kitteridge                            evening\n",
       "Parade's End                                evening\n",
       "Tanner '88                                  evening\n",
       "New Amsterdam                               evening\n",
       "The Voice                                   evening\n",
       "Today                                       morning\n",
       "Sunday Night with Megyn Kelly               evening\n",
       "NHL Winter Classic                        latenight\n",
       "Premier League                            latenight\n",
       "McMafia                                     evening\n",
       "James Cameron's Story of Science Fiction  latenight\n",
       "The Prisoner                              latenight\n",
       "The Making of the Mob                     latenight\n",
       "Cybill                                      evening\n",
       "Daniel Boone                                evening\n",
       "Aqua Teen Hunger Force                    latenight\n",
       "Delocated                                   morning\n",
       "Titan Maximum                               morning\n",
       "Brad Neely's Harg Nallin' Sclopio Peepio  latenight\n",
       "...                                             ...\n",
       "Wagon Train                                 evening\n",
       "101 Ways to Leave a Game Show               evening\n",
       "The Thorn Birds                             evening\n",
       "North and South                             evening\n",
       "When We Rise                                evening\n",
       "Top Cat                                     evening\n",
       "The Mole                                  latenight\n",
       "Extreme Makeover: Home Edition              evening\n",
       "Flash Forward                               evening\n",
       "Hong Kong Phooey                            morning\n",
       "Ocean Mysteries with Jeff Corwin            evening\n",
       "Phil of the Future                          evening\n",
       "Sonic the Hedgehog                          morning\n",
       "The Emperor's New School                  afternoon\n",
       "The Lost Saucer                             morning\n",
       "The New Adventures of Winnie the Pooh       morning\n",
       "Turbo Teen                                latenight\n",
       "Just the Ten of Us                          evening\n",
       "Less than Perfect                           evening\n",
       "Life with Lucy                              evening\n",
       "Manhattan Love Story                      latenight\n",
       "The Geena Davis Show                        evening\n",
       "The Jackie Thomas Show                      evening\n",
       "The Nancy Walker Show                       evening\n",
       "The New Odd Couple                          morning\n",
       "The Real O'Neals                            evening\n",
       "The Second Hundred Years                    evening\n",
       "What About Joan?                            evening\n",
       "When Things Were Rotten                     evening\n",
       "The Hollywood Palace                        evening\n",
       "\n",
       "[196 rows x 1 columns]"
      ]
     },
     "execution_count": 14,
     "metadata": {},
     "output_type": "execute_result"
    }
   ],
   "source": [
    "remaining_time"
   ]
  },
  {
   "cell_type": "code",
   "execution_count": 15,
   "metadata": {},
   "outputs": [],
   "source": [
    "# Categorizing PM slots\n",
    "for i in range(1, 13):\n",
    "    if i < 6:\n",
    "        pm_slot[pm_slot['airsTime'].str.contains(str(i))] = 'afternoon'\n",
    "        pm_slot_[pm_slot_['airsTime'].str.contains(str(i))] = 'afternoon'\n",
    "    elif i >= 6 & i < 10:\n",
    "        pm_slot[pm_slot['airsTime'].str.contains(str(i))] = 'evening'\n",
    "        pm_slot_[pm_slot_['airsTime'].str.contains(str(i))] = 'evening'\n",
    "    else: \n",
    "        pm_slot[pm_slot['airsTime'].str.contains(str(i))] = 'latenight'\n",
    "        pm_slot_[pm_slot_['airsTime'].str.contains(str(i))] = 'latenight'\n",
    "\n",
    "#pm_slot[pm_slot['airsTime'].str.contains('8', '9')]"
   ]
  },
  {
   "cell_type": "code",
   "execution_count": 16,
   "metadata": {},
   "outputs": [],
   "source": [
    "# Categorizing PM slots\n",
    "for i in range(1, 13):\n",
    "    if i < 5:\n",
    "        am_slot[am_slot['airsTime'].str.contains(str(i))] = 'latenight'\n",
    "        am_slot_[am_slot_['airsTime'].str.contains(str(i))] = 'latenight'\n",
    "    else: \n",
    "        am_slot[am_slot['airsTime'].str.contains(str(i))] = 'morning'\n",
    "        am_slot_[am_slot_['airsTime'].str.contains(str(i))] = 'morning'\n",
    "\n",
    "#pm_slot[pm_slot['airsTime'].str.contains('8', '9')]"
   ]
  },
  {
   "cell_type": "code",
   "execution_count": 17,
   "metadata": {
    "scrolled": true
   },
   "outputs": [],
   "source": [
    "missing_time['airsTime'] = 'unknown'"
   ]
  },
  {
   "cell_type": "code",
   "execution_count": 18,
   "metadata": {
    "scrolled": true
   },
   "outputs": [],
   "source": [
    "timeslot = pd.concat((am_slot, am_slot_, pm_slot, pm_slot_, remaining_time, missing_time))"
   ]
  },
  {
   "cell_type": "markdown",
   "metadata": {},
   "source": [
    "# Using \"released\" column to create month column and fill missing \"day\" values"
   ]
  },
  {
   "cell_type": "code",
   "execution_count": 19,
   "metadata": {},
   "outputs": [],
   "source": [
    "series_df['released'] = pd.to_datetime(series_df['released'])"
   ]
  },
  {
   "cell_type": "code",
   "execution_count": 20,
   "metadata": {},
   "outputs": [],
   "source": [
    "week_day = series_df[['released']]"
   ]
  },
  {
   "cell_type": "code",
   "execution_count": 21,
   "metadata": {
    "scrolled": true
   },
   "outputs": [
    {
     "data": {
      "text/html": [
       "<div>\n",
       "<style scoped>\n",
       "    .dataframe tbody tr th:only-of-type {\n",
       "        vertical-align: middle;\n",
       "    }\n",
       "\n",
       "    .dataframe tbody tr th {\n",
       "        vertical-align: top;\n",
       "    }\n",
       "\n",
       "    .dataframe thead th {\n",
       "        text-align: right;\n",
       "    }\n",
       "</style>\n",
       "<table border=\"1\" class=\"dataframe\">\n",
       "  <thead>\n",
       "    <tr style=\"text-align: right;\">\n",
       "      <th></th>\n",
       "      <th>released</th>\n",
       "    </tr>\n",
       "  </thead>\n",
       "  <tbody>\n",
       "    <tr>\n",
       "      <th>Game of Thrones</th>\n",
       "      <td>2011-04-17</td>\n",
       "    </tr>\n",
       "    <tr>\n",
       "      <th>Westworld</th>\n",
       "      <td>2016-10-02</td>\n",
       "    </tr>\n",
       "    <tr>\n",
       "      <th>Big Little Lies</th>\n",
       "      <td>2017-02-19</td>\n",
       "    </tr>\n",
       "    <tr>\n",
       "      <th>The Deuce</th>\n",
       "      <td>2017-08-25</td>\n",
       "    </tr>\n",
       "    <tr>\n",
       "      <th>Succession</th>\n",
       "      <td>2018-06-03</td>\n",
       "    </tr>\n",
       "  </tbody>\n",
       "</table>\n",
       "</div>"
      ],
      "text/plain": [
       "                  released\n",
       "Game of Thrones 2011-04-17\n",
       "Westworld       2016-10-02\n",
       "Big Little Lies 2017-02-19\n",
       "The Deuce       2017-08-25\n",
       "Succession      2018-06-03"
      ]
     },
     "execution_count": 21,
     "metadata": {},
     "output_type": "execute_result"
    }
   ],
   "source": [
    "week_day.head()"
   ]
  },
  {
   "cell_type": "code",
   "execution_count": 22,
   "metadata": {},
   "outputs": [],
   "source": [
    "week_day['weekday'] = week_day['released'].dt.dayofweek"
   ]
  },
  {
   "cell_type": "code",
   "execution_count": 23,
   "metadata": {
    "scrolled": true
   },
   "outputs": [
    {
     "data": {
      "text/html": [
       "<div>\n",
       "<style scoped>\n",
       "    .dataframe tbody tr th:only-of-type {\n",
       "        vertical-align: middle;\n",
       "    }\n",
       "\n",
       "    .dataframe tbody tr th {\n",
       "        vertical-align: top;\n",
       "    }\n",
       "\n",
       "    .dataframe thead th {\n",
       "        text-align: right;\n",
       "    }\n",
       "</style>\n",
       "<table border=\"1\" class=\"dataframe\">\n",
       "  <thead>\n",
       "    <tr style=\"text-align: right;\">\n",
       "      <th></th>\n",
       "      <th>released</th>\n",
       "      <th>weekday</th>\n",
       "    </tr>\n",
       "  </thead>\n",
       "  <tbody>\n",
       "    <tr>\n",
       "      <th>Game of Thrones</th>\n",
       "      <td>2011-04-17</td>\n",
       "      <td>6</td>\n",
       "    </tr>\n",
       "    <tr>\n",
       "      <th>Westworld</th>\n",
       "      <td>2016-10-02</td>\n",
       "      <td>6</td>\n",
       "    </tr>\n",
       "    <tr>\n",
       "      <th>Big Little Lies</th>\n",
       "      <td>2017-02-19</td>\n",
       "      <td>6</td>\n",
       "    </tr>\n",
       "    <tr>\n",
       "      <th>The Deuce</th>\n",
       "      <td>2017-08-25</td>\n",
       "      <td>4</td>\n",
       "    </tr>\n",
       "    <tr>\n",
       "      <th>Succession</th>\n",
       "      <td>2018-06-03</td>\n",
       "      <td>6</td>\n",
       "    </tr>\n",
       "    <tr>\n",
       "      <th>Curb Your Enthusiasm</th>\n",
       "      <td>2000-10-15</td>\n",
       "      <td>6</td>\n",
       "    </tr>\n",
       "    <tr>\n",
       "      <th>Veep</th>\n",
       "      <td>2012-04-22</td>\n",
       "      <td>6</td>\n",
       "    </tr>\n",
       "    <tr>\n",
       "      <th>Silicon Valley</th>\n",
       "      <td>2014-04-06</td>\n",
       "      <td>6</td>\n",
       "    </tr>\n",
       "    <tr>\n",
       "      <th>Ballers</th>\n",
       "      <td>2015-06-21</td>\n",
       "      <td>6</td>\n",
       "    </tr>\n",
       "    <tr>\n",
       "      <th>High Maintenance</th>\n",
       "      <td>2016-09-16</td>\n",
       "      <td>4</td>\n",
       "    </tr>\n",
       "  </tbody>\n",
       "</table>\n",
       "</div>"
      ],
      "text/plain": [
       "                       released  weekday\n",
       "Game of Thrones      2011-04-17        6\n",
       "Westworld            2016-10-02        6\n",
       "Big Little Lies      2017-02-19        6\n",
       "The Deuce            2017-08-25        4\n",
       "Succession           2018-06-03        6\n",
       "Curb Your Enthusiasm 2000-10-15        6\n",
       "Veep                 2012-04-22        6\n",
       "Silicon Valley       2014-04-06        6\n",
       "Ballers              2015-06-21        6\n",
       "High Maintenance     2016-09-16        4"
      ]
     },
     "execution_count": 23,
     "metadata": {},
     "output_type": "execute_result"
    }
   ],
   "source": [
    "week_day.head(10)"
   ]
  },
  {
   "cell_type": "code",
   "execution_count": 24,
   "metadata": {},
   "outputs": [],
   "source": [
    "week_day['month'] = week_day['released'].dt.month"
   ]
  },
  {
   "cell_type": "code",
   "execution_count": 25,
   "metadata": {
    "scrolled": true
   },
   "outputs": [
    {
     "data": {
      "text/html": [
       "<div>\n",
       "<style scoped>\n",
       "    .dataframe tbody tr th:only-of-type {\n",
       "        vertical-align: middle;\n",
       "    }\n",
       "\n",
       "    .dataframe tbody tr th {\n",
       "        vertical-align: top;\n",
       "    }\n",
       "\n",
       "    .dataframe thead th {\n",
       "        text-align: right;\n",
       "    }\n",
       "</style>\n",
       "<table border=\"1\" class=\"dataframe\">\n",
       "  <thead>\n",
       "    <tr style=\"text-align: right;\">\n",
       "      <th></th>\n",
       "      <th>released</th>\n",
       "      <th>weekday</th>\n",
       "      <th>month</th>\n",
       "    </tr>\n",
       "  </thead>\n",
       "  <tbody>\n",
       "    <tr>\n",
       "      <th>Game of Thrones</th>\n",
       "      <td>2011-04-17</td>\n",
       "      <td>6</td>\n",
       "      <td>4</td>\n",
       "    </tr>\n",
       "    <tr>\n",
       "      <th>Westworld</th>\n",
       "      <td>2016-10-02</td>\n",
       "      <td>6</td>\n",
       "      <td>10</td>\n",
       "    </tr>\n",
       "    <tr>\n",
       "      <th>Big Little Lies</th>\n",
       "      <td>2017-02-19</td>\n",
       "      <td>6</td>\n",
       "      <td>2</td>\n",
       "    </tr>\n",
       "    <tr>\n",
       "      <th>The Deuce</th>\n",
       "      <td>2017-08-25</td>\n",
       "      <td>4</td>\n",
       "      <td>8</td>\n",
       "    </tr>\n",
       "    <tr>\n",
       "      <th>Succession</th>\n",
       "      <td>2018-06-03</td>\n",
       "      <td>6</td>\n",
       "      <td>6</td>\n",
       "    </tr>\n",
       "    <tr>\n",
       "      <th>Curb Your Enthusiasm</th>\n",
       "      <td>2000-10-15</td>\n",
       "      <td>6</td>\n",
       "      <td>10</td>\n",
       "    </tr>\n",
       "    <tr>\n",
       "      <th>Veep</th>\n",
       "      <td>2012-04-22</td>\n",
       "      <td>6</td>\n",
       "      <td>4</td>\n",
       "    </tr>\n",
       "    <tr>\n",
       "      <th>Silicon Valley</th>\n",
       "      <td>2014-04-06</td>\n",
       "      <td>6</td>\n",
       "      <td>4</td>\n",
       "    </tr>\n",
       "    <tr>\n",
       "      <th>Ballers</th>\n",
       "      <td>2015-06-21</td>\n",
       "      <td>6</td>\n",
       "      <td>6</td>\n",
       "    </tr>\n",
       "    <tr>\n",
       "      <th>High Maintenance</th>\n",
       "      <td>2016-09-16</td>\n",
       "      <td>4</td>\n",
       "      <td>9</td>\n",
       "    </tr>\n",
       "    <tr>\n",
       "      <th>Divorce</th>\n",
       "      <td>2016-10-09</td>\n",
       "      <td>6</td>\n",
       "      <td>10</td>\n",
       "    </tr>\n",
       "    <tr>\n",
       "      <th>Insecure</th>\n",
       "      <td>2016-10-09</td>\n",
       "      <td>6</td>\n",
       "      <td>10</td>\n",
       "    </tr>\n",
       "    <tr>\n",
       "      <th>Tracey Ullman's Show</th>\n",
       "      <td>2016-10-28</td>\n",
       "      <td>4</td>\n",
       "      <td>10</td>\n",
       "    </tr>\n",
       "    <tr>\n",
       "      <th>Crashing</th>\n",
       "      <td>2016-01-11</td>\n",
       "      <td>0</td>\n",
       "      <td>1</td>\n",
       "    </tr>\n",
       "    <tr>\n",
       "      <th>Barry</th>\n",
       "      <td>2018-03-25</td>\n",
       "      <td>6</td>\n",
       "      <td>3</td>\n",
       "    </tr>\n",
       "    <tr>\n",
       "      <th>Random Acts of Flyness</th>\n",
       "      <td>2018-08-03</td>\n",
       "      <td>4</td>\n",
       "      <td>8</td>\n",
       "    </tr>\n",
       "    <tr>\n",
       "      <th>True Detective</th>\n",
       "      <td>2014-01-12</td>\n",
       "      <td>6</td>\n",
       "      <td>1</td>\n",
       "    </tr>\n",
       "    <tr>\n",
       "      <th>Room 104</th>\n",
       "      <td>2017-07-28</td>\n",
       "      <td>4</td>\n",
       "      <td>7</td>\n",
       "    </tr>\n",
       "    <tr>\n",
       "      <th>Animals.</th>\n",
       "      <td>2016-02-05</td>\n",
       "      <td>4</td>\n",
       "      <td>2</td>\n",
       "    </tr>\n",
       "    <tr>\n",
       "      <th>Sesame Street</th>\n",
       "      <td>1969-07-21</td>\n",
       "      <td>0</td>\n",
       "      <td>7</td>\n",
       "    </tr>\n",
       "    <tr>\n",
       "      <th>Real Sports with Bryant Gumbel</th>\n",
       "      <td>1995-04-02</td>\n",
       "      <td>6</td>\n",
       "      <td>4</td>\n",
       "    </tr>\n",
       "    <tr>\n",
       "      <th>Hard Knocks</th>\n",
       "      <td>2001-08-01</td>\n",
       "      <td>2</td>\n",
       "      <td>8</td>\n",
       "    </tr>\n",
       "    <tr>\n",
       "      <th>Wyatt Cenac's Problem Areas</th>\n",
       "      <td>2018-04-13</td>\n",
       "      <td>4</td>\n",
       "      <td>4</td>\n",
       "    </tr>\n",
       "    <tr>\n",
       "      <th>Real Time with Bill Maher</th>\n",
       "      <td>2003-02-21</td>\n",
       "      <td>4</td>\n",
       "      <td>2</td>\n",
       "    </tr>\n",
       "    <tr>\n",
       "      <th>Last Week Tonight with John Oliver</th>\n",
       "      <td>2014-04-27</td>\n",
       "      <td>6</td>\n",
       "      <td>4</td>\n",
       "    </tr>\n",
       "    <tr>\n",
       "      <th>Vice News Tonight</th>\n",
       "      <td>2016-10-10</td>\n",
       "      <td>0</td>\n",
       "      <td>10</td>\n",
       "    </tr>\n",
       "    <tr>\n",
       "      <th>HBO</th>\n",
       "      <td>1994-03-01</td>\n",
       "      <td>1</td>\n",
       "      <td>3</td>\n",
       "    </tr>\n",
       "    <tr>\n",
       "      <th>Inside the NFL</th>\n",
       "      <td>1977-09-22</td>\n",
       "      <td>3</td>\n",
       "      <td>9</td>\n",
       "    </tr>\n",
       "    <tr>\n",
       "      <th>1st &amp; Ten</th>\n",
       "      <td>1984-12-02</td>\n",
       "      <td>6</td>\n",
       "      <td>12</td>\n",
       "    </tr>\n",
       "    <tr>\n",
       "      <th>America Undercover</th>\n",
       "      <td>1970-01-01</td>\n",
       "      <td>3</td>\n",
       "      <td>1</td>\n",
       "    </tr>\n",
       "    <tr>\n",
       "      <th>...</th>\n",
       "      <td>...</td>\n",
       "      <td>...</td>\n",
       "      <td>...</td>\n",
       "    </tr>\n",
       "    <tr>\n",
       "      <th>Where I Live</th>\n",
       "      <td>1993-03-05</td>\n",
       "      <td>4</td>\n",
       "      <td>3</td>\n",
       "    </tr>\n",
       "    <tr>\n",
       "      <th>Who's the Boss?</th>\n",
       "      <td>1984-09-20</td>\n",
       "      <td>3</td>\n",
       "      <td>9</td>\n",
       "    </tr>\n",
       "    <tr>\n",
       "      <th>Work It</th>\n",
       "      <td>2012-01-03</td>\n",
       "      <td>1</td>\n",
       "      <td>1</td>\n",
       "    </tr>\n",
       "    <tr>\n",
       "      <th>You Wish</th>\n",
       "      <td>1997-09-26</td>\n",
       "      <td>4</td>\n",
       "      <td>9</td>\n",
       "    </tr>\n",
       "    <tr>\n",
       "      <th>All My Children</th>\n",
       "      <td>1970-01-05</td>\n",
       "      <td>0</td>\n",
       "      <td>1</td>\n",
       "    </tr>\n",
       "    <tr>\n",
       "      <th>Never Too Young</th>\n",
       "      <td>1965-09-27</td>\n",
       "      <td>0</td>\n",
       "      <td>9</td>\n",
       "    </tr>\n",
       "    <tr>\n",
       "      <th>One Life to Live</th>\n",
       "      <td>1968-07-15</td>\n",
       "      <td>0</td>\n",
       "      <td>7</td>\n",
       "    </tr>\n",
       "    <tr>\n",
       "      <th>Port Charles</th>\n",
       "      <td>1997-06-01</td>\n",
       "      <td>6</td>\n",
       "      <td>6</td>\n",
       "    </tr>\n",
       "    <tr>\n",
       "      <th>Ryan's Hope</th>\n",
       "      <td>1975-07-07</td>\n",
       "      <td>0</td>\n",
       "      <td>7</td>\n",
       "    </tr>\n",
       "    <tr>\n",
       "      <th>The City</th>\n",
       "      <td>2008-12-01</td>\n",
       "      <td>0</td>\n",
       "      <td>12</td>\n",
       "    </tr>\n",
       "    <tr>\n",
       "      <th>The Nurses</th>\n",
       "      <td>1965-09-27</td>\n",
       "      <td>0</td>\n",
       "      <td>9</td>\n",
       "    </tr>\n",
       "    <tr>\n",
       "      <th>Animals, Animals, Animals</th>\n",
       "      <td>1970-01-01</td>\n",
       "      <td>3</td>\n",
       "      <td>1</td>\n",
       "    </tr>\n",
       "    <tr>\n",
       "      <th>Kids Are People Too</th>\n",
       "      <td>1978-09-10</td>\n",
       "      <td>6</td>\n",
       "      <td>9</td>\n",
       "    </tr>\n",
       "    <tr>\n",
       "      <th>The Chew</th>\n",
       "      <td>2011-09-26</td>\n",
       "      <td>0</td>\n",
       "      <td>9</td>\n",
       "    </tr>\n",
       "    <tr>\n",
       "      <th>The Dick Cavett Show</th>\n",
       "      <td>1968-03-04</td>\n",
       "      <td>0</td>\n",
       "      <td>3</td>\n",
       "    </tr>\n",
       "    <tr>\n",
       "      <th>The Revolution</th>\n",
       "      <td>1970-01-01</td>\n",
       "      <td>3</td>\n",
       "      <td>1</td>\n",
       "    </tr>\n",
       "    <tr>\n",
       "      <th>American Bandstand</th>\n",
       "      <td>1970-01-01</td>\n",
       "      <td>3</td>\n",
       "      <td>1</td>\n",
       "    </tr>\n",
       "    <tr>\n",
       "      <th>Cos</th>\n",
       "      <td>1976-09-19</td>\n",
       "      <td>6</td>\n",
       "      <td>9</td>\n",
       "    </tr>\n",
       "    <tr>\n",
       "      <th>Dolly</th>\n",
       "      <td>1987-09-27</td>\n",
       "      <td>6</td>\n",
       "      <td>9</td>\n",
       "    </tr>\n",
       "    <tr>\n",
       "      <th>Donny &amp; Marie</th>\n",
       "      <td>1970-01-01</td>\n",
       "      <td>3</td>\n",
       "      <td>1</td>\n",
       "    </tr>\n",
       "    <tr>\n",
       "      <th>Fridays</th>\n",
       "      <td>1980-04-11</td>\n",
       "      <td>4</td>\n",
       "      <td>4</td>\n",
       "    </tr>\n",
       "    <tr>\n",
       "      <th>The Dana Carvey Show</th>\n",
       "      <td>1996-03-12</td>\n",
       "      <td>1</td>\n",
       "      <td>3</td>\n",
       "    </tr>\n",
       "    <tr>\n",
       "      <th>The Hollywood Palace</th>\n",
       "      <td>1964-01-04</td>\n",
       "      <td>5</td>\n",
       "      <td>1</td>\n",
       "    </tr>\n",
       "    <tr>\n",
       "      <th>The Johnny Cash Show</th>\n",
       "      <td>1969-06-07</td>\n",
       "      <td>5</td>\n",
       "      <td>6</td>\n",
       "    </tr>\n",
       "    <tr>\n",
       "      <th>The Wayne Brady Show</th>\n",
       "      <td>2002-09-02</td>\n",
       "      <td>0</td>\n",
       "      <td>9</td>\n",
       "    </tr>\n",
       "    <tr>\n",
       "      <th>This Is Tom Jones</th>\n",
       "      <td>1969-02-07</td>\n",
       "      <td>4</td>\n",
       "      <td>2</td>\n",
       "    </tr>\n",
       "    <tr>\n",
       "      <th>Trust Us with Your Life</th>\n",
       "      <td>2012-07-10</td>\n",
       "      <td>1</td>\n",
       "      <td>7</td>\n",
       "    </tr>\n",
       "    <tr>\n",
       "      <th>Turn-On</th>\n",
       "      <td>1969-02-05</td>\n",
       "      <td>2</td>\n",
       "      <td>2</td>\n",
       "    </tr>\n",
       "    <tr>\n",
       "      <th>Muppets Tonight</th>\n",
       "      <td>1996-03-08</td>\n",
       "      <td>4</td>\n",
       "      <td>3</td>\n",
       "    </tr>\n",
       "    <tr>\n",
       "      <th>Ripley's Believe It or Not</th>\n",
       "      <td>2000-01-12</td>\n",
       "      <td>2</td>\n",
       "      <td>1</td>\n",
       "    </tr>\n",
       "  </tbody>\n",
       "</table>\n",
       "<p>1915 rows × 3 columns</p>\n",
       "</div>"
      ],
      "text/plain": [
       "                                     released  weekday  month\n",
       "Game of Thrones                    2011-04-17        6      4\n",
       "Westworld                          2016-10-02        6     10\n",
       "Big Little Lies                    2017-02-19        6      2\n",
       "The Deuce                          2017-08-25        4      8\n",
       "Succession                         2018-06-03        6      6\n",
       "Curb Your Enthusiasm               2000-10-15        6     10\n",
       "Veep                               2012-04-22        6      4\n",
       "Silicon Valley                     2014-04-06        6      4\n",
       "Ballers                            2015-06-21        6      6\n",
       "High Maintenance                   2016-09-16        4      9\n",
       "Divorce                            2016-10-09        6     10\n",
       "Insecure                           2016-10-09        6     10\n",
       "Tracey Ullman's Show               2016-10-28        4     10\n",
       "Crashing                           2016-01-11        0      1\n",
       "Barry                              2018-03-25        6      3\n",
       "Random Acts of Flyness             2018-08-03        4      8\n",
       "True Detective                     2014-01-12        6      1\n",
       "Room 104                           2017-07-28        4      7\n",
       "Animals.                           2016-02-05        4      2\n",
       "Sesame Street                      1969-07-21        0      7\n",
       "Real Sports with Bryant Gumbel     1995-04-02        6      4\n",
       "Hard Knocks                        2001-08-01        2      8\n",
       "Wyatt Cenac's Problem Areas        2018-04-13        4      4\n",
       "Real Time with Bill Maher          2003-02-21        4      2\n",
       "Last Week Tonight with John Oliver 2014-04-27        6      4\n",
       "Vice News Tonight                  2016-10-10        0     10\n",
       "HBO                                1994-03-01        1      3\n",
       "Inside the NFL                     1977-09-22        3      9\n",
       "1st & Ten                          1984-12-02        6     12\n",
       "America Undercover                 1970-01-01        3      1\n",
       "...                                       ...      ...    ...\n",
       "Where I Live                       1993-03-05        4      3\n",
       "Who's the Boss?                    1984-09-20        3      9\n",
       "Work It                            2012-01-03        1      1\n",
       "You Wish                           1997-09-26        4      9\n",
       "All My Children                    1970-01-05        0      1\n",
       "Never Too Young                    1965-09-27        0      9\n",
       "One Life to Live                   1968-07-15        0      7\n",
       "Port Charles                       1997-06-01        6      6\n",
       "Ryan's Hope                        1975-07-07        0      7\n",
       "The City                           2008-12-01        0     12\n",
       "The Nurses                         1965-09-27        0      9\n",
       "Animals, Animals, Animals          1970-01-01        3      1\n",
       "Kids Are People Too                1978-09-10        6      9\n",
       "The Chew                           2011-09-26        0      9\n",
       "The Dick Cavett Show               1968-03-04        0      3\n",
       "The Revolution                     1970-01-01        3      1\n",
       "American Bandstand                 1970-01-01        3      1\n",
       "Cos                                1976-09-19        6      9\n",
       "Dolly                              1987-09-27        6      9\n",
       "Donny & Marie                      1970-01-01        3      1\n",
       "Fridays                            1980-04-11        4      4\n",
       "The Dana Carvey Show               1996-03-12        1      3\n",
       "The Hollywood Palace               1964-01-04        5      1\n",
       "The Johnny Cash Show               1969-06-07        5      6\n",
       "The Wayne Brady Show               2002-09-02        0      9\n",
       "This Is Tom Jones                  1969-02-07        4      2\n",
       "Trust Us with Your Life            2012-07-10        1      7\n",
       "Turn-On                            1969-02-05        2      2\n",
       "Muppets Tonight                    1996-03-08        4      3\n",
       "Ripley's Believe It or Not         2000-01-12        2      1\n",
       "\n",
       "[1915 rows x 3 columns]"
      ]
     },
     "execution_count": 25,
     "metadata": {},
     "output_type": "execute_result"
    }
   ],
   "source": [
    "week_day"
   ]
  },
  {
   "cell_type": "markdown",
   "metadata": {},
   "source": [
    "# Categorizing runtime\n",
    "\n",
    "I will be categorizing this data as well. Although the runtimes that I've gathered have a lot of different values, in reality/practice, tv shows are usually in 30 minute and 1 hour increments (longer than 1 hour would generally be specials or movies). For this reason, I chose relatively arbitrary runtimes to group group the shows by."
   ]
  },
  {
   "cell_type": "code",
   "execution_count": 26,
   "metadata": {},
   "outputs": [],
   "source": [
    "series_df = series_df[(series_df[['runtime_x']] != ('')).all(axis=1)]"
   ]
  },
  {
   "cell_type": "code",
   "execution_count": 27,
   "metadata": {},
   "outputs": [],
   "source": [
    "series_df[['runtime_x']] = series_df[['runtime_x']].astype(int)"
   ]
  },
  {
   "cell_type": "code",
   "execution_count": 28,
   "metadata": {
    "scrolled": true
   },
   "outputs": [
    {
     "data": {
      "text/plain": [
       "30     692\n",
       "60     425\n",
       "45     315\n",
       "25     241\n",
       "15      35\n",
       "20      33\n",
       "50      24\n",
       "11      23\n",
       "55      16\n",
       "10      16\n",
       "120     13\n",
       "40      13\n",
       "85      10\n",
       "1        9\n",
       "90       8\n",
       "12       8\n",
       "35       4\n",
       "13       4\n",
       "65       3\n",
       "70       3\n",
       "180      2\n",
       "80       2\n",
       "7        2\n",
       "75       1\n",
       "95       1\n",
       "125      1\n",
       "140      1\n",
       "6        1\n",
       "3        1\n",
       "240      1\n",
       "Name: runtime_x, dtype: int64"
      ]
     },
     "execution_count": 28,
     "metadata": {},
     "output_type": "execute_result"
    }
   ],
   "source": [
    "series_df['runtime_x'].value_counts()"
   ]
  },
  {
   "cell_type": "code",
   "execution_count": 29,
   "metadata": {},
   "outputs": [
    {
     "data": {
      "text/plain": [
       "Game of Thrones         55\n",
       "Westworld               60\n",
       "Big Little Lies         50\n",
       "The Deuce               60\n",
       "Succession              60\n",
       "Curb Your Enthusiasm    30\n",
       "Veep                    30\n",
       "Silicon Valley          30\n",
       "Ballers                 30\n",
       "High Maintenance        10\n",
       "Name: runtime_x, dtype: int64"
      ]
     },
     "execution_count": 29,
     "metadata": {},
     "output_type": "execute_result"
    }
   ],
   "source": [
    "series_df['runtime_x'].head(10)"
   ]
  },
  {
   "cell_type": "code",
   "execution_count": 30,
   "metadata": {},
   "outputs": [],
   "source": [
    "series_df['runtime_cat'] = np.where(series_df['runtime_x'] < 30, 'half', 'full')"
   ]
  },
  {
   "cell_type": "code",
   "execution_count": 31,
   "metadata": {},
   "outputs": [],
   "source": [
    "series_df['runtime_cat'].loc[series_df.runtime_x < 30] = 'half'\n",
    "series_df['runtime_cat'].loc[series_df.runtime_x > 70] = 'special'"
   ]
  },
  {
   "cell_type": "code",
   "execution_count": 32,
   "metadata": {
    "scrolled": true
   },
   "outputs": [
    {
     "data": {
      "text/plain": [
       "full       1495\n",
       "half        373\n",
       "special      40\n",
       "Name: runtime_cat, dtype: int64"
      ]
     },
     "execution_count": 32,
     "metadata": {},
     "output_type": "execute_result"
    }
   ],
   "source": [
    "series_df['runtime_cat'].value_counts()"
   ]
  },
  {
   "cell_type": "code",
   "execution_count": 33,
   "metadata": {},
   "outputs": [
    {
     "data": {
      "text/plain": [
       "Game of Thrones         full\n",
       "Westworld               full\n",
       "Big Little Lies         full\n",
       "The Deuce               full\n",
       "Succession              full\n",
       "Curb Your Enthusiasm    full\n",
       "Veep                    full\n",
       "Silicon Valley          full\n",
       "Ballers                 full\n",
       "High Maintenance        half\n",
       "Name: runtime_cat, dtype: object"
      ]
     },
     "execution_count": 33,
     "metadata": {},
     "output_type": "execute_result"
    }
   ],
   "source": [
    "series_df['runtime_cat'].head(10)"
   ]
  },
  {
   "cell_type": "code",
   "execution_count": 34,
   "metadata": {},
   "outputs": [
    {
     "data": {
      "text/html": [
       "<div>\n",
       "<style scoped>\n",
       "    .dataframe tbody tr th:only-of-type {\n",
       "        vertical-align: middle;\n",
       "    }\n",
       "\n",
       "    .dataframe tbody tr th {\n",
       "        vertical-align: top;\n",
       "    }\n",
       "\n",
       "    .dataframe thead th {\n",
       "        text-align: right;\n",
       "    }\n",
       "</style>\n",
       "<table border=\"1\" class=\"dataframe\">\n",
       "  <thead>\n",
       "    <tr style=\"text-align: right;\">\n",
       "      <th></th>\n",
       "      <th>airsDayOfWeek</th>\n",
       "      <th>airsTime</th>\n",
       "      <th>network</th>\n",
       "      <th>overview_x</th>\n",
       "      <th>rating</th>\n",
       "      <th>runtime_x</th>\n",
       "      <th>number_of_episodes</th>\n",
       "      <th>number_of_seasons</th>\n",
       "      <th>overview_y</th>\n",
       "      <th>status_y</th>\n",
       "      <th>...</th>\n",
       "      <th>actors</th>\n",
       "      <th>awards</th>\n",
       "      <th>genre_y</th>\n",
       "      <th>imdb_id</th>\n",
       "      <th>imdb_rating</th>\n",
       "      <th>imdb_votes</th>\n",
       "      <th>plot</th>\n",
       "      <th>released</th>\n",
       "      <th>writer</th>\n",
       "      <th>runtime_cat</th>\n",
       "    </tr>\n",
       "  </thead>\n",
       "  <tbody>\n",
       "    <tr>\n",
       "      <th>Game of Thrones</th>\n",
       "      <td>Sunday</td>\n",
       "      <td>9:00 PM</td>\n",
       "      <td>HBO</td>\n",
       "      <td>Seven noble families fight for control of the ...</td>\n",
       "      <td>TV-MA</td>\n",
       "      <td>55</td>\n",
       "      <td>73.0</td>\n",
       "      <td>8</td>\n",
       "      <td>Seven noble families fight for control of the ...</td>\n",
       "      <td>Returning Series</td>\n",
       "      <td>...</td>\n",
       "      <td>Peter Dinklage, Lena Headey, Emilia Clarke, Ki...</td>\n",
       "      <td>1</td>\n",
       "      <td>Action, Adventure, Drama, Fantasy, Romance</td>\n",
       "      <td>tt0944947</td>\n",
       "      <td>9.5</td>\n",
       "      <td>1,361,235</td>\n",
       "      <td>In the mythical continent of Westeros, several...</td>\n",
       "      <td>2011-04-17</td>\n",
       "      <td>David Benioff, D.B. Weiss</td>\n",
       "      <td>full</td>\n",
       "    </tr>\n",
       "    <tr>\n",
       "      <th>Westworld</th>\n",
       "      <td>Sunday</td>\n",
       "      <td>9:00 PM</td>\n",
       "      <td>HBO</td>\n",
       "      <td>Westworld is a dark odyssey about the dawn of ...</td>\n",
       "      <td>TV-MA</td>\n",
       "      <td>60</td>\n",
       "      <td>20.0</td>\n",
       "      <td>2</td>\n",
       "      <td>A dark odyssey about the dawn of artificial co...</td>\n",
       "      <td>Returning Series</td>\n",
       "      <td>...</td>\n",
       "      <td>Evan Rachel Wood, Thandie Newton, Jeffrey Wrig...</td>\n",
       "      <td>1</td>\n",
       "      <td>Drama, Mystery, Sci-Fi</td>\n",
       "      <td>tt0475784</td>\n",
       "      <td>8.9</td>\n",
       "      <td>307,642</td>\n",
       "      <td>Westworld isn't your typical amusement park. I...</td>\n",
       "      <td>2016-10-02</td>\n",
       "      <td>0</td>\n",
       "      <td>full</td>\n",
       "    </tr>\n",
       "    <tr>\n",
       "      <th>Big Little Lies</th>\n",
       "      <td>Sunday</td>\n",
       "      <td>9:00 PM</td>\n",
       "      <td>HBO</td>\n",
       "      <td>Subversive, darkly comedic drama Big Little Li...</td>\n",
       "      <td>TV-MA</td>\n",
       "      <td>50</td>\n",
       "      <td>7.0</td>\n",
       "      <td>2</td>\n",
       "      <td>Subversive, darkly comedic drama Big Little Li...</td>\n",
       "      <td>Returning Series</td>\n",
       "      <td>...</td>\n",
       "      <td>Reese Witherspoon, Nicole Kidman, Shailene Woo...</td>\n",
       "      <td>1</td>\n",
       "      <td>Crime, Drama, Mystery</td>\n",
       "      <td>tt3920596</td>\n",
       "      <td>8.6</td>\n",
       "      <td>86,060</td>\n",
       "      <td>While Madeline and Celeste take new in town si...</td>\n",
       "      <td>2017-02-19</td>\n",
       "      <td>David E. Kelley</td>\n",
       "      <td>full</td>\n",
       "    </tr>\n",
       "  </tbody>\n",
       "</table>\n",
       "<p>3 rows × 21 columns</p>\n",
       "</div>"
      ],
      "text/plain": [
       "                airsDayOfWeek airsTime network  \\\n",
       "Game of Thrones        Sunday  9:00 PM     HBO   \n",
       "Westworld              Sunday  9:00 PM     HBO   \n",
       "Big Little Lies        Sunday  9:00 PM     HBO   \n",
       "\n",
       "                                                        overview_x rating  \\\n",
       "Game of Thrones  Seven noble families fight for control of the ...  TV-MA   \n",
       "Westworld        Westworld is a dark odyssey about the dawn of ...  TV-MA   \n",
       "Big Little Lies  Subversive, darkly comedic drama Big Little Li...  TV-MA   \n",
       "\n",
       "                 runtime_x  number_of_episodes  number_of_seasons  \\\n",
       "Game of Thrones         55                73.0                  8   \n",
       "Westworld               60                20.0                  2   \n",
       "Big Little Lies         50                 7.0                  2   \n",
       "\n",
       "                                                        overview_y  \\\n",
       "Game of Thrones  Seven noble families fight for control of the ...   \n",
       "Westworld        A dark odyssey about the dawn of artificial co...   \n",
       "Big Little Lies  Subversive, darkly comedic drama Big Little Li...   \n",
       "\n",
       "                         status_y     ...      \\\n",
       "Game of Thrones  Returning Series     ...       \n",
       "Westworld        Returning Series     ...       \n",
       "Big Little Lies  Returning Series     ...       \n",
       "\n",
       "                                                            actors awards  \\\n",
       "Game of Thrones  Peter Dinklage, Lena Headey, Emilia Clarke, Ki...      1   \n",
       "Westworld        Evan Rachel Wood, Thandie Newton, Jeffrey Wrig...      1   \n",
       "Big Little Lies  Reese Witherspoon, Nicole Kidman, Shailene Woo...      1   \n",
       "\n",
       "                                                    genre_y    imdb_id  \\\n",
       "Game of Thrones  Action, Adventure, Drama, Fantasy, Romance  tt0944947   \n",
       "Westworld                            Drama, Mystery, Sci-Fi  tt0475784   \n",
       "Big Little Lies                       Crime, Drama, Mystery  tt3920596   \n",
       "\n",
       "                imdb_rating imdb_votes  \\\n",
       "Game of Thrones         9.5  1,361,235   \n",
       "Westworld               8.9    307,642   \n",
       "Big Little Lies         8.6     86,060   \n",
       "\n",
       "                                                              plot   released  \\\n",
       "Game of Thrones  In the mythical continent of Westeros, several... 2011-04-17   \n",
       "Westworld        Westworld isn't your typical amusement park. I... 2016-10-02   \n",
       "Big Little Lies  While Madeline and Celeste take new in town si... 2017-02-19   \n",
       "\n",
       "                                    writer runtime_cat  \n",
       "Game of Thrones  David Benioff, D.B. Weiss        full  \n",
       "Westworld                                0        full  \n",
       "Big Little Lies            David E. Kelley        full  \n",
       "\n",
       "[3 rows x 21 columns]"
      ]
     },
     "execution_count": 34,
     "metadata": {},
     "output_type": "execute_result"
    }
   ],
   "source": [
    "series_df.head(3)"
   ]
  },
  {
   "cell_type": "markdown",
   "metadata": {},
   "source": [
    "# Separate genre_y values into additional columns"
   ]
  },
  {
   "cell_type": "code",
   "execution_count": 35,
   "metadata": {},
   "outputs": [],
   "source": [
    "df = pd.Series(series_df['genre_y'].str.split(','))"
   ]
  },
  {
   "cell_type": "code",
   "execution_count": 36,
   "metadata": {},
   "outputs": [],
   "source": [
    "genre_dummies = pd.get_dummies(df.apply(pd.Series).stack()).sum(level=0)"
   ]
  },
  {
   "cell_type": "markdown",
   "metadata": {},
   "source": [
    "# Dummies"
   ]
  },
  {
   "cell_type": "code",
   "execution_count": 37,
   "metadata": {},
   "outputs": [],
   "source": [
    "status_dummies = pd.get_dummies(series_df['status_y'], prefix='status')"
   ]
  },
  {
   "cell_type": "code",
   "execution_count": 38,
   "metadata": {},
   "outputs": [],
   "source": [
    "type_dummies = pd.get_dummies(series_df['type_x'], prefix='type')"
   ]
  },
  {
   "cell_type": "code",
   "execution_count": 39,
   "metadata": {},
   "outputs": [],
   "source": [
    "timeslot_dum = pd.get_dummies(timeslot, prefix='timeslot')"
   ]
  },
  {
   "cell_type": "code",
   "execution_count": 40,
   "metadata": {},
   "outputs": [],
   "source": [
    "week_day_ = week_day.drop('released', axis=1)\n",
    "week_day_dum1 = pd.get_dummies(week_day_['weekday'], prefix='day')\n",
    "week_day_dum2 = pd.get_dummies(week_day_['month'], prefix='month')"
   ]
  },
  {
   "cell_type": "markdown",
   "metadata": {},
   "source": [
    "# Combining all the dataframes"
   ]
  },
  {
   "cell_type": "markdown",
   "metadata": {},
   "source": [
    "### To drop:\n",
    "- airsDayOfWeek\n",
    "- airsTime\n",
    "- network\n",
    "- overview_x\n",
    "- runtime_x\n",
    "- overview_y\n",
    "- actors (dummy)\n",
    "- genre_y (dummy)\n",
    "- imdb_id\n",
    "- imdb_rating\n",
    "- plot\n",
    "- released\n",
    "- writer (dummy)"
   ]
  },
  {
   "cell_type": "code",
   "execution_count": 41,
   "metadata": {
    "scrolled": true
   },
   "outputs": [
    {
     "data": {
      "text/html": [
       "<div>\n",
       "<style scoped>\n",
       "    .dataframe tbody tr th:only-of-type {\n",
       "        vertical-align: middle;\n",
       "    }\n",
       "\n",
       "    .dataframe tbody tr th {\n",
       "        vertical-align: top;\n",
       "    }\n",
       "\n",
       "    .dataframe thead th {\n",
       "        text-align: right;\n",
       "    }\n",
       "</style>\n",
       "<table border=\"1\" class=\"dataframe\">\n",
       "  <thead>\n",
       "    <tr style=\"text-align: right;\">\n",
       "      <th></th>\n",
       "      <th>airsDayOfWeek</th>\n",
       "      <th>airsTime</th>\n",
       "      <th>network</th>\n",
       "      <th>overview_x</th>\n",
       "      <th>rating</th>\n",
       "      <th>runtime_x</th>\n",
       "      <th>number_of_episodes</th>\n",
       "      <th>number_of_seasons</th>\n",
       "      <th>overview_y</th>\n",
       "      <th>status_y</th>\n",
       "      <th>...</th>\n",
       "      <th>actors</th>\n",
       "      <th>awards</th>\n",
       "      <th>genre_y</th>\n",
       "      <th>imdb_id</th>\n",
       "      <th>imdb_rating</th>\n",
       "      <th>imdb_votes</th>\n",
       "      <th>plot</th>\n",
       "      <th>released</th>\n",
       "      <th>writer</th>\n",
       "      <th>runtime_cat</th>\n",
       "    </tr>\n",
       "  </thead>\n",
       "  <tbody>\n",
       "    <tr>\n",
       "      <th>Game of Thrones</th>\n",
       "      <td>Sunday</td>\n",
       "      <td>9:00 PM</td>\n",
       "      <td>HBO</td>\n",
       "      <td>Seven noble families fight for control of the ...</td>\n",
       "      <td>TV-MA</td>\n",
       "      <td>55</td>\n",
       "      <td>73.0</td>\n",
       "      <td>8</td>\n",
       "      <td>Seven noble families fight for control of the ...</td>\n",
       "      <td>Returning Series</td>\n",
       "      <td>...</td>\n",
       "      <td>Peter Dinklage, Lena Headey, Emilia Clarke, Ki...</td>\n",
       "      <td>1</td>\n",
       "      <td>Action, Adventure, Drama, Fantasy, Romance</td>\n",
       "      <td>tt0944947</td>\n",
       "      <td>9.5</td>\n",
       "      <td>1,361,235</td>\n",
       "      <td>In the mythical continent of Westeros, several...</td>\n",
       "      <td>2011-04-17</td>\n",
       "      <td>David Benioff, D.B. Weiss</td>\n",
       "      <td>full</td>\n",
       "    </tr>\n",
       "  </tbody>\n",
       "</table>\n",
       "<p>1 rows × 21 columns</p>\n",
       "</div>"
      ],
      "text/plain": [
       "                airsDayOfWeek airsTime network  \\\n",
       "Game of Thrones        Sunday  9:00 PM     HBO   \n",
       "\n",
       "                                                        overview_x rating  \\\n",
       "Game of Thrones  Seven noble families fight for control of the ...  TV-MA   \n",
       "\n",
       "                 runtime_x  number_of_episodes  number_of_seasons  \\\n",
       "Game of Thrones         55                73.0                  8   \n",
       "\n",
       "                                                        overview_y  \\\n",
       "Game of Thrones  Seven noble families fight for control of the ...   \n",
       "\n",
       "                         status_y     ...      \\\n",
       "Game of Thrones  Returning Series     ...       \n",
       "\n",
       "                                                            actors awards  \\\n",
       "Game of Thrones  Peter Dinklage, Lena Headey, Emilia Clarke, Ki...      1   \n",
       "\n",
       "                                                    genre_y    imdb_id  \\\n",
       "Game of Thrones  Action, Adventure, Drama, Fantasy, Romance  tt0944947   \n",
       "\n",
       "                imdb_rating imdb_votes  \\\n",
       "Game of Thrones         9.5  1,361,235   \n",
       "\n",
       "                                                              plot   released  \\\n",
       "Game of Thrones  In the mythical continent of Westeros, several... 2011-04-17   \n",
       "\n",
       "                                    writer runtime_cat  \n",
       "Game of Thrones  David Benioff, D.B. Weiss        full  \n",
       "\n",
       "[1 rows x 21 columns]"
      ]
     },
     "execution_count": 41,
     "metadata": {},
     "output_type": "execute_result"
    }
   ],
   "source": [
    "series_df.head(1)"
   ]
  },
  {
   "cell_type": "code",
   "execution_count": 42,
   "metadata": {
    "scrolled": true
   },
   "outputs": [
    {
     "data": {
      "text/html": [
       "<div>\n",
       "<style scoped>\n",
       "    .dataframe tbody tr th:only-of-type {\n",
       "        vertical-align: middle;\n",
       "    }\n",
       "\n",
       "    .dataframe tbody tr th {\n",
       "        vertical-align: top;\n",
       "    }\n",
       "\n",
       "    .dataframe thead th {\n",
       "        text-align: right;\n",
       "    }\n",
       "</style>\n",
       "<table border=\"1\" class=\"dataframe\">\n",
       "  <thead>\n",
       "    <tr style=\"text-align: right;\">\n",
       "      <th></th>\n",
       "      <th>timeslot_00:00</th>\n",
       "      <th>timeslot_afternoon</th>\n",
       "      <th>timeslot_evening</th>\n",
       "      <th>timeslot_latenight</th>\n",
       "      <th>timeslot_morning</th>\n",
       "      <th>timeslot_unknown</th>\n",
       "    </tr>\n",
       "  </thead>\n",
       "  <tbody>\n",
       "    <tr>\n",
       "      <th>Random Acts of Flyness</th>\n",
       "      <td>0</td>\n",
       "      <td>0</td>\n",
       "      <td>0</td>\n",
       "      <td>1</td>\n",
       "      <td>0</td>\n",
       "      <td>0</td>\n",
       "    </tr>\n",
       "  </tbody>\n",
       "</table>\n",
       "</div>"
      ],
      "text/plain": [
       "                        timeslot_00:00  timeslot_afternoon  timeslot_evening  \\\n",
       "Random Acts of Flyness               0                   0                 0   \n",
       "\n",
       "                        timeslot_latenight  timeslot_morning  timeslot_unknown  \n",
       "Random Acts of Flyness                   1                 0                 0  "
      ]
     },
     "execution_count": 42,
     "metadata": {},
     "output_type": "execute_result"
    }
   ],
   "source": [
    "timeslot_dum.head(1)"
   ]
  },
  {
   "cell_type": "code",
   "execution_count": 43,
   "metadata": {},
   "outputs": [
    {
     "data": {
      "text/html": [
       "<div>\n",
       "<style scoped>\n",
       "    .dataframe tbody tr th:only-of-type {\n",
       "        vertical-align: middle;\n",
       "    }\n",
       "\n",
       "    .dataframe tbody tr th {\n",
       "        vertical-align: top;\n",
       "    }\n",
       "\n",
       "    .dataframe thead th {\n",
       "        text-align: right;\n",
       "    }\n",
       "</style>\n",
       "<table border=\"1\" class=\"dataframe\">\n",
       "  <thead>\n",
       "    <tr style=\"text-align: right;\">\n",
       "      <th></th>\n",
       "      <th>day_0</th>\n",
       "      <th>day_1</th>\n",
       "      <th>day_2</th>\n",
       "      <th>day_3</th>\n",
       "      <th>day_4</th>\n",
       "      <th>day_5</th>\n",
       "      <th>day_6</th>\n",
       "    </tr>\n",
       "  </thead>\n",
       "  <tbody>\n",
       "    <tr>\n",
       "      <th>Game of Thrones</th>\n",
       "      <td>0</td>\n",
       "      <td>0</td>\n",
       "      <td>0</td>\n",
       "      <td>0</td>\n",
       "      <td>0</td>\n",
       "      <td>0</td>\n",
       "      <td>1</td>\n",
       "    </tr>\n",
       "  </tbody>\n",
       "</table>\n",
       "</div>"
      ],
      "text/plain": [
       "                 day_0  day_1  day_2  day_3  day_4  day_5  day_6\n",
       "Game of Thrones      0      0      0      0      0      0      1"
      ]
     },
     "execution_count": 43,
     "metadata": {},
     "output_type": "execute_result"
    }
   ],
   "source": [
    "week_day_dum1.head(1)"
   ]
  },
  {
   "cell_type": "code",
   "execution_count": 44,
   "metadata": {},
   "outputs": [
    {
     "data": {
      "text/html": [
       "<div>\n",
       "<style scoped>\n",
       "    .dataframe tbody tr th:only-of-type {\n",
       "        vertical-align: middle;\n",
       "    }\n",
       "\n",
       "    .dataframe tbody tr th {\n",
       "        vertical-align: top;\n",
       "    }\n",
       "\n",
       "    .dataframe thead th {\n",
       "        text-align: right;\n",
       "    }\n",
       "</style>\n",
       "<table border=\"1\" class=\"dataframe\">\n",
       "  <thead>\n",
       "    <tr style=\"text-align: right;\">\n",
       "      <th></th>\n",
       "      <th>month_1</th>\n",
       "      <th>month_2</th>\n",
       "      <th>month_3</th>\n",
       "      <th>month_4</th>\n",
       "      <th>month_5</th>\n",
       "      <th>month_6</th>\n",
       "      <th>month_7</th>\n",
       "      <th>month_8</th>\n",
       "      <th>month_9</th>\n",
       "      <th>month_10</th>\n",
       "      <th>month_11</th>\n",
       "      <th>month_12</th>\n",
       "    </tr>\n",
       "  </thead>\n",
       "  <tbody>\n",
       "    <tr>\n",
       "      <th>Game of Thrones</th>\n",
       "      <td>0</td>\n",
       "      <td>0</td>\n",
       "      <td>0</td>\n",
       "      <td>1</td>\n",
       "      <td>0</td>\n",
       "      <td>0</td>\n",
       "      <td>0</td>\n",
       "      <td>0</td>\n",
       "      <td>0</td>\n",
       "      <td>0</td>\n",
       "      <td>0</td>\n",
       "      <td>0</td>\n",
       "    </tr>\n",
       "  </tbody>\n",
       "</table>\n",
       "</div>"
      ],
      "text/plain": [
       "                 month_1  month_2  month_3  month_4  month_5  month_6  \\\n",
       "Game of Thrones        0        0        0        1        0        0   \n",
       "\n",
       "                 month_7  month_8  month_9  month_10  month_11  month_12  \n",
       "Game of Thrones        0        0        0         0         0         0  "
      ]
     },
     "execution_count": 44,
     "metadata": {},
     "output_type": "execute_result"
    }
   ],
   "source": [
    "week_day_dum2.head(1)"
   ]
  },
  {
   "cell_type": "code",
   "execution_count": 45,
   "metadata": {
    "scrolled": true
   },
   "outputs": [
    {
     "data": {
      "text/plain": [
       "Game of Thrones    full\n",
       "Name: runtime_cat, dtype: object"
      ]
     },
     "execution_count": 45,
     "metadata": {},
     "output_type": "execute_result"
    }
   ],
   "source": [
    "series_df['runtime_cat'].head(1)"
   ]
  },
  {
   "cell_type": "code",
   "execution_count": 46,
   "metadata": {
    "scrolled": true
   },
   "outputs": [
    {
     "data": {
      "text/html": [
       "<div>\n",
       "<style scoped>\n",
       "    .dataframe tbody tr th:only-of-type {\n",
       "        vertical-align: middle;\n",
       "    }\n",
       "\n",
       "    .dataframe tbody tr th {\n",
       "        vertical-align: top;\n",
       "    }\n",
       "\n",
       "    .dataframe thead th {\n",
       "        text-align: right;\n",
       "    }\n",
       "</style>\n",
       "<table border=\"1\" class=\"dataframe\">\n",
       "  <thead>\n",
       "    <tr style=\"text-align: right;\">\n",
       "      <th></th>\n",
       "      <th>Action</th>\n",
       "      <th>Adventure</th>\n",
       "      <th>Animation</th>\n",
       "      <th>Comedy</th>\n",
       "      <th>Crime</th>\n",
       "      <th>Drama</th>\n",
       "      <th>Family</th>\n",
       "      <th>Fantasy</th>\n",
       "      <th>Game-Show</th>\n",
       "      <th>History</th>\n",
       "      <th>...</th>\n",
       "      <th>Horror</th>\n",
       "      <th>Music</th>\n",
       "      <th>Mystery</th>\n",
       "      <th>News</th>\n",
       "      <th>Reality-TV</th>\n",
       "      <th>Romance</th>\n",
       "      <th>Sci-Fi</th>\n",
       "      <th>Sport</th>\n",
       "      <th>Talk-Show</th>\n",
       "      <th>Western</th>\n",
       "    </tr>\n",
       "  </thead>\n",
       "  <tbody>\n",
       "    <tr>\n",
       "      <th>Game of Thrones</th>\n",
       "      <td>0</td>\n",
       "      <td>1</td>\n",
       "      <td>0</td>\n",
       "      <td>0</td>\n",
       "      <td>0</td>\n",
       "      <td>1</td>\n",
       "      <td>0</td>\n",
       "      <td>1</td>\n",
       "      <td>0</td>\n",
       "      <td>0</td>\n",
       "      <td>...</td>\n",
       "      <td>0</td>\n",
       "      <td>0</td>\n",
       "      <td>0</td>\n",
       "      <td>0</td>\n",
       "      <td>0</td>\n",
       "      <td>0</td>\n",
       "      <td>0</td>\n",
       "      <td>0</td>\n",
       "      <td>0</td>\n",
       "      <td>0</td>\n",
       "    </tr>\n",
       "  </tbody>\n",
       "</table>\n",
       "<p>1 rows × 46 columns</p>\n",
       "</div>"
      ],
      "text/plain": [
       "                  Action   Adventure   Animation   Comedy   Crime   Drama  \\\n",
       "Game of Thrones        0           1           0        0       0       1   \n",
       "\n",
       "                  Family   Fantasy   Game-Show   History   ...     Horror  \\\n",
       "Game of Thrones        0         1           0         0   ...          0   \n",
       "\n",
       "                 Music  Mystery  News  Reality-TV  Romance  Sci-Fi  Sport  \\\n",
       "Game of Thrones      0        0     0           0        0       0      0   \n",
       "\n",
       "                 Talk-Show  Western  \n",
       "Game of Thrones          0        0  \n",
       "\n",
       "[1 rows x 46 columns]"
      ]
     },
     "execution_count": 46,
     "metadata": {},
     "output_type": "execute_result"
    }
   ],
   "source": [
    "genre_dummies.head(1)"
   ]
  },
  {
   "cell_type": "code",
   "execution_count": 47,
   "metadata": {},
   "outputs": [],
   "source": [
    "series_df = series_df.merge(timeslot_dum, left_index=True, right_index=True)"
   ]
  },
  {
   "cell_type": "code",
   "execution_count": 48,
   "metadata": {},
   "outputs": [],
   "source": [
    "series_df = series_df.merge(week_day_dum1, left_index=True, right_index=True)\n",
    "series_df = series_df.merge(week_day_dum2, left_index=True, right_index=True)\n",
    "series_df = series_df.merge(genre_dummies, left_index=True, right_index=True)"
   ]
  },
  {
   "cell_type": "code",
   "execution_count": 49,
   "metadata": {},
   "outputs": [],
   "source": [
    "model_df = series_df.drop(['network', \n",
    "                           'imdb_id', \n",
    "                           'released', \n",
    "                           'airsDayOfWeek', \n",
    "                           'airsTime', \n",
    "                           'overview_x', \n",
    "                           'overview_y', \n",
    "                           'plot', \n",
    "                           'genre_y', \n",
    "                           'status_y', \n",
    "                           'type_x', \n",
    "                           'runtime_x', \n",
    "                           'runtime_cat'], \n",
    "                          axis=1)"
   ]
  },
  {
   "cell_type": "code",
   "execution_count": 50,
   "metadata": {},
   "outputs": [],
   "source": [
    "model_df.drop(['actors', 'writer'], axis=1, inplace=True)"
   ]
  },
  {
   "cell_type": "code",
   "execution_count": 51,
   "metadata": {},
   "outputs": [],
   "source": [
    "series_df['imdb_votes'] = series_df['imdb_votes'].str.replace(',', '').astype(float)"
   ]
  },
  {
   "cell_type": "code",
   "execution_count": 52,
   "metadata": {},
   "outputs": [],
   "source": [
    "model_df[['awards']] = model_df[['awards']].astype(float)"
   ]
  },
  {
   "cell_type": "code",
   "execution_count": 53,
   "metadata": {},
   "outputs": [],
   "source": [
    "model_df[['imdb_rating']] = model_df[['imdb_rating']].astype(float)"
   ]
  },
  {
   "cell_type": "code",
   "execution_count": 54,
   "metadata": {},
   "outputs": [],
   "source": [
    "model_df.drop('rating', axis=1, inplace=True)"
   ]
  },
  {
   "cell_type": "markdown",
   "metadata": {},
   "source": [
    "# Final cleanup steps"
   ]
  },
  {
   "cell_type": "markdown",
   "metadata": {},
   "source": [
    "Now that the data is useable in the proper format, I can see how the chosen features predicts on IMDB rating without additional feature engineering so far."
   ]
  },
  {
   "cell_type": "code",
   "execution_count": 55,
   "metadata": {},
   "outputs": [
    {
     "data": {
      "text/plain": [
       "str"
      ]
     },
     "execution_count": 55,
     "metadata": {},
     "output_type": "execute_result"
    }
   ],
   "source": [
    "type(model_df['imdb_votes'][0])"
   ]
  },
  {
   "cell_type": "code",
   "execution_count": 56,
   "metadata": {},
   "outputs": [],
   "source": [
    "model_df['imdb_votes'] = model_df['imdb_votes'].str.replace(',', '').astype(float)"
   ]
  },
  {
   "cell_type": "code",
   "execution_count": 57,
   "metadata": {
    "scrolled": true
   },
   "outputs": [],
   "source": [
    "series_df[['runtime_x', 'awards']] = series_df[['runtime_x', 'awards']].astype(float)"
   ]
  },
  {
   "cell_type": "code",
   "execution_count": 58,
   "metadata": {},
   "outputs": [
    {
     "data": {
      "text/plain": [
       "airsDayOfWeek          0\n",
       "airsTime               0\n",
       "network                0\n",
       "overview_x            79\n",
       "rating                 0\n",
       "runtime_x              0\n",
       "number_of_episodes     1\n",
       "number_of_seasons      0\n",
       "overview_y             0\n",
       "status_y               0\n",
       "type_x                 0\n",
       "actors                 0\n",
       "awards                 0\n",
       "genre_y                0\n",
       "imdb_id                0\n",
       "imdb_rating            0\n",
       "imdb_votes             0\n",
       "plot                   0\n",
       "released               0\n",
       "writer                 0\n",
       "runtime_cat            0\n",
       "timeslot_00:00         0\n",
       "timeslot_afternoon     0\n",
       "timeslot_evening       0\n",
       "timeslot_latenight     0\n",
       "timeslot_morning       0\n",
       "timeslot_unknown       0\n",
       "day_0                  0\n",
       "day_1                  0\n",
       "day_2                  0\n",
       "                      ..\n",
       " Romance               0\n",
       " Sci-Fi                0\n",
       " Short                 0\n",
       " Sport                 0\n",
       " Talk-Show             0\n",
       " Thriller              0\n",
       " War                   0\n",
       " Western               0\n",
       "Action                 0\n",
       "Adventure              0\n",
       "Animation              0\n",
       "Biography              0\n",
       "Comedy                 0\n",
       "Crime                  0\n",
       "Documentary            0\n",
       "Drama                  0\n",
       "Family                 0\n",
       "Fantasy                0\n",
       "Game-Show              0\n",
       "History                0\n",
       "Horror                 0\n",
       "Music                  0\n",
       "Mystery                0\n",
       "News                   0\n",
       "Reality-TV             0\n",
       "Romance                0\n",
       "Sci-Fi                 0\n",
       "Sport                  0\n",
       "Talk-Show              0\n",
       "Western                0\n",
       "Length: 92, dtype: int64"
      ]
     },
     "execution_count": 58,
     "metadata": {},
     "output_type": "execute_result"
    }
   ],
   "source": [
    "series_df.isnull().sum()"
   ]
  },
  {
   "cell_type": "code",
   "execution_count": 59,
   "metadata": {
    "scrolled": true
   },
   "outputs": [
    {
     "data": {
      "text/plain": [
       "30.0     685\n",
       "60.0     416\n",
       "45.0     315\n",
       "25.0     241\n",
       "15.0      35\n",
       "20.0      32\n",
       "50.0      24\n",
       "11.0      23\n",
       "55.0      16\n",
       "10.0      16\n",
       "40.0      13\n",
       "120.0     13\n",
       "85.0      10\n",
       "1.0        9\n",
       "12.0       8\n",
       "90.0       8\n",
       "35.0       4\n",
       "13.0       4\n",
       "70.0       3\n",
       "65.0       2\n",
       "180.0      2\n",
       "7.0        2\n",
       "80.0       2\n",
       "140.0      1\n",
       "240.0      1\n",
       "3.0        1\n",
       "6.0        1\n",
       "95.0       1\n",
       "125.0      1\n",
       "75.0       1\n",
       "Name: runtime_x, dtype: int64"
      ]
     },
     "execution_count": 59,
     "metadata": {},
     "output_type": "execute_result"
    }
   ],
   "source": [
    "series_df['runtime_x'].value_counts()"
   ]
  },
  {
   "cell_type": "code",
   "execution_count": 60,
   "metadata": {},
   "outputs": [],
   "source": [
    "model_df.dropna(inplace=True)"
   ]
  },
  {
   "cell_type": "code",
   "execution_count": 61,
   "metadata": {
    "scrolled": true
   },
   "outputs": [
    {
     "data": {
      "text/html": [
       "<div>\n",
       "<style scoped>\n",
       "    .dataframe tbody tr th:only-of-type {\n",
       "        vertical-align: middle;\n",
       "    }\n",
       "\n",
       "    .dataframe tbody tr th {\n",
       "        vertical-align: top;\n",
       "    }\n",
       "\n",
       "    .dataframe thead th {\n",
       "        text-align: right;\n",
       "    }\n",
       "</style>\n",
       "<table border=\"1\" class=\"dataframe\">\n",
       "  <thead>\n",
       "    <tr style=\"text-align: right;\">\n",
       "      <th></th>\n",
       "      <th>number_of_episodes</th>\n",
       "      <th>number_of_seasons</th>\n",
       "      <th>awards</th>\n",
       "      <th>imdb_rating</th>\n",
       "      <th>imdb_votes</th>\n",
       "      <th>timeslot_00:00</th>\n",
       "      <th>timeslot_afternoon</th>\n",
       "      <th>timeslot_evening</th>\n",
       "      <th>timeslot_latenight</th>\n",
       "      <th>timeslot_morning</th>\n",
       "      <th>...</th>\n",
       "      <th>Horror</th>\n",
       "      <th>Music</th>\n",
       "      <th>Mystery</th>\n",
       "      <th>News</th>\n",
       "      <th>Reality-TV</th>\n",
       "      <th>Romance</th>\n",
       "      <th>Sci-Fi</th>\n",
       "      <th>Sport</th>\n",
       "      <th>Talk-Show</th>\n",
       "      <th>Western</th>\n",
       "    </tr>\n",
       "  </thead>\n",
       "  <tbody>\n",
       "    <tr>\n",
       "      <th>Game of Thrones</th>\n",
       "      <td>73.0</td>\n",
       "      <td>8</td>\n",
       "      <td>1.0</td>\n",
       "      <td>9.5</td>\n",
       "      <td>1361235.0</td>\n",
       "      <td>0</td>\n",
       "      <td>0</td>\n",
       "      <td>1</td>\n",
       "      <td>0</td>\n",
       "      <td>0</td>\n",
       "      <td>...</td>\n",
       "      <td>0</td>\n",
       "      <td>0</td>\n",
       "      <td>0</td>\n",
       "      <td>0</td>\n",
       "      <td>0</td>\n",
       "      <td>0</td>\n",
       "      <td>0</td>\n",
       "      <td>0</td>\n",
       "      <td>0</td>\n",
       "      <td>0</td>\n",
       "    </tr>\n",
       "    <tr>\n",
       "      <th>Westworld</th>\n",
       "      <td>20.0</td>\n",
       "      <td>2</td>\n",
       "      <td>1.0</td>\n",
       "      <td>8.9</td>\n",
       "      <td>307642.0</td>\n",
       "      <td>0</td>\n",
       "      <td>0</td>\n",
       "      <td>1</td>\n",
       "      <td>0</td>\n",
       "      <td>0</td>\n",
       "      <td>...</td>\n",
       "      <td>0</td>\n",
       "      <td>0</td>\n",
       "      <td>0</td>\n",
       "      <td>0</td>\n",
       "      <td>0</td>\n",
       "      <td>0</td>\n",
       "      <td>0</td>\n",
       "      <td>0</td>\n",
       "      <td>0</td>\n",
       "      <td>0</td>\n",
       "    </tr>\n",
       "    <tr>\n",
       "      <th>Big Little Lies</th>\n",
       "      <td>7.0</td>\n",
       "      <td>2</td>\n",
       "      <td>1.0</td>\n",
       "      <td>8.6</td>\n",
       "      <td>86060.0</td>\n",
       "      <td>0</td>\n",
       "      <td>0</td>\n",
       "      <td>1</td>\n",
       "      <td>0</td>\n",
       "      <td>0</td>\n",
       "      <td>...</td>\n",
       "      <td>0</td>\n",
       "      <td>0</td>\n",
       "      <td>0</td>\n",
       "      <td>0</td>\n",
       "      <td>0</td>\n",
       "      <td>0</td>\n",
       "      <td>0</td>\n",
       "      <td>0</td>\n",
       "      <td>0</td>\n",
       "      <td>0</td>\n",
       "    </tr>\n",
       "    <tr>\n",
       "      <th>The Deuce</th>\n",
       "      <td>16.0</td>\n",
       "      <td>2</td>\n",
       "      <td>1.0</td>\n",
       "      <td>8.1</td>\n",
       "      <td>14113.0</td>\n",
       "      <td>0</td>\n",
       "      <td>0</td>\n",
       "      <td>1</td>\n",
       "      <td>0</td>\n",
       "      <td>0</td>\n",
       "      <td>...</td>\n",
       "      <td>0</td>\n",
       "      <td>0</td>\n",
       "      <td>0</td>\n",
       "      <td>0</td>\n",
       "      <td>0</td>\n",
       "      <td>0</td>\n",
       "      <td>0</td>\n",
       "      <td>0</td>\n",
       "      <td>0</td>\n",
       "      <td>0</td>\n",
       "    </tr>\n",
       "    <tr>\n",
       "      <th>Succession</th>\n",
       "      <td>10.0</td>\n",
       "      <td>1</td>\n",
       "      <td>0.0</td>\n",
       "      <td>7.6</td>\n",
       "      <td>3927.0</td>\n",
       "      <td>0</td>\n",
       "      <td>1</td>\n",
       "      <td>0</td>\n",
       "      <td>0</td>\n",
       "      <td>0</td>\n",
       "      <td>...</td>\n",
       "      <td>0</td>\n",
       "      <td>0</td>\n",
       "      <td>0</td>\n",
       "      <td>0</td>\n",
       "      <td>0</td>\n",
       "      <td>0</td>\n",
       "      <td>0</td>\n",
       "      <td>0</td>\n",
       "      <td>0</td>\n",
       "      <td>0</td>\n",
       "    </tr>\n",
       "  </tbody>\n",
       "</table>\n",
       "<p>5 rows × 76 columns</p>\n",
       "</div>"
      ],
      "text/plain": [
       "                 number_of_episodes  number_of_seasons  awards  imdb_rating  \\\n",
       "Game of Thrones                73.0                  8     1.0          9.5   \n",
       "Westworld                      20.0                  2     1.0          8.9   \n",
       "Big Little Lies                 7.0                  2     1.0          8.6   \n",
       "The Deuce                      16.0                  2     1.0          8.1   \n",
       "Succession                     10.0                  1     0.0          7.6   \n",
       "\n",
       "                 imdb_votes  timeslot_00:00  timeslot_afternoon  \\\n",
       "Game of Thrones   1361235.0               0                   0   \n",
       "Westworld          307642.0               0                   0   \n",
       "Big Little Lies     86060.0               0                   0   \n",
       "The Deuce           14113.0               0                   0   \n",
       "Succession           3927.0               0                   1   \n",
       "\n",
       "                 timeslot_evening  timeslot_latenight  timeslot_morning  \\\n",
       "Game of Thrones                 1                   0                 0   \n",
       "Westworld                       1                   0                 0   \n",
       "Big Little Lies                 1                   0                 0   \n",
       "The Deuce                       1                   0                 0   \n",
       "Succession                      0                   0                 0   \n",
       "\n",
       "                  ...     Horror  Music  Mystery  News  Reality-TV  Romance  \\\n",
       "Game of Thrones   ...          0      0        0     0           0        0   \n",
       "Westworld         ...          0      0        0     0           0        0   \n",
       "Big Little Lies   ...          0      0        0     0           0        0   \n",
       "The Deuce         ...          0      0        0     0           0        0   \n",
       "Succession        ...          0      0        0     0           0        0   \n",
       "\n",
       "                 Sci-Fi  Sport  Talk-Show  Western  \n",
       "Game of Thrones       0      0          0        0  \n",
       "Westworld             0      0          0        0  \n",
       "Big Little Lies       0      0          0        0  \n",
       "The Deuce             0      0          0        0  \n",
       "Succession            0      0          0        0  \n",
       "\n",
       "[5 rows x 76 columns]"
      ]
     },
     "execution_count": 61,
     "metadata": {},
     "output_type": "execute_result"
    }
   ],
   "source": [
    "model_df.head()"
   ]
  },
  {
   "cell_type": "code",
   "execution_count": 62,
   "metadata": {},
   "outputs": [
    {
     "data": {
      "text/plain": [
       "(1889, 76)"
      ]
     },
     "execution_count": 62,
     "metadata": {},
     "output_type": "execute_result"
    }
   ],
   "source": [
    "model_df.shape"
   ]
  },
  {
   "cell_type": "code",
   "execution_count": 63,
   "metadata": {},
   "outputs": [
    {
     "data": {
      "text/html": [
       "<div>\n",
       "<style scoped>\n",
       "    .dataframe tbody tr th:only-of-type {\n",
       "        vertical-align: middle;\n",
       "    }\n",
       "\n",
       "    .dataframe tbody tr th {\n",
       "        vertical-align: top;\n",
       "    }\n",
       "\n",
       "    .dataframe thead th {\n",
       "        text-align: right;\n",
       "    }\n",
       "</style>\n",
       "<table border=\"1\" class=\"dataframe\">\n",
       "  <thead>\n",
       "    <tr style=\"text-align: right;\">\n",
       "      <th></th>\n",
       "      <th>number_of_episodes</th>\n",
       "      <th>number_of_seasons</th>\n",
       "      <th>awards</th>\n",
       "      <th>imdb_rating</th>\n",
       "      <th>imdb_votes</th>\n",
       "      <th>timeslot_00:00</th>\n",
       "      <th>timeslot_afternoon</th>\n",
       "      <th>timeslot_evening</th>\n",
       "      <th>timeslot_latenight</th>\n",
       "      <th>timeslot_morning</th>\n",
       "      <th>...</th>\n",
       "      <th>Horror</th>\n",
       "      <th>Music</th>\n",
       "      <th>Mystery</th>\n",
       "      <th>News</th>\n",
       "      <th>Reality-TV</th>\n",
       "      <th>Romance</th>\n",
       "      <th>Sci-Fi</th>\n",
       "      <th>Sport</th>\n",
       "      <th>Talk-Show</th>\n",
       "      <th>Western</th>\n",
       "    </tr>\n",
       "  </thead>\n",
       "  <tbody>\n",
       "    <tr>\n",
       "      <th>Game of Thrones</th>\n",
       "      <td>73.0</td>\n",
       "      <td>8</td>\n",
       "      <td>1.0</td>\n",
       "      <td>9.5</td>\n",
       "      <td>1361235.0</td>\n",
       "      <td>0</td>\n",
       "      <td>0</td>\n",
       "      <td>1</td>\n",
       "      <td>0</td>\n",
       "      <td>0</td>\n",
       "      <td>...</td>\n",
       "      <td>0</td>\n",
       "      <td>0</td>\n",
       "      <td>0</td>\n",
       "      <td>0</td>\n",
       "      <td>0</td>\n",
       "      <td>0</td>\n",
       "      <td>0</td>\n",
       "      <td>0</td>\n",
       "      <td>0</td>\n",
       "      <td>0</td>\n",
       "    </tr>\n",
       "    <tr>\n",
       "      <th>Westworld</th>\n",
       "      <td>20.0</td>\n",
       "      <td>2</td>\n",
       "      <td>1.0</td>\n",
       "      <td>8.9</td>\n",
       "      <td>307642.0</td>\n",
       "      <td>0</td>\n",
       "      <td>0</td>\n",
       "      <td>1</td>\n",
       "      <td>0</td>\n",
       "      <td>0</td>\n",
       "      <td>...</td>\n",
       "      <td>0</td>\n",
       "      <td>0</td>\n",
       "      <td>0</td>\n",
       "      <td>0</td>\n",
       "      <td>0</td>\n",
       "      <td>0</td>\n",
       "      <td>0</td>\n",
       "      <td>0</td>\n",
       "      <td>0</td>\n",
       "      <td>0</td>\n",
       "    </tr>\n",
       "    <tr>\n",
       "      <th>Big Little Lies</th>\n",
       "      <td>7.0</td>\n",
       "      <td>2</td>\n",
       "      <td>1.0</td>\n",
       "      <td>8.6</td>\n",
       "      <td>86060.0</td>\n",
       "      <td>0</td>\n",
       "      <td>0</td>\n",
       "      <td>1</td>\n",
       "      <td>0</td>\n",
       "      <td>0</td>\n",
       "      <td>...</td>\n",
       "      <td>0</td>\n",
       "      <td>0</td>\n",
       "      <td>0</td>\n",
       "      <td>0</td>\n",
       "      <td>0</td>\n",
       "      <td>0</td>\n",
       "      <td>0</td>\n",
       "      <td>0</td>\n",
       "      <td>0</td>\n",
       "      <td>0</td>\n",
       "    </tr>\n",
       "  </tbody>\n",
       "</table>\n",
       "<p>3 rows × 76 columns</p>\n",
       "</div>"
      ],
      "text/plain": [
       "                 number_of_episodes  number_of_seasons  awards  imdb_rating  \\\n",
       "Game of Thrones                73.0                  8     1.0          9.5   \n",
       "Westworld                      20.0                  2     1.0          8.9   \n",
       "Big Little Lies                 7.0                  2     1.0          8.6   \n",
       "\n",
       "                 imdb_votes  timeslot_00:00  timeslot_afternoon  \\\n",
       "Game of Thrones   1361235.0               0                   0   \n",
       "Westworld          307642.0               0                   0   \n",
       "Big Little Lies     86060.0               0                   0   \n",
       "\n",
       "                 timeslot_evening  timeslot_latenight  timeslot_morning  \\\n",
       "Game of Thrones                 1                   0                 0   \n",
       "Westworld                       1                   0                 0   \n",
       "Big Little Lies                 1                   0                 0   \n",
       "\n",
       "                  ...     Horror  Music  Mystery  News  Reality-TV  Romance  \\\n",
       "Game of Thrones   ...          0      0        0     0           0        0   \n",
       "Westworld         ...          0      0        0     0           0        0   \n",
       "Big Little Lies   ...          0      0        0     0           0        0   \n",
       "\n",
       "                 Sci-Fi  Sport  Talk-Show  Western  \n",
       "Game of Thrones       0      0          0        0  \n",
       "Westworld             0      0          0        0  \n",
       "Big Little Lies       0      0          0        0  \n",
       "\n",
       "[3 rows x 76 columns]"
      ]
     },
     "execution_count": 63,
     "metadata": {},
     "output_type": "execute_result"
    }
   ],
   "source": [
    "model_df.head(3)"
   ]
  },
  {
   "cell_type": "markdown",
   "metadata": {},
   "source": [
    "# Initial Modeling\n",
    "\n",
    "I want to test a few models to see how they score (r2) on the current dataset in order to get an idea of where I am in terms of baseline. "
   ]
  },
  {
   "cell_type": "code",
   "execution_count": 64,
   "metadata": {},
   "outputs": [],
   "source": [
    "X = model_df.drop(['imdb_rating', \n",
    "                  ], \n",
    "                  axis=1)\n",
    "y = model_df['imdb_rating']\n",
    "\n",
    "X_train, X_test, y_train, y_test = train_test_split(X, y)"
   ]
  },
  {
   "cell_type": "code",
   "execution_count": 65,
   "metadata": {},
   "outputs": [
    {
     "data": {
      "text/html": [
       "<div>\n",
       "<style scoped>\n",
       "    .dataframe tbody tr th:only-of-type {\n",
       "        vertical-align: middle;\n",
       "    }\n",
       "\n",
       "    .dataframe tbody tr th {\n",
       "        vertical-align: top;\n",
       "    }\n",
       "\n",
       "    .dataframe thead th {\n",
       "        text-align: right;\n",
       "    }\n",
       "</style>\n",
       "<table border=\"1\" class=\"dataframe\">\n",
       "  <thead>\n",
       "    <tr style=\"text-align: right;\">\n",
       "      <th></th>\n",
       "      <th>number_of_episodes</th>\n",
       "      <th>number_of_seasons</th>\n",
       "      <th>awards</th>\n",
       "      <th>imdb_votes</th>\n",
       "      <th>timeslot_00:00</th>\n",
       "      <th>timeslot_afternoon</th>\n",
       "      <th>timeslot_evening</th>\n",
       "      <th>timeslot_latenight</th>\n",
       "      <th>timeslot_morning</th>\n",
       "      <th>timeslot_unknown</th>\n",
       "      <th>...</th>\n",
       "      <th>Horror</th>\n",
       "      <th>Music</th>\n",
       "      <th>Mystery</th>\n",
       "      <th>News</th>\n",
       "      <th>Reality-TV</th>\n",
       "      <th>Romance</th>\n",
       "      <th>Sci-Fi</th>\n",
       "      <th>Sport</th>\n",
       "      <th>Talk-Show</th>\n",
       "      <th>Western</th>\n",
       "    </tr>\n",
       "  </thead>\n",
       "  <tbody>\n",
       "    <tr>\n",
       "      <th>Bourbon Street Beat</th>\n",
       "      <td>39.0</td>\n",
       "      <td>1</td>\n",
       "      <td>0.0</td>\n",
       "      <td>105.0</td>\n",
       "      <td>0</td>\n",
       "      <td>0</td>\n",
       "      <td>0</td>\n",
       "      <td>0</td>\n",
       "      <td>0</td>\n",
       "      <td>1</td>\n",
       "      <td>...</td>\n",
       "      <td>0</td>\n",
       "      <td>0</td>\n",
       "      <td>0</td>\n",
       "      <td>0</td>\n",
       "      <td>0</td>\n",
       "      <td>0</td>\n",
       "      <td>0</td>\n",
       "      <td>0</td>\n",
       "      <td>0</td>\n",
       "      <td>0</td>\n",
       "    </tr>\n",
       "    <tr>\n",
       "      <th>The River</th>\n",
       "      <td>8.0</td>\n",
       "      <td>1</td>\n",
       "      <td>1.0</td>\n",
       "      <td>15530.0</td>\n",
       "      <td>0</td>\n",
       "      <td>0</td>\n",
       "      <td>0</td>\n",
       "      <td>0</td>\n",
       "      <td>0</td>\n",
       "      <td>1</td>\n",
       "      <td>...</td>\n",
       "      <td>0</td>\n",
       "      <td>0</td>\n",
       "      <td>0</td>\n",
       "      <td>0</td>\n",
       "      <td>0</td>\n",
       "      <td>0</td>\n",
       "      <td>0</td>\n",
       "      <td>0</td>\n",
       "      <td>0</td>\n",
       "      <td>0</td>\n",
       "    </tr>\n",
       "    <tr>\n",
       "      <th>NCIS: Los Angeles</th>\n",
       "      <td>219.0</td>\n",
       "      <td>10</td>\n",
       "      <td>1.0</td>\n",
       "      <td>42632.0</td>\n",
       "      <td>0</td>\n",
       "      <td>0</td>\n",
       "      <td>1</td>\n",
       "      <td>0</td>\n",
       "      <td>0</td>\n",
       "      <td>0</td>\n",
       "      <td>...</td>\n",
       "      <td>0</td>\n",
       "      <td>0</td>\n",
       "      <td>0</td>\n",
       "      <td>0</td>\n",
       "      <td>0</td>\n",
       "      <td>0</td>\n",
       "      <td>0</td>\n",
       "      <td>0</td>\n",
       "      <td>0</td>\n",
       "      <td>0</td>\n",
       "    </tr>\n",
       "  </tbody>\n",
       "</table>\n",
       "<p>3 rows × 75 columns</p>\n",
       "</div>"
      ],
      "text/plain": [
       "                     number_of_episodes  number_of_seasons  awards  \\\n",
       "Bourbon Street Beat                39.0                  1     0.0   \n",
       "The River                           8.0                  1     1.0   \n",
       "NCIS: Los Angeles                 219.0                 10     1.0   \n",
       "\n",
       "                     imdb_votes  timeslot_00:00  timeslot_afternoon  \\\n",
       "Bourbon Street Beat       105.0               0                   0   \n",
       "The River               15530.0               0                   0   \n",
       "NCIS: Los Angeles       42632.0               0                   0   \n",
       "\n",
       "                     timeslot_evening  timeslot_latenight  timeslot_morning  \\\n",
       "Bourbon Street Beat                 0                   0                 0   \n",
       "The River                           0                   0                 0   \n",
       "NCIS: Los Angeles                   1                   0                 0   \n",
       "\n",
       "                     timeslot_unknown   ...     Horror  Music  Mystery  News  \\\n",
       "Bourbon Street Beat                 1   ...          0      0        0     0   \n",
       "The River                           1   ...          0      0        0     0   \n",
       "NCIS: Los Angeles                   0   ...          0      0        0     0   \n",
       "\n",
       "                     Reality-TV  Romance  Sci-Fi  Sport  Talk-Show  Western  \n",
       "Bourbon Street Beat           0        0       0      0          0        0  \n",
       "The River                     0        0       0      0          0        0  \n",
       "NCIS: Los Angeles             0        0       0      0          0        0  \n",
       "\n",
       "[3 rows x 75 columns]"
      ]
     },
     "execution_count": 65,
     "metadata": {},
     "output_type": "execute_result"
    }
   ],
   "source": [
    "X_train.head(3)"
   ]
  },
  {
   "cell_type": "code",
   "execution_count": 66,
   "metadata": {
    "scrolled": false
   },
   "outputs": [],
   "source": [
    "ss = StandardScaler()\n",
    "\n",
    "X_train_sc = ss.fit_transform(X_train)\n",
    "X_test_sc = ss.transform(X_test)"
   ]
  },
  {
   "cell_type": "code",
   "execution_count": 67,
   "metadata": {},
   "outputs": [
    {
     "data": {
      "text/plain": [
       "(0.2612222815804618, 0.1795306332322919)"
      ]
     },
     "execution_count": 67,
     "metadata": {},
     "output_type": "execute_result"
    }
   ],
   "source": [
    "lr = LinearRegression()\n",
    "\n",
    "lr.fit(X_train_sc, y_train)\n",
    "\n",
    "lr.score(X_train_sc, y_train), lr.score(X_test_sc, y_test)"
   ]
  },
  {
   "cell_type": "code",
   "execution_count": 68,
   "metadata": {},
   "outputs": [
    {
     "data": {
      "text/plain": [
       "(0.23754133457029591, 0.21040327459643204)"
      ]
     },
     "execution_count": 68,
     "metadata": {},
     "output_type": "execute_result"
    }
   ],
   "source": [
    "lasso = LassoCV()\n",
    "\n",
    "lasso.fit(X_train_sc, y_train)\n",
    "\n",
    "lasso.score(X_train_sc, y_train), lasso.score(X_test_sc, y_test)"
   ]
  },
  {
   "cell_type": "code",
   "execution_count": 69,
   "metadata": {},
   "outputs": [
    {
     "data": {
      "text/plain": [
       "(0.2620356190198584, 0.17005536165445556)"
      ]
     },
     "execution_count": 69,
     "metadata": {},
     "output_type": "execute_result"
    }
   ],
   "source": [
    "ridge = RidgeCV()\n",
    "\n",
    "ridge.fit(X_train_sc, y_train)\n",
    "\n",
    "ridge.score(X_train_sc, y_train), ridge.score(X_test_sc, y_test)"
   ]
  },
  {
   "cell_type": "code",
   "execution_count": 70,
   "metadata": {},
   "outputs": [
    {
     "data": {
      "text/plain": [
       "(0.8569101081222248, 0.07779220094937056)"
      ]
     },
     "execution_count": 70,
     "metadata": {},
     "output_type": "execute_result"
    }
   ],
   "source": [
    "rf = RandomForestRegressor()\n",
    "\n",
    "rf.fit(X_train_sc, y_train)\n",
    "\n",
    "rf.score(X_train_sc, y_train), rf.score(X_test_sc, y_test)"
   ]
  },
  {
   "cell_type": "code",
   "execution_count": 71,
   "metadata": {},
   "outputs": [
    {
     "data": {
      "text/plain": [
       "(0.46422411350696746, 0.23002859498671335)"
      ]
     },
     "execution_count": 71,
     "metadata": {},
     "output_type": "execute_result"
    }
   ],
   "source": [
    "gb = GradientBoostingRegressor()\n",
    "gb.fit(X_train_sc, y_train)\n",
    "\n",
    "gb.score(X_train_sc, y_train), gb.score(X_test_sc, y_test)"
   ]
  },
  {
   "cell_type": "code",
   "execution_count": null,
   "metadata": {},
   "outputs": [],
   "source": []
  },
  {
   "cell_type": "markdown",
   "metadata": {},
   "source": [
    "With no hyperparameter tuning and only some basic feature selection, I can see that my models are all scoring very poorly in their R2 score. The models are also all overfitting, which RandomForest begin the worst offender and GrandientBoost next. However, GradientBoost is also scoring highest on the test set, so it seems likely that this will be the best scoring model. Lasso Regression is scoring low, but is not overfitting as much. "
   ]
  },
  {
   "cell_type": "markdown",
   "metadata": {},
   "source": [
    "I will look more into the parameters and outcomes once I have a GridSearch set up."
   ]
  },
  {
   "cell_type": "markdown",
   "metadata": {},
   "source": [
    "# Checking against 'imdb_votes' as target"
   ]
  },
  {
   "cell_type": "code",
   "execution_count": 73,
   "metadata": {
    "scrolled": true
   },
   "outputs": [
    {
     "data": {
      "text/plain": [
       "Index(['number_of_episodes', 'number_of_seasons', 'awards', 'imdb_rating',\n",
       "       'imdb_votes', 'timeslot_00:00', 'timeslot_afternoon',\n",
       "       'timeslot_evening', 'timeslot_latenight', 'timeslot_morning',\n",
       "       'timeslot_unknown', 'day_0', 'day_1', 'day_2', 'day_3', 'day_4',\n",
       "       'day_5', 'day_6', 'month_1', 'month_2', 'month_3', 'month_4', 'month_5',\n",
       "       'month_6', 'month_7', 'month_8', 'month_9', 'month_10', 'month_11',\n",
       "       'month_12', ' Action', ' Adventure', ' Animation', ' Comedy', ' Crime',\n",
       "       ' Drama', ' Family', ' Fantasy', ' Game-Show', ' History', ' Horror',\n",
       "       ' Music', ' Musical', ' Mystery', ' News', ' Reality-TV', ' Romance',\n",
       "       ' Sci-Fi', ' Short', ' Sport', ' Talk-Show', ' Thriller', ' War',\n",
       "       ' Western', 'Action', 'Adventure', 'Animation', 'Biography', 'Comedy',\n",
       "       'Crime', 'Documentary', 'Drama', 'Family', 'Fantasy', 'Game-Show',\n",
       "       'History', 'Horror', 'Music', 'Mystery', 'News', 'Reality-TV',\n",
       "       'Romance', 'Sci-Fi', 'Sport', 'Talk-Show', 'Western'],\n",
       "      dtype='object')"
      ]
     },
     "execution_count": 73,
     "metadata": {},
     "output_type": "execute_result"
    }
   ],
   "source": [
    "model_df.columns"
   ]
  },
  {
   "cell_type": "code",
   "execution_count": 74,
   "metadata": {},
   "outputs": [],
   "source": [
    "X = model_df.drop(['number_of_episodes', 'number_of_seasons', 'awards', 'imdb_rating',\n",
    "       'imdb_votes', 'timeslot_afternoon', 'timeslot_evening',\n",
    "       'timeslot_latenight', 'timeslot_morning', 'timeslot_unknown', 'day_0',\n",
    "       'day_1', 'day_2', 'day_3', 'day_4', 'day_5', 'day_6', 'month_1',\n",
    "       'month_2', 'month_3', 'month_4', 'month_5', 'month_6', 'month_7',\n",
    "       'month_8', 'month_9', 'month_10', 'month_11', 'month_12'], axis=1)\n",
    "y = model_df['imdb_votes']\n",
    "\n",
    "X_train, X_test, y_train, y_test = train_test_split(X, y)"
   ]
  },
  {
   "cell_type": "code",
   "execution_count": 75,
   "metadata": {},
   "outputs": [],
   "source": [
    "ss = StandardScaler()\n",
    "\n",
    "X_train_sc = ss.fit_transform(X_train)\n",
    "X_test_sc = ss.transform(X_test)"
   ]
  },
  {
   "cell_type": "code",
   "execution_count": 76,
   "metadata": {
    "scrolled": true
   },
   "outputs": [
    {
     "data": {
      "text/plain": [
       "(0.08756283604016213, 0.005022077603742625)"
      ]
     },
     "execution_count": 76,
     "metadata": {},
     "output_type": "execute_result"
    }
   ],
   "source": [
    "lr = LinearRegression()\n",
    "lr.fit(X_train_sc, y_train)\n",
    "\n",
    "lr.score(X_train_sc, y_train), lr.score(X_test_sc, y_test)"
   ]
  },
  {
   "cell_type": "code",
   "execution_count": 77,
   "metadata": {},
   "outputs": [],
   "source": [
    "model_1_features = [' Action',\n",
    "       ' Adventure', ' Animation', ' Comedy', ' Crime', ' Drama', ' Family',\n",
    "       ' Fantasy', ' Game-Show', ' History', ' Horror', ' Music', ' Musical',\n",
    "       ' Mystery', ' News', ' Reality-TV', ' Romance', ' Sci-Fi', ' Short',\n",
    "       ' Sport', ' Talk-Show', ' Thriller', ' War', ' Western', 'Action',\n",
    "       'Adventure', 'Animation', 'Biography', 'Comedy', 'Crime', 'Documentary',\n",
    "       'Drama', 'Family', 'Fantasy', 'Game-Show', 'History', 'Horror', 'Music',\n",
    "       'Mystery', 'News', 'Reality-TV', 'Romance', 'Sci-Fi', 'Sport',\n",
    "       'Talk-Show', 'Western']"
   ]
  },
  {
   "cell_type": "code",
   "execution_count": 78,
   "metadata": {
    "scrolled": false
   },
   "outputs": [
    {
     "data": {
      "text/plain": [
       "array([-1.13165723e+03, -1.66915822e+03,  3.62065816e+03, -7.02378274e+02,\n",
       "        1.77168383e+03,  1.55030766e+03,  5.99627929e+03, -1.68035466e+03,\n",
       "        5.22527199e+03,  2.13975130e+02,  2.53748792e+03,  4.80003746e+03,\n",
       "        8.04473633e+02,  1.49764866e+02,  8.50865173e+01,  1.22612860e+03,\n",
       "       -9.76088699e-01,  8.59974378e+03,  3.25532914e+03,  8.82065547e+00,\n",
       "        3.06375526e+02,  1.22415949e+01,  4.91602006e+03, -1.08880927e+03,\n",
       "       -5.72840286e+02, -6.49496078e+15, -4.67120117e+15, -9.40205857e+15,\n",
       "       -1.55686260e+15, -1.13104459e+16, -5.36797054e+15, -4.01891093e+15,\n",
       "       -7.96482923e+15, -3.15644824e+15, -1.10203861e+15, -3.87330334e+15,\n",
       "       -9.00129108e+14, -2.00704802e+15, -1.42171849e+15, -1.10203861e+15,\n",
       "       -2.61034807e+15, -4.90422380e+15, -9.00129108e+14, -2.00704802e+15,\n",
       "       -1.79643465e+15, -2.00704802e+15, -1.79643465e+15])"
      ]
     },
     "execution_count": 78,
     "metadata": {},
     "output_type": "execute_result"
    }
   ],
   "source": [
    "lr.coef_"
   ]
  },
  {
   "cell_type": "code",
   "execution_count": 79,
   "metadata": {
    "scrolled": true
   },
   "outputs": [
    {
     "data": {
      "text/plain": [
       "[(-1131.6572310912698, ' Action'),\n",
       " (-1669.1582211022242, ' Adventure'),\n",
       " (3620.658156967591, ' Animation'),\n",
       " (-702.3782736617112, ' Comedy'),\n",
       " (1771.6838279468845, ' Crime'),\n",
       " (1550.3076603646725, ' Drama'),\n",
       " (5996.279291207598, ' Family'),\n",
       " (-1680.3546568860518, ' Fantasy'),\n",
       " (5225.271986190613, ' Game-Show'),\n",
       " (213.97512999938863, ' History'),\n",
       " (2537.487923159552, ' Horror'),\n",
       " (4800.037457517499, ' Music'),\n",
       " (804.4736334033506, ' Musical'),\n",
       " (149.7648658429002, ' Mystery'),\n",
       " (85.08651728095984, ' News'),\n",
       " (1226.128597949699, ' Reality-TV'),\n",
       " (-0.9760886994071598, ' Romance'),\n",
       " (8599.743775433037, ' Sci-Fi'),\n",
       " (3255.329135145225, ' Short'),\n",
       " (8.820655473122239, ' Sport'),\n",
       " (306.37552554623113, ' Talk-Show'),\n",
       " (12.241594901445046, ' Thriller'),\n",
       " (4916.020055806766, ' War'),\n",
       " (-1088.8092710841945, ' Western'),\n",
       " (-572.8402861823275, 'Action'),\n",
       " (-6494960780417198.0, 'Adventure'),\n",
       " (-4671201170159952.0, 'Animation'),\n",
       " (-9402058570159562.0, 'Biography'),\n",
       " (-1556862596467208.5, 'Comedy'),\n",
       " (-1.131044586897495e+16, 'Crime'),\n",
       " (-5367970543170736.0, 'Documentary'),\n",
       " (-4018910926665017.5, 'Drama'),\n",
       " (-7964829228358843.0, 'Family'),\n",
       " (-3156448244335605.5, 'Fantasy'),\n",
       " (-1102038613329874.1, 'Game-Show'),\n",
       " (-3873303340889540.0, 'History'),\n",
       " (-900129107892275.0, 'Horror'),\n",
       " (-2007048021316996.2, 'Music'),\n",
       " (-1421718492518369.5, 'Mystery'),\n",
       " (-1102038613330556.9, 'News'),\n",
       " (-2610348071368578.5, 'Reality-TV'),\n",
       " (-4904223796127675.0, 'Romance'),\n",
       " (-900129107892534.8, 'Sci-Fi'),\n",
       " (-2007048021316729.5, 'Sport'),\n",
       " (-1796434654196329.0, 'Talk-Show'),\n",
       " (-2007048021316292.2, 'Western')]"
      ]
     },
     "execution_count": 79,
     "metadata": {},
     "output_type": "execute_result"
    }
   ],
   "source": [
    "list(zip(lr.coef_, model_1_features))"
   ]
  },
  {
   "cell_type": "code",
   "execution_count": 80,
   "metadata": {
    "scrolled": true
   },
   "outputs": [
    {
     "data": {
      "text/plain": [
       "(0.07382737969725961, 0.030505805284247397)"
      ]
     },
     "execution_count": 80,
     "metadata": {},
     "output_type": "execute_result"
    }
   ],
   "source": [
    "lasso = LassoCV()\n",
    "\n",
    "lasso.fit(X_train_sc, y_train)\n",
    "\n",
    "lasso.score(X_train_sc, y_train), lasso.score(X_test_sc, y_test)"
   ]
  },
  {
   "cell_type": "code",
   "execution_count": 81,
   "metadata": {},
   "outputs": [
    {
     "data": {
      "text/plain": [
       "(0.0875591663861428, 0.006044379551956913)"
      ]
     },
     "execution_count": 81,
     "metadata": {},
     "output_type": "execute_result"
    }
   ],
   "source": [
    "ridge = RidgeCV()\n",
    "\n",
    "ridge.fit(X_train_sc, y_train)\n",
    "\n",
    "ridge.score(X_train_sc, y_train), ridge.score(X_test_sc, y_test)"
   ]
  },
  {
   "cell_type": "code",
   "execution_count": 82,
   "metadata": {},
   "outputs": [
    {
     "data": {
      "text/plain": [
       "(0.4215042031738104, -0.07217910165732122)"
      ]
     },
     "execution_count": 82,
     "metadata": {},
     "output_type": "execute_result"
    }
   ],
   "source": [
    "rf = RandomForestRegressor()\n",
    "\n",
    "rf.fit(X_train_sc, y_train)\n",
    "\n",
    "rf.score(X_train_sc, y_train), rf.score(X_test_sc, y_test)"
   ]
  },
  {
   "cell_type": "code",
   "execution_count": 83,
   "metadata": {},
   "outputs": [
    {
     "data": {
      "text/plain": [
       "(0.45252943845447635, -0.30054178681504573)"
      ]
     },
     "execution_count": 83,
     "metadata": {},
     "output_type": "execute_result"
    }
   ],
   "source": [
    "gb = GradientBoostingRegressor()\n",
    "gb.fit(X_train_sc, y_train)\n",
    "\n",
    "gb.score(X_train_sc, y_train), gb.score(X_test_sc, y_test)"
   ]
  },
  {
   "cell_type": "markdown",
   "metadata": {},
   "source": [
    "The model is scoring significantly worse with this alternative subset of the data to train with, however, the overfitting has reduced as well. I belive there may be some merit in this model, but it will have to score much better to not just be dismissed as noise. "
   ]
  },
  {
   "cell_type": "code",
   "execution_count": 84,
   "metadata": {},
   "outputs": [],
   "source": [
    "with open('./Assets_&_Data/model_prelim.pickle', 'wb') as f:\n",
    "    pickle.dump(model_df, f)\n",
    "    \n",
    "with open('./Assets_&_Data/week_day.pickle', 'wb') as f:\n",
    "    pickle.dump(week_day, f)\n",
    "    \n",
    "with open('./Assets_&_Data/cleaned_series_df.pickle', 'wb') as f:\n",
    "    pickle.dump(series_df, f)"
   ]
  },
  {
   "cell_type": "markdown",
   "metadata": {},
   "source": [
    "# Next Steps\n",
    "\n",
    "Now that I know how badly my model is performing, I'd like to take a second look at my features to see if they can be modified to be better predictors."
   ]
  },
  {
   "cell_type": "code",
   "execution_count": null,
   "metadata": {},
   "outputs": [],
   "source": []
  }
 ],
 "metadata": {
  "kernelspec": {
   "display_name": "Python 3",
   "language": "python",
   "name": "python3"
  },
  "language_info": {
   "codemirror_mode": {
    "name": "ipython",
    "version": 3
   },
   "file_extension": ".py",
   "mimetype": "text/x-python",
   "name": "python",
   "nbconvert_exporter": "python",
   "pygments_lexer": "ipython3",
   "version": "3.6.5"
  }
 },
 "nbformat": 4,
 "nbformat_minor": 2
}
