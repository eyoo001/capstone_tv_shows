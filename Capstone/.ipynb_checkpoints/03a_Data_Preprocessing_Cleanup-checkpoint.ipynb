{
 "cells": [
  {
   "cell_type": "markdown",
   "metadata": {},
   "source": [
    "# Preprocessing\n",
    "\n",
    "I now have my data pulled from the various APIs. I want to take a closer look at what's contained in these datasets and sort through null values, which results I'll be keeping as features, and look for duplicate/repeated data that may be able to be imputed if I have missing information."
   ]
  },
  {
   "cell_type": "code",
   "execution_count": 1,
   "metadata": {},
   "outputs": [],
   "source": [
    "import pandas as pd\n",
    "import matplotlib.pyplot as plt\n",
    "import numpy as np\n",
    "import seaborn as sns\n",
    "import re\n",
    "import json\n",
    "import pickle\n",
    "\n",
    "import warnings\n",
    "warnings.filterwarnings('ignore')\n",
    "\n",
    "%matplotlib inline"
   ]
  },
  {
   "cell_type": "code",
   "execution_count": 2,
   "metadata": {},
   "outputs": [],
   "source": [
    "with open('./Assets_&_Data/omdb_show_metadata.json') as f:\n",
    "    omdb_shows = json.load(f)"
   ]
  },
  {
   "cell_type": "code",
   "execution_count": 3,
   "metadata": {},
   "outputs": [],
   "source": [
    "with open('./Assets_&_Data/show_episode_data.json') as f:\n",
    "    show_eps = json.load(f)"
   ]
  },
  {
   "cell_type": "code",
   "execution_count": 4,
   "metadata": {},
   "outputs": [],
   "source": [
    "with open('./Assets_&_Data/tmdb_series_dict.json') as f:\n",
    "    tmdb_data = json.load(f)"
   ]
  },
  {
   "cell_type": "code",
   "execution_count": 5,
   "metadata": {},
   "outputs": [],
   "source": [
    "with open('./Assets_&_Data/tvdb_show_info.json') as f:\n",
    "    tvdb_data = json.load(f)"
   ]
  },
  {
   "cell_type": "markdown",
   "metadata": {},
   "source": [
    "# OMDB data to Dataframe\n",
    "\n",
    "As a first step, I will want to throw the OMDB API data into a dataframe to evaluate the features, missing values, etc. and prepare it to be merged with the other APIs' data."
   ]
  },
  {
   "cell_type": "code",
   "execution_count": 6,
   "metadata": {},
   "outputs": [],
   "source": [
    "omdb_df = pd.DataFrame(omdb_shows)\n",
    "omdb_df = omdb_df.T"
   ]
  },
  {
   "cell_type": "code",
   "execution_count": 7,
   "metadata": {},
   "outputs": [
    {
     "data": {
      "text/html": [
       "<div>\n",
       "<style scoped>\n",
       "    .dataframe tbody tr th:only-of-type {\n",
       "        vertical-align: middle;\n",
       "    }\n",
       "\n",
       "    .dataframe tbody tr th {\n",
       "        vertical-align: top;\n",
       "    }\n",
       "\n",
       "    .dataframe thead th {\n",
       "        text-align: right;\n",
       "    }\n",
       "</style>\n",
       "<table border=\"1\" class=\"dataframe\">\n",
       "  <thead>\n",
       "    <tr style=\"text-align: right;\">\n",
       "      <th></th>\n",
       "      <th>actors</th>\n",
       "      <th>awards</th>\n",
       "      <th>box_office</th>\n",
       "      <th>country</th>\n",
       "      <th>director</th>\n",
       "      <th>dvd</th>\n",
       "      <th>genre</th>\n",
       "      <th>imdb_id</th>\n",
       "      <th>imdb_rating</th>\n",
       "      <th>imdb_votes</th>\n",
       "      <th>...</th>\n",
       "      <th>tomato_rotten</th>\n",
       "      <th>tomato_url</th>\n",
       "      <th>tomato_user_meter</th>\n",
       "      <th>tomato_user_rating</th>\n",
       "      <th>tomato_user_reviews</th>\n",
       "      <th>total_seasons</th>\n",
       "      <th>type</th>\n",
       "      <th>website</th>\n",
       "      <th>writer</th>\n",
       "      <th>year</th>\n",
       "    </tr>\n",
       "  </thead>\n",
       "  <tbody>\n",
       "    <tr>\n",
       "      <th>Game of Thrones</th>\n",
       "      <td>Peter Dinklage, Lena Headey, Emilia Clarke, Ki...</td>\n",
       "      <td>Won 1 Golden Globe. Another 273 wins &amp; 454 nom...</td>\n",
       "      <td>N/A</td>\n",
       "      <td>USA, UK</td>\n",
       "      <td>N/A</td>\n",
       "      <td>N/A</td>\n",
       "      <td>Action, Adventure, Drama, Fantasy, Romance</td>\n",
       "      <td>tt0944947</td>\n",
       "      <td>9.5</td>\n",
       "      <td>1,361,235</td>\n",
       "      <td>...</td>\n",
       "      <td>N/A</td>\n",
       "      <td>N/A</td>\n",
       "      <td>N/A</td>\n",
       "      <td>N/A</td>\n",
       "      <td>N/A</td>\n",
       "      <td>8</td>\n",
       "      <td>series</td>\n",
       "      <td>N/A</td>\n",
       "      <td>David Benioff, D.B. Weiss</td>\n",
       "      <td>2011–</td>\n",
       "    </tr>\n",
       "    <tr>\n",
       "      <th>Westworld</th>\n",
       "      <td>Evan Rachel Wood, Thandie Newton, Jeffrey Wrig...</td>\n",
       "      <td>Nominated for 3 Golden Globes. Another 29 wins...</td>\n",
       "      <td>N/A</td>\n",
       "      <td>USA</td>\n",
       "      <td>N/A</td>\n",
       "      <td>N/A</td>\n",
       "      <td>Drama, Mystery, Sci-Fi</td>\n",
       "      <td>tt0475784</td>\n",
       "      <td>8.9</td>\n",
       "      <td>307,642</td>\n",
       "      <td>...</td>\n",
       "      <td>N/A</td>\n",
       "      <td>http://www.rottentomatoes.com/m/westworld-2009/</td>\n",
       "      <td>82</td>\n",
       "      <td>3.8</td>\n",
       "      <td>566</td>\n",
       "      <td>3</td>\n",
       "      <td>series</td>\n",
       "      <td>N/A</td>\n",
       "      <td>N/A</td>\n",
       "      <td>2016–</td>\n",
       "    </tr>\n",
       "  </tbody>\n",
       "</table>\n",
       "<p>2 rows × 37 columns</p>\n",
       "</div>"
      ],
      "text/plain": [
       "                                                            actors  \\\n",
       "Game of Thrones  Peter Dinklage, Lena Headey, Emilia Clarke, Ki...   \n",
       "Westworld        Evan Rachel Wood, Thandie Newton, Jeffrey Wrig...   \n",
       "\n",
       "                                                            awards box_office  \\\n",
       "Game of Thrones  Won 1 Golden Globe. Another 273 wins & 454 nom...        N/A   \n",
       "Westworld        Nominated for 3 Golden Globes. Another 29 wins...        N/A   \n",
       "\n",
       "                 country director  dvd  \\\n",
       "Game of Thrones  USA, UK      N/A  N/A   \n",
       "Westworld            USA      N/A  N/A   \n",
       "\n",
       "                                                      genre    imdb_id  \\\n",
       "Game of Thrones  Action, Adventure, Drama, Fantasy, Romance  tt0944947   \n",
       "Westworld                            Drama, Mystery, Sci-Fi  tt0475784   \n",
       "\n",
       "                imdb_rating imdb_votes  ...   tomato_rotten  \\\n",
       "Game of Thrones         9.5  1,361,235  ...             N/A   \n",
       "Westworld               8.9    307,642  ...             N/A   \n",
       "\n",
       "                                                      tomato_url  \\\n",
       "Game of Thrones                                              N/A   \n",
       "Westworld        http://www.rottentomatoes.com/m/westworld-2009/   \n",
       "\n",
       "                tomato_user_meter tomato_user_rating tomato_user_reviews  \\\n",
       "Game of Thrones               N/A                N/A                 N/A   \n",
       "Westworld                      82                3.8                 566   \n",
       "\n",
       "                total_seasons    type website                     writer  \\\n",
       "Game of Thrones             8  series     N/A  David Benioff, D.B. Weiss   \n",
       "Westworld                   3  series     N/A                        N/A   \n",
       "\n",
       "                  year  \n",
       "Game of Thrones  2011–  \n",
       "Westworld        2016–  \n",
       "\n",
       "[2 rows x 37 columns]"
      ]
     },
     "execution_count": 7,
     "metadata": {},
     "output_type": "execute_result"
    }
   ],
   "source": [
    "omdb_df.head(2)"
   ]
  },
  {
   "cell_type": "code",
   "execution_count": 8,
   "metadata": {},
   "outputs": [
    {
     "data": {
      "text/plain": [
       "(3760, 37)"
      ]
     },
     "execution_count": 8,
     "metadata": {},
     "output_type": "execute_result"
    }
   ],
   "source": [
    "omdb_df.shape"
   ]
  },
  {
   "cell_type": "code",
   "execution_count": 9,
   "metadata": {
    "scrolled": false
   },
   "outputs": [
    {
     "data": {
      "text/plain": [
       "actors                  844\n",
       "awards                  844\n",
       "box_office              844\n",
       "country                 844\n",
       "director                844\n",
       "dvd                     844\n",
       "genre                   844\n",
       "imdb_id                 844\n",
       "imdb_rating             844\n",
       "imdb_votes              844\n",
       "language                844\n",
       "metascore               844\n",
       "plot                    844\n",
       "poster                  844\n",
       "production              844\n",
       "rated                   844\n",
       "ratings                 844\n",
       "released                844\n",
       "response                844\n",
       "runtime                 844\n",
       "title                   844\n",
       "tomato_consensus        844\n",
       "tomato_fresh            844\n",
       "tomato_image            844\n",
       "tomato_meter            844\n",
       "tomato_rating           844\n",
       "tomato_reviews          844\n",
       "tomato_rotten           844\n",
       "tomato_url              844\n",
       "tomato_user_meter       844\n",
       "tomato_user_rating      844\n",
       "tomato_user_reviews     844\n",
       "total_seasons          1524\n",
       "type                    844\n",
       "website                 844\n",
       "writer                  844\n",
       "year                    844\n",
       "dtype: int64"
      ]
     },
     "execution_count": 9,
     "metadata": {},
     "output_type": "execute_result"
    }
   ],
   "source": [
    "omdb_df.isnull().sum()"
   ]
  },
  {
   "cell_type": "markdown",
   "metadata": {},
   "source": [
    "There are a lot of nulls here, but I don't want to drop anything yet until I have them all merged into a single dataframe to determine if information from another API can be used to fill in missing data.\n",
    "\n",
    "For now, I'll just be dropping columns that I are not relevant to TV shows, as well as the tomato_ columns."
   ]
  },
  {
   "cell_type": "code",
   "execution_count": 10,
   "metadata": {},
   "outputs": [],
   "source": [
    "omdb_df.drop(['box_office', 'country', 'dvd', 'poster', \n",
    "              'tomato_consensus', 'tomato_fresh', 'tomato_image', \n",
    "              'tomato_meter', 'tomato_rating', 'tomato_reviews',\n",
    "              'tomato_rotten', 'tomato_url', 'tomato_user_meter', \n",
    "              'tomato_user_rating', 'tomato_user_reviews', 'website',\n",
    "              'metascore', 'response'],\n",
    "             axis=1,\n",
    "             inplace=True)"
   ]
  },
  {
   "cell_type": "code",
   "execution_count": 11,
   "metadata": {
    "scrolled": true
   },
   "outputs": [
    {
     "data": {
      "text/html": [
       "<div>\n",
       "<style scoped>\n",
       "    .dataframe tbody tr th:only-of-type {\n",
       "        vertical-align: middle;\n",
       "    }\n",
       "\n",
       "    .dataframe tbody tr th {\n",
       "        vertical-align: top;\n",
       "    }\n",
       "\n",
       "    .dataframe thead th {\n",
       "        text-align: right;\n",
       "    }\n",
       "</style>\n",
       "<table border=\"1\" class=\"dataframe\">\n",
       "  <thead>\n",
       "    <tr style=\"text-align: right;\">\n",
       "      <th></th>\n",
       "      <th>actors</th>\n",
       "      <th>awards</th>\n",
       "      <th>director</th>\n",
       "      <th>genre</th>\n",
       "      <th>imdb_id</th>\n",
       "      <th>imdb_rating</th>\n",
       "      <th>imdb_votes</th>\n",
       "      <th>language</th>\n",
       "      <th>plot</th>\n",
       "      <th>production</th>\n",
       "      <th>rated</th>\n",
       "      <th>ratings</th>\n",
       "      <th>released</th>\n",
       "      <th>runtime</th>\n",
       "      <th>title</th>\n",
       "      <th>total_seasons</th>\n",
       "      <th>type</th>\n",
       "      <th>writer</th>\n",
       "      <th>year</th>\n",
       "    </tr>\n",
       "  </thead>\n",
       "  <tbody>\n",
       "    <tr>\n",
       "      <th>Game of Thrones</th>\n",
       "      <td>Peter Dinklage, Lena Headey, Emilia Clarke, Ki...</td>\n",
       "      <td>Won 1 Golden Globe. Another 273 wins &amp; 454 nom...</td>\n",
       "      <td>N/A</td>\n",
       "      <td>Action, Adventure, Drama, Fantasy, Romance</td>\n",
       "      <td>tt0944947</td>\n",
       "      <td>9.5</td>\n",
       "      <td>1,361,235</td>\n",
       "      <td>English</td>\n",
       "      <td>In the mythical continent of Westeros, several...</td>\n",
       "      <td>N/A</td>\n",
       "      <td>TV-MA</td>\n",
       "      <td>[{'source': 'Internet Movie Database', 'value'...</td>\n",
       "      <td>17 Apr 2011</td>\n",
       "      <td>57 min</td>\n",
       "      <td>Game of Thrones</td>\n",
       "      <td>8</td>\n",
       "      <td>series</td>\n",
       "      <td>David Benioff, D.B. Weiss</td>\n",
       "      <td>2011–</td>\n",
       "    </tr>\n",
       "    <tr>\n",
       "      <th>Westworld</th>\n",
       "      <td>Evan Rachel Wood, Thandie Newton, Jeffrey Wrig...</td>\n",
       "      <td>Nominated for 3 Golden Globes. Another 29 wins...</td>\n",
       "      <td>N/A</td>\n",
       "      <td>Drama, Mystery, Sci-Fi</td>\n",
       "      <td>tt0475784</td>\n",
       "      <td>8.9</td>\n",
       "      <td>307,642</td>\n",
       "      <td>English</td>\n",
       "      <td>Westworld isn't your typical amusement park. I...</td>\n",
       "      <td>N/A</td>\n",
       "      <td>TV-MA</td>\n",
       "      <td>[{'source': 'Internet Movie Database', 'value'...</td>\n",
       "      <td>02 Oct 2016</td>\n",
       "      <td>62 min</td>\n",
       "      <td>Westworld</td>\n",
       "      <td>3</td>\n",
       "      <td>series</td>\n",
       "      <td>N/A</td>\n",
       "      <td>2016–</td>\n",
       "    </tr>\n",
       "    <tr>\n",
       "      <th>Big Little Lies</th>\n",
       "      <td>Reese Witherspoon, Nicole Kidman, Shailene Woo...</td>\n",
       "      <td>Won 4 Golden Globes. Another 42 wins &amp; 48 nomi...</td>\n",
       "      <td>N/A</td>\n",
       "      <td>Crime, Drama, Mystery</td>\n",
       "      <td>tt3920596</td>\n",
       "      <td>8.6</td>\n",
       "      <td>86,060</td>\n",
       "      <td>English</td>\n",
       "      <td>While Madeline and Celeste take new in town si...</td>\n",
       "      <td>N/A</td>\n",
       "      <td>TV-MA</td>\n",
       "      <td>[{'source': 'Internet Movie Database', 'value'...</td>\n",
       "      <td>19 Feb 2017</td>\n",
       "      <td>60 min</td>\n",
       "      <td>Big Little Lies</td>\n",
       "      <td>2</td>\n",
       "      <td>series</td>\n",
       "      <td>David E. Kelley</td>\n",
       "      <td>2017–</td>\n",
       "    </tr>\n",
       "  </tbody>\n",
       "</table>\n",
       "</div>"
      ],
      "text/plain": [
       "                                                            actors  \\\n",
       "Game of Thrones  Peter Dinklage, Lena Headey, Emilia Clarke, Ki...   \n",
       "Westworld        Evan Rachel Wood, Thandie Newton, Jeffrey Wrig...   \n",
       "Big Little Lies  Reese Witherspoon, Nicole Kidman, Shailene Woo...   \n",
       "\n",
       "                                                            awards director  \\\n",
       "Game of Thrones  Won 1 Golden Globe. Another 273 wins & 454 nom...      N/A   \n",
       "Westworld        Nominated for 3 Golden Globes. Another 29 wins...      N/A   \n",
       "Big Little Lies  Won 4 Golden Globes. Another 42 wins & 48 nomi...      N/A   \n",
       "\n",
       "                                                      genre    imdb_id  \\\n",
       "Game of Thrones  Action, Adventure, Drama, Fantasy, Romance  tt0944947   \n",
       "Westworld                            Drama, Mystery, Sci-Fi  tt0475784   \n",
       "Big Little Lies                       Crime, Drama, Mystery  tt3920596   \n",
       "\n",
       "                imdb_rating imdb_votes language  \\\n",
       "Game of Thrones         9.5  1,361,235  English   \n",
       "Westworld               8.9    307,642  English   \n",
       "Big Little Lies         8.6     86,060  English   \n",
       "\n",
       "                                                              plot production  \\\n",
       "Game of Thrones  In the mythical continent of Westeros, several...        N/A   \n",
       "Westworld        Westworld isn't your typical amusement park. I...        N/A   \n",
       "Big Little Lies  While Madeline and Celeste take new in town si...        N/A   \n",
       "\n",
       "                 rated                                            ratings  \\\n",
       "Game of Thrones  TV-MA  [{'source': 'Internet Movie Database', 'value'...   \n",
       "Westworld        TV-MA  [{'source': 'Internet Movie Database', 'value'...   \n",
       "Big Little Lies  TV-MA  [{'source': 'Internet Movie Database', 'value'...   \n",
       "\n",
       "                    released runtime            title total_seasons    type  \\\n",
       "Game of Thrones  17 Apr 2011  57 min  Game of Thrones             8  series   \n",
       "Westworld        02 Oct 2016  62 min        Westworld             3  series   \n",
       "Big Little Lies  19 Feb 2017  60 min  Big Little Lies             2  series   \n",
       "\n",
       "                                    writer   year  \n",
       "Game of Thrones  David Benioff, D.B. Weiss  2011–  \n",
       "Westworld                              N/A  2016–  \n",
       "Big Little Lies            David E. Kelley  2017–  "
      ]
     },
     "execution_count": 11,
     "metadata": {},
     "output_type": "execute_result"
    }
   ],
   "source": [
    "omdb_df.head(3)"
   ]
  },
  {
   "cell_type": "code",
   "execution_count": 12,
   "metadata": {},
   "outputs": [
    {
     "data": {
      "text/plain": [
       "Index(['actors', 'awards', 'director', 'genre', 'imdb_id', 'imdb_rating',\n",
       "       'imdb_votes', 'language', 'plot', 'production', 'rated', 'ratings',\n",
       "       'released', 'runtime', 'title', 'total_seasons', 'type', 'writer',\n",
       "       'year'],\n",
       "      dtype='object')"
      ]
     },
     "execution_count": 12,
     "metadata": {},
     "output_type": "execute_result"
    }
   ],
   "source": [
    "omdb_df.columns"
   ]
  },
  {
   "cell_type": "markdown",
   "metadata": {},
   "source": [
    "# TMDB data to Dataframe\n",
    "\n",
    "Next is the same thing as above with the TMDB data."
   ]
  },
  {
   "cell_type": "code",
   "execution_count": 13,
   "metadata": {},
   "outputs": [],
   "source": [
    "tmdb_df = pd.DataFrame(tmdb_data)"
   ]
  },
  {
   "cell_type": "code",
   "execution_count": 14,
   "metadata": {},
   "outputs": [],
   "source": [
    "tmdb_df = tmdb_df.T"
   ]
  },
  {
   "cell_type": "code",
   "execution_count": 15,
   "metadata": {},
   "outputs": [],
   "source": [
    "tmdb_df.drop(['backdrop_path', 'homepage'], axis=1, inplace=True)"
   ]
  },
  {
   "cell_type": "code",
   "execution_count": 16,
   "metadata": {},
   "outputs": [
    {
     "data": {
      "text/plain": [
       "(2859, 26)"
      ]
     },
     "execution_count": 16,
     "metadata": {},
     "output_type": "execute_result"
    }
   ],
   "source": [
    "tmdb_df.shape"
   ]
  },
  {
   "cell_type": "code",
   "execution_count": 17,
   "metadata": {},
   "outputs": [
    {
     "data": {
      "text/html": [
       "<div>\n",
       "<style scoped>\n",
       "    .dataframe tbody tr th:only-of-type {\n",
       "        vertical-align: middle;\n",
       "    }\n",
       "\n",
       "    .dataframe tbody tr th {\n",
       "        vertical-align: top;\n",
       "    }\n",
       "\n",
       "    .dataframe thead th {\n",
       "        text-align: right;\n",
       "    }\n",
       "</style>\n",
       "<table border=\"1\" class=\"dataframe\">\n",
       "  <thead>\n",
       "    <tr style=\"text-align: right;\">\n",
       "      <th></th>\n",
       "      <th>created_by</th>\n",
       "      <th>episode_run_time</th>\n",
       "      <th>first_air_date</th>\n",
       "      <th>genres</th>\n",
       "      <th>id</th>\n",
       "      <th>in_production</th>\n",
       "      <th>languages</th>\n",
       "      <th>last_air_date</th>\n",
       "      <th>last_episode_to_air</th>\n",
       "      <th>name</th>\n",
       "      <th>...</th>\n",
       "      <th>original_name</th>\n",
       "      <th>overview</th>\n",
       "      <th>popularity</th>\n",
       "      <th>poster_path</th>\n",
       "      <th>production_companies</th>\n",
       "      <th>seasons</th>\n",
       "      <th>status</th>\n",
       "      <th>type</th>\n",
       "      <th>vote_average</th>\n",
       "      <th>vote_count</th>\n",
       "    </tr>\n",
       "  </thead>\n",
       "  <tbody>\n",
       "    <tr>\n",
       "      <th>Game of Thrones</th>\n",
       "      <td>[{'id': 9813, 'credit_id': '5256c8c219c2956ff6...</td>\n",
       "      <td>[60]</td>\n",
       "      <td>2011-04-17</td>\n",
       "      <td>[{'id': 10765, 'name': 'Sci-Fi &amp; Fantasy'}, {'...</td>\n",
       "      <td>1399</td>\n",
       "      <td>True</td>\n",
       "      <td>[es, en, de]</td>\n",
       "      <td>2017-08-27</td>\n",
       "      <td>{'air_date': '2017-08-27', 'episode_number': 7...</td>\n",
       "      <td>Game of Thrones</td>\n",
       "      <td>...</td>\n",
       "      <td>Game of Thrones</td>\n",
       "      <td>Seven noble families fight for control of the ...</td>\n",
       "      <td>68.452</td>\n",
       "      <td>/gwPSoYUHAKmdyVywgLpKKA4BjRr.jpg</td>\n",
       "      <td>[{'id': 76043, 'logo_path': '/9RO2vbQ67otPrBLX...</td>\n",
       "      <td>[{'air_date': '2010-12-05', 'episode_count': 1...</td>\n",
       "      <td>Returning Series</td>\n",
       "      <td>Scripted</td>\n",
       "      <td>8.2</td>\n",
       "      <td>4923</td>\n",
       "    </tr>\n",
       "    <tr>\n",
       "      <th>Westworld</th>\n",
       "      <td>[{'id': 527, 'credit_id': '55a6280992514109ab0...</td>\n",
       "      <td>[60]</td>\n",
       "      <td>2016-10-02</td>\n",
       "      <td>[{'id': 37, 'name': 'Western'}, {'id': 878, 'n...</td>\n",
       "      <td>63247</td>\n",
       "      <td>True</td>\n",
       "      <td>[en]</td>\n",
       "      <td>2018-06-24</td>\n",
       "      <td>{'air_date': '2018-06-24', 'episode_number': 1...</td>\n",
       "      <td>Westworld</td>\n",
       "      <td>...</td>\n",
       "      <td>Westworld</td>\n",
       "      <td>A dark odyssey about the dawn of artificial co...</td>\n",
       "      <td>35.971</td>\n",
       "      <td>/6aj09UTMQNyfSfk0ZX8rYOEsXL2.jpg</td>\n",
       "      <td>[{'id': 1957, 'logo_path': '/nmcNfPq03WLtOyufJ...</td>\n",
       "      <td>[{'air_date': '2016-10-02', 'episode_count': 1...</td>\n",
       "      <td>Returning Series</td>\n",
       "      <td>Scripted</td>\n",
       "      <td>8.1</td>\n",
       "      <td>1625</td>\n",
       "    </tr>\n",
       "    <tr>\n",
       "      <th>Big Little Lies</th>\n",
       "      <td>[{'id': 59650, 'credit_id': '57168a7f92514161f...</td>\n",
       "      <td>[50, 60]</td>\n",
       "      <td>2017-02-19</td>\n",
       "      <td>[{'id': 18, 'name': 'Drama'}]</td>\n",
       "      <td>66292</td>\n",
       "      <td>True</td>\n",
       "      <td>[en]</td>\n",
       "      <td>2017-04-02</td>\n",
       "      <td>{'air_date': '2017-04-02', 'episode_number': 7...</td>\n",
       "      <td>Big Little Lies</td>\n",
       "      <td>...</td>\n",
       "      <td>Big Little Lies</td>\n",
       "      <td>Subversive, darkly comedic drama Big Little Li...</td>\n",
       "      <td>14.222</td>\n",
       "      <td>/6nxTO2tYDBR9twPWlDC3I1eXUnY.jpg</td>\n",
       "      <td>[{'id': 55027, 'logo_path': None, 'name': 'Dav...</td>\n",
       "      <td>[{'air_date': '2017-02-19', 'episode_count': 7...</td>\n",
       "      <td>Returning Series</td>\n",
       "      <td>Scripted</td>\n",
       "      <td>7.9</td>\n",
       "      <td>277</td>\n",
       "    </tr>\n",
       "  </tbody>\n",
       "</table>\n",
       "<p>3 rows × 26 columns</p>\n",
       "</div>"
      ],
      "text/plain": [
       "                                                        created_by  \\\n",
       "Game of Thrones  [{'id': 9813, 'credit_id': '5256c8c219c2956ff6...   \n",
       "Westworld        [{'id': 527, 'credit_id': '55a6280992514109ab0...   \n",
       "Big Little Lies  [{'id': 59650, 'credit_id': '57168a7f92514161f...   \n",
       "\n",
       "                episode_run_time first_air_date  \\\n",
       "Game of Thrones             [60]     2011-04-17   \n",
       "Westworld                   [60]     2016-10-02   \n",
       "Big Little Lies         [50, 60]     2017-02-19   \n",
       "\n",
       "                                                            genres     id  \\\n",
       "Game of Thrones  [{'id': 10765, 'name': 'Sci-Fi & Fantasy'}, {'...   1399   \n",
       "Westworld        [{'id': 37, 'name': 'Western'}, {'id': 878, 'n...  63247   \n",
       "Big Little Lies                      [{'id': 18, 'name': 'Drama'}]  66292   \n",
       "\n",
       "                in_production     languages last_air_date  \\\n",
       "Game of Thrones          True  [es, en, de]    2017-08-27   \n",
       "Westworld                True          [en]    2018-06-24   \n",
       "Big Little Lies          True          [en]    2017-04-02   \n",
       "\n",
       "                                               last_episode_to_air  \\\n",
       "Game of Thrones  {'air_date': '2017-08-27', 'episode_number': 7...   \n",
       "Westworld        {'air_date': '2018-06-24', 'episode_number': 1...   \n",
       "Big Little Lies  {'air_date': '2017-04-02', 'episode_number': 7...   \n",
       "\n",
       "                            name    ...        original_name  \\\n",
       "Game of Thrones  Game of Thrones    ...      Game of Thrones   \n",
       "Westworld              Westworld    ...            Westworld   \n",
       "Big Little Lies  Big Little Lies    ...      Big Little Lies   \n",
       "\n",
       "                                                          overview popularity  \\\n",
       "Game of Thrones  Seven noble families fight for control of the ...     68.452   \n",
       "Westworld        A dark odyssey about the dawn of artificial co...     35.971   \n",
       "Big Little Lies  Subversive, darkly comedic drama Big Little Li...     14.222   \n",
       "\n",
       "                                      poster_path  \\\n",
       "Game of Thrones  /gwPSoYUHAKmdyVywgLpKKA4BjRr.jpg   \n",
       "Westworld        /6aj09UTMQNyfSfk0ZX8rYOEsXL2.jpg   \n",
       "Big Little Lies  /6nxTO2tYDBR9twPWlDC3I1eXUnY.jpg   \n",
       "\n",
       "                                              production_companies  \\\n",
       "Game of Thrones  [{'id': 76043, 'logo_path': '/9RO2vbQ67otPrBLX...   \n",
       "Westworld        [{'id': 1957, 'logo_path': '/nmcNfPq03WLtOyufJ...   \n",
       "Big Little Lies  [{'id': 55027, 'logo_path': None, 'name': 'Dav...   \n",
       "\n",
       "                                                           seasons  \\\n",
       "Game of Thrones  [{'air_date': '2010-12-05', 'episode_count': 1...   \n",
       "Westworld        [{'air_date': '2016-10-02', 'episode_count': 1...   \n",
       "Big Little Lies  [{'air_date': '2017-02-19', 'episode_count': 7...   \n",
       "\n",
       "                           status      type vote_average vote_count  \n",
       "Game of Thrones  Returning Series  Scripted          8.2       4923  \n",
       "Westworld        Returning Series  Scripted          8.1       1625  \n",
       "Big Little Lies  Returning Series  Scripted          7.9        277  \n",
       "\n",
       "[3 rows x 26 columns]"
      ]
     },
     "execution_count": 17,
     "metadata": {},
     "output_type": "execute_result"
    }
   ],
   "source": [
    "tmdb_df.head(3)"
   ]
  },
  {
   "cell_type": "code",
   "execution_count": 18,
   "metadata": {
    "scrolled": true
   },
   "outputs": [
    {
     "data": {
      "text/plain": [
       "Index(['created_by', 'episode_run_time', 'first_air_date', 'genres', 'id',\n",
       "       'in_production', 'languages', 'last_air_date', 'last_episode_to_air',\n",
       "       'name', 'networks', 'next_episode_to_air', 'number_of_episodes',\n",
       "       'number_of_seasons', 'origin_country', 'original_language',\n",
       "       'original_name', 'overview', 'popularity', 'poster_path',\n",
       "       'production_companies', 'seasons', 'status', 'type', 'vote_average',\n",
       "       'vote_count'],\n",
       "      dtype='object')"
      ]
     },
     "execution_count": 18,
     "metadata": {},
     "output_type": "execute_result"
    }
   ],
   "source": [
    "tmdb_df.columns"
   ]
  },
  {
   "cell_type": "code",
   "execution_count": 19,
   "metadata": {
    "scrolled": true
   },
   "outputs": [
    {
     "data": {
      "text/plain": [
       "created_by                 0\n",
       "episode_run_time           0\n",
       "first_air_date           300\n",
       "genres                     0\n",
       "id                         0\n",
       "in_production              0\n",
       "languages                  0\n",
       "last_air_date            330\n",
       "last_episode_to_air      330\n",
       "name                       0\n",
       "networks                   0\n",
       "next_episode_to_air     2751\n",
       "number_of_episodes        19\n",
       "number_of_seasons          0\n",
       "origin_country             0\n",
       "original_language          0\n",
       "original_name              0\n",
       "overview                   0\n",
       "popularity                 0\n",
       "poster_path              765\n",
       "production_companies       0\n",
       "seasons                    0\n",
       "status                     0\n",
       "type                       0\n",
       "vote_average               0\n",
       "vote_count                 0\n",
       "dtype: int64"
      ]
     },
     "execution_count": 19,
     "metadata": {},
     "output_type": "execute_result"
    }
   ],
   "source": [
    "tmdb_df.isnull().sum()"
   ]
  },
  {
   "cell_type": "markdown",
   "metadata": {},
   "source": [
    "As with the above, I mainly want to drop columns that do not appear to be relevant to TV shows rather than any nulls."
   ]
  },
  {
   "cell_type": "code",
   "execution_count": 20,
   "metadata": {},
   "outputs": [],
   "source": [
    "tmdb_df.drop(['last_episode_to_air', \n",
    "              'next_episode_to_air', \n",
    "              'origin_country', \n",
    "              'poster_path', \n",
    "              'first_air_date', \n",
    "              'last_air_date'\n",
    "             ], axis=1, inplace=True)"
   ]
  },
  {
   "cell_type": "code",
   "execution_count": 21,
   "metadata": {
    "scrolled": true
   },
   "outputs": [
    {
     "data": {
      "text/plain": [
       "Scripted       2602\n",
       "Reality         114\n",
       "Miniseries       70\n",
       "Talk Show        38\n",
       "Documentary      18\n",
       "News             15\n",
       "Video             2\n",
       "Name: type, dtype: int64"
      ]
     },
     "execution_count": 21,
     "metadata": {},
     "output_type": "execute_result"
    }
   ],
   "source": [
    "tmdb_df.type.value_counts()"
   ]
  },
  {
   "cell_type": "markdown",
   "metadata": {},
   "source": [
    "# TVDB data to Dataframe\n",
    "\n",
    "A quick cleanup step necessary is to break the 'data' values out of the main dictionary, so I'll be making a new dictionary that grabs these."
   ]
  },
  {
   "cell_type": "code",
   "execution_count": 22,
   "metadata": {
    "scrolled": true
   },
   "outputs": [
    {
     "data": {
      "text/plain": [
       "created_by               0\n",
       "episode_run_time         0\n",
       "genres                   0\n",
       "id                       0\n",
       "in_production            0\n",
       "languages                0\n",
       "name                     0\n",
       "networks                 0\n",
       "number_of_episodes      19\n",
       "number_of_seasons        0\n",
       "original_language        0\n",
       "original_name            0\n",
       "overview                 0\n",
       "popularity               0\n",
       "production_companies     0\n",
       "seasons                  0\n",
       "status                   0\n",
       "type                     0\n",
       "vote_average             0\n",
       "vote_count               0\n",
       "dtype: int64"
      ]
     },
     "execution_count": 22,
     "metadata": {},
     "output_type": "execute_result"
    }
   ],
   "source": [
    "tmdb_df.isnull().sum()"
   ]
  },
  {
   "cell_type": "code",
   "execution_count": 23,
   "metadata": {},
   "outputs": [],
   "source": [
    "tvdb_new = {}\n",
    "for i in tvdb_data:\n",
    "    tvdb_new[i] = tvdb_data[i]['data']"
   ]
  },
  {
   "cell_type": "code",
   "execution_count": 24,
   "metadata": {},
   "outputs": [
    {
     "data": {
      "text/plain": [
       "(23, 2701)"
      ]
     },
     "execution_count": 24,
     "metadata": {},
     "output_type": "execute_result"
    }
   ],
   "source": [
    "tvdb_df = pd.DataFrame.from_dict(tvdb_new)\n",
    "tvdb_df.shape"
   ]
  },
  {
   "cell_type": "code",
   "execution_count": 25,
   "metadata": {
    "scrolled": true
   },
   "outputs": [
    {
     "data": {
      "text/html": [
       "<div>\n",
       "<style scoped>\n",
       "    .dataframe tbody tr th:only-of-type {\n",
       "        vertical-align: middle;\n",
       "    }\n",
       "\n",
       "    .dataframe tbody tr th {\n",
       "        vertical-align: top;\n",
       "    }\n",
       "\n",
       "    .dataframe thead th {\n",
       "        text-align: right;\n",
       "    }\n",
       "</style>\n",
       "<table border=\"1\" class=\"dataframe\">\n",
       "  <thead>\n",
       "    <tr style=\"text-align: right;\">\n",
       "      <th></th>\n",
       "      <th>Game of Thrones</th>\n",
       "      <th>Westworld</th>\n",
       "      <th>Big Little Lies</th>\n",
       "      <th>The Deuce</th>\n",
       "      <th>Succession</th>\n",
       "      <th>Curb Your Enthusiasm</th>\n",
       "      <th>Veep</th>\n",
       "      <th>Silicon Valley</th>\n",
       "      <th>Ballers</th>\n",
       "      <th>High Maintenance</th>\n",
       "      <th>...</th>\n",
       "      <th>The Hollywood Palace</th>\n",
       "      <th>The Johnny Cash Show</th>\n",
       "      <th>The Lawrence Welk Show</th>\n",
       "      <th>The Wayne Brady Show</th>\n",
       "      <th>This Is Tom Jones</th>\n",
       "      <th>Trust Us with Your Life</th>\n",
       "      <th>Turn-On</th>\n",
       "      <th>Where the Action Is</th>\n",
       "      <th>Muppets Tonight</th>\n",
       "      <th>Ripley's Believe It or Not</th>\n",
       "    </tr>\n",
       "  </thead>\n",
       "  <tbody>\n",
       "    <tr>\n",
       "      <th>added</th>\n",
       "      <td>2009-10-26 16:51:46</td>\n",
       "      <td>2015-06-10 14:07:01</td>\n",
       "      <td>2016-01-09 10:40:03</td>\n",
       "      <td>2016-09-29 05:27:29</td>\n",
       "      <td>2017-11-21 18:00:19</td>\n",
       "      <td></td>\n",
       "      <td>2011-03-07 05:38:06</td>\n",
       "      <td>2014-01-10 11:18:03</td>\n",
       "      <td>2014-05-14 14:58:00</td>\n",
       "      <td>2013-08-02 07:05:31</td>\n",
       "      <td>...</td>\n",
       "      <td></td>\n",
       "      <td></td>\n",
       "      <td></td>\n",
       "      <td></td>\n",
       "      <td></td>\n",
       "      <td>2012-05-07 03:40:03</td>\n",
       "      <td></td>\n",
       "      <td></td>\n",
       "      <td></td>\n",
       "      <td></td>\n",
       "    </tr>\n",
       "    <tr>\n",
       "      <th>addedBy</th>\n",
       "      <td>10072</td>\n",
       "      <td>367373</td>\n",
       "      <td>401737</td>\n",
       "      <td>451111</td>\n",
       "      <td>460245</td>\n",
       "      <td>None</td>\n",
       "      <td>322581</td>\n",
       "      <td>346515</td>\n",
       "      <td>4696</td>\n",
       "      <td>391210</td>\n",
       "      <td>...</td>\n",
       "      <td>None</td>\n",
       "      <td>None</td>\n",
       "      <td>None</td>\n",
       "      <td>None</td>\n",
       "      <td>None</td>\n",
       "      <td>295381</td>\n",
       "      <td>None</td>\n",
       "      <td>None</td>\n",
       "      <td>None</td>\n",
       "      <td>None</td>\n",
       "    </tr>\n",
       "    <tr>\n",
       "      <th>airsDayOfWeek</th>\n",
       "      <td>Sunday</td>\n",
       "      <td>Sunday</td>\n",
       "      <td>Sunday</td>\n",
       "      <td>Sunday</td>\n",
       "      <td>Sunday</td>\n",
       "      <td>Sunday</td>\n",
       "      <td>Sunday</td>\n",
       "      <td>Sunday</td>\n",
       "      <td>Sunday</td>\n",
       "      <td></td>\n",
       "      <td>...</td>\n",
       "      <td>Saturday</td>\n",
       "      <td></td>\n",
       "      <td></td>\n",
       "      <td></td>\n",
       "      <td></td>\n",
       "      <td>Tuesday</td>\n",
       "      <td></td>\n",
       "      <td></td>\n",
       "      <td></td>\n",
       "      <td>Wednesday</td>\n",
       "    </tr>\n",
       "  </tbody>\n",
       "</table>\n",
       "<p>3 rows × 2701 columns</p>\n",
       "</div>"
      ],
      "text/plain": [
       "                   Game of Thrones            Westworld      Big Little Lies  \\\n",
       "added          2009-10-26 16:51:46  2015-06-10 14:07:01  2016-01-09 10:40:03   \n",
       "addedBy                      10072               367373               401737   \n",
       "airsDayOfWeek               Sunday               Sunday               Sunday   \n",
       "\n",
       "                         The Deuce           Succession Curb Your Enthusiasm  \\\n",
       "added          2016-09-29 05:27:29  2017-11-21 18:00:19                        \n",
       "addedBy                     451111               460245                 None   \n",
       "airsDayOfWeek               Sunday               Sunday               Sunday   \n",
       "\n",
       "                              Veep       Silicon Valley              Ballers  \\\n",
       "added          2011-03-07 05:38:06  2014-01-10 11:18:03  2014-05-14 14:58:00   \n",
       "addedBy                     322581               346515                 4696   \n",
       "airsDayOfWeek               Sunday               Sunday               Sunday   \n",
       "\n",
       "                  High Maintenance            ...              \\\n",
       "added          2013-08-02 07:05:31            ...               \n",
       "addedBy                     391210            ...               \n",
       "airsDayOfWeek                                 ...               \n",
       "\n",
       "              The Hollywood Palace The Johnny Cash Show  \\\n",
       "added                                                     \n",
       "addedBy                       None                 None   \n",
       "airsDayOfWeek             Saturday                        \n",
       "\n",
       "              The Lawrence Welk Show The Wayne Brady Show This Is Tom Jones  \\\n",
       "added                                                                         \n",
       "addedBy                         None                 None              None   \n",
       "airsDayOfWeek                                                                 \n",
       "\n",
       "              Trust Us with Your Life Turn-On Where the Action Is  \\\n",
       "added             2012-05-07 03:40:03                               \n",
       "addedBy                        295381    None                None   \n",
       "airsDayOfWeek                 Tuesday                               \n",
       "\n",
       "              Muppets Tonight Ripley's Believe It or Not  \n",
       "added                                                     \n",
       "addedBy                  None                       None  \n",
       "airsDayOfWeek                                  Wednesday  \n",
       "\n",
       "[3 rows x 2701 columns]"
      ]
     },
     "execution_count": 25,
     "metadata": {},
     "output_type": "execute_result"
    }
   ],
   "source": [
    "tvdb_df.head(3)"
   ]
  },
  {
   "cell_type": "code",
   "execution_count": 26,
   "metadata": {},
   "outputs": [],
   "source": [
    "tvdb_df = tvdb_df.T"
   ]
  },
  {
   "cell_type": "code",
   "execution_count": 27,
   "metadata": {},
   "outputs": [
    {
     "data": {
      "text/html": [
       "<div>\n",
       "<style scoped>\n",
       "    .dataframe tbody tr th:only-of-type {\n",
       "        vertical-align: middle;\n",
       "    }\n",
       "\n",
       "    .dataframe tbody tr th {\n",
       "        vertical-align: top;\n",
       "    }\n",
       "\n",
       "    .dataframe thead th {\n",
       "        text-align: right;\n",
       "    }\n",
       "</style>\n",
       "<table border=\"1\" class=\"dataframe\">\n",
       "  <thead>\n",
       "    <tr style=\"text-align: right;\">\n",
       "      <th></th>\n",
       "      <th>added</th>\n",
       "      <th>addedBy</th>\n",
       "      <th>airsDayOfWeek</th>\n",
       "      <th>airsTime</th>\n",
       "      <th>aliases</th>\n",
       "      <th>banner</th>\n",
       "      <th>firstAired</th>\n",
       "      <th>genre</th>\n",
       "      <th>id</th>\n",
       "      <th>imdbId</th>\n",
       "      <th>...</th>\n",
       "      <th>overview</th>\n",
       "      <th>rating</th>\n",
       "      <th>runtime</th>\n",
       "      <th>seriesId</th>\n",
       "      <th>seriesName</th>\n",
       "      <th>siteRating</th>\n",
       "      <th>siteRatingCount</th>\n",
       "      <th>slug</th>\n",
       "      <th>status</th>\n",
       "      <th>zap2itId</th>\n",
       "    </tr>\n",
       "  </thead>\n",
       "  <tbody>\n",
       "    <tr>\n",
       "      <th>Game of Thrones</th>\n",
       "      <td>2009-10-26 16:51:46</td>\n",
       "      <td>10072</td>\n",
       "      <td>Sunday</td>\n",
       "      <td>9:00 PM</td>\n",
       "      <td>[]</td>\n",
       "      <td>graphical/121361-g19.jpg</td>\n",
       "      <td>2011-04-17</td>\n",
       "      <td>[Adventure, Drama, Fantasy]</td>\n",
       "      <td>121361</td>\n",
       "      <td>tt0944947</td>\n",
       "      <td>...</td>\n",
       "      <td>Seven noble families fight for control of the ...</td>\n",
       "      <td>TV-MA</td>\n",
       "      <td>55</td>\n",
       "      <td></td>\n",
       "      <td>Game of Thrones</td>\n",
       "      <td>9.5</td>\n",
       "      <td>1781</td>\n",
       "      <td>game-of-thrones</td>\n",
       "      <td>Continuing</td>\n",
       "      <td></td>\n",
       "    </tr>\n",
       "    <tr>\n",
       "      <th>Westworld</th>\n",
       "      <td>2015-06-10 14:07:01</td>\n",
       "      <td>367373</td>\n",
       "      <td>Sunday</td>\n",
       "      <td>9:00 PM</td>\n",
       "      <td>[]</td>\n",
       "      <td>graphical/296762-g11.jpg</td>\n",
       "      <td>2016-10-02</td>\n",
       "      <td>[Adventure, Drama, Science-Fiction, Western]</td>\n",
       "      <td>296762</td>\n",
       "      <td>tt0475784</td>\n",
       "      <td>...</td>\n",
       "      <td>Westworld is a dark odyssey about the dawn of ...</td>\n",
       "      <td>TV-MA</td>\n",
       "      <td>60</td>\n",
       "      <td>194892</td>\n",
       "      <td>Westworld</td>\n",
       "      <td>8.9</td>\n",
       "      <td>110</td>\n",
       "      <td>westworld</td>\n",
       "      <td>Continuing</td>\n",
       "      <td>SH02476964</td>\n",
       "    </tr>\n",
       "    <tr>\n",
       "      <th>Big Little Lies</th>\n",
       "      <td>2016-01-09 10:40:03</td>\n",
       "      <td>401737</td>\n",
       "      <td>Sunday</td>\n",
       "      <td>9:00 PM</td>\n",
       "      <td>[]</td>\n",
       "      <td>graphical/305719-g2.jpg</td>\n",
       "      <td>2017-02-19</td>\n",
       "      <td>[Crime, Drama, Mystery]</td>\n",
       "      <td>305719</td>\n",
       "      <td>tt3920596</td>\n",
       "      <td>...</td>\n",
       "      <td>Subversive, darkly comedic drama Big Little Li...</td>\n",
       "      <td>TV-MA</td>\n",
       "      <td>50</td>\n",
       "      <td>203070</td>\n",
       "      <td>Big Little Lies</td>\n",
       "      <td>8.9</td>\n",
       "      <td>22</td>\n",
       "      <td>big-little-lies</td>\n",
       "      <td>Continuing</td>\n",
       "      <td>EP02541094</td>\n",
       "    </tr>\n",
       "  </tbody>\n",
       "</table>\n",
       "<p>3 rows × 23 columns</p>\n",
       "</div>"
      ],
      "text/plain": [
       "                               added addedBy airsDayOfWeek airsTime aliases  \\\n",
       "Game of Thrones  2009-10-26 16:51:46   10072        Sunday  9:00 PM      []   \n",
       "Westworld        2015-06-10 14:07:01  367373        Sunday  9:00 PM      []   \n",
       "Big Little Lies  2016-01-09 10:40:03  401737        Sunday  9:00 PM      []   \n",
       "\n",
       "                                   banner  firstAired  \\\n",
       "Game of Thrones  graphical/121361-g19.jpg  2011-04-17   \n",
       "Westworld        graphical/296762-g11.jpg  2016-10-02   \n",
       "Big Little Lies   graphical/305719-g2.jpg  2017-02-19   \n",
       "\n",
       "                                                        genre      id  \\\n",
       "Game of Thrones                   [Adventure, Drama, Fantasy]  121361   \n",
       "Westworld        [Adventure, Drama, Science-Fiction, Western]  296762   \n",
       "Big Little Lies                       [Crime, Drama, Mystery]  305719   \n",
       "\n",
       "                    imdbId     ...      \\\n",
       "Game of Thrones  tt0944947     ...       \n",
       "Westworld        tt0475784     ...       \n",
       "Big Little Lies  tt3920596     ...       \n",
       "\n",
       "                                                          overview rating  \\\n",
       "Game of Thrones  Seven noble families fight for control of the ...  TV-MA   \n",
       "Westworld        Westworld is a dark odyssey about the dawn of ...  TV-MA   \n",
       "Big Little Lies  Subversive, darkly comedic drama Big Little Li...  TV-MA   \n",
       "\n",
       "                runtime seriesId       seriesName siteRating siteRatingCount  \\\n",
       "Game of Thrones      55           Game of Thrones        9.5            1781   \n",
       "Westworld            60   194892        Westworld        8.9             110   \n",
       "Big Little Lies      50   203070  Big Little Lies        8.9              22   \n",
       "\n",
       "                            slug      status    zap2itId  \n",
       "Game of Thrones  game-of-thrones  Continuing              \n",
       "Westworld              westworld  Continuing  SH02476964  \n",
       "Big Little Lies  big-little-lies  Continuing  EP02541094  \n",
       "\n",
       "[3 rows x 23 columns]"
      ]
     },
     "execution_count": 27,
     "metadata": {},
     "output_type": "execute_result"
    }
   ],
   "source": [
    "tvdb_df.head(3)"
   ]
  },
  {
   "cell_type": "code",
   "execution_count": 28,
   "metadata": {},
   "outputs": [
    {
     "data": {
      "text/plain": [
       "Index(['added', 'addedBy', 'airsDayOfWeek', 'airsTime', 'aliases', 'banner',\n",
       "       'firstAired', 'genre', 'id', 'imdbId', 'lastUpdated', 'network',\n",
       "       'networkId', 'overview', 'rating', 'runtime', 'seriesId', 'seriesName',\n",
       "       'siteRating', 'siteRatingCount', 'slug', 'status', 'zap2itId'],\n",
       "      dtype='object')"
      ]
     },
     "execution_count": 28,
     "metadata": {},
     "output_type": "execute_result"
    }
   ],
   "source": [
    "tvdb_df.columns"
   ]
  },
  {
   "cell_type": "markdown",
   "metadata": {},
   "source": [
    "Dropping some of the unrelated features once again."
   ]
  },
  {
   "cell_type": "code",
   "execution_count": 29,
   "metadata": {},
   "outputs": [],
   "source": [
    "tvdb_df.drop(['addedBy', \n",
    "              'aliases', \n",
    "              'banner', \n",
    "              'lastUpdated', \n",
    "              'networkId', \n",
    "              'zap2itId', \n",
    "              'added', \n",
    "              'slug'], axis=1, inplace=True)\n"
   ]
  },
  {
   "cell_type": "code",
   "execution_count": 30,
   "metadata": {
    "scrolled": false
   },
   "outputs": [
    {
     "data": {
      "text/html": [
       "<div>\n",
       "<style scoped>\n",
       "    .dataframe tbody tr th:only-of-type {\n",
       "        vertical-align: middle;\n",
       "    }\n",
       "\n",
       "    .dataframe tbody tr th {\n",
       "        vertical-align: top;\n",
       "    }\n",
       "\n",
       "    .dataframe thead th {\n",
       "        text-align: right;\n",
       "    }\n",
       "</style>\n",
       "<table border=\"1\" class=\"dataframe\">\n",
       "  <thead>\n",
       "    <tr style=\"text-align: right;\">\n",
       "      <th></th>\n",
       "      <th>airsDayOfWeek</th>\n",
       "      <th>airsTime</th>\n",
       "      <th>firstAired</th>\n",
       "      <th>genre</th>\n",
       "      <th>id</th>\n",
       "      <th>imdbId</th>\n",
       "      <th>network</th>\n",
       "      <th>overview</th>\n",
       "      <th>rating</th>\n",
       "      <th>runtime</th>\n",
       "      <th>seriesId</th>\n",
       "      <th>seriesName</th>\n",
       "      <th>siteRating</th>\n",
       "      <th>siteRatingCount</th>\n",
       "      <th>status</th>\n",
       "    </tr>\n",
       "  </thead>\n",
       "  <tbody>\n",
       "    <tr>\n",
       "      <th>Game of Thrones</th>\n",
       "      <td>Sunday</td>\n",
       "      <td>9:00 PM</td>\n",
       "      <td>2011-04-17</td>\n",
       "      <td>[Adventure, Drama, Fantasy]</td>\n",
       "      <td>121361</td>\n",
       "      <td>tt0944947</td>\n",
       "      <td>HBO</td>\n",
       "      <td>Seven noble families fight for control of the ...</td>\n",
       "      <td>TV-MA</td>\n",
       "      <td>55</td>\n",
       "      <td></td>\n",
       "      <td>Game of Thrones</td>\n",
       "      <td>9.5</td>\n",
       "      <td>1781</td>\n",
       "      <td>Continuing</td>\n",
       "    </tr>\n",
       "    <tr>\n",
       "      <th>Westworld</th>\n",
       "      <td>Sunday</td>\n",
       "      <td>9:00 PM</td>\n",
       "      <td>2016-10-02</td>\n",
       "      <td>[Adventure, Drama, Science-Fiction, Western]</td>\n",
       "      <td>296762</td>\n",
       "      <td>tt0475784</td>\n",
       "      <td>HBO</td>\n",
       "      <td>Westworld is a dark odyssey about the dawn of ...</td>\n",
       "      <td>TV-MA</td>\n",
       "      <td>60</td>\n",
       "      <td>194892</td>\n",
       "      <td>Westworld</td>\n",
       "      <td>8.9</td>\n",
       "      <td>110</td>\n",
       "      <td>Continuing</td>\n",
       "    </tr>\n",
       "    <tr>\n",
       "      <th>Big Little Lies</th>\n",
       "      <td>Sunday</td>\n",
       "      <td>9:00 PM</td>\n",
       "      <td>2017-02-19</td>\n",
       "      <td>[Crime, Drama, Mystery]</td>\n",
       "      <td>305719</td>\n",
       "      <td>tt3920596</td>\n",
       "      <td>HBO</td>\n",
       "      <td>Subversive, darkly comedic drama Big Little Li...</td>\n",
       "      <td>TV-MA</td>\n",
       "      <td>50</td>\n",
       "      <td>203070</td>\n",
       "      <td>Big Little Lies</td>\n",
       "      <td>8.9</td>\n",
       "      <td>22</td>\n",
       "      <td>Continuing</td>\n",
       "    </tr>\n",
       "  </tbody>\n",
       "</table>\n",
       "</div>"
      ],
      "text/plain": [
       "                airsDayOfWeek airsTime  firstAired  \\\n",
       "Game of Thrones        Sunday  9:00 PM  2011-04-17   \n",
       "Westworld              Sunday  9:00 PM  2016-10-02   \n",
       "Big Little Lies        Sunday  9:00 PM  2017-02-19   \n",
       "\n",
       "                                                        genre      id  \\\n",
       "Game of Thrones                   [Adventure, Drama, Fantasy]  121361   \n",
       "Westworld        [Adventure, Drama, Science-Fiction, Western]  296762   \n",
       "Big Little Lies                       [Crime, Drama, Mystery]  305719   \n",
       "\n",
       "                    imdbId network  \\\n",
       "Game of Thrones  tt0944947     HBO   \n",
       "Westworld        tt0475784     HBO   \n",
       "Big Little Lies  tt3920596     HBO   \n",
       "\n",
       "                                                          overview rating  \\\n",
       "Game of Thrones  Seven noble families fight for control of the ...  TV-MA   \n",
       "Westworld        Westworld is a dark odyssey about the dawn of ...  TV-MA   \n",
       "Big Little Lies  Subversive, darkly comedic drama Big Little Li...  TV-MA   \n",
       "\n",
       "                runtime seriesId       seriesName siteRating siteRatingCount  \\\n",
       "Game of Thrones      55           Game of Thrones        9.5            1781   \n",
       "Westworld            60   194892        Westworld        8.9             110   \n",
       "Big Little Lies      50   203070  Big Little Lies        8.9              22   \n",
       "\n",
       "                     status  \n",
       "Game of Thrones  Continuing  \n",
       "Westworld        Continuing  \n",
       "Big Little Lies  Continuing  "
      ]
     },
     "execution_count": 30,
     "metadata": {},
     "output_type": "execute_result"
    }
   ],
   "source": [
    "tvdb_df.head(3)"
   ]
  },
  {
   "cell_type": "code",
   "execution_count": 31,
   "metadata": {
    "scrolled": true
   },
   "outputs": [
    {
     "data": {
      "text/plain": [
       "airsDayOfWeek        0\n",
       "airsTime             0\n",
       "firstAired           0\n",
       "genre                0\n",
       "id                   0\n",
       "imdbId               0\n",
       "network              0\n",
       "overview           164\n",
       "rating               0\n",
       "runtime              0\n",
       "seriesId             0\n",
       "seriesName           0\n",
       "siteRating           0\n",
       "siteRatingCount      0\n",
       "status               0\n",
       "dtype: int64"
      ]
     },
     "execution_count": 31,
     "metadata": {},
     "output_type": "execute_result"
    }
   ],
   "source": [
    "tvdb_df.isnull().sum()"
   ]
  },
  {
   "cell_type": "code",
   "execution_count": 32,
   "metadata": {
    "scrolled": true
   },
   "outputs": [
    {
     "data": {
      "text/plain": [
       "(2701, 15)"
      ]
     },
     "execution_count": 32,
     "metadata": {},
     "output_type": "execute_result"
    }
   ],
   "source": [
    "tvdb_df.shape"
   ]
  },
  {
   "cell_type": "markdown",
   "metadata": {},
   "source": [
    "# Combining Dataframes"
   ]
  },
  {
   "cell_type": "markdown",
   "metadata": {},
   "source": [
    "With the dataframes for the individual shows ready, I can merge these all into a single Dataframe. Because each of these APIs contain at least one feature/column that I will want to integrate into my model, I will only be looking for values/shows that are present in all three dataframes. If any shows are missing entirely from one of the Dataframes, I will end up dropping that show regardless. "
   ]
  },
  {
   "cell_type": "code",
   "execution_count": 33,
   "metadata": {
    "scrolled": true
   },
   "outputs": [],
   "source": [
    "series_df = pd.merge(tvdb_df, tmdb_df, left_index=True, right_index=True)"
   ]
  },
  {
   "cell_type": "code",
   "execution_count": 34,
   "metadata": {},
   "outputs": [],
   "source": [
    "series_df = pd.merge(series_df, omdb_df, left_index=True, right_index=True)"
   ]
  },
  {
   "cell_type": "code",
   "execution_count": 35,
   "metadata": {
    "scrolled": true
   },
   "outputs": [
    {
     "data": {
      "text/html": [
       "<div>\n",
       "<style scoped>\n",
       "    .dataframe tbody tr th:only-of-type {\n",
       "        vertical-align: middle;\n",
       "    }\n",
       "\n",
       "    .dataframe tbody tr th {\n",
       "        vertical-align: top;\n",
       "    }\n",
       "\n",
       "    .dataframe thead th {\n",
       "        text-align: right;\n",
       "    }\n",
       "</style>\n",
       "<table border=\"1\" class=\"dataframe\">\n",
       "  <thead>\n",
       "    <tr style=\"text-align: right;\">\n",
       "      <th></th>\n",
       "      <th>airsDayOfWeek</th>\n",
       "      <th>airsTime</th>\n",
       "      <th>firstAired</th>\n",
       "      <th>genre_x</th>\n",
       "      <th>id_x</th>\n",
       "      <th>imdbId</th>\n",
       "      <th>network</th>\n",
       "      <th>overview_x</th>\n",
       "      <th>rating</th>\n",
       "      <th>runtime_x</th>\n",
       "      <th>...</th>\n",
       "      <th>production</th>\n",
       "      <th>rated</th>\n",
       "      <th>ratings</th>\n",
       "      <th>released</th>\n",
       "      <th>runtime_y</th>\n",
       "      <th>title</th>\n",
       "      <th>total_seasons</th>\n",
       "      <th>type_y</th>\n",
       "      <th>writer</th>\n",
       "      <th>year</th>\n",
       "    </tr>\n",
       "  </thead>\n",
       "  <tbody>\n",
       "    <tr>\n",
       "      <th>Game of Thrones</th>\n",
       "      <td>Sunday</td>\n",
       "      <td>9:00 PM</td>\n",
       "      <td>2011-04-17</td>\n",
       "      <td>[Adventure, Drama, Fantasy]</td>\n",
       "      <td>121361</td>\n",
       "      <td>tt0944947</td>\n",
       "      <td>HBO</td>\n",
       "      <td>Seven noble families fight for control of the ...</td>\n",
       "      <td>TV-MA</td>\n",
       "      <td>55</td>\n",
       "      <td>...</td>\n",
       "      <td>N/A</td>\n",
       "      <td>TV-MA</td>\n",
       "      <td>[{'source': 'Internet Movie Database', 'value'...</td>\n",
       "      <td>17 Apr 2011</td>\n",
       "      <td>57 min</td>\n",
       "      <td>Game of Thrones</td>\n",
       "      <td>8</td>\n",
       "      <td>series</td>\n",
       "      <td>David Benioff, D.B. Weiss</td>\n",
       "      <td>2011–</td>\n",
       "    </tr>\n",
       "    <tr>\n",
       "      <th>Westworld</th>\n",
       "      <td>Sunday</td>\n",
       "      <td>9:00 PM</td>\n",
       "      <td>2016-10-02</td>\n",
       "      <td>[Adventure, Drama, Science-Fiction, Western]</td>\n",
       "      <td>296762</td>\n",
       "      <td>tt0475784</td>\n",
       "      <td>HBO</td>\n",
       "      <td>Westworld is a dark odyssey about the dawn of ...</td>\n",
       "      <td>TV-MA</td>\n",
       "      <td>60</td>\n",
       "      <td>...</td>\n",
       "      <td>N/A</td>\n",
       "      <td>TV-MA</td>\n",
       "      <td>[{'source': 'Internet Movie Database', 'value'...</td>\n",
       "      <td>02 Oct 2016</td>\n",
       "      <td>62 min</td>\n",
       "      <td>Westworld</td>\n",
       "      <td>3</td>\n",
       "      <td>series</td>\n",
       "      <td>N/A</td>\n",
       "      <td>2016–</td>\n",
       "    </tr>\n",
       "    <tr>\n",
       "      <th>Big Little Lies</th>\n",
       "      <td>Sunday</td>\n",
       "      <td>9:00 PM</td>\n",
       "      <td>2017-02-19</td>\n",
       "      <td>[Crime, Drama, Mystery]</td>\n",
       "      <td>305719</td>\n",
       "      <td>tt3920596</td>\n",
       "      <td>HBO</td>\n",
       "      <td>Subversive, darkly comedic drama Big Little Li...</td>\n",
       "      <td>TV-MA</td>\n",
       "      <td>50</td>\n",
       "      <td>...</td>\n",
       "      <td>N/A</td>\n",
       "      <td>TV-MA</td>\n",
       "      <td>[{'source': 'Internet Movie Database', 'value'...</td>\n",
       "      <td>19 Feb 2017</td>\n",
       "      <td>60 min</td>\n",
       "      <td>Big Little Lies</td>\n",
       "      <td>2</td>\n",
       "      <td>series</td>\n",
       "      <td>David E. Kelley</td>\n",
       "      <td>2017–</td>\n",
       "    </tr>\n",
       "  </tbody>\n",
       "</table>\n",
       "<p>3 rows × 54 columns</p>\n",
       "</div>"
      ],
      "text/plain": [
       "                airsDayOfWeek airsTime  firstAired  \\\n",
       "Game of Thrones        Sunday  9:00 PM  2011-04-17   \n",
       "Westworld              Sunday  9:00 PM  2016-10-02   \n",
       "Big Little Lies        Sunday  9:00 PM  2017-02-19   \n",
       "\n",
       "                                                      genre_x    id_x  \\\n",
       "Game of Thrones                   [Adventure, Drama, Fantasy]  121361   \n",
       "Westworld        [Adventure, Drama, Science-Fiction, Western]  296762   \n",
       "Big Little Lies                       [Crime, Drama, Mystery]  305719   \n",
       "\n",
       "                    imdbId network  \\\n",
       "Game of Thrones  tt0944947     HBO   \n",
       "Westworld        tt0475784     HBO   \n",
       "Big Little Lies  tt3920596     HBO   \n",
       "\n",
       "                                                        overview_x rating  \\\n",
       "Game of Thrones  Seven noble families fight for control of the ...  TV-MA   \n",
       "Westworld        Westworld is a dark odyssey about the dawn of ...  TV-MA   \n",
       "Big Little Lies  Subversive, darkly comedic drama Big Little Li...  TV-MA   \n",
       "\n",
       "                runtime_x  ...   production  rated  \\\n",
       "Game of Thrones        55  ...          N/A  TV-MA   \n",
       "Westworld              60  ...          N/A  TV-MA   \n",
       "Big Little Lies        50  ...          N/A  TV-MA   \n",
       "\n",
       "                                                           ratings  \\\n",
       "Game of Thrones  [{'source': 'Internet Movie Database', 'value'...   \n",
       "Westworld        [{'source': 'Internet Movie Database', 'value'...   \n",
       "Big Little Lies  [{'source': 'Internet Movie Database', 'value'...   \n",
       "\n",
       "                    released runtime_y            title total_seasons  type_y  \\\n",
       "Game of Thrones  17 Apr 2011    57 min  Game of Thrones             8  series   \n",
       "Westworld        02 Oct 2016    62 min        Westworld             3  series   \n",
       "Big Little Lies  19 Feb 2017    60 min  Big Little Lies             2  series   \n",
       "\n",
       "                                    writer   year  \n",
       "Game of Thrones  David Benioff, D.B. Weiss  2011–  \n",
       "Westworld                              N/A  2016–  \n",
       "Big Little Lies            David E. Kelley  2017–  \n",
       "\n",
       "[3 rows x 54 columns]"
      ]
     },
     "execution_count": 35,
     "metadata": {},
     "output_type": "execute_result"
    }
   ],
   "source": [
    "series_df.head(3)"
   ]
  },
  {
   "cell_type": "code",
   "execution_count": 36,
   "metadata": {
    "scrolled": true
   },
   "outputs": [
    {
     "data": {
      "text/plain": [
       "airsDayOfWeek             0\n",
       "airsTime                  0\n",
       "firstAired                0\n",
       "genre_x                   0\n",
       "id_x                      0\n",
       "imdbId                    0\n",
       "network                   0\n",
       "overview_x              157\n",
       "rating                    0\n",
       "runtime_x                 0\n",
       "seriesId                  0\n",
       "seriesName                0\n",
       "siteRating                0\n",
       "siteRatingCount           0\n",
       "status_x                  0\n",
       "created_by                0\n",
       "episode_run_time          0\n",
       "genres                    0\n",
       "id_y                      0\n",
       "in_production             0\n",
       "languages                 0\n",
       "name                      0\n",
       "networks                  0\n",
       "number_of_episodes       13\n",
       "number_of_seasons         0\n",
       "original_language         0\n",
       "original_name             0\n",
       "overview_y                0\n",
       "popularity                0\n",
       "production_companies      0\n",
       "seasons                   0\n",
       "status_y                  0\n",
       "type_x                    0\n",
       "vote_average              0\n",
       "vote_count                0\n",
       "actors                   84\n",
       "awards                   84\n",
       "director                 84\n",
       "genre_y                  84\n",
       "imdb_id                  84\n",
       "imdb_rating              84\n",
       "imdb_votes               84\n",
       "language                 84\n",
       "plot                     84\n",
       "production               84\n",
       "rated                    84\n",
       "ratings                  84\n",
       "released                 84\n",
       "runtime_y                84\n",
       "title                    84\n",
       "total_seasons           579\n",
       "type_y                   84\n",
       "writer                   84\n",
       "year                     84\n",
       "dtype: int64"
      ]
     },
     "execution_count": 36,
     "metadata": {},
     "output_type": "execute_result"
    }
   ],
   "source": [
    "series_df.isnull().sum()"
   ]
  },
  {
   "cell_type": "code",
   "execution_count": 37,
   "metadata": {
    "scrolled": true
   },
   "outputs": [
    {
     "data": {
      "text/plain": [
       "airsDayOfWeek           object\n",
       "airsTime                object\n",
       "firstAired              object\n",
       "genre_x                 object\n",
       "id_x                    object\n",
       "imdbId                  object\n",
       "network                 object\n",
       "overview_x              object\n",
       "rating                  object\n",
       "runtime_x               object\n",
       "seriesId                object\n",
       "seriesName              object\n",
       "siteRating              object\n",
       "siteRatingCount         object\n",
       "status_x                object\n",
       "created_by              object\n",
       "episode_run_time        object\n",
       "genres                  object\n",
       "id_y                    object\n",
       "in_production           object\n",
       "languages               object\n",
       "name                    object\n",
       "networks                object\n",
       "number_of_episodes      object\n",
       "number_of_seasons       object\n",
       "original_language       object\n",
       "original_name           object\n",
       "overview_y              object\n",
       "popularity              object\n",
       "production_companies    object\n",
       "seasons                 object\n",
       "status_y                object\n",
       "type_x                  object\n",
       "vote_average            object\n",
       "vote_count              object\n",
       "actors                  object\n",
       "awards                  object\n",
       "director                object\n",
       "genre_y                 object\n",
       "imdb_id                 object\n",
       "imdb_rating             object\n",
       "imdb_votes              object\n",
       "language                object\n",
       "plot                    object\n",
       "production              object\n",
       "rated                   object\n",
       "ratings                 object\n",
       "released                object\n",
       "runtime_y               object\n",
       "title                   object\n",
       "total_seasons           object\n",
       "type_y                  object\n",
       "writer                  object\n",
       "year                    object\n",
       "dtype: object"
      ]
     },
     "execution_count": 37,
     "metadata": {},
     "output_type": "execute_result"
    }
   ],
   "source": [
    "series_df.dtypes"
   ]
  },
  {
   "cell_type": "code",
   "execution_count": 38,
   "metadata": {},
   "outputs": [
    {
     "data": {
      "text/plain": [
       "Index(['airsDayOfWeek', 'airsTime', 'firstAired', 'genre_x', 'id_x', 'imdbId',\n",
       "       'network', 'overview_x', 'rating', 'runtime_x', 'seriesId',\n",
       "       'seriesName', 'siteRating', 'siteRatingCount', 'status_x', 'created_by',\n",
       "       'episode_run_time', 'genres', 'id_y', 'in_production', 'languages',\n",
       "       'name', 'networks', 'number_of_episodes', 'number_of_seasons',\n",
       "       'original_language', 'original_name', 'overview_y', 'popularity',\n",
       "       'production_companies', 'seasons', 'status_y', 'type_x', 'vote_average',\n",
       "       'vote_count', 'actors', 'awards', 'director', 'genre_y', 'imdb_id',\n",
       "       'imdb_rating', 'imdb_votes', 'language', 'plot', 'production', 'rated',\n",
       "       'ratings', 'released', 'runtime_y', 'title', 'total_seasons', 'type_y',\n",
       "       'writer', 'year'],\n",
       "      dtype='object')"
      ]
     },
     "execution_count": 38,
     "metadata": {},
     "output_type": "execute_result"
    }
   ],
   "source": [
    "series_df.columns"
   ]
  },
  {
   "cell_type": "markdown",
   "metadata": {},
   "source": [
    "There are several columns that are present in multiple dataframes, so I'll have to decide whether to drop them or combine them."
   ]
  },
  {
   "cell_type": "markdown",
   "metadata": {},
   "source": [
    "# Planning Features"
   ]
  },
  {
   "cell_type": "markdown",
   "metadata": {},
   "source": [
    "I believe that airdate and timeslot will be some of the largest predictors for a show's success, as it would directly affect how many people are viewing at a given time. "
   ]
  },
  {
   "cell_type": "code",
   "execution_count": 39,
   "metadata": {
    "scrolled": false
   },
   "outputs": [
    {
     "data": {
      "text/plain": [
       "             996\n",
       "Sunday       263\n",
       "Tuesday      238\n",
       "Wednesday    219\n",
       "Saturday     206\n",
       "Friday       199\n",
       "Monday       179\n",
       "Thursday     160\n",
       "Daily        133\n",
       "Weekdays       7\n",
       "Name: airsDayOfWeek, dtype: int64"
      ]
     },
     "execution_count": 39,
     "metadata": {},
     "output_type": "execute_result"
    }
   ],
   "source": [
    "series_df['airsDayOfWeek'].value_counts()"
   ]
  },
  {
   "cell_type": "code",
   "execution_count": 40,
   "metadata": {
    "scrolled": false
   },
   "outputs": [
    {
     "data": {
      "text/plain": [
       "0"
      ]
     },
     "execution_count": 40,
     "metadata": {},
     "output_type": "execute_result"
    }
   ],
   "source": [
    "len(series_df[series_df['released'] == 0])"
   ]
  },
  {
   "cell_type": "markdown",
   "metadata": {},
   "source": [
    "## Plot showing correlation between airdate/airtime/runtime and IMDB botes"
   ]
  },
  {
   "cell_type": "markdown",
   "metadata": {},
   "source": [
    "It appears that the airing day of the week is missing roughly half of the total observations, while the 'released' column is missing significantly fewer observations. I can determine the original airing day of week based on this released date, although it wouldn't be clear if the show had aired for every day of the week."
   ]
  },
  {
   "cell_type": "code",
   "execution_count": 41,
   "metadata": {
    "scrolled": false
   },
   "outputs": [
    {
     "data": {
      "text/plain": [
       "               1118\n",
       "9:00 PM         234\n",
       "8:00 PM         197\n",
       "10:00 PM        179\n",
       "9:30 PM          69\n",
       "8:30 PM          67\n",
       "21:00            54\n",
       "22:00            37\n",
       "10:30 PM         36\n",
       "20:00            33\n",
       "11:00 PM         22\n",
       "7:30 PM          21\n",
       "12:00 AM         20\n",
       "11:30 PM         20\n",
       "21:30            20\n",
       "20:30            17\n",
       "7:00 PM          16\n",
       "9pm              12\n",
       "10:00 AM         11\n",
       "11:00 AM         10\n",
       "10:00 pm          9\n",
       "9:30 AM           9\n",
       "19:00             8\n",
       "2:00 PM           8\n",
       "12:15 AM          7\n",
       "9:00 AM           7\n",
       "9:00PM            7\n",
       "11:30 AM          6\n",
       "6:30 PM           6\n",
       "7:00 AM           6\n",
       "               ... \n",
       "8:30PM            1\n",
       "20:50             1\n",
       "9:00 PM EST       1\n",
       "8:00am            1\n",
       "23:45             1\n",
       "5:15 PM           1\n",
       "9:30PM            1\n",
       "1:00 AM           1\n",
       "4am               1\n",
       "6:30 AM           1\n",
       "7:30              1\n",
       "09:00             1\n",
       "10pm              1\n",
       "07:30 PM          1\n",
       "9 PM              1\n",
       "20:15             1\n",
       "7:30am            1\n",
       "7:15pm            1\n",
       "11:45 AM          1\n",
       "09:00pm           1\n",
       "9:30 pm           1\n",
       "8pm               1\n",
       "2:30 PM           1\n",
       "1:00PM            1\n",
       "9:40 PM           1\n",
       "18.45             1\n",
       "06:30             1\n",
       "9:55 PM           1\n",
       "4:24 AM           1\n",
       "8:30 am           1\n",
       "Name: airsTime, Length: 197, dtype: int64"
      ]
     },
     "execution_count": 41,
     "metadata": {},
     "output_type": "execute_result"
    }
   ],
   "source": [
    "series_df['airsTime'].value_counts()"
   ]
  },
  {
   "cell_type": "markdown",
   "metadata": {},
   "source": [
    "The above two columns will require a lot of cleanup, but will hopefully be useable."
   ]
  },
  {
   "cell_type": "code",
   "execution_count": 42,
   "metadata": {
    "scrolled": true
   },
   "outputs": [
    {
     "data": {
      "text/plain": [
       "         1447\n",
       "TV-14     402\n",
       "TV-PG     291\n",
       "TV-MA     197\n",
       "TV-Y7      93\n",
       "TV-G       88\n",
       "TV-Y       82\n",
       "Name: rating, dtype: int64"
      ]
     },
     "execution_count": 42,
     "metadata": {},
     "output_type": "execute_result"
    }
   ],
   "source": [
    "series_df['rating'].value_counts()"
   ]
  },
  {
   "cell_type": "markdown",
   "metadata": {},
   "source": [
    "The ratings also have about half of their observations as blanks, but unfortunately there is no other source for this information for me to try and impute data, and half of all observations is too siginficant to try and use a null/unknown placeholder when dummying this. It will simply have to be dropped."
   ]
  },
  {
   "cell_type": "code",
   "execution_count": 43,
   "metadata": {},
   "outputs": [],
   "source": [
    "series_df.drop(['firstAired', 'runtime_y', \n",
    "                'languages', 'networks', \n",
    "                'siteRating', 'siteRatingCount',\n",
    "                'episode_run_time', 'original_language', 'original_name',\n",
    "                'popularity', 'language', 'production', 'production_companies',\n",
    "                'imdbId', ], axis=1, inplace=True)"
   ]
  },
  {
   "cell_type": "code",
   "execution_count": 44,
   "metadata": {
    "scrolled": false
   },
   "outputs": [
    {
     "data": {
      "text/plain": [
       "Game of Thrones                         [{'id': 10765, 'name': 'Sci-Fi & Fantasy'}, {'...\n",
       "Westworld                               [{'id': 37, 'name': 'Western'}, {'id': 878, 'n...\n",
       "Big Little Lies                                             [{'id': 18, 'name': 'Drama'}]\n",
       "The Deuce                                                   [{'id': 18, 'name': 'Drama'}]\n",
       "Succession                                                  [{'id': 18, 'name': 'Drama'}]\n",
       "Curb Your Enthusiasm                                       [{'id': 35, 'name': 'Comedy'}]\n",
       "Veep                                                       [{'id': 35, 'name': 'Comedy'}]\n",
       "Silicon Valley                                             [{'id': 35, 'name': 'Comedy'}]\n",
       "Ballers                                 [{'id': 18, 'name': 'Drama'}, {'id': 35, 'name...\n",
       "High Maintenance                                           [{'id': 35, 'name': 'Comedy'}]\n",
       "Divorce                                                    [{'id': 35, 'name': 'Comedy'}]\n",
       "Insecure                                [{'id': 35, 'name': 'Comedy'}, {'id': 18, 'nam...\n",
       "Tracey Ullman's Show                                       [{'id': 35, 'name': 'Comedy'}]\n",
       "Crashing                                                   [{'id': 35, 'name': 'Comedy'}]\n",
       "Barry                                                      [{'id': 35, 'name': 'Comedy'}]\n",
       "Random Acts of Flyness                                     [{'id': 35, 'name': 'Comedy'}]\n",
       "Camping                                                    [{'id': 35, 'name': 'Comedy'}]\n",
       "True Detective                                              [{'id': 18, 'name': 'Drama'}]\n",
       "Room 104                                [{'id': 9648, 'name': 'Mystery'}, {'id': 35, '...\n",
       "Animals.                                [{'id': 16, 'name': 'Animation'}, {'id': 35, '...\n",
       "Sesame Street                           [{'id': 16, 'name': 'Animation'}, {'id': 35, '...\n",
       "Esme & Roy                              [{'id': 10762, 'name': 'Kids'}, {'id': 16, 'na...\n",
       "Real Sports with Bryant Gumbel                            [{'id': 10763, 'name': 'News'}]\n",
       "Hard Knocks                             [{'id': 10764, 'name': 'Reality'}, {'id': 99, ...\n",
       "Masterclass                                                                            []\n",
       "Vice                                    [{'id': 99, 'name': 'Documentary'}, {'id': 107...\n",
       "Wyatt Cenac's Problem Areas             [{'id': 35, 'name': 'Comedy'}, {'id': 99, 'nam...\n",
       "Real Time with Bill Maher               [{'id': 35, 'name': 'Comedy'}, {'id': 10767, '...\n",
       "Last Week Tonight with John Oliver      [{'id': 10767, 'name': 'Talk'}, {'id': 35, 'na...\n",
       "Vice News Tonight                                         [{'id': 10763, 'name': 'News'}]\n",
       "                                                              ...                        \n",
       "The Nurses                                                  [{'id': 18, 'name': 'Drama'}]\n",
       "The Young Marrieds                                                                     []\n",
       "Monday Night Football                                                                  []\n",
       "Animals, Animals, Animals               [{'id': 16, 'name': 'Animation'}, {'id': 35, '...\n",
       "Kids Are People Too                                                                    []\n",
       "Make a Wish                                                                            []\n",
       "Bachelor in Paradise: After Paradise                                                   []\n",
       "The Chew                                                                               []\n",
       "Home                                    [{'id': 18, 'name': 'Drama'}, {'id': 10751, 'n...\n",
       "The Dick Cavett Show                                                                   []\n",
       "The Revolution                                        [{'id': 99, 'name': 'Documentary'}]\n",
       "American Bandstand                                                                     []\n",
       "Captain & Tennille                                         [{'id': 35, 'name': 'Comedy'}]\n",
       "Cos                                                        [{'id': 35, 'name': 'Comedy'}]\n",
       "Dolly                                                      [{'id': 35, 'name': 'Comedy'}]\n",
       "Donny & Marie                                                                          []\n",
       "Fridays                                                    [{'id': 35, 'name': 'Comedy'}]\n",
       "The Brady Bunch Hour                                       [{'id': 35, 'name': 'Comedy'}]\n",
       "The Dana Carvey Show                                       [{'id': 35, 'name': 'Comedy'}]\n",
       "The Frank Sinatra Show                                   [{'id': 10402, 'name': 'Music'}]\n",
       "The Hollywood Palace                                                                   []\n",
       "The Johnny Cash Show                                      [{'id': 10767, 'name': 'Talk'}]\n",
       "The Lawrence Welk Show                                                                 []\n",
       "The Wayne Brady Show                                       [{'id': 35, 'name': 'Comedy'}]\n",
       "This Is Tom Jones                                                                      []\n",
       "Trust Us with Your Life                                    [{'id': 35, 'name': 'Comedy'}]\n",
       "Turn-On                                                                                []\n",
       "Where the Action Is                                                                    []\n",
       "Muppets Tonight                         [{'id': 35, 'name': 'Comedy'}, {'id': 10751, '...\n",
       "Ripley's Believe It or Not                                                             []\n",
       "Name: genres, Length: 2600, dtype: object"
      ]
     },
     "execution_count": 44,
     "metadata": {},
     "output_type": "execute_result"
    }
   ],
   "source": [
    "series_df['genre_y']\n",
    "series_df['genre_x']\n",
    "series_df['genres']"
   ]
  },
  {
   "cell_type": "code",
   "execution_count": 45,
   "metadata": {},
   "outputs": [],
   "source": [
    "series_df.drop(['genre_x', 'genres'], axis=1, inplace=True)"
   ]
  },
  {
   "cell_type": "markdown",
   "metadata": {},
   "source": [
    "The genres don't appear too dissimilar and are represented 3 times, so I'll drop 2 of them."
   ]
  },
  {
   "cell_type": "markdown",
   "metadata": {},
   "source": [
    "I will now get rid of any 'movie' types that have made it this far into the data collection and cleaning process, as well as some other repeated features."
   ]
  },
  {
   "cell_type": "code",
   "execution_count": 46,
   "metadata": {},
   "outputs": [
    {
     "data": {
      "text/plain": [
       "series    2021\n",
       "movie      495\n",
       "Name: type_y, dtype: int64"
      ]
     },
     "execution_count": 46,
     "metadata": {},
     "output_type": "execute_result"
    }
   ],
   "source": [
    "series_df['type_y'].value_counts()"
   ]
  },
  {
   "cell_type": "code",
   "execution_count": 47,
   "metadata": {
    "scrolled": true
   },
   "outputs": [],
   "source": [
    "series_df.drop(['created_by', 'year', 'director', 'total_seasons', \n",
    "                'seasons', 'vote_average', 'vote_count', \n",
    "                'id_x', 'id_y', 'title', 'seriesId', 'seriesName', \n",
    "                'ratings', 'status_x', 'in_production'], \n",
    "               axis=1, \n",
    "               inplace=True)"
   ]
  },
  {
   "cell_type": "code",
   "execution_count": 48,
   "metadata": {},
   "outputs": [],
   "source": [
    "series_df = series_df.replace('N/A', 0)"
   ]
  },
  {
   "cell_type": "code",
   "execution_count": 49,
   "metadata": {},
   "outputs": [],
   "source": [
    "series_df = series_df[series_df['type_y'] == 'series']\n",
    "series_df.drop('type_y', axis=1, inplace=True)"
   ]
  },
  {
   "cell_type": "markdown",
   "metadata": {},
   "source": [
    "I can also drop shows that have no IMDB rating, represented in my dataframe as 0s, as well as shows with no indication for number of episodes, again present as 0s. "
   ]
  },
  {
   "cell_type": "code",
   "execution_count": 50,
   "metadata": {
    "scrolled": true
   },
   "outputs": [],
   "source": [
    "series_df['awards'][series_df['awards'] != 0] = 1"
   ]
  },
  {
   "cell_type": "code",
   "execution_count": 51,
   "metadata": {},
   "outputs": [],
   "source": [
    "series_df = series_df[series_df['imdb_rating'] != 0]"
   ]
  },
  {
   "cell_type": "code",
   "execution_count": 52,
   "metadata": {},
   "outputs": [],
   "source": [
    "series_df = series_df[series_df['number_of_episodes'] != 0]"
   ]
  },
  {
   "cell_type": "code",
   "execution_count": 53,
   "metadata": {},
   "outputs": [],
   "source": [
    "series_df.drop(['rated', 'name'], axis=1, inplace=True)"
   ]
  },
  {
   "cell_type": "code",
   "execution_count": 54,
   "metadata": {},
   "outputs": [
    {
     "data": {
      "text/plain": [
       "(1915, 20)"
      ]
     },
     "execution_count": 54,
     "metadata": {},
     "output_type": "execute_result"
    }
   ],
   "source": [
    "series_df.shape"
   ]
  },
  {
   "cell_type": "markdown",
   "metadata": {},
   "source": [
    "As a last step in this initial preprocessing stage, I can turn the awards column to be categorical - the value will be 0 for shows that never got a nomination or an award, and a 1 for those who have."
   ]
  },
  {
   "cell_type": "code",
   "execution_count": 55,
   "metadata": {
    "scrolled": true
   },
   "outputs": [],
   "source": [
    "series_df['awards'][series_df['awards'] != 0] = 1"
   ]
  },
  {
   "cell_type": "code",
   "execution_count": 56,
   "metadata": {},
   "outputs": [],
   "source": [
    "with open('./Assets_&_Data/series_df_full.pickle', 'wb') as f:\n",
    "    pickle.dump(series_df, f)"
   ]
  },
  {
   "cell_type": "markdown",
   "metadata": {},
   "source": [
    "# Next Steps\n",
    "\n",
    "In the following notebook, I will want to continue with the preprocessing by cleaning up the data types, missing values, etc. "
   ]
  },
  {
   "cell_type": "code",
   "execution_count": null,
   "metadata": {},
   "outputs": [],
   "source": []
  }
 ],
 "metadata": {
  "kernelspec": {
   "display_name": "Python 3",
   "language": "python",
   "name": "python3"
  },
  "language_info": {
   "codemirror_mode": {
    "name": "ipython",
    "version": 3
   },
   "file_extension": ".py",
   "mimetype": "text/x-python",
   "name": "python",
   "nbconvert_exporter": "python",
   "pygments_lexer": "ipython3",
   "version": "3.6.5"
  }
 },
 "nbformat": 4,
 "nbformat_minor": 2
}
