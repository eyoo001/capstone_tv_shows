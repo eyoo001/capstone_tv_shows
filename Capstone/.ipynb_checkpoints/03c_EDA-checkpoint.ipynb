{
 "cells": [
  {
   "cell_type": "code",
   "execution_count": 1,
   "metadata": {},
   "outputs": [],
   "source": [
    "# Episode info\n",
    "# Include topic modeling for episodes per show - additional columns?? \n",
    "# Guest stars - 0/1\n",
    "# Check to see if episode_info includes imdb ratings\n",
    "\n",
    "# Maybe drop significance of writers for the time being??\n",
    "\n",
    "# Writers - no. of episodes, no. of shows, no. of seasons, show ratings(avg?), overview for shows written"
   ]
  },
  {
   "cell_type": "markdown",
   "metadata": {},
   "source": [
    "# Feature Engineering & EDA"
   ]
  },
  {
   "cell_type": "markdown",
   "metadata": {},
   "source": [
    "With the data centralized, I can take a closer look to see how my features will interact with my target variable, IMDB ratings. This will be a regression problem, so I will be using Linear Regression (including Ridge and Lasso), Random Forest Regression, and Gradient Boost as my models to try and predict with, so I will have to prepare my data accordingly. I plan on categorizing and dummying the features that aren't numerical, as well as categorize numerical data that shouldn't have a greater or worse weight based on the value (i.e. time or dates)."
   ]
  },
  {
   "cell_type": "code",
   "execution_count": 2,
   "metadata": {
    "scrolled": true
   },
   "outputs": [
    {
     "name": "stderr",
     "output_type": "stream",
     "text": [
      "/anaconda3/lib/python3.6/site-packages/nltk/twitter/__init__.py:20: UserWarning: The twython library has not been installed. Some functionality from the twitter package will not be available.\n",
      "  warnings.warn(\"The twython library has not been installed. \"\n"
     ]
    }
   ],
   "source": [
    "from sklearn.preprocessing import StandardScaler\n",
    "from sklearn.linear_model import LinearRegression, LassoCV, RidgeCV, ElasticNetCV\n",
    "from sklearn.ensemble import RandomForestRegressor, GradientBoostingRegressor\n",
    "from sklearn.model_selection import train_test_split, GridSearchCV\n",
    "from sklearn.feature_extraction.text import CountVectorizer\n",
    "\n",
    "from nltk.tokenize import word_tokenize  \n",
    "from nltk.corpus import stopwords\n",
    "from nltk.stem import WordNetLemmatizer\n",
    "from nltk.stem import PorterStemmer\n",
    "from nltk.sentiment import vader, SentimentAnalyzer\n",
    "\n",
    "import datetime, time\n",
    "import pandas as pd\n",
    "import numpy as np\n",
    "import seaborn as sns\n",
    "import matplotlib.pyplot as plt\n",
    "import pickle\n",
    "import json\n",
    "\n",
    "%matplotlib inline"
   ]
  },
  {
   "cell_type": "code",
   "execution_count": 3,
   "metadata": {},
   "outputs": [],
   "source": [
    "with open('./series_df_full.pickle', 'rb') as handle:\n",
    "    series_df = pickle.load(handle)"
   ]
  },
  {
   "cell_type": "code",
   "execution_count": 4,
   "metadata": {
    "scrolled": true
   },
   "outputs": [
    {
     "data": {
      "text/plain": [
       "Index(['airsDayOfWeek', 'airsTime', 'network', 'overview_x', 'rating',\n",
       "       'runtime_x', 'number_of_episodes', 'number_of_seasons', 'overview_y',\n",
       "       'status_y', 'type_x', 'actors', 'awards', 'genre_y', 'imdb_id',\n",
       "       'imdb_rating', 'imdb_votes', 'plot', 'released', 'writer'],\n",
       "      dtype='object')"
      ]
     },
     "execution_count": 4,
     "metadata": {},
     "output_type": "execute_result"
    }
   ],
   "source": [
    "series_df.columns"
   ]
  },
  {
   "cell_type": "code",
   "execution_count": 5,
   "metadata": {},
   "outputs": [],
   "source": [
    "clean_time = series_df[['airsTime']]"
   ]
  },
  {
   "cell_type": "code",
   "execution_count": 6,
   "metadata": {},
   "outputs": [],
   "source": [
    "pm_slot = clean_time[clean_time['airsTime'].str.contains('PM')]\n",
    "\n",
    "pm_slot_ = clean_time[clean_time['airsTime'].str.contains('pm')]\n",
    "\n",
    "am_slot = clean_time[clean_time['airsTime'].str.contains('AM')]\n",
    "\n",
    "am_slot_ = clean_time[clean_time['airsTime'].str.contains('am')]"
   ]
  },
  {
   "cell_type": "code",
   "execution_count": 7,
   "metadata": {},
   "outputs": [],
   "source": [
    "missing_time = clean_time[clean_time['airsTime'] == '']"
   ]
  },
  {
   "cell_type": "code",
   "execution_count": 8,
   "metadata": {},
   "outputs": [],
   "source": [
    "remaining_time = clean_time[clean_time['airsTime'] != '']\n",
    "\n",
    "remaining_time = remaining_time[~remaining_time['airsTime'].str.contains('PM')]\n",
    "\n",
    "remaining_time = remaining_time[~remaining_time['airsTime'].str.contains('pm')]\n",
    "\n",
    "remaining_time = remaining_time[~remaining_time['airsTime'].str.contains('AM')]\n",
    "\n",
    "remaining_time = remaining_time[~remaining_time['airsTime'].str.contains('am')]"
   ]
  },
  {
   "cell_type": "code",
   "execution_count": 9,
   "metadata": {},
   "outputs": [],
   "source": [
    "for i in reversed(range(1, 25)):\n",
    "    if i >= 22:\n",
    "        remaining_time[remaining_time['airsTime'].str.contains(str(i))] = 'latenight'\n",
    "    elif i >= 18:\n",
    "        remaining_time[remaining_time['airsTime'].str.contains(str(i))] = 'evening'\n",
    "    elif i >= 12:\n",
    "        remaining_time[remaining_time['airsTime'].str.contains(str(i))] = 'afternoon'\n",
    "    elif i >=5:\n",
    "        remaining_time[remaining_time['airsTime'].str.contains(str(i))] = 'morning'\n",
    "    else: \n",
    "        remaining_time[remaining_time['airsTime'].str.contains(str(i))] = 'latenight'"
   ]
  },
  {
   "cell_type": "code",
   "execution_count": 10,
   "metadata": {
    "scrolled": true
   },
   "outputs": [
    {
     "data": {
      "text/html": [
       "<div>\n",
       "<style scoped>\n",
       "    .dataframe tbody tr th:only-of-type {\n",
       "        vertical-align: middle;\n",
       "    }\n",
       "\n",
       "    .dataframe tbody tr th {\n",
       "        vertical-align: top;\n",
       "    }\n",
       "\n",
       "    .dataframe thead th {\n",
       "        text-align: right;\n",
       "    }\n",
       "</style>\n",
       "<table border=\"1\" class=\"dataframe\">\n",
       "  <thead>\n",
       "    <tr style=\"text-align: right;\">\n",
       "      <th></th>\n",
       "      <th>airsTime</th>\n",
       "    </tr>\n",
       "  </thead>\n",
       "  <tbody>\n",
       "    <tr>\n",
       "      <th>Veep</th>\n",
       "      <td>latenight</td>\n",
       "    </tr>\n",
       "    <tr>\n",
       "      <th>Crashing</th>\n",
       "      <td>latenight</td>\n",
       "    </tr>\n",
       "    <tr>\n",
       "      <th>Animals.</th>\n",
       "      <td>latenight</td>\n",
       "    </tr>\n",
       "    <tr>\n",
       "      <th>Wyatt Cenac's Problem Areas</th>\n",
       "      <td>latenight</td>\n",
       "    </tr>\n",
       "    <tr>\n",
       "      <th>HBO</th>\n",
       "      <td>morning</td>\n",
       "    </tr>\n",
       "    <tr>\n",
       "      <th>Tales from the Crypt</th>\n",
       "      <td>latenight</td>\n",
       "    </tr>\n",
       "    <tr>\n",
       "      <th>Crashbox</th>\n",
       "      <td>afternoon</td>\n",
       "    </tr>\n",
       "    <tr>\n",
       "      <th>Any Given Wednesday with Bill Simmons</th>\n",
       "      <td>latenight</td>\n",
       "    </tr>\n",
       "    <tr>\n",
       "      <th>Vinyl</th>\n",
       "      <td>evening</td>\n",
       "    </tr>\n",
       "    <tr>\n",
       "      <th>Elizabeth I</th>\n",
       "      <td>evening</td>\n",
       "    </tr>\n",
       "    <tr>\n",
       "      <th>House of Saddam</th>\n",
       "      <td>evening</td>\n",
       "    </tr>\n",
       "    <tr>\n",
       "      <th>Olive Kitteridge</th>\n",
       "      <td>evening</td>\n",
       "    </tr>\n",
       "    <tr>\n",
       "      <th>Parade's End</th>\n",
       "      <td>evening</td>\n",
       "    </tr>\n",
       "    <tr>\n",
       "      <th>Tanner '88</th>\n",
       "      <td>evening</td>\n",
       "    </tr>\n",
       "    <tr>\n",
       "      <th>New Amsterdam</th>\n",
       "      <td>evening</td>\n",
       "    </tr>\n",
       "    <tr>\n",
       "      <th>The Voice</th>\n",
       "      <td>evening</td>\n",
       "    </tr>\n",
       "    <tr>\n",
       "      <th>Today</th>\n",
       "      <td>morning</td>\n",
       "    </tr>\n",
       "    <tr>\n",
       "      <th>Sunday Night with Megyn Kelly</th>\n",
       "      <td>evening</td>\n",
       "    </tr>\n",
       "    <tr>\n",
       "      <th>NHL Winter Classic</th>\n",
       "      <td>latenight</td>\n",
       "    </tr>\n",
       "    <tr>\n",
       "      <th>Premier League</th>\n",
       "      <td>latenight</td>\n",
       "    </tr>\n",
       "    <tr>\n",
       "      <th>McMafia</th>\n",
       "      <td>evening</td>\n",
       "    </tr>\n",
       "    <tr>\n",
       "      <th>James Cameron's Story of Science Fiction</th>\n",
       "      <td>latenight</td>\n",
       "    </tr>\n",
       "    <tr>\n",
       "      <th>The Prisoner</th>\n",
       "      <td>latenight</td>\n",
       "    </tr>\n",
       "    <tr>\n",
       "      <th>The Making of the Mob</th>\n",
       "      <td>latenight</td>\n",
       "    </tr>\n",
       "    <tr>\n",
       "      <th>Cybill</th>\n",
       "      <td>evening</td>\n",
       "    </tr>\n",
       "    <tr>\n",
       "      <th>Daniel Boone</th>\n",
       "      <td>evening</td>\n",
       "    </tr>\n",
       "    <tr>\n",
       "      <th>Aqua Teen Hunger Force</th>\n",
       "      <td>latenight</td>\n",
       "    </tr>\n",
       "    <tr>\n",
       "      <th>Delocated</th>\n",
       "      <td>morning</td>\n",
       "    </tr>\n",
       "    <tr>\n",
       "      <th>Titan Maximum</th>\n",
       "      <td>morning</td>\n",
       "    </tr>\n",
       "    <tr>\n",
       "      <th>Brad Neely's Harg Nallin' Sclopio Peepio</th>\n",
       "      <td>latenight</td>\n",
       "    </tr>\n",
       "    <tr>\n",
       "      <th>...</th>\n",
       "      <td>...</td>\n",
       "    </tr>\n",
       "    <tr>\n",
       "      <th>Wagon Train</th>\n",
       "      <td>evening</td>\n",
       "    </tr>\n",
       "    <tr>\n",
       "      <th>101 Ways to Leave a Game Show</th>\n",
       "      <td>evening</td>\n",
       "    </tr>\n",
       "    <tr>\n",
       "      <th>The Thorn Birds</th>\n",
       "      <td>evening</td>\n",
       "    </tr>\n",
       "    <tr>\n",
       "      <th>North and South</th>\n",
       "      <td>evening</td>\n",
       "    </tr>\n",
       "    <tr>\n",
       "      <th>When We Rise</th>\n",
       "      <td>evening</td>\n",
       "    </tr>\n",
       "    <tr>\n",
       "      <th>Top Cat</th>\n",
       "      <td>evening</td>\n",
       "    </tr>\n",
       "    <tr>\n",
       "      <th>The Mole</th>\n",
       "      <td>latenight</td>\n",
       "    </tr>\n",
       "    <tr>\n",
       "      <th>Extreme Makeover: Home Edition</th>\n",
       "      <td>evening</td>\n",
       "    </tr>\n",
       "    <tr>\n",
       "      <th>Flash Forward</th>\n",
       "      <td>evening</td>\n",
       "    </tr>\n",
       "    <tr>\n",
       "      <th>Hong Kong Phooey</th>\n",
       "      <td>morning</td>\n",
       "    </tr>\n",
       "    <tr>\n",
       "      <th>Ocean Mysteries with Jeff Corwin</th>\n",
       "      <td>evening</td>\n",
       "    </tr>\n",
       "    <tr>\n",
       "      <th>Phil of the Future</th>\n",
       "      <td>evening</td>\n",
       "    </tr>\n",
       "    <tr>\n",
       "      <th>Sonic the Hedgehog</th>\n",
       "      <td>morning</td>\n",
       "    </tr>\n",
       "    <tr>\n",
       "      <th>The Emperor's New School</th>\n",
       "      <td>afternoon</td>\n",
       "    </tr>\n",
       "    <tr>\n",
       "      <th>The Lost Saucer</th>\n",
       "      <td>morning</td>\n",
       "    </tr>\n",
       "    <tr>\n",
       "      <th>The New Adventures of Winnie the Pooh</th>\n",
       "      <td>morning</td>\n",
       "    </tr>\n",
       "    <tr>\n",
       "      <th>Turbo Teen</th>\n",
       "      <td>latenight</td>\n",
       "    </tr>\n",
       "    <tr>\n",
       "      <th>Just the Ten of Us</th>\n",
       "      <td>evening</td>\n",
       "    </tr>\n",
       "    <tr>\n",
       "      <th>Less than Perfect</th>\n",
       "      <td>evening</td>\n",
       "    </tr>\n",
       "    <tr>\n",
       "      <th>Life with Lucy</th>\n",
       "      <td>evening</td>\n",
       "    </tr>\n",
       "    <tr>\n",
       "      <th>Manhattan Love Story</th>\n",
       "      <td>latenight</td>\n",
       "    </tr>\n",
       "    <tr>\n",
       "      <th>The Geena Davis Show</th>\n",
       "      <td>evening</td>\n",
       "    </tr>\n",
       "    <tr>\n",
       "      <th>The Jackie Thomas Show</th>\n",
       "      <td>evening</td>\n",
       "    </tr>\n",
       "    <tr>\n",
       "      <th>The Nancy Walker Show</th>\n",
       "      <td>evening</td>\n",
       "    </tr>\n",
       "    <tr>\n",
       "      <th>The New Odd Couple</th>\n",
       "      <td>morning</td>\n",
       "    </tr>\n",
       "    <tr>\n",
       "      <th>The Real O'Neals</th>\n",
       "      <td>evening</td>\n",
       "    </tr>\n",
       "    <tr>\n",
       "      <th>The Second Hundred Years</th>\n",
       "      <td>evening</td>\n",
       "    </tr>\n",
       "    <tr>\n",
       "      <th>What About Joan?</th>\n",
       "      <td>evening</td>\n",
       "    </tr>\n",
       "    <tr>\n",
       "      <th>When Things Were Rotten</th>\n",
       "      <td>evening</td>\n",
       "    </tr>\n",
       "    <tr>\n",
       "      <th>The Hollywood Palace</th>\n",
       "      <td>evening</td>\n",
       "    </tr>\n",
       "  </tbody>\n",
       "</table>\n",
       "<p>196 rows × 1 columns</p>\n",
       "</div>"
      ],
      "text/plain": [
       "                                           airsTime\n",
       "Veep                                      latenight\n",
       "Crashing                                  latenight\n",
       "Animals.                                  latenight\n",
       "Wyatt Cenac's Problem Areas               latenight\n",
       "HBO                                         morning\n",
       "Tales from the Crypt                      latenight\n",
       "Crashbox                                  afternoon\n",
       "Any Given Wednesday with Bill Simmons     latenight\n",
       "Vinyl                                       evening\n",
       "Elizabeth I                                 evening\n",
       "House of Saddam                             evening\n",
       "Olive Kitteridge                            evening\n",
       "Parade's End                                evening\n",
       "Tanner '88                                  evening\n",
       "New Amsterdam                               evening\n",
       "The Voice                                   evening\n",
       "Today                                       morning\n",
       "Sunday Night with Megyn Kelly               evening\n",
       "NHL Winter Classic                        latenight\n",
       "Premier League                            latenight\n",
       "McMafia                                     evening\n",
       "James Cameron's Story of Science Fiction  latenight\n",
       "The Prisoner                              latenight\n",
       "The Making of the Mob                     latenight\n",
       "Cybill                                      evening\n",
       "Daniel Boone                                evening\n",
       "Aqua Teen Hunger Force                    latenight\n",
       "Delocated                                   morning\n",
       "Titan Maximum                               morning\n",
       "Brad Neely's Harg Nallin' Sclopio Peepio  latenight\n",
       "...                                             ...\n",
       "Wagon Train                                 evening\n",
       "101 Ways to Leave a Game Show               evening\n",
       "The Thorn Birds                             evening\n",
       "North and South                             evening\n",
       "When We Rise                                evening\n",
       "Top Cat                                     evening\n",
       "The Mole                                  latenight\n",
       "Extreme Makeover: Home Edition              evening\n",
       "Flash Forward                               evening\n",
       "Hong Kong Phooey                            morning\n",
       "Ocean Mysteries with Jeff Corwin            evening\n",
       "Phil of the Future                          evening\n",
       "Sonic the Hedgehog                          morning\n",
       "The Emperor's New School                  afternoon\n",
       "The Lost Saucer                             morning\n",
       "The New Adventures of Winnie the Pooh       morning\n",
       "Turbo Teen                                latenight\n",
       "Just the Ten of Us                          evening\n",
       "Less than Perfect                           evening\n",
       "Life with Lucy                              evening\n",
       "Manhattan Love Story                      latenight\n",
       "The Geena Davis Show                        evening\n",
       "The Jackie Thomas Show                      evening\n",
       "The Nancy Walker Show                       evening\n",
       "The New Odd Couple                          morning\n",
       "The Real O'Neals                            evening\n",
       "The Second Hundred Years                    evening\n",
       "What About Joan?                            evening\n",
       "When Things Were Rotten                     evening\n",
       "The Hollywood Palace                        evening\n",
       "\n",
       "[196 rows x 1 columns]"
      ]
     },
     "execution_count": 10,
     "metadata": {},
     "output_type": "execute_result"
    }
   ],
   "source": [
    "remaining_time"
   ]
  },
  {
   "cell_type": "code",
   "execution_count": 11,
   "metadata": {},
   "outputs": [
    {
     "name": "stderr",
     "output_type": "stream",
     "text": [
      "/anaconda3/lib/python3.6/site-packages/ipykernel_launcher.py:4: SettingWithCopyWarning: \n",
      "A value is trying to be set on a copy of a slice from a DataFrame.\n",
      "Try using .loc[row_indexer,col_indexer] = value instead\n",
      "\n",
      "See the caveats in the documentation: http://pandas.pydata.org/pandas-docs/stable/indexing.html#indexing-view-versus-copy\n",
      "  after removing the cwd from sys.path.\n",
      "/anaconda3/lib/python3.6/site-packages/pandas/core/frame.py:3131: SettingWithCopyWarning: \n",
      "A value is trying to be set on a copy of a slice from a DataFrame\n",
      "\n",
      "See the caveats in the documentation: http://pandas.pydata.org/pandas-docs/stable/indexing.html#indexing-view-versus-copy\n",
      "  self.loc._setitem_with_indexer(indexer, value)\n",
      "/anaconda3/lib/python3.6/site-packages/pandas/core/frame.py:3113: SettingWithCopyWarning: \n",
      "A value is trying to be set on a copy of a slice from a DataFrame\n",
      "\n",
      "See the caveats in the documentation: http://pandas.pydata.org/pandas-docs/stable/indexing.html#indexing-view-versus-copy\n",
      "  self._setitem_array(key, value)\n",
      "/anaconda3/lib/python3.6/site-packages/ipykernel_launcher.py:5: SettingWithCopyWarning: \n",
      "A value is trying to be set on a copy of a slice from a DataFrame.\n",
      "Try using .loc[row_indexer,col_indexer] = value instead\n",
      "\n",
      "See the caveats in the documentation: http://pandas.pydata.org/pandas-docs/stable/indexing.html#indexing-view-versus-copy\n",
      "  \"\"\"\n",
      "/anaconda3/lib/python3.6/site-packages/ipykernel_launcher.py:7: SettingWithCopyWarning: \n",
      "A value is trying to be set on a copy of a slice from a DataFrame.\n",
      "Try using .loc[row_indexer,col_indexer] = value instead\n",
      "\n",
      "See the caveats in the documentation: http://pandas.pydata.org/pandas-docs/stable/indexing.html#indexing-view-versus-copy\n",
      "  import sys\n",
      "/anaconda3/lib/python3.6/site-packages/ipykernel_launcher.py:8: SettingWithCopyWarning: \n",
      "A value is trying to be set on a copy of a slice from a DataFrame.\n",
      "Try using .loc[row_indexer,col_indexer] = value instead\n",
      "\n",
      "See the caveats in the documentation: http://pandas.pydata.org/pandas-docs/stable/indexing.html#indexing-view-versus-copy\n",
      "  \n"
     ]
    }
   ],
   "source": [
    "# Categorizing PM slots\n",
    "for i in range(1, 13):\n",
    "    if i < 6:\n",
    "        pm_slot[pm_slot['airsTime'].str.contains(str(i))] = 'afternoon'\n",
    "        pm_slot_[pm_slot_['airsTime'].str.contains(str(i))] = 'afternoon'\n",
    "    elif i >= 6 & i < 10:\n",
    "        pm_slot[pm_slot['airsTime'].str.contains(str(i))] = 'evening'\n",
    "        pm_slot_[pm_slot_['airsTime'].str.contains(str(i))] = 'evening'\n",
    "    else: \n",
    "        pm_slot[pm_slot['airsTime'].str.contains(str(i))] = 'latenight'\n",
    "        pm_slot_[pm_slot_['airsTime'].str.contains(str(i))] = 'latenight'\n",
    "\n",
    "#pm_slot[pm_slot['airsTime'].str.contains('8', '9')]"
   ]
  },
  {
   "cell_type": "code",
   "execution_count": 12,
   "metadata": {},
   "outputs": [
    {
     "name": "stderr",
     "output_type": "stream",
     "text": [
      "/anaconda3/lib/python3.6/site-packages/ipykernel_launcher.py:4: SettingWithCopyWarning: \n",
      "A value is trying to be set on a copy of a slice from a DataFrame.\n",
      "Try using .loc[row_indexer,col_indexer] = value instead\n",
      "\n",
      "See the caveats in the documentation: http://pandas.pydata.org/pandas-docs/stable/indexing.html#indexing-view-versus-copy\n",
      "  after removing the cwd from sys.path.\n",
      "/anaconda3/lib/python3.6/site-packages/pandas/core/frame.py:3131: SettingWithCopyWarning: \n",
      "A value is trying to be set on a copy of a slice from a DataFrame\n",
      "\n",
      "See the caveats in the documentation: http://pandas.pydata.org/pandas-docs/stable/indexing.html#indexing-view-versus-copy\n",
      "  self.loc._setitem_with_indexer(indexer, value)\n",
      "/anaconda3/lib/python3.6/site-packages/pandas/core/frame.py:3113: SettingWithCopyWarning: \n",
      "A value is trying to be set on a copy of a slice from a DataFrame\n",
      "\n",
      "See the caveats in the documentation: http://pandas.pydata.org/pandas-docs/stable/indexing.html#indexing-view-versus-copy\n",
      "  self._setitem_array(key, value)\n",
      "/anaconda3/lib/python3.6/site-packages/ipykernel_launcher.py:5: SettingWithCopyWarning: \n",
      "A value is trying to be set on a copy of a slice from a DataFrame.\n",
      "Try using .loc[row_indexer,col_indexer] = value instead\n",
      "\n",
      "See the caveats in the documentation: http://pandas.pydata.org/pandas-docs/stable/indexing.html#indexing-view-versus-copy\n",
      "  \"\"\"\n",
      "/anaconda3/lib/python3.6/site-packages/ipykernel_launcher.py:7: SettingWithCopyWarning: \n",
      "A value is trying to be set on a copy of a slice from a DataFrame.\n",
      "Try using .loc[row_indexer,col_indexer] = value instead\n",
      "\n",
      "See the caveats in the documentation: http://pandas.pydata.org/pandas-docs/stable/indexing.html#indexing-view-versus-copy\n",
      "  import sys\n",
      "/anaconda3/lib/python3.6/site-packages/ipykernel_launcher.py:8: SettingWithCopyWarning: \n",
      "A value is trying to be set on a copy of a slice from a DataFrame.\n",
      "Try using .loc[row_indexer,col_indexer] = value instead\n",
      "\n",
      "See the caveats in the documentation: http://pandas.pydata.org/pandas-docs/stable/indexing.html#indexing-view-versus-copy\n",
      "  \n"
     ]
    }
   ],
   "source": [
    "# Categorizing PM slots\n",
    "for i in range(1, 13):\n",
    "    if i < 5:\n",
    "        am_slot[am_slot['airsTime'].str.contains(str(i))] = 'latenight'\n",
    "        am_slot_[am_slot_['airsTime'].str.contains(str(i))] = 'latenight'\n",
    "    else: \n",
    "        am_slot[am_slot['airsTime'].str.contains(str(i))] = 'morning'\n",
    "        am_slot_[am_slot_['airsTime'].str.contains(str(i))] = 'morning'\n",
    "\n",
    "#pm_slot[pm_slot['airsTime'].str.contains('8', '9')]"
   ]
  },
  {
   "cell_type": "code",
   "execution_count": 13,
   "metadata": {
    "scrolled": true
   },
   "outputs": [
    {
     "name": "stderr",
     "output_type": "stream",
     "text": [
      "/anaconda3/lib/python3.6/site-packages/ipykernel_launcher.py:1: SettingWithCopyWarning: \n",
      "A value is trying to be set on a copy of a slice from a DataFrame.\n",
      "Try using .loc[row_indexer,col_indexer] = value instead\n",
      "\n",
      "See the caveats in the documentation: http://pandas.pydata.org/pandas-docs/stable/indexing.html#indexing-view-versus-copy\n",
      "  \"\"\"Entry point for launching an IPython kernel.\n"
     ]
    }
   ],
   "source": [
    "missing_time['airsTime'] = 'unknown'"
   ]
  },
  {
   "cell_type": "code",
   "execution_count": 14,
   "metadata": {
    "scrolled": true
   },
   "outputs": [],
   "source": [
    "timeslot = pd.concat((am_slot, am_slot_, pm_slot, pm_slot_, remaining_time, missing_time))"
   ]
  },
  {
   "cell_type": "code",
   "execution_count": 15,
   "metadata": {},
   "outputs": [],
   "source": [
    "plot_df = pd.merge(series_df, timeslot, left_index=True, right_index=True)"
   ]
  },
  {
   "cell_type": "code",
   "execution_count": 16,
   "metadata": {},
   "outputs": [],
   "source": [
    "series_df['released'] = pd.to_datetime(series_df['released'])"
   ]
  },
  {
   "cell_type": "code",
   "execution_count": 17,
   "metadata": {},
   "outputs": [],
   "source": [
    "week_day = series_df[['released']]"
   ]
  },
  {
   "cell_type": "code",
   "execution_count": 18,
   "metadata": {
    "scrolled": true
   },
   "outputs": [
    {
     "name": "stderr",
     "output_type": "stream",
     "text": [
      "/anaconda3/lib/python3.6/site-packages/ipykernel_launcher.py:1: SettingWithCopyWarning: \n",
      "A value is trying to be set on a copy of a slice from a DataFrame.\n",
      "Try using .loc[row_indexer,col_indexer] = value instead\n",
      "\n",
      "See the caveats in the documentation: http://pandas.pydata.org/pandas-docs/stable/indexing.html#indexing-view-versus-copy\n",
      "  \"\"\"Entry point for launching an IPython kernel.\n"
     ]
    }
   ],
   "source": [
    "week_day['weekday'] = week_day['released'].dt.dayofweek"
   ]
  },
  {
   "cell_type": "code",
   "execution_count": 19,
   "metadata": {},
   "outputs": [
    {
     "name": "stderr",
     "output_type": "stream",
     "text": [
      "/anaconda3/lib/python3.6/site-packages/ipykernel_launcher.py:1: SettingWithCopyWarning: \n",
      "A value is trying to be set on a copy of a slice from a DataFrame.\n",
      "Try using .loc[row_indexer,col_indexer] = value instead\n",
      "\n",
      "See the caveats in the documentation: http://pandas.pydata.org/pandas-docs/stable/indexing.html#indexing-view-versus-copy\n",
      "  \"\"\"Entry point for launching an IPython kernel.\n"
     ]
    }
   ],
   "source": [
    "week_day['month'] = week_day['released'].dt.month"
   ]
  },
  {
   "cell_type": "code",
   "execution_count": 20,
   "metadata": {
    "scrolled": true
   },
   "outputs": [],
   "source": [
    "plot_df['month'] = week_day['month']\n",
    "plot_df['weekday'] = week_day['weekday']"
   ]
  },
  {
   "cell_type": "markdown",
   "metadata": {},
   "source": [
    "# Categorizing runtime\n",
    "\n",
    "I will be categorizing this data as well. Although the runtimes that I've gathered have a lot of different values, in reality/practice, tv shows are usually in 30 minute and 1 hour increments (longer than 1 hour would generally be specials or movies). For this reason, I chose relatively arbitrary runtimes to group group the shows by."
   ]
  },
  {
   "cell_type": "code",
   "execution_count": 21,
   "metadata": {},
   "outputs": [],
   "source": [
    "series_df = series_df[(series_df[['runtime_x']] != ('')).all(axis=1)]"
   ]
  },
  {
   "cell_type": "code",
   "execution_count": 22,
   "metadata": {},
   "outputs": [],
   "source": [
    "series_df[['runtime_x']] = series_df[['runtime_x']].astype(int)"
   ]
  },
  {
   "cell_type": "code",
   "execution_count": 23,
   "metadata": {
    "scrolled": true
   },
   "outputs": [
    {
     "data": {
      "text/plain": [
       "30     692\n",
       "60     425\n",
       "45     315\n",
       "25     241\n",
       "15      35\n",
       "20      33\n",
       "50      24\n",
       "11      23\n",
       "55      16\n",
       "10      16\n",
       "120     13\n",
       "40      13\n",
       "85      10\n",
       "1        9\n",
       "90       8\n",
       "12       8\n",
       "35       4\n",
       "13       4\n",
       "65       3\n",
       "70       3\n",
       "180      2\n",
       "80       2\n",
       "7        2\n",
       "75       1\n",
       "95       1\n",
       "125      1\n",
       "140      1\n",
       "6        1\n",
       "3        1\n",
       "240      1\n",
       "Name: runtime_x, dtype: int64"
      ]
     },
     "execution_count": 23,
     "metadata": {},
     "output_type": "execute_result"
    }
   ],
   "source": [
    "series_df['runtime_x'].value_counts()"
   ]
  },
  {
   "cell_type": "code",
   "execution_count": 24,
   "metadata": {},
   "outputs": [
    {
     "data": {
      "text/plain": [
       "Game of Thrones         55\n",
       "Westworld               60\n",
       "Big Little Lies         50\n",
       "The Deuce               60\n",
       "Succession              60\n",
       "Curb Your Enthusiasm    30\n",
       "Veep                    30\n",
       "Silicon Valley          30\n",
       "Ballers                 30\n",
       "High Maintenance        10\n",
       "Name: runtime_x, dtype: int64"
      ]
     },
     "execution_count": 24,
     "metadata": {},
     "output_type": "execute_result"
    }
   ],
   "source": [
    "series_df['runtime_x'].head(10)"
   ]
  },
  {
   "cell_type": "code",
   "execution_count": 25,
   "metadata": {},
   "outputs": [],
   "source": [
    "series_df['runtime_cat'] = np.where(series_df['runtime_x'] < 30, 'half', 'full')"
   ]
  },
  {
   "cell_type": "code",
   "execution_count": 26,
   "metadata": {},
   "outputs": [
    {
     "name": "stderr",
     "output_type": "stream",
     "text": [
      "/anaconda3/lib/python3.6/site-packages/pandas/core/indexing.py:189: SettingWithCopyWarning: \n",
      "A value is trying to be set on a copy of a slice from a DataFrame\n",
      "\n",
      "See the caveats in the documentation: http://pandas.pydata.org/pandas-docs/stable/indexing.html#indexing-view-versus-copy\n",
      "  self._setitem_with_indexer(indexer, value)\n"
     ]
    }
   ],
   "source": [
    "series_df['runtime_cat'].loc[series_df.runtime_x < 30] = 'half'\n",
    "series_df['runtime_cat'].loc[series_df.runtime_x > 70] = 'special'"
   ]
  },
  {
   "cell_type": "code",
   "execution_count": 27,
   "metadata": {
    "scrolled": true
   },
   "outputs": [
    {
     "data": {
      "text/plain": [
       "full       1495\n",
       "half        373\n",
       "special      40\n",
       "Name: runtime_cat, dtype: int64"
      ]
     },
     "execution_count": 27,
     "metadata": {},
     "output_type": "execute_result"
    }
   ],
   "source": [
    "series_df['runtime_cat'].value_counts()"
   ]
  },
  {
   "cell_type": "code",
   "execution_count": 28,
   "metadata": {},
   "outputs": [
    {
     "data": {
      "text/plain": [
       "Game of Thrones         full\n",
       "Westworld               full\n",
       "Big Little Lies         full\n",
       "The Deuce               full\n",
       "Succession              full\n",
       "Curb Your Enthusiasm    full\n",
       "Veep                    full\n",
       "Silicon Valley          full\n",
       "Ballers                 full\n",
       "High Maintenance        half\n",
       "Name: runtime_cat, dtype: object"
      ]
     },
     "execution_count": 28,
     "metadata": {},
     "output_type": "execute_result"
    }
   ],
   "source": [
    "series_df['runtime_cat'].head(10)"
   ]
  },
  {
   "cell_type": "code",
   "execution_count": 29,
   "metadata": {},
   "outputs": [
    {
     "data": {
      "text/html": [
       "<div>\n",
       "<style scoped>\n",
       "    .dataframe tbody tr th:only-of-type {\n",
       "        vertical-align: middle;\n",
       "    }\n",
       "\n",
       "    .dataframe tbody tr th {\n",
       "        vertical-align: top;\n",
       "    }\n",
       "\n",
       "    .dataframe thead th {\n",
       "        text-align: right;\n",
       "    }\n",
       "</style>\n",
       "<table border=\"1\" class=\"dataframe\">\n",
       "  <thead>\n",
       "    <tr style=\"text-align: right;\">\n",
       "      <th></th>\n",
       "      <th>airsDayOfWeek</th>\n",
       "      <th>airsTime</th>\n",
       "      <th>network</th>\n",
       "      <th>overview_x</th>\n",
       "      <th>rating</th>\n",
       "      <th>runtime_x</th>\n",
       "      <th>number_of_episodes</th>\n",
       "      <th>number_of_seasons</th>\n",
       "      <th>overview_y</th>\n",
       "      <th>status_y</th>\n",
       "      <th>...</th>\n",
       "      <th>actors</th>\n",
       "      <th>awards</th>\n",
       "      <th>genre_y</th>\n",
       "      <th>imdb_id</th>\n",
       "      <th>imdb_rating</th>\n",
       "      <th>imdb_votes</th>\n",
       "      <th>plot</th>\n",
       "      <th>released</th>\n",
       "      <th>writer</th>\n",
       "      <th>runtime_cat</th>\n",
       "    </tr>\n",
       "  </thead>\n",
       "  <tbody>\n",
       "    <tr>\n",
       "      <th>Game of Thrones</th>\n",
       "      <td>Sunday</td>\n",
       "      <td>9:00 PM</td>\n",
       "      <td>HBO</td>\n",
       "      <td>Seven noble families fight for control of the ...</td>\n",
       "      <td>TV-MA</td>\n",
       "      <td>55</td>\n",
       "      <td>73.0</td>\n",
       "      <td>8</td>\n",
       "      <td>Seven noble families fight for control of the ...</td>\n",
       "      <td>Returning Series</td>\n",
       "      <td>...</td>\n",
       "      <td>Peter Dinklage, Lena Headey, Emilia Clarke, Ki...</td>\n",
       "      <td>1</td>\n",
       "      <td>Action, Adventure, Drama, Fantasy, Romance</td>\n",
       "      <td>tt0944947</td>\n",
       "      <td>9.5</td>\n",
       "      <td>1,361,235</td>\n",
       "      <td>In the mythical continent of Westeros, several...</td>\n",
       "      <td>2011-04-17</td>\n",
       "      <td>David Benioff, D.B. Weiss</td>\n",
       "      <td>full</td>\n",
       "    </tr>\n",
       "    <tr>\n",
       "      <th>Westworld</th>\n",
       "      <td>Sunday</td>\n",
       "      <td>9:00 PM</td>\n",
       "      <td>HBO</td>\n",
       "      <td>Westworld is a dark odyssey about the dawn of ...</td>\n",
       "      <td>TV-MA</td>\n",
       "      <td>60</td>\n",
       "      <td>20.0</td>\n",
       "      <td>2</td>\n",
       "      <td>A dark odyssey about the dawn of artificial co...</td>\n",
       "      <td>Returning Series</td>\n",
       "      <td>...</td>\n",
       "      <td>Evan Rachel Wood, Thandie Newton, Jeffrey Wrig...</td>\n",
       "      <td>1</td>\n",
       "      <td>Drama, Mystery, Sci-Fi</td>\n",
       "      <td>tt0475784</td>\n",
       "      <td>8.9</td>\n",
       "      <td>307,642</td>\n",
       "      <td>Westworld isn't your typical amusement park. I...</td>\n",
       "      <td>2016-10-02</td>\n",
       "      <td>0</td>\n",
       "      <td>full</td>\n",
       "    </tr>\n",
       "    <tr>\n",
       "      <th>Big Little Lies</th>\n",
       "      <td>Sunday</td>\n",
       "      <td>9:00 PM</td>\n",
       "      <td>HBO</td>\n",
       "      <td>Subversive, darkly comedic drama Big Little Li...</td>\n",
       "      <td>TV-MA</td>\n",
       "      <td>50</td>\n",
       "      <td>7.0</td>\n",
       "      <td>2</td>\n",
       "      <td>Subversive, darkly comedic drama Big Little Li...</td>\n",
       "      <td>Returning Series</td>\n",
       "      <td>...</td>\n",
       "      <td>Reese Witherspoon, Nicole Kidman, Shailene Woo...</td>\n",
       "      <td>1</td>\n",
       "      <td>Crime, Drama, Mystery</td>\n",
       "      <td>tt3920596</td>\n",
       "      <td>8.6</td>\n",
       "      <td>86,060</td>\n",
       "      <td>While Madeline and Celeste take new in town si...</td>\n",
       "      <td>2017-02-19</td>\n",
       "      <td>David E. Kelley</td>\n",
       "      <td>full</td>\n",
       "    </tr>\n",
       "  </tbody>\n",
       "</table>\n",
       "<p>3 rows × 21 columns</p>\n",
       "</div>"
      ],
      "text/plain": [
       "                airsDayOfWeek airsTime network  \\\n",
       "Game of Thrones        Sunday  9:00 PM     HBO   \n",
       "Westworld              Sunday  9:00 PM     HBO   \n",
       "Big Little Lies        Sunday  9:00 PM     HBO   \n",
       "\n",
       "                                                        overview_x rating  \\\n",
       "Game of Thrones  Seven noble families fight for control of the ...  TV-MA   \n",
       "Westworld        Westworld is a dark odyssey about the dawn of ...  TV-MA   \n",
       "Big Little Lies  Subversive, darkly comedic drama Big Little Li...  TV-MA   \n",
       "\n",
       "                 runtime_x  number_of_episodes  number_of_seasons  \\\n",
       "Game of Thrones         55                73.0                  8   \n",
       "Westworld               60                20.0                  2   \n",
       "Big Little Lies         50                 7.0                  2   \n",
       "\n",
       "                                                        overview_y  \\\n",
       "Game of Thrones  Seven noble families fight for control of the ...   \n",
       "Westworld        A dark odyssey about the dawn of artificial co...   \n",
       "Big Little Lies  Subversive, darkly comedic drama Big Little Li...   \n",
       "\n",
       "                         status_y     ...      \\\n",
       "Game of Thrones  Returning Series     ...       \n",
       "Westworld        Returning Series     ...       \n",
       "Big Little Lies  Returning Series     ...       \n",
       "\n",
       "                                                            actors awards  \\\n",
       "Game of Thrones  Peter Dinklage, Lena Headey, Emilia Clarke, Ki...      1   \n",
       "Westworld        Evan Rachel Wood, Thandie Newton, Jeffrey Wrig...      1   \n",
       "Big Little Lies  Reese Witherspoon, Nicole Kidman, Shailene Woo...      1   \n",
       "\n",
       "                                                    genre_y    imdb_id  \\\n",
       "Game of Thrones  Action, Adventure, Drama, Fantasy, Romance  tt0944947   \n",
       "Westworld                            Drama, Mystery, Sci-Fi  tt0475784   \n",
       "Big Little Lies                       Crime, Drama, Mystery  tt3920596   \n",
       "\n",
       "                imdb_rating imdb_votes  \\\n",
       "Game of Thrones         9.5  1,361,235   \n",
       "Westworld               8.9    307,642   \n",
       "Big Little Lies         8.6     86,060   \n",
       "\n",
       "                                                              plot   released  \\\n",
       "Game of Thrones  In the mythical continent of Westeros, several... 2011-04-17   \n",
       "Westworld        Westworld isn't your typical amusement park. I... 2016-10-02   \n",
       "Big Little Lies  While Madeline and Celeste take new in town si... 2017-02-19   \n",
       "\n",
       "                                    writer runtime_cat  \n",
       "Game of Thrones  David Benioff, D.B. Weiss        full  \n",
       "Westworld                                0        full  \n",
       "Big Little Lies            David E. Kelley        full  \n",
       "\n",
       "[3 rows x 21 columns]"
      ]
     },
     "execution_count": 29,
     "metadata": {},
     "output_type": "execute_result"
    }
   ],
   "source": [
    "series_df.head(3)"
   ]
  },
  {
   "cell_type": "markdown",
   "metadata": {},
   "source": [
    "# Separate genre_y values into additional columns"
   ]
  },
  {
   "cell_type": "code",
   "execution_count": 30,
   "metadata": {},
   "outputs": [],
   "source": [
    "df = pd.Series(series_df['genre_y'].str.split(','))"
   ]
  },
  {
   "cell_type": "code",
   "execution_count": 31,
   "metadata": {},
   "outputs": [],
   "source": [
    "genre_dummies = pd.get_dummies(df.apply(pd.Series).stack()).sum(level=0)"
   ]
  },
  {
   "cell_type": "markdown",
   "metadata": {},
   "source": [
    "# Dummies"
   ]
  },
  {
   "cell_type": "code",
   "execution_count": 32,
   "metadata": {},
   "outputs": [],
   "source": [
    "status_dummies = pd.get_dummies(series_df['status_y'], prefix='status')"
   ]
  },
  {
   "cell_type": "code",
   "execution_count": 33,
   "metadata": {},
   "outputs": [],
   "source": [
    "type_dummies = pd.get_dummies(series_df['type_x'], prefix='type')"
   ]
  },
  {
   "cell_type": "code",
   "execution_count": 34,
   "metadata": {},
   "outputs": [],
   "source": [
    "timeslot_dum = pd.get_dummies(timeslot, prefix='timeslot')"
   ]
  },
  {
   "cell_type": "code",
   "execution_count": 35,
   "metadata": {},
   "outputs": [],
   "source": [
    "week_day_ = week_day.drop('released', axis=1)\n",
    "week_day_dum1 = pd.get_dummies(week_day_['weekday'], prefix='day')\n",
    "week_day_dum2 = pd.get_dummies(week_day_['month'], prefix='month')"
   ]
  },
  {
   "cell_type": "markdown",
   "metadata": {},
   "source": [
    "# Combining all the dataframes"
   ]
  },
  {
   "cell_type": "markdown",
   "metadata": {},
   "source": [
    "### To drop:\n",
    "- airsDayOfWeek\n",
    "- airsTime\n",
    "- network\n",
    "- overview_x\n",
    "- runtime_x\n",
    "- overview_y\n",
    "- actors (dummy)\n",
    "- genre_y (dummy)\n",
    "- imdb_id\n",
    "- imdb_rating\n",
    "- plot\n",
    "- released\n",
    "- writer (dummy)"
   ]
  },
  {
   "cell_type": "code",
   "execution_count": 36,
   "metadata": {
    "scrolled": true
   },
   "outputs": [
    {
     "data": {
      "text/html": [
       "<div>\n",
       "<style scoped>\n",
       "    .dataframe tbody tr th:only-of-type {\n",
       "        vertical-align: middle;\n",
       "    }\n",
       "\n",
       "    .dataframe tbody tr th {\n",
       "        vertical-align: top;\n",
       "    }\n",
       "\n",
       "    .dataframe thead th {\n",
       "        text-align: right;\n",
       "    }\n",
       "</style>\n",
       "<table border=\"1\" class=\"dataframe\">\n",
       "  <thead>\n",
       "    <tr style=\"text-align: right;\">\n",
       "      <th></th>\n",
       "      <th>airsDayOfWeek</th>\n",
       "      <th>airsTime</th>\n",
       "      <th>network</th>\n",
       "      <th>overview_x</th>\n",
       "      <th>rating</th>\n",
       "      <th>runtime_x</th>\n",
       "      <th>number_of_episodes</th>\n",
       "      <th>number_of_seasons</th>\n",
       "      <th>overview_y</th>\n",
       "      <th>status_y</th>\n",
       "      <th>...</th>\n",
       "      <th>actors</th>\n",
       "      <th>awards</th>\n",
       "      <th>genre_y</th>\n",
       "      <th>imdb_id</th>\n",
       "      <th>imdb_rating</th>\n",
       "      <th>imdb_votes</th>\n",
       "      <th>plot</th>\n",
       "      <th>released</th>\n",
       "      <th>writer</th>\n",
       "      <th>runtime_cat</th>\n",
       "    </tr>\n",
       "  </thead>\n",
       "  <tbody>\n",
       "    <tr>\n",
       "      <th>Game of Thrones</th>\n",
       "      <td>Sunday</td>\n",
       "      <td>9:00 PM</td>\n",
       "      <td>HBO</td>\n",
       "      <td>Seven noble families fight for control of the ...</td>\n",
       "      <td>TV-MA</td>\n",
       "      <td>55</td>\n",
       "      <td>73.0</td>\n",
       "      <td>8</td>\n",
       "      <td>Seven noble families fight for control of the ...</td>\n",
       "      <td>Returning Series</td>\n",
       "      <td>...</td>\n",
       "      <td>Peter Dinklage, Lena Headey, Emilia Clarke, Ki...</td>\n",
       "      <td>1</td>\n",
       "      <td>Action, Adventure, Drama, Fantasy, Romance</td>\n",
       "      <td>tt0944947</td>\n",
       "      <td>9.5</td>\n",
       "      <td>1,361,235</td>\n",
       "      <td>In the mythical continent of Westeros, several...</td>\n",
       "      <td>2011-04-17</td>\n",
       "      <td>David Benioff, D.B. Weiss</td>\n",
       "      <td>full</td>\n",
       "    </tr>\n",
       "  </tbody>\n",
       "</table>\n",
       "<p>1 rows × 21 columns</p>\n",
       "</div>"
      ],
      "text/plain": [
       "                airsDayOfWeek airsTime network  \\\n",
       "Game of Thrones        Sunday  9:00 PM     HBO   \n",
       "\n",
       "                                                        overview_x rating  \\\n",
       "Game of Thrones  Seven noble families fight for control of the ...  TV-MA   \n",
       "\n",
       "                 runtime_x  number_of_episodes  number_of_seasons  \\\n",
       "Game of Thrones         55                73.0                  8   \n",
       "\n",
       "                                                        overview_y  \\\n",
       "Game of Thrones  Seven noble families fight for control of the ...   \n",
       "\n",
       "                         status_y     ...      \\\n",
       "Game of Thrones  Returning Series     ...       \n",
       "\n",
       "                                                            actors awards  \\\n",
       "Game of Thrones  Peter Dinklage, Lena Headey, Emilia Clarke, Ki...      1   \n",
       "\n",
       "                                                    genre_y    imdb_id  \\\n",
       "Game of Thrones  Action, Adventure, Drama, Fantasy, Romance  tt0944947   \n",
       "\n",
       "                imdb_rating imdb_votes  \\\n",
       "Game of Thrones         9.5  1,361,235   \n",
       "\n",
       "                                                              plot   released  \\\n",
       "Game of Thrones  In the mythical continent of Westeros, several... 2011-04-17   \n",
       "\n",
       "                                    writer runtime_cat  \n",
       "Game of Thrones  David Benioff, D.B. Weiss        full  \n",
       "\n",
       "[1 rows x 21 columns]"
      ]
     },
     "execution_count": 36,
     "metadata": {},
     "output_type": "execute_result"
    }
   ],
   "source": [
    "series_df.head(1)"
   ]
  },
  {
   "cell_type": "code",
   "execution_count": 37,
   "metadata": {
    "scrolled": true
   },
   "outputs": [
    {
     "data": {
      "text/html": [
       "<div>\n",
       "<style scoped>\n",
       "    .dataframe tbody tr th:only-of-type {\n",
       "        vertical-align: middle;\n",
       "    }\n",
       "\n",
       "    .dataframe tbody tr th {\n",
       "        vertical-align: top;\n",
       "    }\n",
       "\n",
       "    .dataframe thead th {\n",
       "        text-align: right;\n",
       "    }\n",
       "</style>\n",
       "<table border=\"1\" class=\"dataframe\">\n",
       "  <thead>\n",
       "    <tr style=\"text-align: right;\">\n",
       "      <th></th>\n",
       "      <th>timeslot_00:00</th>\n",
       "      <th>timeslot_afternoon</th>\n",
       "      <th>timeslot_evening</th>\n",
       "      <th>timeslot_latenight</th>\n",
       "      <th>timeslot_morning</th>\n",
       "      <th>timeslot_unknown</th>\n",
       "    </tr>\n",
       "  </thead>\n",
       "  <tbody>\n",
       "    <tr>\n",
       "      <th>Random Acts of Flyness</th>\n",
       "      <td>0</td>\n",
       "      <td>0</td>\n",
       "      <td>0</td>\n",
       "      <td>1</td>\n",
       "      <td>0</td>\n",
       "      <td>0</td>\n",
       "    </tr>\n",
       "  </tbody>\n",
       "</table>\n",
       "</div>"
      ],
      "text/plain": [
       "                        timeslot_00:00  timeslot_afternoon  timeslot_evening  \\\n",
       "Random Acts of Flyness               0                   0                 0   \n",
       "\n",
       "                        timeslot_latenight  timeslot_morning  timeslot_unknown  \n",
       "Random Acts of Flyness                   1                 0                 0  "
      ]
     },
     "execution_count": 37,
     "metadata": {},
     "output_type": "execute_result"
    }
   ],
   "source": [
    "timeslot_dum.head(1)"
   ]
  },
  {
   "cell_type": "code",
   "execution_count": 38,
   "metadata": {},
   "outputs": [
    {
     "data": {
      "text/html": [
       "<div>\n",
       "<style scoped>\n",
       "    .dataframe tbody tr th:only-of-type {\n",
       "        vertical-align: middle;\n",
       "    }\n",
       "\n",
       "    .dataframe tbody tr th {\n",
       "        vertical-align: top;\n",
       "    }\n",
       "\n",
       "    .dataframe thead th {\n",
       "        text-align: right;\n",
       "    }\n",
       "</style>\n",
       "<table border=\"1\" class=\"dataframe\">\n",
       "  <thead>\n",
       "    <tr style=\"text-align: right;\">\n",
       "      <th></th>\n",
       "      <th>day_0</th>\n",
       "      <th>day_1</th>\n",
       "      <th>day_2</th>\n",
       "      <th>day_3</th>\n",
       "      <th>day_4</th>\n",
       "      <th>day_5</th>\n",
       "      <th>day_6</th>\n",
       "    </tr>\n",
       "  </thead>\n",
       "  <tbody>\n",
       "    <tr>\n",
       "      <th>Game of Thrones</th>\n",
       "      <td>0</td>\n",
       "      <td>0</td>\n",
       "      <td>0</td>\n",
       "      <td>0</td>\n",
       "      <td>0</td>\n",
       "      <td>0</td>\n",
       "      <td>1</td>\n",
       "    </tr>\n",
       "  </tbody>\n",
       "</table>\n",
       "</div>"
      ],
      "text/plain": [
       "                 day_0  day_1  day_2  day_3  day_4  day_5  day_6\n",
       "Game of Thrones      0      0      0      0      0      0      1"
      ]
     },
     "execution_count": 38,
     "metadata": {},
     "output_type": "execute_result"
    }
   ],
   "source": [
    "week_day_dum1.head(1)"
   ]
  },
  {
   "cell_type": "code",
   "execution_count": 39,
   "metadata": {},
   "outputs": [
    {
     "data": {
      "text/html": [
       "<div>\n",
       "<style scoped>\n",
       "    .dataframe tbody tr th:only-of-type {\n",
       "        vertical-align: middle;\n",
       "    }\n",
       "\n",
       "    .dataframe tbody tr th {\n",
       "        vertical-align: top;\n",
       "    }\n",
       "\n",
       "    .dataframe thead th {\n",
       "        text-align: right;\n",
       "    }\n",
       "</style>\n",
       "<table border=\"1\" class=\"dataframe\">\n",
       "  <thead>\n",
       "    <tr style=\"text-align: right;\">\n",
       "      <th></th>\n",
       "      <th>month_1</th>\n",
       "      <th>month_2</th>\n",
       "      <th>month_3</th>\n",
       "      <th>month_4</th>\n",
       "      <th>month_5</th>\n",
       "      <th>month_6</th>\n",
       "      <th>month_7</th>\n",
       "      <th>month_8</th>\n",
       "      <th>month_9</th>\n",
       "      <th>month_10</th>\n",
       "      <th>month_11</th>\n",
       "      <th>month_12</th>\n",
       "    </tr>\n",
       "  </thead>\n",
       "  <tbody>\n",
       "    <tr>\n",
       "      <th>Game of Thrones</th>\n",
       "      <td>0</td>\n",
       "      <td>0</td>\n",
       "      <td>0</td>\n",
       "      <td>1</td>\n",
       "      <td>0</td>\n",
       "      <td>0</td>\n",
       "      <td>0</td>\n",
       "      <td>0</td>\n",
       "      <td>0</td>\n",
       "      <td>0</td>\n",
       "      <td>0</td>\n",
       "      <td>0</td>\n",
       "    </tr>\n",
       "  </tbody>\n",
       "</table>\n",
       "</div>"
      ],
      "text/plain": [
       "                 month_1  month_2  month_3  month_4  month_5  month_6  \\\n",
       "Game of Thrones        0        0        0        1        0        0   \n",
       "\n",
       "                 month_7  month_8  month_9  month_10  month_11  month_12  \n",
       "Game of Thrones        0        0        0         0         0         0  "
      ]
     },
     "execution_count": 39,
     "metadata": {},
     "output_type": "execute_result"
    }
   ],
   "source": [
    "week_day_dum2.head(1)"
   ]
  },
  {
   "cell_type": "code",
   "execution_count": 40,
   "metadata": {
    "scrolled": true
   },
   "outputs": [
    {
     "data": {
      "text/plain": [
       "Game of Thrones    full\n",
       "Name: runtime_cat, dtype: object"
      ]
     },
     "execution_count": 40,
     "metadata": {},
     "output_type": "execute_result"
    }
   ],
   "source": [
    "series_df['runtime_cat'].head(1)"
   ]
  },
  {
   "cell_type": "code",
   "execution_count": 41,
   "metadata": {
    "scrolled": true
   },
   "outputs": [
    {
     "data": {
      "text/html": [
       "<div>\n",
       "<style scoped>\n",
       "    .dataframe tbody tr th:only-of-type {\n",
       "        vertical-align: middle;\n",
       "    }\n",
       "\n",
       "    .dataframe tbody tr th {\n",
       "        vertical-align: top;\n",
       "    }\n",
       "\n",
       "    .dataframe thead th {\n",
       "        text-align: right;\n",
       "    }\n",
       "</style>\n",
       "<table border=\"1\" class=\"dataframe\">\n",
       "  <thead>\n",
       "    <tr style=\"text-align: right;\">\n",
       "      <th></th>\n",
       "      <th>Action</th>\n",
       "      <th>Adventure</th>\n",
       "      <th>Animation</th>\n",
       "      <th>Comedy</th>\n",
       "      <th>Crime</th>\n",
       "      <th>Drama</th>\n",
       "      <th>Family</th>\n",
       "      <th>Fantasy</th>\n",
       "      <th>Game-Show</th>\n",
       "      <th>History</th>\n",
       "      <th>...</th>\n",
       "      <th>Horror</th>\n",
       "      <th>Music</th>\n",
       "      <th>Mystery</th>\n",
       "      <th>News</th>\n",
       "      <th>Reality-TV</th>\n",
       "      <th>Romance</th>\n",
       "      <th>Sci-Fi</th>\n",
       "      <th>Sport</th>\n",
       "      <th>Talk-Show</th>\n",
       "      <th>Western</th>\n",
       "    </tr>\n",
       "  </thead>\n",
       "  <tbody>\n",
       "    <tr>\n",
       "      <th>Game of Thrones</th>\n",
       "      <td>0</td>\n",
       "      <td>1</td>\n",
       "      <td>0</td>\n",
       "      <td>0</td>\n",
       "      <td>0</td>\n",
       "      <td>1</td>\n",
       "      <td>0</td>\n",
       "      <td>1</td>\n",
       "      <td>0</td>\n",
       "      <td>0</td>\n",
       "      <td>...</td>\n",
       "      <td>0</td>\n",
       "      <td>0</td>\n",
       "      <td>0</td>\n",
       "      <td>0</td>\n",
       "      <td>0</td>\n",
       "      <td>0</td>\n",
       "      <td>0</td>\n",
       "      <td>0</td>\n",
       "      <td>0</td>\n",
       "      <td>0</td>\n",
       "    </tr>\n",
       "  </tbody>\n",
       "</table>\n",
       "<p>1 rows × 46 columns</p>\n",
       "</div>"
      ],
      "text/plain": [
       "                  Action   Adventure   Animation   Comedy   Crime   Drama  \\\n",
       "Game of Thrones        0           1           0        0       0       1   \n",
       "\n",
       "                  Family   Fantasy   Game-Show   History   ...     Horror  \\\n",
       "Game of Thrones        0         1           0         0   ...          0   \n",
       "\n",
       "                 Music  Mystery  News  Reality-TV  Romance  Sci-Fi  Sport  \\\n",
       "Game of Thrones      0        0     0           0        0       0      0   \n",
       "\n",
       "                 Talk-Show  Western  \n",
       "Game of Thrones          0        0  \n",
       "\n",
       "[1 rows x 46 columns]"
      ]
     },
     "execution_count": 41,
     "metadata": {},
     "output_type": "execute_result"
    }
   ],
   "source": [
    "genre_dummies.head(1)"
   ]
  },
  {
   "cell_type": "code",
   "execution_count": 42,
   "metadata": {},
   "outputs": [],
   "source": [
    "series_df = series_df.merge(timeslot_dum, left_index=True, right_index=True)"
   ]
  },
  {
   "cell_type": "code",
   "execution_count": 43,
   "metadata": {},
   "outputs": [],
   "source": [
    "series_df = series_df.merge(week_day_dum1, left_index=True, right_index=True)\n",
    "series_df = series_df.merge(week_day_dum2, left_index=True, right_index=True)\n",
    "series_df = series_df.merge(genre_dummies, left_index=True, right_index=True)"
   ]
  },
  {
   "cell_type": "code",
   "execution_count": 44,
   "metadata": {},
   "outputs": [],
   "source": [
    "model_df = series_df.drop(['network', \n",
    "                           'imdb_id', \n",
    "#                           'released', \n",
    "#                           'airsDayOfWeek', \n",
    "#                           'airsTime', \n",
    "#                           'overview_x', \n",
    "                           'overview_y', \n",
    "                           'plot', \n",
    "                           'genre_y', \n",
    "                           'status_y', \n",
    "                           'type_x', \n",
    "                           'runtime_x', \n",
    "                           'runtime_cat'], \n",
    "                          axis=1)"
   ]
  },
  {
   "cell_type": "code",
   "execution_count": 45,
   "metadata": {},
   "outputs": [],
   "source": [
    "model_df.drop(['actors', 'writer'], axis=1, inplace=True)"
   ]
  },
  {
   "cell_type": "code",
   "execution_count": 46,
   "metadata": {},
   "outputs": [],
   "source": [
    "series_df['imdb_votes'] = series_df['imdb_votes'].str.replace(',', '').astype(float)"
   ]
  },
  {
   "cell_type": "code",
   "execution_count": 47,
   "metadata": {},
   "outputs": [],
   "source": [
    "model_df[['awards']] = model_df[['awards']].astype(float)"
   ]
  },
  {
   "cell_type": "code",
   "execution_count": 48,
   "metadata": {},
   "outputs": [],
   "source": [
    "model_df[['imdb_rating']] = model_df[['imdb_rating']].astype(float)"
   ]
  },
  {
   "cell_type": "code",
   "execution_count": 49,
   "metadata": {},
   "outputs": [],
   "source": [
    "model_df.drop('rating', axis=1, inplace=True)"
   ]
  },
  {
   "cell_type": "markdown",
   "metadata": {},
   "source": [
    "# Final cleanup steps"
   ]
  },
  {
   "cell_type": "markdown",
   "metadata": {},
   "source": [
    "Now that the data is useable in the proper format, I can see how the chosen features predicts on IMDB rating without additional feature engineering so far."
   ]
  },
  {
   "cell_type": "code",
   "execution_count": 50,
   "metadata": {},
   "outputs": [
    {
     "data": {
      "text/plain": [
       "str"
      ]
     },
     "execution_count": 50,
     "metadata": {},
     "output_type": "execute_result"
    }
   ],
   "source": [
    "type(model_df['imdb_votes'][0])"
   ]
  },
  {
   "cell_type": "code",
   "execution_count": 51,
   "metadata": {},
   "outputs": [],
   "source": [
    "model_df['imdb_votes'] = model_df['imdb_votes'].str.replace(',', '').astype(float)"
   ]
  },
  {
   "cell_type": "code",
   "execution_count": 52,
   "metadata": {
    "scrolled": true
   },
   "outputs": [],
   "source": [
    "series_df[['runtime_x', 'awards']] = series_df[['runtime_x', 'awards']].astype(float)"
   ]
  },
  {
   "cell_type": "code",
   "execution_count": 53,
   "metadata": {},
   "outputs": [
    {
     "data": {
      "text/plain": [
       "airsDayOfWeek          0\n",
       "airsTime               0\n",
       "network                0\n",
       "overview_x            79\n",
       "rating                 0\n",
       "runtime_x              0\n",
       "number_of_episodes     1\n",
       "number_of_seasons      0\n",
       "overview_y             0\n",
       "status_y               0\n",
       "type_x                 0\n",
       "actors                 0\n",
       "awards                 0\n",
       "genre_y                0\n",
       "imdb_id                0\n",
       "imdb_rating            0\n",
       "imdb_votes             0\n",
       "plot                   0\n",
       "released               0\n",
       "writer                 0\n",
       "runtime_cat            0\n",
       "timeslot_00:00         0\n",
       "timeslot_afternoon     0\n",
       "timeslot_evening       0\n",
       "timeslot_latenight     0\n",
       "timeslot_morning       0\n",
       "timeslot_unknown       0\n",
       "day_0                  0\n",
       "day_1                  0\n",
       "day_2                  0\n",
       "                      ..\n",
       " Romance               0\n",
       " Sci-Fi                0\n",
       " Short                 0\n",
       " Sport                 0\n",
       " Talk-Show             0\n",
       " Thriller              0\n",
       " War                   0\n",
       " Western               0\n",
       "Action                 0\n",
       "Adventure              0\n",
       "Animation              0\n",
       "Biography              0\n",
       "Comedy                 0\n",
       "Crime                  0\n",
       "Documentary            0\n",
       "Drama                  0\n",
       "Family                 0\n",
       "Fantasy                0\n",
       "Game-Show              0\n",
       "History                0\n",
       "Horror                 0\n",
       "Music                  0\n",
       "Mystery                0\n",
       "News                   0\n",
       "Reality-TV             0\n",
       "Romance                0\n",
       "Sci-Fi                 0\n",
       "Sport                  0\n",
       "Talk-Show              0\n",
       "Western                0\n",
       "Length: 92, dtype: int64"
      ]
     },
     "execution_count": 53,
     "metadata": {},
     "output_type": "execute_result"
    }
   ],
   "source": [
    "series_df.isnull().sum()"
   ]
  },
  {
   "cell_type": "code",
   "execution_count": 54,
   "metadata": {
    "scrolled": true
   },
   "outputs": [
    {
     "data": {
      "text/plain": [
       "30.0     685\n",
       "60.0     416\n",
       "45.0     315\n",
       "25.0     241\n",
       "15.0      35\n",
       "20.0      32\n",
       "50.0      24\n",
       "11.0      23\n",
       "55.0      16\n",
       "10.0      16\n",
       "40.0      13\n",
       "120.0     13\n",
       "85.0      10\n",
       "1.0        9\n",
       "12.0       8\n",
       "90.0       8\n",
       "35.0       4\n",
       "13.0       4\n",
       "70.0       3\n",
       "65.0       2\n",
       "180.0      2\n",
       "7.0        2\n",
       "80.0       2\n",
       "140.0      1\n",
       "240.0      1\n",
       "3.0        1\n",
       "6.0        1\n",
       "95.0       1\n",
       "125.0      1\n",
       "75.0       1\n",
       "Name: runtime_x, dtype: int64"
      ]
     },
     "execution_count": 54,
     "metadata": {},
     "output_type": "execute_result"
    }
   ],
   "source": [
    "series_df['runtime_x'].value_counts()"
   ]
  },
  {
   "cell_type": "code",
   "execution_count": 55,
   "metadata": {},
   "outputs": [],
   "source": [
    "model_df.dropna(inplace=True)"
   ]
  },
  {
   "cell_type": "code",
   "execution_count": 56,
   "metadata": {
    "scrolled": true
   },
   "outputs": [
    {
     "data": {
      "text/html": [
       "<div>\n",
       "<style scoped>\n",
       "    .dataframe tbody tr th:only-of-type {\n",
       "        vertical-align: middle;\n",
       "    }\n",
       "\n",
       "    .dataframe tbody tr th {\n",
       "        vertical-align: top;\n",
       "    }\n",
       "\n",
       "    .dataframe thead th {\n",
       "        text-align: right;\n",
       "    }\n",
       "</style>\n",
       "<table border=\"1\" class=\"dataframe\">\n",
       "  <thead>\n",
       "    <tr style=\"text-align: right;\">\n",
       "      <th></th>\n",
       "      <th>airsDayOfWeek</th>\n",
       "      <th>airsTime</th>\n",
       "      <th>overview_x</th>\n",
       "      <th>number_of_episodes</th>\n",
       "      <th>number_of_seasons</th>\n",
       "      <th>awards</th>\n",
       "      <th>imdb_rating</th>\n",
       "      <th>imdb_votes</th>\n",
       "      <th>released</th>\n",
       "      <th>timeslot_00:00</th>\n",
       "      <th>...</th>\n",
       "      <th>Horror</th>\n",
       "      <th>Music</th>\n",
       "      <th>Mystery</th>\n",
       "      <th>News</th>\n",
       "      <th>Reality-TV</th>\n",
       "      <th>Romance</th>\n",
       "      <th>Sci-Fi</th>\n",
       "      <th>Sport</th>\n",
       "      <th>Talk-Show</th>\n",
       "      <th>Western</th>\n",
       "    </tr>\n",
       "  </thead>\n",
       "  <tbody>\n",
       "    <tr>\n",
       "      <th>Game of Thrones</th>\n",
       "      <td>Sunday</td>\n",
       "      <td>9:00 PM</td>\n",
       "      <td>Seven noble families fight for control of the ...</td>\n",
       "      <td>73.0</td>\n",
       "      <td>8</td>\n",
       "      <td>1.0</td>\n",
       "      <td>9.5</td>\n",
       "      <td>1361235.0</td>\n",
       "      <td>2011-04-17</td>\n",
       "      <td>0</td>\n",
       "      <td>...</td>\n",
       "      <td>0</td>\n",
       "      <td>0</td>\n",
       "      <td>0</td>\n",
       "      <td>0</td>\n",
       "      <td>0</td>\n",
       "      <td>0</td>\n",
       "      <td>0</td>\n",
       "      <td>0</td>\n",
       "      <td>0</td>\n",
       "      <td>0</td>\n",
       "    </tr>\n",
       "    <tr>\n",
       "      <th>Westworld</th>\n",
       "      <td>Sunday</td>\n",
       "      <td>9:00 PM</td>\n",
       "      <td>Westworld is a dark odyssey about the dawn of ...</td>\n",
       "      <td>20.0</td>\n",
       "      <td>2</td>\n",
       "      <td>1.0</td>\n",
       "      <td>8.9</td>\n",
       "      <td>307642.0</td>\n",
       "      <td>2016-10-02</td>\n",
       "      <td>0</td>\n",
       "      <td>...</td>\n",
       "      <td>0</td>\n",
       "      <td>0</td>\n",
       "      <td>0</td>\n",
       "      <td>0</td>\n",
       "      <td>0</td>\n",
       "      <td>0</td>\n",
       "      <td>0</td>\n",
       "      <td>0</td>\n",
       "      <td>0</td>\n",
       "      <td>0</td>\n",
       "    </tr>\n",
       "    <tr>\n",
       "      <th>Big Little Lies</th>\n",
       "      <td>Sunday</td>\n",
       "      <td>9:00 PM</td>\n",
       "      <td>Subversive, darkly comedic drama Big Little Li...</td>\n",
       "      <td>7.0</td>\n",
       "      <td>2</td>\n",
       "      <td>1.0</td>\n",
       "      <td>8.6</td>\n",
       "      <td>86060.0</td>\n",
       "      <td>2017-02-19</td>\n",
       "      <td>0</td>\n",
       "      <td>...</td>\n",
       "      <td>0</td>\n",
       "      <td>0</td>\n",
       "      <td>0</td>\n",
       "      <td>0</td>\n",
       "      <td>0</td>\n",
       "      <td>0</td>\n",
       "      <td>0</td>\n",
       "      <td>0</td>\n",
       "      <td>0</td>\n",
       "      <td>0</td>\n",
       "    </tr>\n",
       "    <tr>\n",
       "      <th>The Deuce</th>\n",
       "      <td>Sunday</td>\n",
       "      <td>9:00 PM</td>\n",
       "      <td>This drama series follows the legalization and...</td>\n",
       "      <td>16.0</td>\n",
       "      <td>2</td>\n",
       "      <td>1.0</td>\n",
       "      <td>8.1</td>\n",
       "      <td>14113.0</td>\n",
       "      <td>2017-08-25</td>\n",
       "      <td>0</td>\n",
       "      <td>...</td>\n",
       "      <td>0</td>\n",
       "      <td>0</td>\n",
       "      <td>0</td>\n",
       "      <td>0</td>\n",
       "      <td>0</td>\n",
       "      <td>0</td>\n",
       "      <td>0</td>\n",
       "      <td>0</td>\n",
       "      <td>0</td>\n",
       "      <td>0</td>\n",
       "    </tr>\n",
       "    <tr>\n",
       "      <th>Succession</th>\n",
       "      <td>Sunday</td>\n",
       "      <td>10:00 PM</td>\n",
       "      <td>A drama about a dysfunctional media family dyn...</td>\n",
       "      <td>10.0</td>\n",
       "      <td>1</td>\n",
       "      <td>0.0</td>\n",
       "      <td>7.6</td>\n",
       "      <td>3927.0</td>\n",
       "      <td>2018-06-03</td>\n",
       "      <td>0</td>\n",
       "      <td>...</td>\n",
       "      <td>0</td>\n",
       "      <td>0</td>\n",
       "      <td>0</td>\n",
       "      <td>0</td>\n",
       "      <td>0</td>\n",
       "      <td>0</td>\n",
       "      <td>0</td>\n",
       "      <td>0</td>\n",
       "      <td>0</td>\n",
       "      <td>0</td>\n",
       "    </tr>\n",
       "  </tbody>\n",
       "</table>\n",
       "<p>5 rows × 80 columns</p>\n",
       "</div>"
      ],
      "text/plain": [
       "                airsDayOfWeek  airsTime  \\\n",
       "Game of Thrones        Sunday   9:00 PM   \n",
       "Westworld              Sunday   9:00 PM   \n",
       "Big Little Lies        Sunday   9:00 PM   \n",
       "The Deuce              Sunday   9:00 PM   \n",
       "Succession             Sunday  10:00 PM   \n",
       "\n",
       "                                                        overview_x  \\\n",
       "Game of Thrones  Seven noble families fight for control of the ...   \n",
       "Westworld        Westworld is a dark odyssey about the dawn of ...   \n",
       "Big Little Lies  Subversive, darkly comedic drama Big Little Li...   \n",
       "The Deuce        This drama series follows the legalization and...   \n",
       "Succession       A drama about a dysfunctional media family dyn...   \n",
       "\n",
       "                 number_of_episodes  number_of_seasons  awards  imdb_rating  \\\n",
       "Game of Thrones                73.0                  8     1.0          9.5   \n",
       "Westworld                      20.0                  2     1.0          8.9   \n",
       "Big Little Lies                 7.0                  2     1.0          8.6   \n",
       "The Deuce                      16.0                  2     1.0          8.1   \n",
       "Succession                     10.0                  1     0.0          7.6   \n",
       "\n",
       "                 imdb_votes   released  timeslot_00:00   ...     Horror  \\\n",
       "Game of Thrones   1361235.0 2011-04-17               0   ...          0   \n",
       "Westworld          307642.0 2016-10-02               0   ...          0   \n",
       "Big Little Lies     86060.0 2017-02-19               0   ...          0   \n",
       "The Deuce           14113.0 2017-08-25               0   ...          0   \n",
       "Succession           3927.0 2018-06-03               0   ...          0   \n",
       "\n",
       "                 Music  Mystery  News  Reality-TV  Romance  Sci-Fi  Sport  \\\n",
       "Game of Thrones      0        0     0           0        0       0      0   \n",
       "Westworld            0        0     0           0        0       0      0   \n",
       "Big Little Lies      0        0     0           0        0       0      0   \n",
       "The Deuce            0        0     0           0        0       0      0   \n",
       "Succession           0        0     0           0        0       0      0   \n",
       "\n",
       "                 Talk-Show  Western  \n",
       "Game of Thrones          0        0  \n",
       "Westworld                0        0  \n",
       "Big Little Lies          0        0  \n",
       "The Deuce                0        0  \n",
       "Succession               0        0  \n",
       "\n",
       "[5 rows x 80 columns]"
      ]
     },
     "execution_count": 56,
     "metadata": {},
     "output_type": "execute_result"
    }
   ],
   "source": [
    "model_df.head()"
   ]
  },
  {
   "cell_type": "code",
   "execution_count": null,
   "metadata": {},
   "outputs": [],
   "source": []
  },
  {
   "cell_type": "markdown",
   "metadata": {},
   "source": [
    "# Plotting"
   ]
  },
  {
   "cell_type": "code",
   "execution_count": 57,
   "metadata": {},
   "outputs": [
    {
     "data": {
      "text/plain": [
       "Index(['airsDayOfWeek', 'airsTime_x', 'network', 'overview_x', 'rating',\n",
       "       'runtime_x', 'number_of_episodes', 'number_of_seasons', 'overview_y',\n",
       "       'status_y', 'type_x', 'actors', 'awards', 'genre_y', 'imdb_id',\n",
       "       'imdb_rating', 'imdb_votes', 'plot', 'released', 'writer', 'airsTime_y',\n",
       "       'month', 'weekday'],\n",
       "      dtype='object')"
      ]
     },
     "execution_count": 57,
     "metadata": {},
     "output_type": "execute_result"
    }
   ],
   "source": [
    "plot_df.columns"
   ]
  },
  {
   "cell_type": "code",
   "execution_count": 58,
   "metadata": {},
   "outputs": [
    {
     "data": {
      "text/plain": [
       "<BarContainer object of 1810 artists>"
      ]
     },
     "execution_count": 58,
     "metadata": {},
     "output_type": "execute_result"
    },
    {
     "data": {
      "image/png": "[encoded data removed]",
      "text/plain": [
       "<Figure size 432x288 with 1 Axes>"
      ]
     },
     "metadata": {},
     "output_type": "display_data"
    }
   ],
   "source": [
    "plt.bar(model_df['awards'], model_df['imdb_votes'])"
   ]
  },
  {
   "cell_type": "code",
   "execution_count": 59,
   "metadata": {
    "scrolled": true
   },
   "outputs": [
    {
     "data": {
      "text/plain": [
       "<matplotlib.collections.PathCollection at 0x11245def0>"
      ]
     },
     "execution_count": 59,
     "metadata": {},
     "output_type": "execute_result"
    },
    {
     "data": {
      "image/png": "[encoded data removed]",
      "text/plain": [
       "<Figure size 432x288 with 1 Axes>"
      ]
     },
     "metadata": {},
     "output_type": "display_data"
    }
   ],
   "source": [
    "plt.scatter(model_df['number_of_seasons'], model_df['imdb_votes'])"
   ]
  },
  {
   "cell_type": "code",
   "execution_count": 60,
   "metadata": {
    "scrolled": true
   },
   "outputs": [
    {
     "data": {
      "text/plain": [
       "<matplotlib.collections.PathCollection at 0x1a208d7908>"
      ]
     },
     "execution_count": 60,
     "metadata": {},
     "output_type": "execute_result"
    },
    {
     "data": {
      "image/png": "[encoded data removed]",
      "text/plain": [
       "<Figure size 432x288 with 1 Axes>"
      ]
     },
     "metadata": {},
     "output_type": "display_data"
    }
   ],
   "source": [
    "plt.scatter(model_df['number_of_episodes'], model_df['imdb_votes'])"
   ]
  },
  {
   "cell_type": "code",
   "execution_count": 61,
   "metadata": {
    "scrolled": false
   },
   "outputs": [
    {
     "data": {
      "text/plain": [
       "<matplotlib.collections.PathCollection at 0x1a20ffee10>"
      ]
     },
     "execution_count": 61,
     "metadata": {},
     "output_type": "execute_result"
    },
    {
     "data": {
      "image/png": "[encoded data removed]",
      "text/plain": [
       "<Figure size 432x288 with 1 Axes>"
      ]
     },
     "metadata": {},
     "output_type": "display_data"
    }
   ],
   "source": [
    "plt.scatter(model_df['imdb_rating'], model_df['imdb_votes'])"
   ]
  },
  {
   "cell_type": "code",
   "execution_count": 62,
   "metadata": {
    "scrolled": false
   },
   "outputs": [
    {
     "name": "stderr",
     "output_type": "stream",
     "text": [
      "/anaconda3/lib/python3.6/site-packages/matplotlib/axes/_axes.py:6462: UserWarning: The 'normed' kwarg is deprecated, and has been replaced by the 'density' kwarg.\n",
      "  warnings.warn(\"The 'normed' kwarg is deprecated, and has been \"\n"
     ]
    },
    {
     "data": {
      "text/plain": [
       "Text(0.5,1,'Distribution of IMDB Ratings')"
      ]
     },
     "execution_count": 62,
     "metadata": {},
     "output_type": "execute_result"
    },
    {
     "data": {
      "image/png": "[encoded data removed]",
      "text/plain": [
       "<Figure size 432x288 with 1 Axes>"
      ]
     },
     "metadata": {},
     "output_type": "display_data"
    }
   ],
   "source": [
    "sns.distplot(model_df['imdb_rating']).set_title('Distribution of IMDB Ratings')"
   ]
  },
  {
   "cell_type": "code",
   "execution_count": 63,
   "metadata": {
    "scrolled": true
   },
   "outputs": [
    {
     "data": {
      "text/plain": [
       "Index(['airsDayOfWeek', 'airsTime', 'overview_x', 'number_of_episodes',\n",
       "       'number_of_seasons', 'awards', 'imdb_rating', 'imdb_votes', 'released',\n",
       "       'timeslot_00:00', 'timeslot_afternoon', 'timeslot_evening',\n",
       "       'timeslot_latenight', 'timeslot_morning', 'timeslot_unknown', 'day_0',\n",
       "       'day_1', 'day_2', 'day_3', 'day_4', 'day_5', 'day_6', 'month_1',\n",
       "       'month_2', 'month_3', 'month_4', 'month_5', 'month_6', 'month_7',\n",
       "       'month_8', 'month_9', 'month_10', 'month_11', 'month_12', ' Action',\n",
       "       ' Adventure', ' Animation', ' Comedy', ' Crime', ' Drama', ' Family',\n",
       "       ' Fantasy', ' Game-Show', ' History', ' Horror', ' Music', ' Musical',\n",
       "       ' Mystery', ' News', ' Reality-TV', ' Romance', ' Sci-Fi', ' Short',\n",
       "       ' Sport', ' Talk-Show', ' Thriller', ' War', ' Western', 'Action',\n",
       "       'Adventure', 'Animation', 'Biography', 'Comedy', 'Crime', 'Documentary',\n",
       "       'Drama', 'Family', 'Fantasy', 'Game-Show', 'History', 'Horror', 'Music',\n",
       "       'Mystery', 'News', 'Reality-TV', 'Romance', 'Sci-Fi', 'Sport',\n",
       "       'Talk-Show', 'Western'],\n",
       "      dtype='object')"
      ]
     },
     "execution_count": 63,
     "metadata": {},
     "output_type": "execute_result"
    }
   ],
   "source": [
    "model_df.columns"
   ]
  },
  {
   "cell_type": "code",
   "execution_count": null,
   "metadata": {},
   "outputs": [],
   "source": []
  },
  {
   "cell_type": "code",
   "execution_count": null,
   "metadata": {},
   "outputs": [],
   "source": []
  },
  {
   "cell_type": "code",
   "execution_count": null,
   "metadata": {},
   "outputs": [],
   "source": []
  },
  {
   "cell_type": "code",
   "execution_count": null,
   "metadata": {},
   "outputs": [],
   "source": []
  },
  {
   "cell_type": "markdown",
   "metadata": {},
   "source": [
    "# Next Steps\n",
    "\n",
    "Now that I know how badly my model is performing, I'd like to take a second look at my features to see if they can be modified to be better predictors."
   ]
  },
  {
   "cell_type": "code",
   "execution_count": null,
   "metadata": {},
   "outputs": [],
   "source": []
  },
  {
   "cell_type": "code",
   "execution_count": null,
   "metadata": {},
   "outputs": [],
   "source": []
  }
 ],
 "metadata": {
  "kernelspec": {
   "display_name": "Python 3",
   "language": "python",
   "name": "python3"
  },
  "language_info": {
   "codemirror_mode": {
    "name": "ipython",
    "version": 3
   },
   "file_extension": ".py",
   "mimetype": "text/x-python",
   "name": "python",
   "nbconvert_exporter": "python",
   "pygments_lexer": "ipython3",
   "version": "3.6.5"
  }
 },
 "nbformat": 4,
 "nbformat_minor": 2
}
