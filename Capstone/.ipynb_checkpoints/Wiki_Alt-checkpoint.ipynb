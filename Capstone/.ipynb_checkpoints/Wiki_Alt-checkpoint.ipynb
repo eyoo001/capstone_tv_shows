{
 "cells": [
  {
   "cell_type": "code",
   "execution_count": 7,
   "metadata": {},
   "outputs": [],
   "source": [
    "import pandas as pd\n",
    "import requests\n",
    "from bs4 import BeautifulSoup as bs\n",
    "import re\n",
    "import pprint\n",
    "import pickle\n",
    "\n",
    "pp = pprint.PrettyPrinter(indent=2)"
   ]
  },
  {
   "cell_type": "code",
   "execution_count": 8,
   "metadata": {},
   "outputs": [],
   "source": [
    "with open ('new_show_list', 'rb') as fp:\n",
    "    show_names = pickle.load(fp)\n",
    "    \n",
    "with open ('clean_list', 'rb') as fp:\n",
    "    show_list = pickle.load(fp)"
   ]
  },
  {
   "cell_type": "code",
   "execution_count": 106,
   "metadata": {},
   "outputs": [],
   "source": [
    "networks = pd.read_csv('./Untitled spreadsheet - Sheet1.csv')"
   ]
  },
  {
   "cell_type": "code",
   "execution_count": 5,
   "metadata": {},
   "outputs": [],
   "source": [
    "url = requests.get('https://en.wikipedia.org/wiki/List_of_Game_of_Thrones_episodes').text\n",
    "\n",
    "soup = bs(url,'lxml')\n",
    "\n",
    "table = soup.find('table',{'class':'wikitable'})\n",
    "\n",
    "table_df = pd.read_html(str(table),header=0)"
   ]
  },
  {
   "cell_type": "code",
   "execution_count": null,
   "metadata": {},
   "outputs": [],
   "source": [
    "for i in"
   ]
  },
  {
   "cell_type": "code",
   "execution_count": null,
   "metadata": {},
   "outputs": [],
   "source": []
  },
  {
   "cell_type": "code",
   "execution_count": null,
   "metadata": {},
   "outputs": [],
   "source": []
  },
  {
   "cell_type": "code",
   "execution_count": null,
   "metadata": {},
   "outputs": [],
   "source": []
  },
  {
   "cell_type": "code",
   "execution_count": null,
   "metadata": {},
   "outputs": [],
   "source": []
  },
  {
   "cell_type": "code",
   "execution_count": null,
   "metadata": {},
   "outputs": [],
   "source": []
  },
  {
   "cell_type": "code",
   "execution_count": null,
   "metadata": {},
   "outputs": [],
   "source": []
  },
  {
   "cell_type": "code",
   "execution_count": null,
   "metadata": {},
   "outputs": [],
   "source": []
  },
  {
   "cell_type": "code",
   "execution_count": null,
   "metadata": {},
   "outputs": [],
   "source": []
  },
  {
   "cell_type": "code",
   "execution_count": null,
   "metadata": {},
   "outputs": [],
   "source": []
  },
  {
   "cell_type": "code",
   "execution_count": null,
   "metadata": {},
   "outputs": [],
   "source": []
  },
  {
   "cell_type": "code",
   "execution_count": null,
   "metadata": {},
   "outputs": [],
   "source": []
  },
  {
   "cell_type": "code",
   "execution_count": null,
   "metadata": {},
   "outputs": [],
   "source": []
  },
  {
   "cell_type": "code",
   "execution_count": 107,
   "metadata": {},
   "outputs": [],
   "source": [
    "network_urls = [x.split('/')[-1] for x in networks.Links]"
   ]
  },
  {
   "cell_type": "code",
   "execution_count": 108,
   "metadata": {},
   "outputs": [
    {
     "data": {
      "text/plain": [
       "['List_of_programs_broadcast_by_American_Broadcasting_Company',\n",
       " 'List_of_programs_broadcast_by_Adult_Swim',\n",
       " 'List_of_programs_broadcast_by_A%26E',\n",
       " 'List_of_original_programs_distributed_by_Amazon',\n",
       " 'List_of_programs_broadcast_by_AMC',\n",
       " 'List_of_programs_broadcast_by_Animal_Planet',\n",
       " 'List_of_programs_broadcast_by_Antenna_TV',\n",
       " 'List_of_programs_broadcast_by_Audience',\n",
       " 'List_of_programs_broadcast_by_Azteca',\n",
       " 'List_of_programs_broadcast_by_BBC_America']"
      ]
     },
     "execution_count": 108,
     "metadata": {},
     "output_type": "execute_result"
    }
   ],
   "source": [
    "network_urls[:10]"
   ]
  },
  {
   "cell_type": "code",
   "execution_count": 8,
   "metadata": {
    "scrolled": false
   },
   "outputs": [
    {
     "data": {
      "text/plain": [
       "'https://en.wikipedia.org/wiki/List_of_programs_broadcast_by_American_Broadcasting_Company'"
      ]
     },
     "execution_count": 8,
     "metadata": {},
     "output_type": "execute_result"
    }
   ],
   "source": [
    "wiki = 'https://en.wikipedia.org/wiki/'\n",
    "wiki + network_urls[0]"
   ]
  },
  {
   "cell_type": "code",
   "execution_count": 9,
   "metadata": {},
   "outputs": [],
   "source": [
    "net_list = list(networks.values.flatten())"
   ]
  },
  {
   "cell_type": "markdown",
   "metadata": {},
   "source": [
    "# YOU ARE HERE"
   ]
  },
  {
   "cell_type": "code",
   "execution_count": 109,
   "metadata": {},
   "outputs": [],
   "source": [
    "import json\n",
    "\n",
    "with open('network_dict.json', 'r') as fp:\n",
    "    network_dict = json.load(fp)"
   ]
  },
  {
   "cell_type": "code",
   "execution_count": 110,
   "metadata": {
    "scrolled": true
   },
   "outputs": [
    {
     "data": {
      "text/plain": [
       "122"
      ]
     },
     "execution_count": 110,
     "metadata": {},
     "output_type": "execute_result"
    }
   ],
   "source": [
    "len(network_dict)"
   ]
  },
  {
   "cell_type": "code",
   "execution_count": 111,
   "metadata": {},
   "outputs": [],
   "source": [
    "import re"
   ]
  },
  {
   "cell_type": "code",
   "execution_count": 112,
   "metadata": {},
   "outputs": [],
   "source": [
    "network_pattern = re.compile('List_of_programs_broadcast_by_(.*)')\n",
    "network_pattern2 = re.compile('List_of_original_programs_distributed_by_(.*)')"
   ]
  },
  {
   "cell_type": "code",
   "execution_count": 113,
   "metadata": {},
   "outputs": [],
   "source": [
    "network_list = []\n",
    "for key in network_dict.keys():\n",
    "    if re.findall(network_pattern, key):\n",
    "        network_list.append(re.findall(network_pattern, key)[0])\n",
    "    elif re.findall(network_pattern2, key):\n",
    "        network_list.append(re.findall(network_pattern2, key)[0])\n",
    "    else:\n",
    "        network_list.append(key)"
   ]
  },
  {
   "cell_type": "code",
   "execution_count": 114,
   "metadata": {},
   "outputs": [
    {
     "data": {
      "text/plain": [
       "122"
      ]
     },
     "execution_count": 114,
     "metadata": {},
     "output_type": "execute_result"
    }
   ],
   "source": [
    "len(network_list)\n",
    "\n",
    "# I don't know what to do with this list."
   ]
  },
  {
   "cell_type": "code",
   "execution_count": 116,
   "metadata": {},
   "outputs": [],
   "source": [
    "#def save_show_list(network_list)\n",
    "\n",
    "pattern = re.compile('https://en.wikipedia.org/wiki/(.*)')"
   ]
  },
  {
   "cell_type": "code",
   "execution_count": 117,
   "metadata": {},
   "outputs": [],
   "source": [
    "abc_list = [re.findall(pattern, x)[0] for x in network_dict['List_of_programs_broadcast_by_American_Broadcasting_Company']\n",
    " if re.findall(pattern, x)]"
   ]
  },
  {
   "cell_type": "code",
   "execution_count": 119,
   "metadata": {},
   "outputs": [
    {
     "data": {
      "text/plain": [
       "1700"
      ]
     },
     "execution_count": 119,
     "metadata": {},
     "output_type": "execute_result"
    }
   ],
   "source": [
    "len(abc_list)"
   ]
  },
  {
   "cell_type": "code",
   "execution_count": 140,
   "metadata": {
    "scrolled": true
   },
   "outputs": [],
   "source": [
    "tv_list = []\n",
    "for key, value in network_dict.items():\n",
    "    for i in value:\n",
    "        tv_list.append(re.findall(pattern, i))\n",
    "        "
   ]
  },
  {
   "cell_type": "code",
   "execution_count": 141,
   "metadata": {},
   "outputs": [
    {
     "data": {
      "text/plain": [
       "97373"
      ]
     },
     "execution_count": 141,
     "metadata": {},
     "output_type": "execute_result"
    }
   ],
   "source": [
    "len(tv_list)"
   ]
  },
  {
   "cell_type": "code",
   "execution_count": 142,
   "metadata": {},
   "outputs": [],
   "source": [
    "spaces = filter(None, tv_list)"
   ]
  },
  {
   "cell_type": "code",
   "execution_count": 143,
   "metadata": {},
   "outputs": [],
   "source": [
    "str_list = list(filter(None, spaces))"
   ]
  },
  {
   "cell_type": "code",
   "execution_count": 144,
   "metadata": {},
   "outputs": [
    {
     "data": {
      "text/plain": [
       "77888"
      ]
     },
     "execution_count": 144,
     "metadata": {},
     "output_type": "execute_result"
    }
   ],
   "source": [
    "len(str_list)"
   ]
  },
  {
   "cell_type": "code",
   "execution_count": 151,
   "metadata": {},
   "outputs": [],
   "source": [
    "trash = str_list[63878:]"
   ]
  },
  {
   "cell_type": "code",
   "execution_count": 152,
   "metadata": {
    "scrolled": false
   },
   "outputs": [],
   "source": [
    "str_list = str_list[:63878]"
   ]
  },
  {
   "cell_type": "markdown",
   "metadata": {},
   "source": [
    "- need to debug - the html scraping part\n",
    "- need to create as a dictionary as opposed to a list of lists\n",
    "> create function to grab the names from the wikis (as created below?"
   ]
  },
  {
   "cell_type": "markdown",
   "metadata": {},
   "source": [
    "What I am trying to do here:\n",
    "- Iterate through list of links of networks\n",
    "- For each page, grab all the links in tables that are provided\n",
    "- If no links, throw in another list and pass through\n",
    "- Each page of links should be put in a list named ____\n",
    "\n",
    "Once that list of list of links is gathered:\n",
    "- iterate through list of lists to grab table information from wiki api\n",
    "- List of Dictionaries > ABC_NETWORK: SHOW_LINKS: VALUE_SHOW_INFO_API\n",
    "- grab a separate list of show names\n",
    "\n",
    "Using list of wiki details, grab:\n",
    "- viewership numbers"
   ]
  },
  {
   "cell_type": "markdown",
   "metadata": {},
   "source": [
    "# YOU ARE NOW HERE\n",
    "\n",
    "Need to clean up dictionary values lists"
   ]
  },
  {
   "cell_type": "code",
   "execution_count": 50,
   "metadata": {},
   "outputs": [],
   "source": [
    "title = \"Agents_of_S.H.I.E.L.D.\"\n",
    "#\"List \"  + title + 'fdjsaof'\n",
    "#f\"List_{title}fdsafa\""
   ]
  },
  {
   "cell_type": "code",
   "execution_count": 51,
   "metadata": {},
   "outputs": [],
   "source": [
    "tim_url = 'https://en.wikipedia.org/w/api.php'\n",
    "params = {\n",
    "    'action':'query',\n",
    "    'prop':'extracts',\n",
    "    'rvprop':'content',\n",
    "    'format':'json',\n",
    "    'formatversion':'2',\n",
    "    'titles':f'List_of_{title}_episodes',\n",
    "}"
   ]
  },
  {
   "cell_type": "code",
   "execution_count": 53,
   "metadata": {},
   "outputs": [],
   "source": [
    "x = requests.get(tim_url, params)\n"
   ]
  },
  {
   "cell_type": "code",
   "execution_count": 54,
   "metadata": {},
   "outputs": [
    {
     "data": {
      "text/plain": [
       "200"
      ]
     },
     "execution_count": 54,
     "metadata": {},
     "output_type": "execute_result"
    }
   ],
   "source": [
    "x.status_code"
   ]
  },
  {
   "cell_type": "code",
   "execution_count": 55,
   "metadata": {},
   "outputs": [
    {
     "data": {
      "text/plain": [
       "{'batchcomplete': True,\n",
       " 'warnings': {'main': {'warnings': 'Unrecognized parameter: rvprop.'},\n",
       "  'extracts': {'warnings': '\"exlimit\" was too large for a whole article extracts request, lowered to 1.\\nHTML may be malformed and/or unbalanced and may omit inline images. Use at your own risk. Known problems are listed at https://www.mediawiki.org/wiki/Extension:TextExtracts#Caveats.'}},\n",
       " 'query': {'normalized': [{'fromencoded': False,\n",
       "    'from': 'List_of_Agents_of_S.H.I.E.L.D._episodes',\n",
       "    'to': 'List of Agents of S.H.I.E.L.D. episodes'}],\n",
       "  'pages': [{'pageid': 40623697,\n",
       "    'ns': 0,\n",
       "    'title': 'List of Agents of S.H.I.E.L.D. episodes',\n",
       "    'extract': '<p><i>Agents of S.H.I.E.L.D.</i> is an American television series created for ABC by Joss Whedon, Jed Whedon, and Maurissa Tancharoen, based on the Marvel Comics organization S.H.I.E.L.D. (Strategic Homeland Intervention, Enforcement and Logistics Division), a fictional peacekeeping and spy agency in a world populated with superheroes and numerous supernatural phenomena. The series is produced by ABC Studios, Marvel Television, and Mutant Enemy and is set in the Marvel Cinematic Universe, sharing continuity with the films in that franchise. It revolves around the character of Phil Coulson, with Clark Gregg reprising his role from the film series.\\n</p><p>The first season sees S.H.I.E.L.D. Agent Phil Coulson putting together a small team of S.H.I.E.L.D. agents to handle strange new cases. They investigate Project Centipede and its leader, \"The Clairvoyant\", eventually uncovering that Project Centipede is backed by the organization Hydra, which has infiltrated S.H.I.E.L.D. In the second season, following the destruction of S.H.I.E.L.D., now-Director Coulson and his team look to restore trust from the government and public while dealing with Hydra and the newly revealed Inhumans, people who possess special abilities. Coulson\\'s work is further complicated by the appearance of another faction of S.H.I.E.L.D. agents who do not trust his leadership. During the third season, Coulson begins a secret mission to assemble a team of Inhumans to deal with new threats to the world, while Hydra returns its ancient, banished Inhuman leader, Hive, to Earth. After the defeat of Hive and with Hydra destroyed, S.H.I.E.L.D. is made a legitimate organization once again for the fourth season, with the signing of the Sokovia Accords. Coulson returns to being a field agent, due to the world believing he is dead, and is tasked with tracking down more enhanced people—including Robbie Reyes / Ghost Rider—while Agent Leo Fitz and Dr. Holden Radcliffe complete their work on Life Model Decoys. The fifth season sees Coulson and members of his team abducted to deep space in the future, where they must try to save humanity while figuring out how to get home. After returning home, where they are labeled fugitives, Coulson and his team work to ensure the future they saw does not come to pass.</p><p>As of  May\\xa018, 2018, 110 episodes of <i>Agents of S.H.I.E.L.D.</i>\\xa0have aired, concluding the\\xa0fifth season. <i>Agents of S.H.I.E.L.D.</i> was renewed for a sixth season, consisting of 13 episodes, on May 14, 2018. It is intended to premiere in July 2019 during the 2018–19 television season.</p>\\n\\n\\n<h2><span id=\"Series_overview\">Series overview</span></h2>\\n<h2><span id=\"Episodes\">Episodes</span></h2>\\n<h3><span id=\"Season_1_.282013.E2.80.9314.29\"></span><span id=\"Season_1_(2013–14)\">Season 1 (2013–14)</span></h3>\\n\\n<h3><span id=\"Season_2_.282014.E2.80.9315.29\"></span><span id=\"Season_2_(2014–15)\">Season 2 (2014–15)</span></h3>\\n\\n<h3><span id=\"Season_3_.282015.E2.80.9316.29\"></span><span id=\"Season_3_(2015–16)\">Season 3 (2015–16)</span></h3>\\n\\n<h3><span id=\"Season_4_.282016.E2.80.9317.29\"></span><span id=\"Season_4_(2016–17)\">Season 4 (2016–17)</span></h3>\\n\\n<h3><span id=\"Season_5_.282017.E2.80.9318.29\"></span><span id=\"Season_5_(2017–18)\">Season 5 (2017–18)</span></h3>\\n\\n<h3><span id=\"Season_6\">Season 6</span></h3>\\n\\n<h2><span id=\"References\">References</span></h2>\\n\\n\\n<h2><span id=\"External_links\">External links</span></h2>\\n<ul><li><span><span>Official website</span></span></li>\\n<li>List of <i>Marvel\\'s Agents of S.H.I.E.L.D.</i>  episodes on IMDb</li></ul>'}]}}"
      ]
     },
     "execution_count": 55,
     "metadata": {},
     "output_type": "execute_result"
    }
   ],
   "source": [
    "x.json()"
   ]
  },
  {
   "cell_type": "markdown",
   "metadata": {},
   "source": [
    "## Update API to this:\n",
    "https://en.wikipedia.org/wiki/Special:ApiSandbox#action=parse&format=json&page=List_of_Scrubs_episodes&prop=text"
   ]
  },
  {
   "cell_type": "code",
   "execution_count": null,
   "metadata": {},
   "outputs": [],
   "source": []
  },
  {
   "cell_type": "code",
   "execution_count": 56,
   "metadata": {},
   "outputs": [],
   "source": [
    "parse_url = 'https://en.wikipedia.org/w/api.php'\n",
    "params = {\n",
    "    'action':'parse',\n",
    "    'format':'json',\n",
    "    'page': f'List_of_{title}_episodes',\n",
    "    \"prop\": \"text|categories|links|externallinks|sections|iwlinks\"\n",
    "}"
   ]
  },
  {
   "cell_type": "code",
   "execution_count": 57,
   "metadata": {},
   "outputs": [
    {
     "data": {
      "text/plain": [
       "200"
      ]
     },
     "execution_count": 57,
     "metadata": {},
     "output_type": "execute_result"
    }
   ],
   "source": [
    "y = requests.get(parse_url, params)\n",
    "y.status_code"
   ]
  },
  {
   "cell_type": "markdown",
   "metadata": {},
   "source": [
    "/w/api.php?action=query&format=json&prop=links&list=categorymembers&pllimit=max&cmtitle=Category%3A2010s_American_television_series&cmlimit=max"
   ]
  },
  {
   "cell_type": "code",
   "execution_count": 59,
   "metadata": {},
   "outputs": [],
   "source": [
    "# The api link to get list of shows in category"
   ]
  },
  {
   "cell_type": "code",
   "execution_count": 60,
   "metadata": {},
   "outputs": [
    {
     "data": {
      "text/plain": [
       "200"
      ]
     },
     "execution_count": 60,
     "metadata": {},
     "output_type": "execute_result"
    }
   ],
   "source": [
    "test_url = 'https://en.wikipedia.org/w/api.php'\n",
    "params = {\n",
    "    'action':'query',\n",
    "    'prop':'links',\n",
    "    'list':'categorymembers',\n",
    "    'format':'json',\n",
    "    'pllimit':'max',\n",
    "    'cmtitle':'Category:2010s_American_television_series',\n",
    "    'cmlimit': 'max',\n",
    "    'continue': ''\n",
    "}\n",
    "\n",
    "z = requests.get(test_url, params)\n",
    "z.status_code"
   ]
  },
  {
   "cell_type": "code",
   "execution_count": 61,
   "metadata": {},
   "outputs": [],
   "source": [
    "cats = z.json()"
   ]
  },
  {
   "cell_type": "code",
   "execution_count": 62,
   "metadata": {},
   "outputs": [
    {
     "data": {
      "text/plain": [
       "dict_keys(['batchcomplete', 'continue', 'limits', 'query'])"
      ]
     },
     "execution_count": 62,
     "metadata": {},
     "output_type": "execute_result"
    }
   ],
   "source": [
    "cats.keys()"
   ]
  },
  {
   "cell_type": "code",
   "execution_count": 64,
   "metadata": {
    "scrolled": true
   },
   "outputs": [
    {
     "data": {
      "text/plain": [
       "200"
      ]
     },
     "execution_count": 64,
     "metadata": {},
     "output_type": "execute_result"
    }
   ],
   "source": [
    "test_url = 'https://en.wikipedia.org/w/api.php'\n",
    "params1 = {\n",
    "    'action':'query',\n",
    "    'prop':'links',\n",
    "    'list':'categorymembers',\n",
    "    'format':'json',\n",
    "    'pllimit':'max',\n",
    "    'cmtitle':'Category:2010s_American_television_series',\n",
    "    'cmlimit': 'max',\n",
    "    'cmcontinue': 'page|2d4541473f314f310455454b3d4d04098c55312b044d314b39314d098e011f01dcbee015|42403556',\n",
    "#    'continue': '-||links'\n",
    "}\n",
    "\n",
    "z1 = requests.get(test_url, params1)\n",
    "z1.status_code"
   ]
  },
  {
   "cell_type": "code",
   "execution_count": null,
   "metadata": {},
   "outputs": [],
   "source": []
  },
  {
   "cell_type": "raw",
   "metadata": {},
   "source": [
    "## Saving lists as individual jsons\n",
    "\n",
    "for i in song_list[1500:]:\n",
    "    if isinstance(i, dict):\n",
    "        for k in i['tracks']:\n",
    "            try:\n",
    "                analysis = sp.audio_analysis(k['id'])\n",
    "            except:\n",
    "                time.sleep(5)\n",
    "                analysis = sp.audio_analysis(k['id'])\n",
    "            with open('../data/audio_analysis/{}.json'.format(k['id']), 'w') as f:\n",
    "                json.dump(analysis, f)"
   ]
  },
  {
   "cell_type": "code",
   "execution_count": null,
   "metadata": {},
   "outputs": [],
   "source": []
  }
 ],
 "metadata": {
  "kernelspec": {
   "display_name": "Python 3",
   "language": "python",
   "name": "python3"
  },
  "language_info": {
   "codemirror_mode": {
    "name": "ipython",
    "version": 3
   },
   "file_extension": ".py",
   "mimetype": "text/x-python",
   "name": "python",
   "nbconvert_exporter": "python",
   "pygments_lexer": "ipython3",
   "version": "3.6.5"
  }
 },
 "nbformat": 4,
 "nbformat_minor": 2
}
