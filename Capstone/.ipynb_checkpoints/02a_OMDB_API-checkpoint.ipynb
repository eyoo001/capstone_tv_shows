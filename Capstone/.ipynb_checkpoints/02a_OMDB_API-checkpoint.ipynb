{
 "cells": [
  {
   "cell_type": "markdown",
   "metadata": {},
   "source": [
    "# OMDB API\n",
    "\n",
    "Now that I have a list of tv shows from Wikipedia, I can pass that through the APIs I have identified earlier. The first API I'll be accessing is the OMDB API (The Open Movie Database). This API actually has a Python wrapper, so I'll be using that.\n",
    "\n",
    "\n",
    "Source: http://www.omdbapi.com/"
   ]
  },
  {
   "cell_type": "code",
   "execution_count": 1,
   "metadata": {},
   "outputs": [],
   "source": [
    "import pickle\n",
    "import json\n",
    "import requests\n",
    "import re\n",
    "import time\n",
    "import pandas as pd\n",
    "import numpy as np \n",
    "import pprint\n",
    "from collections import defaultdict\n",
    "\n",
    "pp = pprint.PrettyPrinter(indent=2)"
   ]
  },
  {
   "cell_type": "markdown",
   "metadata": {},
   "source": [
    "# Loading in the list "
   ]
  },
  {
   "cell_type": "code",
   "execution_count": 2,
   "metadata": {},
   "outputs": [],
   "source": [
    "with open ('./Assets_&_Data/clean_show_list.pickle', 'rb') as fp:\n",
    "    clean_show_list = pickle.load(fp)"
   ]
  },
  {
   "cell_type": "code",
   "execution_count": 3,
   "metadata": {
    "scrolled": true
   },
   "outputs": [
    {
     "data": {
      "text/plain": [
       "9528"
      ]
     },
     "execution_count": 3,
     "metadata": {},
     "output_type": "execute_result"
    }
   ],
   "source": [
    "len(clean_show_list)"
   ]
  },
  {
   "cell_type": "markdown",
   "metadata": {},
   "source": [
    "# OMDB API Wrapper"
   ]
  },
  {
   "cell_type": "markdown",
   "metadata": {},
   "source": [
    "Once the list is cleaned, I can put it through the OMDB API wrapper. I have to create an API key in order to access this API - the free tier is limited to 500 pulls a day and there are donation options to unlock higher limits. Because of the length of my initial list, I decided to donate for the first level, which gets me 100,000 requests a day."
   ]
  },
  {
   "cell_type": "code",
   "execution_count": 4,
   "metadata": {},
   "outputs": [],
   "source": [
    "import omdb"
   ]
  },
  {
   "cell_type": "code",
   "execution_count": 5,
   "metadata": {},
   "outputs": [],
   "source": [
    "omdb.api._client.params_map['apikey'] = 'c998cfb7'\n",
    "omdb.set_default('apikey', 'c998cfb7')"
   ]
  },
  {
   "cell_type": "markdown",
   "metadata": {},
   "source": [
    "# Getting series info from OMDB\n",
    "\n",
    "As a first step, I'm iterating through the show list and making a get request for each show. I want to get synopses/plot information for some NLP/topic modeling (fullplot=True) and also want to see if there is enough information from RottenTomatoes to be used in modeling (tomatoes=True). "
   ]
  },
  {
   "cell_type": "code",
   "execution_count": 6,
   "metadata": {},
   "outputs": [],
   "source": [
    "def get_omdb_series(link_list):\n",
    "    omdb_dict = {}\n",
    "    for count, i in enumerate(link_list):\n",
    "        omdb_dict[i] = (omdb.get(title=i, \n",
    "                                 fullplot=True, \n",
    "                                 tomatoes=True)\n",
    "                       )\n",
    "        if count % 500 == 0:\n",
    "            print(\"Currently pulling: \", count)\n",
    "    return omdb_dict"
   ]
  },
  {
   "cell_type": "code",
   "execution_count": 7,
   "metadata": {
    "scrolled": true
   },
   "outputs": [
    {
     "name": "stdout",
     "output_type": "stream",
     "text": [
      "Currently pulling:  0\n",
      "Currently pulling:  500\n",
      "Currently pulling:  1000\n",
      "Currently pulling:  1500\n",
      "Currently pulling:  2000\n",
      "Currently pulling:  2500\n",
      "Currently pulling:  3000\n",
      "Currently pulling:  3500\n",
      "Currently pulling:  4000\n",
      "Currently pulling:  4500\n",
      "Currently pulling:  5000\n",
      "Currently pulling:  5500\n",
      "Currently pulling:  6000\n",
      "Currently pulling:  6500\n",
      "Currently pulling:  7000\n",
      "Currently pulling:  7500\n",
      "Currently pulling:  8000\n",
      "Currently pulling:  8500\n",
      "Currently pulling:  9000\n",
      "Currently pulling:  9500\n"
     ]
    }
   ],
   "source": [
    "omdb_shows = get_omdb_series(clean_show_list)"
   ]
  },
  {
   "cell_type": "code",
   "execution_count": 8,
   "metadata": {},
   "outputs": [
    {
     "data": {
      "text/plain": [
       "3733"
      ]
     },
     "execution_count": 8,
     "metadata": {},
     "output_type": "execute_result"
    }
   ],
   "source": [
    "len(omdb_shows)"
   ]
  },
  {
   "cell_type": "markdown",
   "metadata": {},
   "source": [
    "After iterating through the list of almost 10,000 shows in my original list, I can see that only 3700 were actually searchable. This means there was still a lot of bad links in my original Wikipedia pull, and also means my dataset will be significantly smaller than anticipated.\n",
    "\n",
    "\n",
    "In any case, I will save this dictionary and continue."
   ]
  },
  {
   "cell_type": "code",
   "execution_count": 9,
   "metadata": {},
   "outputs": [],
   "source": [
    "with open('omdb_show_metadata.json', 'w') as fp:\n",
    "    json.dump(omdb_shows, fp)"
   ]
  },
  {
   "cell_type": "code",
   "execution_count": 10,
   "metadata": {
    "scrolled": true
   },
   "outputs": [
    {
     "data": {
      "text/plain": [
       "dict_keys(['title', 'year', 'rated', 'released', 'runtime', 'genre', 'director', 'writer', 'actors', 'plot', 'language', 'country', 'awards', 'poster', 'ratings', 'metascore', 'imdb_rating', 'imdb_votes', 'imdb_id', 'type', 'total_seasons', 'tomato_meter', 'tomato_image', 'tomato_rating', 'tomato_reviews', 'tomato_fresh', 'tomato_rotten', 'tomato_consensus', 'tomato_user_meter', 'tomato_user_rating', 'tomato_user_reviews', 'tomato_url', 'dvd', 'box_office', 'production', 'website', 'response'])"
      ]
     },
     "execution_count": 10,
     "metadata": {},
     "output_type": "execute_result"
    }
   ],
   "source": [
    "omdb_shows['Silicon Valley'].keys()"
   ]
  },
  {
   "cell_type": "code",
   "execution_count": 11,
   "metadata": {
    "scrolled": false
   },
   "outputs": [
    {
     "name": "stdout",
     "output_type": "stream",
     "text": [
      "{ 'actors': 'Thomas Middleditch, Josh Brener, Martin Starr, Kumail Nanjiani',\n",
      "  'awards': 'Nominated for 2 Golden Globes. Another 13 wins & 76 nominations.',\n",
      "  'box_office': 'N/A',\n",
      "  'country': 'USA',\n",
      "  'director': 'N/A',\n",
      "  'dvd': 'N/A',\n",
      "  'genre': 'Comedy',\n",
      "  'imdb_id': 'tt2575988',\n",
      "  'imdb_rating': '8.6',\n",
      "  'imdb_votes': '96,430',\n",
      "  'language': 'English',\n",
      "  'metascore': 'N/A',\n",
      "  'plot': 'In the high-tech gold rush of modern Silicon Valley, the people '\n",
      "          'most qualified to succeed are the least capable of handling '\n",
      "          \"success. A comedy partially inspired by Mike Judge's own \"\n",
      "          'experiences as a Silicon Valley engineer in the late 1980s.',\n",
      "  'poster': 'https://m.media-amazon.com/images/M/MV5BMTAxNTEyODE5MTNeQTJeQWpwZ15BbWU4MDE3MjM3ODQz._V1_SX300.jpg',\n",
      "  'production': 'N/A',\n",
      "  'rated': 'TV-MA',\n",
      "  'ratings': [{'source': 'Internet Movie Database', 'value': '8.6/10'}],\n",
      "  'released': '06 Apr 2014',\n",
      "  'response': 'True',\n",
      "  'runtime': '28 min',\n",
      "  'title': 'Silicon Valley',\n",
      "  'tomato_consensus': 'N/A',\n",
      "  'tomato_fresh': 'N/A',\n",
      "  'tomato_image': 'N/A',\n",
      "  'tomato_meter': 'N/A',\n",
      "  'tomato_rating': 'N/A',\n",
      "  'tomato_reviews': 'N/A',\n",
      "  'tomato_rotten': 'N/A',\n",
      "  'tomato_url': 'N/A',\n",
      "  'tomato_user_meter': 'N/A',\n",
      "  'tomato_user_rating': 'N/A',\n",
      "  'tomato_user_reviews': 'N/A',\n",
      "  'total_seasons': '5',\n",
      "  'type': 'series',\n",
      "  'website': 'N/A',\n",
      "  'writer': 'John Altschuler, Mike Judge, Dave Krinsky',\n",
      "  'year': '2014–'}\n"
     ]
    }
   ],
   "source": [
    "pp.pprint(omdb_shows['Silicon Valley'])"
   ]
  },
  {
   "cell_type": "markdown",
   "metadata": {},
   "source": [
    "Information about these features can be found in the data dictionary."
   ]
  },
  {
   "cell_type": "markdown",
   "metadata": {},
   "source": [
    "# Creating a dictionary with IMDB ID as the key"
   ]
  },
  {
   "cell_type": "markdown",
   "metadata": {},
   "source": [
    "Once I have the series data, I can use the data to find out the IMDB IDs for each of the models. I will need this ID to further query this API for show information, and also want to grab this information in case it would make iterating through the other APIs easier."
   ]
  },
  {
   "cell_type": "code",
   "execution_count": 12,
   "metadata": {},
   "outputs": [],
   "source": [
    "def create_imdb_keys(omdb_keys):\n",
    "    imdb_keys = {}\n",
    "\n",
    "    for i in omdb_keys:\n",
    "        if not omdb_keys[i]:\n",
    "            continue\n",
    "        elif not omdb_keys[i]['imdb_id']:\n",
    "            continue\n",
    "        else:\n",
    "            imdb_keys[omdb_keys[i]['imdb_id']] = omdb_keys[i]\n",
    "    return imdb_keys"
   ]
  },
  {
   "cell_type": "code",
   "execution_count": 13,
   "metadata": {},
   "outputs": [],
   "source": [
    "imdb_show_keys = create_imdb_keys(omdb_shows)"
   ]
  },
  {
   "cell_type": "code",
   "execution_count": 14,
   "metadata": {},
   "outputs": [
    {
     "data": {
      "text/plain": [
       "2881"
      ]
     },
     "execution_count": 14,
     "metadata": {},
     "output_type": "execute_result"
    }
   ],
   "source": [
    "len(imdb_show_keys)"
   ]
  },
  {
   "cell_type": "markdown",
   "metadata": {},
   "source": [
    "# Function to remove movies from the imdb key dictionaries"
   ]
  },
  {
   "cell_type": "markdown",
   "metadata": {},
   "source": [
    "After looking at the features of this API, I can see that there is a \"type\" key that indicates if shows are movies or tv shows - I will want to get rid of movies that did not have much recurring effect on the model (although television movie specials would have been alright). As a backup in case the type is mistakenly classified, I've also decided to remove any shows that are missing the \"total_seasons\" value."
   ]
  },
  {
   "cell_type": "code",
   "execution_count": 15,
   "metadata": {},
   "outputs": [],
   "source": [
    "def remove_movies(omdb_keys):\n",
    "    show_season = {}\n",
    "    omdb_tv_dict = {}\n",
    "    for i in omdb_keys:\n",
    "        if not omdb_keys[i]:\n",
    "            continue\n",
    "        elif omdb_keys[i][\"type\"] == 'movie':\n",
    "            continue\n",
    "        elif omdb_keys[i]['total_seasons'] == 'N/A':\n",
    "            continue\n",
    "        else:\n",
    "            omdb_tv_dict[i] = omdb_keys[i]\n",
    "            show_season[i] = omdb_keys[i]['total_seasons']\n",
    "    return omdb_tv_dict"
   ]
  },
  {
   "cell_type": "code",
   "execution_count": 16,
   "metadata": {},
   "outputs": [],
   "source": [
    "shows_omdb_keys = remove_movies(imdb_show_keys)"
   ]
  },
  {
   "cell_type": "code",
   "execution_count": 17,
   "metadata": {},
   "outputs": [
    {
     "data": {
      "text/plain": [
       "1957"
      ]
     },
     "execution_count": 17,
     "metadata": {},
     "output_type": "execute_result"
    }
   ],
   "source": [
    "len(shows_omdb_keys)"
   ]
  },
  {
   "cell_type": "markdown",
   "metadata": {},
   "source": [
    "# Function to grab IMDB ID as key, Season Number is subkey, episode information is value"
   ]
  },
  {
   "cell_type": "markdown",
   "metadata": {},
   "source": [
    "Next, I want to grab information about the show's seasons. The parameters for the get request are IMDB id (which I've just gathered) and season number. This is being handled in a bit of a roundabout way - the \"Total Seasons\" is one of the features of the show information in the previous dictionary I got, so I'm having the function use that number as the max to iterate through (+1 because range() is not inclusive)."
   ]
  },
  {
   "cell_type": "code",
   "execution_count": 18,
   "metadata": {},
   "outputs": [],
   "source": [
    "def get_episode_count(link_dict):\n",
    "    episode_count_dict = {} # all episodes are in here\n",
    "    for i in link_dict:\n",
    "        subkey = {}\n",
    "        for x in range(1, int(link_dict[i]['total_seasons'])+1):\n",
    "            var = omdb.get(imdbid=str(i),\n",
    "                    season=x,\n",
    "                    fullplot=True,\n",
    "                    tomatoes=True)\n",
    "            subkey[x] = var\n",
    "            episode_count_dict[i] = subkey\n",
    "    return episode_count_dict\n"
   ]
  },
  {
   "cell_type": "code",
   "execution_count": 19,
   "metadata": {},
   "outputs": [],
   "source": [
    "show_episode_count = get_episode_count(shows_omdb_keys)"
   ]
  },
  {
   "cell_type": "code",
   "execution_count": 20,
   "metadata": {},
   "outputs": [
    {
     "data": {
      "text/plain": [
       "1957"
      ]
     },
     "execution_count": 20,
     "metadata": {},
     "output_type": "execute_result"
    }
   ],
   "source": [
    "len(show_episode_count)"
   ]
  },
  {
   "cell_type": "code",
   "execution_count": 21,
   "metadata": {},
   "outputs": [
    {
     "data": {
      "text/plain": [
       "{'title': 'Costas Now',\n",
       " 'season': '1',\n",
       " 'total_seasons': '4',\n",
       " 'episodes': [{'title': 'Episode #1.2',\n",
       "   'released': '2005-06-10',\n",
       "   'episode': '2',\n",
       "   'imdb_rating': 'N/A',\n",
       "   'imdb_id': 'tt0772383'},\n",
       "  {'title': 'Episode #1.3',\n",
       "   'released': '2005-07-08',\n",
       "   'episode': '3',\n",
       "   'imdb_rating': 'N/A',\n",
       "   'imdb_id': 'tt0772384'},\n",
       "  {'title': 'Episode #1.4',\n",
       "   'released': '2005-08-12',\n",
       "   'episode': '4',\n",
       "   'imdb_rating': 'N/A',\n",
       "   'imdb_id': 'tt0772385'},\n",
       "  {'title': 'Episode #1.5',\n",
       "   'released': '2005-09-09',\n",
       "   'episode': '5',\n",
       "   'imdb_rating': 'N/A',\n",
       "   'imdb_id': 'tt0772386'},\n",
       "  {'title': 'Episode #1.6',\n",
       "   'released': '2005-10-21',\n",
       "   'episode': '6',\n",
       "   'imdb_rating': 'N/A',\n",
       "   'imdb_id': 'tt0772387'},\n",
       "  {'title': 'Episode #1.7',\n",
       "   'released': '2005-11-11',\n",
       "   'episode': '7',\n",
       "   'imdb_rating': 'N/A',\n",
       "   'imdb_id': 'tt0772388'},\n",
       "  {'title': 'Episode #1.8',\n",
       "   'released': '2005-12-09',\n",
       "   'episode': '8',\n",
       "   'imdb_rating': 'N/A',\n",
       "   'imdb_id': 'tt0772389'}],\n",
       " 'response': 'True'}"
      ]
     },
     "execution_count": 21,
     "metadata": {},
     "output_type": "execute_result"
    }
   ],
   "source": [
    "show_episode_count['tt0490532'][1]"
   ]
  },
  {
   "cell_type": "code",
   "execution_count": 24,
   "metadata": {},
   "outputs": [],
   "source": [
    "with open('./Assets_&_Data/show_episode_data.json', 'w') as fp:\n",
    "    json.dump(show_episode_count, fp)"
   ]
  },
  {
   "cell_type": "markdown",
   "metadata": {},
   "source": [
    "So now I have some rudimentary information about the spisodes withing the season, as well. Spot-checking a couple random entries, I notice that some episodes seem to be missing and there appear to be a lot of \"N/A\" values for imdb_rating. I thought this may have been an issue with my function or the API at first, but it turned out that the database is just missing this information altogether."
   ]
  },
  {
   "cell_type": "markdown",
   "metadata": {},
   "source": [
    "## OMDB Data Overview"
   ]
  },
  {
   "cell_type": "markdown",
   "metadata": {},
   "source": [
    "On only a cursory glance, there are a lot of nulls/N/As. I will need to figure out which features can be dropped, which shows will need to be dropped, and how to impute data for the shows I keep that have missing data."
   ]
  },
  {
   "cell_type": "markdown",
   "metadata": {},
   "source": [
    "Information to keep from this query:\n",
    "- Actors\n",
    "- Director\n",
    "- Genre\n",
    "- Episode (just for tracking purposes)\n",
    "- Plot\n",
    "- Production\n",
    "- Ratings\n",
    "- Released\n",
    "- Runtime\n",
    "- Season (same as Episode)\n",
    "- Writer\n",
    "- imdbRating\n",
    "- imdbVotes\n",
    "- seriesID (same as Episode/Season)"
   ]
  },
  {
   "cell_type": "markdown",
   "metadata": {},
   "source": [
    "# Next Steps"
   ]
  },
  {
   "cell_type": "markdown",
   "metadata": {},
   "source": [
    "Once I have obtained all the relevant information from the APIs, I will want to save them as individual dictionaries/sparse dataframes."
   ]
  },
  {
   "cell_type": "code",
   "execution_count": 26,
   "metadata": {},
   "outputs": [],
   "source": [
    "with open('./Assets_&_Data/omdb_dict.json', 'w') as fp:\n",
    "    json.dump(omdb_shows, fp)"
   ]
  },
  {
   "cell_type": "code",
   "execution_count": 28,
   "metadata": {},
   "outputs": [],
   "source": [
    "with open('./Assets_&_Data/omdb_tv_dict.json', 'w') as fp:\n",
    "    json.dump(shows_omdb_keys, fp)"
   ]
  }
 ],
 "metadata": {
  "kernelspec": {
   "display_name": "Python 3",
   "language": "python",
   "name": "python3"
  },
  "language_info": {
   "codemirror_mode": {
    "name": "ipython",
    "version": 3
   },
   "file_extension": ".py",
   "mimetype": "text/x-python",
   "name": "python",
   "nbconvert_exporter": "python",
   "pygments_lexer": "ipython3",
   "version": "3.6.5"
  }
 },
 "nbformat": 4,
 "nbformat_minor": 2
}
