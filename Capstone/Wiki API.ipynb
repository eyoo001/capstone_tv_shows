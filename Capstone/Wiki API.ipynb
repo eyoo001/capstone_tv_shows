{
 "cells": [
  {
   "cell_type": "code",
   "execution_count": 20,
   "metadata": {},
   "outputs": [],
   "source": [
    "import pandas as pd\n",
    "import requests\n",
    "from bs4 import BeautifulSoup\n",
    "import re\n",
    "import pprint\n",
    "\n",
    "pp = pprint.PrettyPrinter(indent=2)"
   ]
  },
  {
   "cell_type": "code",
   "execution_count": 25,
   "metadata": {},
   "outputs": [],
   "source": [
    "url = \"https://en.wikipedia.org/w/api.php?action=query&prop=revisions&rvprop=content&format=json&formatversion=2&titles=Grey%27s_Anatomy_%28season_1%29\"\n",
    "res = requests.get(url)\n",
    "\n",
    "soup = BeautifulSoup(res.content, 'lxml')"
   ]
  },
  {
   "cell_type": "code",
   "execution_count": 26,
   "metadata": {},
   "outputs": [
    {
     "data": {
      "text/plain": [
       "200"
      ]
     },
     "execution_count": 26,
     "metadata": {},
     "output_type": "execute_result"
    }
   ],
   "source": [
    "res.status_code"
   ]
  },
  {
   "cell_type": "code",
   "execution_count": 45,
   "metadata": {},
   "outputs": [],
   "source": [
    "text = res.json()"
   ]
  },
  {
   "cell_type": "code",
   "execution_count": null,
   "metadata": {},
   "outputs": [],
   "source": []
  },
  {
   "cell_type": "code",
   "execution_count": 50,
   "metadata": {},
   "outputs": [],
   "source": [
    "#BeautifulSoup(text, 'html5lib')"
   ]
  },
  {
   "cell_type": "code",
   "execution_count": 51,
   "metadata": {},
   "outputs": [],
   "source": [
    "#pp.pprint(res.json())"
   ]
  },
  {
   "cell_type": "code",
   "execution_count": 30,
   "metadata": {},
   "outputs": [],
   "source": [
    "# import list of wikipedia names from the other notebook"
   ]
  },
  {
   "cell_type": "code",
   "execution_count": 53,
   "metadata": {},
   "outputs": [
    {
     "data": {
      "text/plain": [
       "1812"
      ]
     },
     "execution_count": 53,
     "metadata": {},
     "output_type": "execute_result"
    }
   ],
   "source": [
    "html = requests.get('https://en.wikipedia.org/wiki/List_of_programs_broadcast_by_American_Broadcasting_Company')\n",
    "b = BeautifulSoup(html.text, 'lxml')\n",
    "links = []\n",
    "\n",
    "for i in b.find_all(name = 'li'):\n",
    "    for link in i.find_all('a', href=True):\n",
    "        links.append(link['href'])\n",
    "links = links[77:]\n",
    "abc_links = ['https://en.wikipedia.org' + i for i in links]\n",
    "\n",
    "len(abc_links)"
   ]
  },
  {
   "cell_type": "code",
   "execution_count": 32,
   "metadata": {},
   "outputs": [
    {
     "data": {
      "text/plain": [
       "['https://en.wikipedia.org/wiki/Grey%27s_Anatomy',\n",
       " 'https://en.wikipedia.org/wiki/Agents_of_S.H.I.E.L.D.',\n",
       " 'https://en.wikipedia.org/wiki/How_to_Get_Away_with_Murder']"
      ]
     },
     "execution_count": 32,
     "metadata": {},
     "output_type": "execute_result"
    }
   ],
   "source": [
    "abc_links"
   ]
  },
  {
   "cell_type": "code",
   "execution_count": 35,
   "metadata": {},
   "outputs": [
    {
     "data": {
      "text/plain": [
       "'Grey%27s_Anatomy'"
      ]
     },
     "execution_count": 35,
     "metadata": {},
     "output_type": "execute_result"
    }
   ],
   "source": [
    "abc_links[0].split('/')[-1]"
   ]
  },
  {
   "cell_type": "code",
   "execution_count": 52,
   "metadata": {},
   "outputs": [
    {
     "data": {
      "text/plain": [
       "1351"
      ]
     },
     "execution_count": 52,
     "metadata": {},
     "output_type": "execute_result"
    }
   ],
   "source": [
    "html = requests.get('https://en.wikipedia.org/wiki/List_of_programs_broadcast_by_Fox')\n",
    "b = BeautifulSoup(html.text, 'lxml')\n",
    "links = []\n",
    "\n",
    "for i in b.find_all(name = 'li'):\n",
    "    for link in i.find_all('a', href=True):\n",
    "        links.append(link['href'])\n",
    "links = links[57:]\n",
    "fox_links = ['https://en.wikipedia.org' + i for i in links]\n",
    "\n",
    "len(fox_links)"
   ]
  },
  {
   "cell_type": "code",
   "execution_count": 54,
   "metadata": {},
   "outputs": [
    {
     "data": {
      "text/plain": [
       "876"
      ]
     },
     "execution_count": 54,
     "metadata": {},
     "output_type": "execute_result"
    }
   ],
   "source": [
    "html = requests.get('https://en.wikipedia.org/wiki/List_of_programs_broadcast_by_NBC')\n",
    "b = BeautifulSoup(html.text, 'lxml')\n",
    "links = []\n",
    "\n",
    "for i in b.find_all(name = 'li'):\n",
    "    for link in i.find_all('a', href=True):\n",
    "        links.append(link['href'])\n",
    "links = links[7:]\n",
    "nbc_links = ['https://en.wikipedia.org' + i for i in links]\n",
    "\n",
    "len(nbc_links)"
   ]
  },
  {
   "cell_type": "code",
   "execution_count": 65,
   "metadata": {},
   "outputs": [
    {
     "data": {
      "text/plain": [
       "1054"
      ]
     },
     "execution_count": 65,
     "metadata": {},
     "output_type": "execute_result"
    }
   ],
   "source": [
    "html = requests.get('https://en.wikipedia.org/wiki/List_of_programs_broadcast_by_CBS')\n",
    "b = BeautifulSoup(html.text, 'lxml')\n",
    "links = []\n",
    "\n",
    "for i in b.find_all(name = 'li'):\n",
    "    for link in i.find_all('a', href=True):\n",
    "        links.append(link['href'])\n",
    "links = links[60:]\n",
    "cbs_links = ['https://en.wikipedia.org' + i for i in links]\n",
    "\n",
    "len(cbs_links)"
   ]
  },
  {
   "cell_type": "code",
   "execution_count": 67,
   "metadata": {},
   "outputs": [
    {
     "data": {
      "text/plain": [
       "823"
      ]
     },
     "execution_count": 67,
     "metadata": {},
     "output_type": "execute_result"
    }
   ],
   "source": [
    "html = requests.get('https://en.wikipedia.org/wiki/List_of_Warner_Bros._Television_programs')\n",
    "b = BeautifulSoup(html.text, 'lxml')\n",
    "links = []\n",
    "\n",
    "for i in b.find_all(name = 'li'):\n",
    "    for link in i.find_all('a', href=True):\n",
    "        links.append(link['href'])\n",
    "links = links[60:]\n",
    "wb_links = ['https://en.wikipedia.org' + i for i in links]\n",
    "\n",
    "len(wb_links)"
   ]
  },
  {
   "cell_type": "code",
   "execution_count": 68,
   "metadata": {},
   "outputs": [
    {
     "data": {
      "text/plain": [
       "852"
      ]
     },
     "execution_count": 68,
     "metadata": {},
     "output_type": "execute_result"
    }
   ],
   "source": [
    "html = requests.get('https://en.wikipedia.org/wiki/List_of_programs_broadcast_by_The_CW')\n",
    "b = BeautifulSoup(html.text, 'lxml')\n",
    "links = []\n",
    "\n",
    "for i in b.find_all(name = 'li'):\n",
    "    for link in i.find_all('a', href=True):\n",
    "        links.append(link['href'])\n",
    "links = links[60:]\n",
    "cw_links = ['https://en.wikipedia.org' + i for i in links]\n",
    "\n",
    "len(cw_links)"
   ]
  },
  {
   "cell_type": "code",
   "execution_count": null,
   "metadata": {},
   "outputs": [],
   "source": []
  },
  {
   "cell_type": "code",
   "execution_count": 69,
   "metadata": {},
   "outputs": [
    {
     "data": {
      "text/plain": [
       "965"
      ]
     },
     "execution_count": 69,
     "metadata": {},
     "output_type": "execute_result"
    }
   ],
   "source": [
    "html = requests.get('https://en.wikipedia.org/wiki/List_of_programs_broadcast_by_HBO')\n",
    "b = BeautifulSoup(html.text, 'lxml')\n",
    "links = []\n",
    "\n",
    "for i in b.find_all(name = 'li'):\n",
    "    for link in i.find_all('a', href=True):\n",
    "        links.append(link['href'])\n",
    "links = links[60:]\n",
    "hbo_links = ['https://en.wikipedia.org' + i for i in links]\n",
    "\n",
    "len(hbo_links)"
   ]
  },
  {
   "cell_type": "code",
   "execution_count": 70,
   "metadata": {},
   "outputs": [
    {
     "data": {
      "text/plain": [
       "730"
      ]
     },
     "execution_count": 70,
     "metadata": {},
     "output_type": "execute_result"
    }
   ],
   "source": [
    "html = requests.get('https://en.wikipedia.org/wiki/List_of_programs_broadcast_by_AMC')\n",
    "b = BeautifulSoup(html.text, 'lxml')\n",
    "links = []\n",
    "\n",
    "for i in b.find_all(name = 'li'):\n",
    "    for link in i.find_all('a', href=True):\n",
    "        links.append(link['href'])\n",
    "links = links[60:]\n",
    "amc_links = ['https://en.wikipedia.org' + i for i in links]\n",
    "\n",
    "len(amc_links)"
   ]
  },
  {
   "cell_type": "code",
   "execution_count": 84,
   "metadata": {},
   "outputs": [
    {
     "data": {
      "text/plain": [
       "1812"
      ]
     },
     "execution_count": 84,
     "metadata": {},
     "output_type": "execute_result"
    }
   ],
   "source": [
    "len(abc_links)"
   ]
  },
  {
   "cell_type": "code",
   "execution_count": 85,
   "metadata": {
    "scrolled": true
   },
   "outputs": [
    {
     "data": {
      "text/plain": [
       "1812"
      ]
     },
     "execution_count": 85,
     "metadata": {},
     "output_type": "execute_result"
    }
   ],
   "source": [
    "abc_names = [x.split('/')[-1] for x in abc_links]\n",
    "\n",
    "len(abc_names)"
   ]
  },
  {
   "cell_type": "code",
   "execution_count": null,
   "metadata": {},
   "outputs": [],
   "source": []
  },
  {
   "cell_type": "code",
   "execution_count": 86,
   "metadata": {},
   "outputs": [],
   "source": [
    "import json\n",
    "with open('abc_names.json', 'w') as f:\n",
    "    json.dump(abc_names, f)\n"
   ]
  },
  {
   "cell_type": "code",
   "execution_count": null,
   "metadata": {},
   "outputs": [],
   "source": []
  }
 ],
 "metadata": {
  "kernelspec": {
   "display_name": "Python 3",
   "language": "python",
   "name": "python3"
  },
  "language_info": {
   "codemirror_mode": {
    "name": "ipython",
    "version": 3
   },
   "file_extension": ".py",
   "mimetype": "text/x-python",
   "name": "python",
   "nbconvert_exporter": "python",
   "pygments_lexer": "ipython3",
   "version": "3.6.5"
  }
 },
 "nbformat": 4,
 "nbformat_minor": 2
}
