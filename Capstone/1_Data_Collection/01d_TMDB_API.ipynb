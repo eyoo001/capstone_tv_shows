{
 "cells": [
  {
   "cell_type": "markdown",
   "metadata": {},
   "source": [
    "# TMDB API\n",
    "\n",
    "I will be using the same list of cleaned show names to pass through the TMDB API. TMDB also has an API wrapper that I will be utilizing. As with the OMDB API, I acquired a key from the website.\n",
    "\n",
    "Source: https://www.themoviedb.org/documentation/api?language=en-US"
   ]
  },
  {
   "cell_type": "code",
   "execution_count": 1,
   "metadata": {},
   "outputs": [],
   "source": [
    "import pickle\n",
    "import json\n",
    "import requests\n",
    "import re\n",
    "import time\n",
    "import pandas as pd\n",
    "import numpy as np \n",
    "import pprint\n",
    "from collections import defaultdict\n",
    "\n",
    "pp = pprint.PrettyPrinter(indent=2)"
   ]
  },
  {
   "cell_type": "markdown",
   "metadata": {},
   "source": [
    "# Loading in the list and cleaning the show names\n",
    "\n",
    "I want to reduce this step to not be so verbose."
   ]
  },
  {
   "cell_type": "code",
   "execution_count": 2,
   "metadata": {},
   "outputs": [],
   "source": [
    "with open ('../0_Assets_&_Data/clean_show_list.pickle', 'rb') as fp:\n",
    "    clean_show_list = pickle.load(fp)"
   ]
  },
  {
   "cell_type": "markdown",
   "metadata": {},
   "source": [
    "# Getting series info from OMDB\n",
    "\n",
    "As a first step, I'm iterating through the show list and making a get request for each show. I want to get plot for some NLP/topic modeling (fullplot=True) and see if there is enough information from RottenTomatoes to be used in modeling (tomatoes=True). "
   ]
  },
  {
   "cell_type": "markdown",
   "metadata": {},
   "source": [
    "# TMDB"
   ]
  },
  {
   "cell_type": "code",
   "execution_count": 3,
   "metadata": {},
   "outputs": [],
   "source": [
    "import tmdbsimple as tmdb"
   ]
  },
  {
   "cell_type": "code",
   "execution_count": 4,
   "metadata": {},
   "outputs": [],
   "source": [
    "tmdb.API_KEY = 'a317708aa6c2e5d9aa0213f98af91cd7'"
   ]
  },
  {
   "cell_type": "code",
   "execution_count": 5,
   "metadata": {},
   "outputs": [],
   "source": [
    "search = tmdb.Search()"
   ]
  },
  {
   "cell_type": "markdown",
   "metadata": {},
   "source": [
    "Creating a 'for' loop to search through the list of ABC show names"
   ]
  },
  {
   "cell_type": "markdown",
   "metadata": {},
   "source": [
    "# Function to search TMDB and get IDs"
   ]
  },
  {
   "cell_type": "markdown",
   "metadata": {},
   "source": [
    "For this API (wrapper), I'll need to use the search function to check that the name in my list of shows is in the TMDB database, then grab the tmdb ID to query for the full series data. They appear to use their own proprietary/internal ID naming format, which makes the IMDB IDs that I had previously collected not applicable here.\n",
    "\n",
    "For the first step, I will grab the search results from the database."
   ]
  },
  {
   "cell_type": "code",
   "execution_count": 6,
   "metadata": {},
   "outputs": [],
   "source": [
    "def search_tmdb(link_list):\n",
    "    tmdb_dict = {}\n",
    "    count = 0\n",
    "    for i in link_list:\n",
    "        tmdb_dict[i] = search.tv(query=i)\n",
    "        count += 1\n",
    "        if count % 1000 == 0:\n",
    "            print(\"Currently pulling: \", count)\n",
    "    return tmdb_dict"
   ]
  },
  {
   "cell_type": "code",
   "execution_count": 8,
   "metadata": {
    "scrolled": true
   },
   "outputs": [],
   "source": [
    "tmdb_show_search = search_tmdb(clean_show_list)"
   ]
  },
  {
   "cell_type": "code",
   "execution_count": null,
   "metadata": {
    "scrolled": false
   },
   "outputs": [],
   "source": [
    "search.tv(query='The Good Doctor')"
   ]
  },
  {
   "cell_type": "markdown",
   "metadata": {},
   "source": [
    "# Grabbing TMDB IDs in a dict"
   ]
  },
  {
   "cell_type": "markdown",
   "metadata": {},
   "source": [
    "With the dictionary of TMDB's search results prepared, I can now iterate through those results and grab the TMDB ID."
   ]
  },
  {
   "cell_type": "code",
   "execution_count": null,
   "metadata": {},
   "outputs": [],
   "source": [
    "def get_tmdb_id(tmdb_dict):\n",
    "    tmdb_id = {}\n",
    "    bad_shows = []\n",
    "    count = 0\n",
    "    for i in tmdb_dict:\n",
    "        if tmdb_dict[i]['results']:\n",
    "            tmdb_id[i] = tmdb_dict[i]['results'][0]['id']\n",
    "            count += 1\n",
    "            if count % 250 == 0:\n",
    "                print(\"Currently pulling: \", count)\n",
    "        elif not tmdb_dict[i]['results']:\n",
    "            bad_shows.append(i)\n",
    "    return tmdb_id"
   ]
  },
  {
   "cell_type": "markdown",
   "metadata": {},
   "source": [
    "An issue that I encountered while using this method of searching for the show by name in order to grab ID is the instances of duplicate show/movie names. It would be too tedious to check each result to ensure that the correct name is pulled, so I decided to default to the first result. This is not ideal, of course; I would think to make an exception in the conditional statement to capture searches that have more than 1 result."
   ]
  },
  {
   "cell_type": "code",
   "execution_count": null,
   "metadata": {
    "scrolled": true
   },
   "outputs": [],
   "source": [
    "tmdb_show_id = get_tmdb_id(tmdb_show_search)"
   ]
  },
  {
   "cell_type": "markdown",
   "metadata": {},
   "source": [
    "Using the TMDB ID, I can now query the API to pull the series/season information. I'll need to create a function that can iterate through the dictionary of IDs (On second thought, a list of IDs may suffice?) to grab the season information into a new dictionary - the function will also need to be able to iterate through 'season_number' in order to capture all relevant information. I may need to use the actual API instead of this wrapper, as the res.status_code would be a very easy method for looping on. \n",
    "\n",
    "Otherwise, I may be able to grab the season number from the series info (above) and use that as the max value of range(1, max)."
   ]
  },
  {
   "cell_type": "markdown",
   "metadata": {},
   "source": [
    "# Grabbing TMDB info"
   ]
  },
  {
   "cell_type": "markdown",
   "metadata": {},
   "source": [
    "Using the TMDB ID, I can now query the API to pull the series/season information. The following function will iterate through the previously created dictionary of IDs to grab the season information into a new dictionary - the function will also need to be able to iterate through 'season_number' in order to capture all relevant information. This is a situation in which querying the API directly would have been beneficial, as the res.status_code would be a very easy conditional for looping on. "
   ]
  },
  {
   "cell_type": "code",
   "execution_count": null,
   "metadata": {},
   "outputs": [],
   "source": [
    "def get_tmdb_show(link_dict):\n",
    "    tmdb_show_info = {}\n",
    "    for key in link_dict:\n",
    "        try:\n",
    "            tmdb_show_info[key] = tmdb.TV(id=link_dict[key]).info()\n",
    "        except:\n",
    "            continue\n",
    "    return tmdb_show_info"
   ]
  },
  {
   "cell_type": "code",
   "execution_count": null,
   "metadata": {},
   "outputs": [],
   "source": [
    "tmdb_series_dict = get_tmdb_show(tmdb_show_id)"
   ]
  },
  {
   "cell_type": "code",
   "execution_count": null,
   "metadata": {},
   "outputs": [],
   "source": [
    "tmdb_series_dict.keys()"
   ]
  },
  {
   "cell_type": "code",
   "execution_count": null,
   "metadata": {},
   "outputs": [],
   "source": [
    "with open('../0_Assets_&_Data/tmdb_series_dict.json', 'w') as fp:\n",
    "    json.dump(tmdb_series_dict, fp)"
   ]
  },
  {
   "cell_type": "code",
   "execution_count": null,
   "metadata": {},
   "outputs": [],
   "source": [
    "with open('../0_Assets_&_Data/tmdb_show_info.json', 'w') as fp:\n",
    "    json.dump(tmdb_show_info, fp)"
   ]
  }
 ],
 "metadata": {
  "kernelspec": {
   "display_name": "Python 3",
   "language": "python",
   "name": "python3"
  },
  "language_info": {
   "codemirror_mode": {
    "name": "ipython",
    "version": 3
   },
   "file_extension": ".py",
   "mimetype": "text/x-python",
   "name": "python",
   "nbconvert_exporter": "python",
   "pygments_lexer": "ipython3",
   "version": "3.6.5"
  }
 },
 "nbformat": 4,
 "nbformat_minor": 2
}
