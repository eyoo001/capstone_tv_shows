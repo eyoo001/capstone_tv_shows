{
 "cells": [
  {
   "cell_type": "markdown",
   "metadata": {},
   "source": [
    "# Engineering Features\n",
    "\n",
    "Now that I know how badly my model is scoring, I am going to try and utilize some additional features in order to hopefully feed in better data for my model to train on. "
   ]
  },
  {
   "cell_type": "code",
   "execution_count": 1,
   "metadata": {},
   "outputs": [],
   "source": [
    "from sklearn.preprocessing import StandardScaler\n",
    "from sklearn.linear_model import LinearRegression, LassoCV, RidgeCV, ElasticNetCV\n",
    "from sklearn.ensemble import RandomForestRegressor, GradientBoostingRegressor\n",
    "from sklearn.model_selection import train_test_split, GridSearchCV\n",
    "from sklearn.feature_extraction.text import CountVectorizer, TfidfVectorizer\n",
    "\n",
    "from rake_nltk import Rake\n",
    "import datetime, time\n",
    "import pandas as pd\n",
    "import numpy as np\n",
    "import seaborn as sns\n",
    "import matplotlib.pyplot as plt\n",
    "import pickle\n",
    "\n",
    "import warnings\n",
    "warnings.filterwarnings('ignore')\n",
    "\n",
    "%matplotlib inline"
   ]
  },
  {
   "cell_type": "code",
   "execution_count": 2,
   "metadata": {},
   "outputs": [],
   "source": [
    "with open('../0_Assets_&_Data/series_df_full.pickle', 'rb') as f:\n",
    "    series_df = pickle.load(f)\n",
    "    \n",
    "with open('../0_Assets_&_Data/model_prelim.pickle', 'rb') as f:\n",
    "    model_df = pickle.load(f)\n",
    "    \n",
    "with open('../0_Assets_&_Data/week_day.pickle', 'rb') as f:\n",
    "    week_day = pickle.load(f)\n",
    "    \n",
    "with open('../0_Assets_&_Data/cleaned_series_df.pickle', 'rb') as f:\n",
    "    clean_series_df = pickle.load(f)"
   ]
  },
  {
   "cell_type": "markdown",
   "metadata": {},
   "source": [
    "# Categorizing Seasons\n",
    "\n",
    "After loading in the dataframe from my previous notebook, the first thing I want to try and do is to reduce the number of dummied months by sorting them into seasons instead. "
   ]
  },
  {
   "cell_type": "code",
   "execution_count": 3,
   "metadata": {
    "scrolled": true
   },
   "outputs": [],
   "source": [
    "week_day['spring'] = (week_day['month'] < 7) & (week_day['month'] > 2)"
   ]
  },
  {
   "cell_type": "code",
   "execution_count": 4,
   "metadata": {},
   "outputs": [],
   "source": [
    "week_day['summer'] = (week_day['month'] < 9) & (week_day['month'] > 5)"
   ]
  },
  {
   "cell_type": "code",
   "execution_count": 5,
   "metadata": {},
   "outputs": [],
   "source": [
    "week_day['fall'] = (week_day['month'] < 12) & (week_day['month'] > 8) "
   ]
  },
  {
   "cell_type": "code",
   "execution_count": 6,
   "metadata": {},
   "outputs": [],
   "source": [
    "week_day['winter'] = (week_day['month'] < 3) | (week_day['month'] == 12)"
   ]
  },
  {
   "cell_type": "code",
   "execution_count": 7,
   "metadata": {},
   "outputs": [],
   "source": [
    "week_day_ = week_day.drop('released', axis=1)\n",
    "week_day_dum1 = pd.get_dummies(week_day_['weekday'], prefix='day')\n",
    "week_day_dum2 = pd.get_dummies(week_day_['month'], prefix='month')\n",
    "week_day_dum3 = week_day_[['spring', 'summer', 'fall', 'winter']]"
   ]
  },
  {
   "cell_type": "markdown",
   "metadata": {},
   "source": [
    "# Making an Actor Dataframe\n",
    "\n",
    "I want to try and imbue some weight to the actors column so that I don't have to be dummying those out. It seems reasonable that the starring actors should have some sort of effect on the success of a show, whether due to popularity or quality of acting. \n",
    "\n",
    "I will start by making a temporary dataframe to CountVectorize, then pass it back through the main Dataframe."
   ]
  },
  {
   "cell_type": "code",
   "execution_count": 8,
   "metadata": {},
   "outputs": [],
   "source": [
    "nlp_df = clean_series_df[['writer', 'overview_x', 'number_of_episodes', 'number_of_seasons', \n",
    "                     'overview_y', 'status_y', 'actors', 'awards', 'genre_y', 'imdb_rating',\n",
    "                     'imdb_votes', 'plot', 'runtime_x', 'runtime_cat', 'network']]"
   ]
  },
  {
   "cell_type": "code",
   "execution_count": 9,
   "metadata": {
    "scrolled": true
   },
   "outputs": [],
   "source": [
    "nlp_df[['runtime_x', 'awards']] = nlp_df[['runtime_x', 'awards']].astype(float)"
   ]
  },
  {
   "cell_type": "markdown",
   "metadata": {},
   "source": [
    "I want to make sure I don't have any null values and verify the data type."
   ]
  },
  {
   "cell_type": "code",
   "execution_count": 10,
   "metadata": {
    "scrolled": false
   },
   "outputs": [],
   "source": [
    "nlp_df['overview_x'].fillna('N/A', inplace=True)\n",
    "nlp_df['overview_y'].fillna('N/A', inplace=True)\n",
    "nlp_df['plot'].fillna('N/A', inplace=True)"
   ]
  },
  {
   "cell_type": "code",
   "execution_count": 11,
   "metadata": {},
   "outputs": [],
   "source": [
    "nlp_df['plot'] = nlp_df['plot'].astype(str)\n",
    "nlp_df['overview_x'] = nlp_df['overview_x'].astype(str)\n",
    "nlp_df['overview_y'] = nlp_df['overview_y'].astype(str)"
   ]
  },
  {
   "cell_type": "code",
   "execution_count": 12,
   "metadata": {
    "scrolled": true
   },
   "outputs": [],
   "source": [
    "nlp_df['bag_of_words'] = nlp_df[['overview_x', 'plot','overview_y']].apply(lambda x: ''.join(x), axis=1)"
   ]
  },
  {
   "cell_type": "code",
   "execution_count": 13,
   "metadata": {
    "scrolled": true
   },
   "outputs": [],
   "source": [
    "nlp_df.drop(['overview_x', 'overview_y', 'plot'], axis=1, inplace=True)"
   ]
  },
  {
   "cell_type": "code",
   "execution_count": 14,
   "metadata": {
    "scrolled": true
   },
   "outputs": [
    {
     "data": {
      "text/plain": [
       "Index(['writer', 'number_of_episodes', 'number_of_seasons', 'status_y',\n",
       "       'actors', 'awards', 'genre_y', 'imdb_rating', 'imdb_votes', 'runtime_x',\n",
       "       'runtime_cat', 'network', 'bag_of_words'],\n",
       "      dtype='object')"
      ]
     },
     "execution_count": 14,
     "metadata": {},
     "output_type": "execute_result"
    }
   ],
   "source": [
    "nlp_df.columns"
   ]
  },
  {
   "cell_type": "code",
   "execution_count": 15,
   "metadata": {},
   "outputs": [],
   "source": [
    "test_df = nlp_df[['actors']]"
   ]
  },
  {
   "cell_type": "code",
   "execution_count": 16,
   "metadata": {},
   "outputs": [],
   "source": [
    "test_df['imdb_votes'] = nlp_df[['imdb_votes']]\n",
    "test_df['imdb_rating'] = nlp_df[['imdb_rating']]\n",
    "test_df['number_of_episodes'] = nlp_df[['number_of_episodes']]\n",
    "test_df['number_of_seasons'] = nlp_df[['number_of_seasons']]\n",
    "test_df['awards'] = nlp_df[['awards']]"
   ]
  },
  {
   "cell_type": "code",
   "execution_count": 17,
   "metadata": {
    "scrolled": true
   },
   "outputs": [],
   "source": [
    "test_df['actors'] = test_df['actors'].astype(str)"
   ]
  },
  {
   "cell_type": "markdown",
   "metadata": {},
   "source": [
    "Now that my data is cleaner, I can CountVectorize the actor names. I am using CountVectorizier over TF-IDF because this dataset/corpus is relatively small and I will want all of the actors to be seen; if I were to TF-IDF these names, I may just receive a shorter list of the strongest features.\n",
    "\n",
    "For the sake of avoiding actors with the same first or last names, I will be combining their first and last name along with removing punctuation marks."
   ]
  },
  {
   "cell_type": "code",
   "execution_count": 18,
   "metadata": {
    "scrolled": true
   },
   "outputs": [],
   "source": [
    "cv = CountVectorizer(stop_words=None, analyzer='word', \n",
    "                     ngram_range=(1, 1), max_df=1.0, min_df=1, max_features=None)\n",
    "\n",
    "# List of strings\n",
    "name_list = []\n",
    "\n",
    "for row in test_df['actors']:\n",
    "    name_list.append(row)"
   ]
  },
  {
   "cell_type": "code",
   "execution_count": 19,
   "metadata": {},
   "outputs": [],
   "source": [
    "name_list_clean = []\n",
    "for item in range(0, len(name_list)):\n",
    "    name_list_clean.append(name_list[item].lower().replace(\"'\", \"\").replace(' ', '').replace('.', '').replace('-', ''))\n"
   ]
  },
  {
   "cell_type": "markdown",
   "metadata": {},
   "source": [
    "# Count Vectorizing the actors\n",
    "\n",
    "I have my list of cleaned names, so I can fit the Count Vectorizier and transform to get my weights."
   ]
  },
  {
   "cell_type": "code",
   "execution_count": 20,
   "metadata": {},
   "outputs": [],
   "source": [
    "count_train = cv.fit(name_list_clean)\n",
    "bag_of_words = cv.transform(name_list_clean)"
   ]
  },
  {
   "cell_type": "code",
   "execution_count": 21,
   "metadata": {},
   "outputs": [],
   "source": [
    "match = cv.vocabulary_"
   ]
  },
  {
   "cell_type": "markdown",
   "metadata": {},
   "source": [
    "I now have a list of vectorized values for each actor, and will want to iterate through the test_df & multiply the imdb rating by this value, then remove the actual actors themselves.\n",
    "\n",
    "The first step is to split the list of actors in the single column into their own columns."
   ]
  },
  {
   "cell_type": "code",
   "execution_count": 22,
   "metadata": {
    "scrolled": true
   },
   "outputs": [],
   "source": [
    "actors_split = pd.concat([test_df['actors'].str.split(', ', expand=True)], axis=1)\n",
    "test_df = pd.concat((test_df ,actors_split), axis=1)"
   ]
  },
  {
   "cell_type": "code",
   "execution_count": 23,
   "metadata": {
    "scrolled": true
   },
   "outputs": [
    {
     "data": {
      "text/html": [
       "<div>\n",
       "<style scoped>\n",
       "    .dataframe tbody tr th:only-of-type {\n",
       "        vertical-align: middle;\n",
       "    }\n",
       "\n",
       "    .dataframe tbody tr th {\n",
       "        vertical-align: top;\n",
       "    }\n",
       "\n",
       "    .dataframe thead th {\n",
       "        text-align: right;\n",
       "    }\n",
       "</style>\n",
       "<table border=\"1\" class=\"dataframe\">\n",
       "  <thead>\n",
       "    <tr style=\"text-align: right;\">\n",
       "      <th></th>\n",
       "      <th>actors</th>\n",
       "      <th>imdb_votes</th>\n",
       "      <th>imdb_rating</th>\n",
       "      <th>number_of_episodes</th>\n",
       "      <th>number_of_seasons</th>\n",
       "      <th>awards</th>\n",
       "      <th>0</th>\n",
       "      <th>1</th>\n",
       "      <th>2</th>\n",
       "      <th>3</th>\n",
       "    </tr>\n",
       "  </thead>\n",
       "  <tbody>\n",
       "    <tr>\n",
       "      <th>Game of Thrones</th>\n",
       "      <td>Peter Dinklage, Lena Headey, Emilia Clarke, Ki...</td>\n",
       "      <td>1361235.0</td>\n",
       "      <td>9.5</td>\n",
       "      <td>73.0</td>\n",
       "      <td>8</td>\n",
       "      <td>1.0</td>\n",
       "      <td>Peter Dinklage</td>\n",
       "      <td>Lena Headey</td>\n",
       "      <td>Emilia Clarke</td>\n",
       "      <td>Kit Harington</td>\n",
       "    </tr>\n",
       "    <tr>\n",
       "      <th>Westworld</th>\n",
       "      <td>Evan Rachel Wood, Thandie Newton, Jeffrey Wrig...</td>\n",
       "      <td>307642.0</td>\n",
       "      <td>8.9</td>\n",
       "      <td>20.0</td>\n",
       "      <td>2</td>\n",
       "      <td>1.0</td>\n",
       "      <td>Evan Rachel Wood</td>\n",
       "      <td>Thandie Newton</td>\n",
       "      <td>Jeffrey Wright</td>\n",
       "      <td>James Marsden</td>\n",
       "    </tr>\n",
       "    <tr>\n",
       "      <th>Big Little Lies</th>\n",
       "      <td>Reese Witherspoon, Nicole Kidman, Shailene Woo...</td>\n",
       "      <td>86060.0</td>\n",
       "      <td>8.6</td>\n",
       "      <td>7.0</td>\n",
       "      <td>2</td>\n",
       "      <td>1.0</td>\n",
       "      <td>Reese Witherspoon</td>\n",
       "      <td>Nicole Kidman</td>\n",
       "      <td>Shailene Woodley</td>\n",
       "      <td>Zoë Kravitz</td>\n",
       "    </tr>\n",
       "    <tr>\n",
       "      <th>The Deuce</th>\n",
       "      <td>James Franco, Maggie Gyllenhaal, Dominique Fis...</td>\n",
       "      <td>14113.0</td>\n",
       "      <td>8.1</td>\n",
       "      <td>16.0</td>\n",
       "      <td>2</td>\n",
       "      <td>1.0</td>\n",
       "      <td>James Franco</td>\n",
       "      <td>Maggie Gyllenhaal</td>\n",
       "      <td>Dominique Fishback</td>\n",
       "      <td>Gary Carr</td>\n",
       "    </tr>\n",
       "    <tr>\n",
       "      <th>Succession</th>\n",
       "      <td>Hiam Abbass, Nicholas Braun, Brian Cox, Kieran...</td>\n",
       "      <td>3927.0</td>\n",
       "      <td>7.6</td>\n",
       "      <td>10.0</td>\n",
       "      <td>1</td>\n",
       "      <td>0.0</td>\n",
       "      <td>Hiam Abbass</td>\n",
       "      <td>Nicholas Braun</td>\n",
       "      <td>Brian Cox</td>\n",
       "      <td>Kieran Culkin</td>\n",
       "    </tr>\n",
       "  </tbody>\n",
       "</table>\n",
       "</div>"
      ],
      "text/plain": [
       "                                                            actors  \\\n",
       "Game of Thrones  Peter Dinklage, Lena Headey, Emilia Clarke, Ki...   \n",
       "Westworld        Evan Rachel Wood, Thandie Newton, Jeffrey Wrig...   \n",
       "Big Little Lies  Reese Witherspoon, Nicole Kidman, Shailene Woo...   \n",
       "The Deuce        James Franco, Maggie Gyllenhaal, Dominique Fis...   \n",
       "Succession       Hiam Abbass, Nicholas Braun, Brian Cox, Kieran...   \n",
       "\n",
       "                 imdb_votes imdb_rating  number_of_episodes  \\\n",
       "Game of Thrones   1361235.0         9.5                73.0   \n",
       "Westworld          307642.0         8.9                20.0   \n",
       "Big Little Lies     86060.0         8.6                 7.0   \n",
       "The Deuce           14113.0         8.1                16.0   \n",
       "Succession           3927.0         7.6                10.0   \n",
       "\n",
       "                 number_of_seasons  awards                  0  \\\n",
       "Game of Thrones                  8     1.0     Peter Dinklage   \n",
       "Westworld                        2     1.0   Evan Rachel Wood   \n",
       "Big Little Lies                  2     1.0  Reese Witherspoon   \n",
       "The Deuce                        2     1.0       James Franco   \n",
       "Succession                       1     0.0        Hiam Abbass   \n",
       "\n",
       "                                 1                   2              3  \n",
       "Game of Thrones        Lena Headey       Emilia Clarke  Kit Harington  \n",
       "Westworld           Thandie Newton      Jeffrey Wright  James Marsden  \n",
       "Big Little Lies      Nicole Kidman    Shailene Woodley    Zoë Kravitz  \n",
       "The Deuce        Maggie Gyllenhaal  Dominique Fishback      Gary Carr  \n",
       "Succession          Nicholas Braun           Brian Cox  Kieran Culkin  "
      ]
     },
     "execution_count": 23,
     "metadata": {},
     "output_type": "execute_result"
    }
   ],
   "source": [
    "test_df.head()"
   ]
  },
  {
   "cell_type": "code",
   "execution_count": 24,
   "metadata": {},
   "outputs": [],
   "source": [
    "test_df[1] = test_df[1].fillna(\"none\")\n",
    "test_df[2] = test_df[2].fillna(\"none\")\n",
    "test_df[3] = test_df[3].fillna(\"none\")"
   ]
  },
  {
   "cell_type": "markdown",
   "metadata": {},
   "source": [
    "After filling in the the null spots, I can proceed to configure the actor names to be in the same format as the name_list_clean. This is the list of names where spaces and punctuation were removed to properly count the occurences of the actors."
   ]
  },
  {
   "cell_type": "code",
   "execution_count": 25,
   "metadata": {},
   "outputs": [],
   "source": [
    "for number in range(0, len(test_df[0])):\n",
    "    test_df['actor_1'] = test_df[0][number].lower().replace(\"'\", \"\").replace(' ', '').replace('.', '').replace('-', '')\n",
    "\n",
    "for number in range(0, len(test_df[1])):\n",
    "    test_df['actor_2'] = test_df[1][number].lower().replace(\"'\", \"\").replace(' ', '').replace('.', '').replace('-', '')\n",
    "\n",
    "for number in range(0, len(test_df[2])):\n",
    "    test_df['actor_3'] = test_df[2][number].lower().replace(\"'\", \"\").replace(' ', '').replace('.', '').replace('-', '')\n",
    "\n",
    "for number in range(0, len(test_df[3])):\n",
    "    test_df['actor_4'] = test_df[3][number].lower().replace(\"'\", \"\").replace(' ', '').replace('.', '').replace('-', '')"
   ]
  },
  {
   "cell_type": "code",
   "execution_count": 26,
   "metadata": {},
   "outputs": [],
   "source": [
    "for number in range(0, len(test_df[0])):\n",
    "    test_df['actor_1'][number] = test_df[0][number].lower().replace(\"'\", \"\").replace(' ', '').replace('.', '').replace('-', '')\n",
    "\n",
    "for number in range(0, len(test_df[1])):\n",
    "    test_df['actor_2'][number] = test_df[1][number].lower().replace(\"'\", \"\").replace(' ', '').replace('.', '').replace('-', '')\n",
    "\n",
    "for number in range(0, len(test_df[2])):\n",
    "    test_df['actor_3'][number] = test_df[2][number].lower().replace(\"'\", \"\").replace(' ', '').replace('.', '').replace('-', '')\n",
    "\n",
    "for number in range(0, len(test_df[3])):\n",
    "    test_df['actor_4'][number] = test_df[3][number].lower().replace(\"'\", \"\").replace(' ', '').replace('.', '').replace('-', '')"
   ]
  },
  {
   "cell_type": "markdown",
   "metadata": {},
   "source": [
    "Once the actor names are replaced with their vectorized values, I can drop the list of actor names and make the \"none[s]\" that I imputed earlier to be 0s."
   ]
  },
  {
   "cell_type": "code",
   "execution_count": 27,
   "metadata": {},
   "outputs": [],
   "source": [
    "test_df['actor_1'] = test_df['actor_1'].map(match).fillna(test_df['actor_1'])\n",
    "test_df['actor_2'] = test_df['actor_2'].map(match).fillna(test_df['actor_2'])\n",
    "test_df['actor_3'] = test_df['actor_3'].map(match).fillna(test_df['actor_3'])\n",
    "test_df['actor_4'] = test_df['actor_4'].map(match).fillna(test_df['actor_4'])\n",
    "\n",
    "# This may allow me to replace the values in the cell with the count vectorized values, \n",
    "# but I'll need to have the words match first."
   ]
  },
  {
   "cell_type": "code",
   "execution_count": 28,
   "metadata": {},
   "outputs": [],
   "source": [
    "temp_df = test_df.drop(['actors', 0, 1, 2, 3], axis=1)"
   ]
  },
  {
   "cell_type": "code",
   "execution_count": 29,
   "metadata": {},
   "outputs": [],
   "source": [
    "def remove_nones(df):\n",
    "    for i in range(0, len(df)):\n",
    "        if df[i] == 'none':\n",
    "            df[i] = 0"
   ]
  },
  {
   "cell_type": "code",
   "execution_count": 30,
   "metadata": {},
   "outputs": [],
   "source": [
    "remove_nones(temp_df['actor_2'])\n",
    "remove_nones(temp_df['actor_3'])\n",
    "remove_nones(temp_df['actor_4'])"
   ]
  },
  {
   "cell_type": "code",
   "execution_count": 31,
   "metadata": {},
   "outputs": [
    {
     "data": {
      "text/html": [
       "<div>\n",
       "<style scoped>\n",
       "    .dataframe tbody tr th:only-of-type {\n",
       "        vertical-align: middle;\n",
       "    }\n",
       "\n",
       "    .dataframe tbody tr th {\n",
       "        vertical-align: top;\n",
       "    }\n",
       "\n",
       "    .dataframe thead th {\n",
       "        text-align: right;\n",
       "    }\n",
       "</style>\n",
       "<table border=\"1\" class=\"dataframe\">\n",
       "  <thead>\n",
       "    <tr style=\"text-align: right;\">\n",
       "      <th></th>\n",
       "      <th>imdb_votes</th>\n",
       "      <th>imdb_rating</th>\n",
       "      <th>number_of_episodes</th>\n",
       "      <th>number_of_seasons</th>\n",
       "      <th>awards</th>\n",
       "      <th>actor_1</th>\n",
       "      <th>actor_2</th>\n",
       "      <th>actor_3</th>\n",
       "      <th>actor_4</th>\n",
       "    </tr>\n",
       "  </thead>\n",
       "  <tbody>\n",
       "    <tr>\n",
       "      <th>This Is Tom Jones</th>\n",
       "      <td>67.0</td>\n",
       "      <td>8.0</td>\n",
       "      <td>6.0</td>\n",
       "      <td>1</td>\n",
       "      <td>1.0</td>\n",
       "      <td>5080</td>\n",
       "      <td>4988</td>\n",
       "      <td>4868</td>\n",
       "      <td>4875</td>\n",
       "    </tr>\n",
       "    <tr>\n",
       "      <th>Trust Us with Your Life</th>\n",
       "      <td>110.0</td>\n",
       "      <td>7.2</td>\n",
       "      <td>8.0</td>\n",
       "      <td>1</td>\n",
       "      <td>0.0</td>\n",
       "      <td>2601</td>\n",
       "      <td>983</td>\n",
       "      <td>1697</td>\n",
       "      <td>5235</td>\n",
       "    </tr>\n",
       "    <tr>\n",
       "      <th>Turn-On</th>\n",
       "      <td>51.0</td>\n",
       "      <td>4.6</td>\n",
       "      <td>1.0</td>\n",
       "      <td>1</td>\n",
       "      <td>0.0</td>\n",
       "      <td>4959</td>\n",
       "      <td>569</td>\n",
       "      <td>1883</td>\n",
       "      <td>5024</td>\n",
       "    </tr>\n",
       "    <tr>\n",
       "      <th>Muppets Tonight</th>\n",
       "      <td>1369.0</td>\n",
       "      <td>7.9</td>\n",
       "      <td>22.0</td>\n",
       "      <td>2</td>\n",
       "      <td>1.0</td>\n",
       "      <td>1153</td>\n",
       "      <td>2918</td>\n",
       "      <td>2340</td>\n",
       "      <td>500</td>\n",
       "    </tr>\n",
       "    <tr>\n",
       "      <th>Ripley's Believe It or Not</th>\n",
       "      <td>1069.0</td>\n",
       "      <td>6.7</td>\n",
       "      <td>76.0</td>\n",
       "      <td>4</td>\n",
       "      <td>0.0</td>\n",
       "      <td>1252</td>\n",
       "      <td>2866</td>\n",
       "      <td>0</td>\n",
       "      <td>0</td>\n",
       "    </tr>\n",
       "  </tbody>\n",
       "</table>\n",
       "</div>"
      ],
      "text/plain": [
       "                            imdb_votes imdb_rating  number_of_episodes  \\\n",
       "This Is Tom Jones                 67.0         8.0                 6.0   \n",
       "Trust Us with Your Life          110.0         7.2                 8.0   \n",
       "Turn-On                           51.0         4.6                 1.0   \n",
       "Muppets Tonight                 1369.0         7.9                22.0   \n",
       "Ripley's Believe It or Not      1069.0         6.7                76.0   \n",
       "\n",
       "                            number_of_seasons  awards actor_1 actor_2 actor_3  \\\n",
       "This Is Tom Jones                           1     1.0    5080    4988    4868   \n",
       "Trust Us with Your Life                     1     0.0    2601     983    1697   \n",
       "Turn-On                                     1     0.0    4959     569    1883   \n",
       "Muppets Tonight                             2     1.0    1153    2918    2340   \n",
       "Ripley's Believe It or Not                  4     0.0    1252    2866       0   \n",
       "\n",
       "                           actor_4  \n",
       "This Is Tom Jones             4875  \n",
       "Trust Us with Your Life       5235  \n",
       "Turn-On                       5024  \n",
       "Muppets Tonight                500  \n",
       "Ripley's Believe It or Not       0  "
      ]
     },
     "execution_count": 31,
     "metadata": {},
     "output_type": "execute_result"
    }
   ],
   "source": [
    "temp_df.tail()"
   ]
  },
  {
   "cell_type": "code",
   "execution_count": 32,
   "metadata": {},
   "outputs": [],
   "source": [
    "temp_df['actor_1'] = temp_df['actor_1'].astype(int)\n",
    "temp_df['actor_2'] = temp_df['actor_2'].astype(int)\n",
    "temp_df['actor_3'] = temp_df['actor_3'].astype(int)\n",
    "temp_df['actor_4'] = temp_df['actor_4'].astype(int)\n",
    "temp_df['imdb_rating'] = temp_df['imdb_rating'].astype(float)"
   ]
  },
  {
   "cell_type": "code",
   "execution_count": 33,
   "metadata": {},
   "outputs": [],
   "source": [
    "temp_df['actor_1_weighted'] = temp_df['imdb_rating'] * temp_df['actor_1']\n",
    "temp_df['actor_2_weighted'] = temp_df['imdb_rating'] * temp_df['actor_2']\n",
    "temp_df['actor_3_weighted'] = temp_df['imdb_rating'] * temp_df['actor_3']\n",
    "temp_df['actor_4_weighted'] = temp_df['imdb_rating'] * temp_df['actor_4']"
   ]
  },
  {
   "cell_type": "code",
   "execution_count": 34,
   "metadata": {},
   "outputs": [
    {
     "data": {
      "text/html": [
       "<div>\n",
       "<style scoped>\n",
       "    .dataframe tbody tr th:only-of-type {\n",
       "        vertical-align: middle;\n",
       "    }\n",
       "\n",
       "    .dataframe tbody tr th {\n",
       "        vertical-align: top;\n",
       "    }\n",
       "\n",
       "    .dataframe thead th {\n",
       "        text-align: right;\n",
       "    }\n",
       "</style>\n",
       "<table border=\"1\" class=\"dataframe\">\n",
       "  <thead>\n",
       "    <tr style=\"text-align: right;\">\n",
       "      <th></th>\n",
       "      <th>imdb_votes</th>\n",
       "      <th>imdb_rating</th>\n",
       "      <th>number_of_episodes</th>\n",
       "      <th>number_of_seasons</th>\n",
       "      <th>awards</th>\n",
       "      <th>actor_1</th>\n",
       "      <th>actor_2</th>\n",
       "      <th>actor_3</th>\n",
       "      <th>actor_4</th>\n",
       "      <th>actor_1_weighted</th>\n",
       "      <th>actor_2_weighted</th>\n",
       "      <th>actor_3_weighted</th>\n",
       "      <th>actor_4_weighted</th>\n",
       "    </tr>\n",
       "  </thead>\n",
       "  <tbody>\n",
       "    <tr>\n",
       "      <th>Game of Thrones</th>\n",
       "      <td>1361235.0</td>\n",
       "      <td>9.5</td>\n",
       "      <td>73.0</td>\n",
       "      <td>8</td>\n",
       "      <td>1.0</td>\n",
       "      <td>4118</td>\n",
       "      <td>3111</td>\n",
       "      <td>1530</td>\n",
       "      <td>2978</td>\n",
       "      <td>39121.0</td>\n",
       "      <td>29554.5</td>\n",
       "      <td>14535.0</td>\n",
       "      <td>28291.0</td>\n",
       "    </tr>\n",
       "    <tr>\n",
       "      <th>Westworld</th>\n",
       "      <td>307642.0</td>\n",
       "      <td>8.9</td>\n",
       "      <td>20.0</td>\n",
       "      <td>2</td>\n",
       "      <td>1.0</td>\n",
       "      <td>1623</td>\n",
       "      <td>4984</td>\n",
       "      <td>2281</td>\n",
       "      <td>2121</td>\n",
       "      <td>14444.7</td>\n",
       "      <td>44357.6</td>\n",
       "      <td>20300.9</td>\n",
       "      <td>18876.9</td>\n",
       "    </tr>\n",
       "    <tr>\n",
       "      <th>Big Little Lies</th>\n",
       "      <td>86060.0</td>\n",
       "      <td>8.6</td>\n",
       "      <td>7.0</td>\n",
       "      <td>2</td>\n",
       "      <td>1.0</td>\n",
       "      <td>4271</td>\n",
       "      <td>3903</td>\n",
       "      <td>4683</td>\n",
       "      <td>5340</td>\n",
       "      <td>36730.6</td>\n",
       "      <td>33565.8</td>\n",
       "      <td>40273.8</td>\n",
       "      <td>45924.0</td>\n",
       "    </tr>\n",
       "    <tr>\n",
       "      <th>The Deuce</th>\n",
       "      <td>14113.0</td>\n",
       "      <td>8.1</td>\n",
       "      <td>16.0</td>\n",
       "      <td>2</td>\n",
       "      <td>1.0</td>\n",
       "      <td>2111</td>\n",
       "      <td>3300</td>\n",
       "      <td>1369</td>\n",
       "      <td>1724</td>\n",
       "      <td>17099.1</td>\n",
       "      <td>26730.0</td>\n",
       "      <td>11088.9</td>\n",
       "      <td>13964.4</td>\n",
       "    </tr>\n",
       "    <tr>\n",
       "      <th>Succession</th>\n",
       "      <td>3927.0</td>\n",
       "      <td>7.6</td>\n",
       "      <td>10.0</td>\n",
       "      <td>1</td>\n",
       "      <td>0.0</td>\n",
       "      <td>1953</td>\n",
       "      <td>3865</td>\n",
       "      <td>627</td>\n",
       "      <td>2957</td>\n",
       "      <td>14842.8</td>\n",
       "      <td>29374.0</td>\n",
       "      <td>4765.2</td>\n",
       "      <td>22473.2</td>\n",
       "    </tr>\n",
       "  </tbody>\n",
       "</table>\n",
       "</div>"
      ],
      "text/plain": [
       "                 imdb_votes  imdb_rating  number_of_episodes  \\\n",
       "Game of Thrones   1361235.0          9.5                73.0   \n",
       "Westworld          307642.0          8.9                20.0   \n",
       "Big Little Lies     86060.0          8.6                 7.0   \n",
       "The Deuce           14113.0          8.1                16.0   \n",
       "Succession           3927.0          7.6                10.0   \n",
       "\n",
       "                 number_of_seasons  awards  actor_1  actor_2  actor_3  \\\n",
       "Game of Thrones                  8     1.0     4118     3111     1530   \n",
       "Westworld                        2     1.0     1623     4984     2281   \n",
       "Big Little Lies                  2     1.0     4271     3903     4683   \n",
       "The Deuce                        2     1.0     2111     3300     1369   \n",
       "Succession                       1     0.0     1953     3865      627   \n",
       "\n",
       "                 actor_4  actor_1_weighted  actor_2_weighted  \\\n",
       "Game of Thrones     2978           39121.0           29554.5   \n",
       "Westworld           2121           14444.7           44357.6   \n",
       "Big Little Lies     5340           36730.6           33565.8   \n",
       "The Deuce           1724           17099.1           26730.0   \n",
       "Succession          2957           14842.8           29374.0   \n",
       "\n",
       "                 actor_3_weighted  actor_4_weighted  \n",
       "Game of Thrones           14535.0           28291.0  \n",
       "Westworld                 20300.9           18876.9  \n",
       "Big Little Lies           40273.8           45924.0  \n",
       "The Deuce                 11088.9           13964.4  \n",
       "Succession                 4765.2           22473.2  "
      ]
     },
     "execution_count": 34,
     "metadata": {},
     "output_type": "execute_result"
    }
   ],
   "source": [
    "temp_df.head()"
   ]
  },
  {
   "cell_type": "markdown",
   "metadata": {},
   "source": [
    "For the sake of exploration, I will want to see if having these weights as individual features or having a single feature holding all four weights will be better, so I'll make a column where all the weights are added together."
   ]
  },
  {
   "cell_type": "code",
   "execution_count": 35,
   "metadata": {},
   "outputs": [],
   "source": [
    "temp_df['actors_cum_sum'] = temp_df['actor_1_weighted'] + temp_df['actor_2_weighted'] + temp_df['actor_3_weighted'] + temp_df['actor_4_weighted'] "
   ]
  },
  {
   "cell_type": "code",
   "execution_count": 36,
   "metadata": {},
   "outputs": [
    {
     "data": {
      "text/html": [
       "<div>\n",
       "<style scoped>\n",
       "    .dataframe tbody tr th:only-of-type {\n",
       "        vertical-align: middle;\n",
       "    }\n",
       "\n",
       "    .dataframe tbody tr th {\n",
       "        vertical-align: top;\n",
       "    }\n",
       "\n",
       "    .dataframe thead th {\n",
       "        text-align: right;\n",
       "    }\n",
       "</style>\n",
       "<table border=\"1\" class=\"dataframe\">\n",
       "  <thead>\n",
       "    <tr style=\"text-align: right;\">\n",
       "      <th></th>\n",
       "      <th>imdb_votes</th>\n",
       "      <th>imdb_rating</th>\n",
       "      <th>number_of_episodes</th>\n",
       "      <th>number_of_seasons</th>\n",
       "      <th>awards</th>\n",
       "      <th>actor_1</th>\n",
       "      <th>actor_2</th>\n",
       "      <th>actor_3</th>\n",
       "      <th>actor_4</th>\n",
       "      <th>actor_1_weighted</th>\n",
       "      <th>actor_2_weighted</th>\n",
       "      <th>actor_3_weighted</th>\n",
       "      <th>actor_4_weighted</th>\n",
       "      <th>actors_cum_sum</th>\n",
       "    </tr>\n",
       "  </thead>\n",
       "  <tbody>\n",
       "    <tr>\n",
       "      <th>Game of Thrones</th>\n",
       "      <td>1361235.0</td>\n",
       "      <td>9.5</td>\n",
       "      <td>73.0</td>\n",
       "      <td>8</td>\n",
       "      <td>1.0</td>\n",
       "      <td>4118</td>\n",
       "      <td>3111</td>\n",
       "      <td>1530</td>\n",
       "      <td>2978</td>\n",
       "      <td>39121.0</td>\n",
       "      <td>29554.5</td>\n",
       "      <td>14535.0</td>\n",
       "      <td>28291.0</td>\n",
       "      <td>111501.5</td>\n",
       "    </tr>\n",
       "    <tr>\n",
       "      <th>Westworld</th>\n",
       "      <td>307642.0</td>\n",
       "      <td>8.9</td>\n",
       "      <td>20.0</td>\n",
       "      <td>2</td>\n",
       "      <td>1.0</td>\n",
       "      <td>1623</td>\n",
       "      <td>4984</td>\n",
       "      <td>2281</td>\n",
       "      <td>2121</td>\n",
       "      <td>14444.7</td>\n",
       "      <td>44357.6</td>\n",
       "      <td>20300.9</td>\n",
       "      <td>18876.9</td>\n",
       "      <td>97980.1</td>\n",
       "    </tr>\n",
       "    <tr>\n",
       "      <th>Big Little Lies</th>\n",
       "      <td>86060.0</td>\n",
       "      <td>8.6</td>\n",
       "      <td>7.0</td>\n",
       "      <td>2</td>\n",
       "      <td>1.0</td>\n",
       "      <td>4271</td>\n",
       "      <td>3903</td>\n",
       "      <td>4683</td>\n",
       "      <td>5340</td>\n",
       "      <td>36730.6</td>\n",
       "      <td>33565.8</td>\n",
       "      <td>40273.8</td>\n",
       "      <td>45924.0</td>\n",
       "      <td>156494.2</td>\n",
       "    </tr>\n",
       "    <tr>\n",
       "      <th>The Deuce</th>\n",
       "      <td>14113.0</td>\n",
       "      <td>8.1</td>\n",
       "      <td>16.0</td>\n",
       "      <td>2</td>\n",
       "      <td>1.0</td>\n",
       "      <td>2111</td>\n",
       "      <td>3300</td>\n",
       "      <td>1369</td>\n",
       "      <td>1724</td>\n",
       "      <td>17099.1</td>\n",
       "      <td>26730.0</td>\n",
       "      <td>11088.9</td>\n",
       "      <td>13964.4</td>\n",
       "      <td>68882.4</td>\n",
       "    </tr>\n",
       "    <tr>\n",
       "      <th>Succession</th>\n",
       "      <td>3927.0</td>\n",
       "      <td>7.6</td>\n",
       "      <td>10.0</td>\n",
       "      <td>1</td>\n",
       "      <td>0.0</td>\n",
       "      <td>1953</td>\n",
       "      <td>3865</td>\n",
       "      <td>627</td>\n",
       "      <td>2957</td>\n",
       "      <td>14842.8</td>\n",
       "      <td>29374.0</td>\n",
       "      <td>4765.2</td>\n",
       "      <td>22473.2</td>\n",
       "      <td>71455.2</td>\n",
       "    </tr>\n",
       "  </tbody>\n",
       "</table>\n",
       "</div>"
      ],
      "text/plain": [
       "                 imdb_votes  imdb_rating  number_of_episodes  \\\n",
       "Game of Thrones   1361235.0          9.5                73.0   \n",
       "Westworld          307642.0          8.9                20.0   \n",
       "Big Little Lies     86060.0          8.6                 7.0   \n",
       "The Deuce           14113.0          8.1                16.0   \n",
       "Succession           3927.0          7.6                10.0   \n",
       "\n",
       "                 number_of_seasons  awards  actor_1  actor_2  actor_3  \\\n",
       "Game of Thrones                  8     1.0     4118     3111     1530   \n",
       "Westworld                        2     1.0     1623     4984     2281   \n",
       "Big Little Lies                  2     1.0     4271     3903     4683   \n",
       "The Deuce                        2     1.0     2111     3300     1369   \n",
       "Succession                       1     0.0     1953     3865      627   \n",
       "\n",
       "                 actor_4  actor_1_weighted  actor_2_weighted  \\\n",
       "Game of Thrones     2978           39121.0           29554.5   \n",
       "Westworld           2121           14444.7           44357.6   \n",
       "Big Little Lies     5340           36730.6           33565.8   \n",
       "The Deuce           1724           17099.1           26730.0   \n",
       "Succession          2957           14842.8           29374.0   \n",
       "\n",
       "                 actor_3_weighted  actor_4_weighted  actors_cum_sum  \n",
       "Game of Thrones           14535.0           28291.0        111501.5  \n",
       "Westworld                 20300.9           18876.9         97980.1  \n",
       "Big Little Lies           40273.8           45924.0        156494.2  \n",
       "The Deuce                 11088.9           13964.4         68882.4  \n",
       "Succession                 4765.2           22473.2         71455.2  "
      ]
     },
     "execution_count": 36,
     "metadata": {},
     "output_type": "execute_result"
    }
   ],
   "source": [
    "temp_df.head()"
   ]
  },
  {
   "cell_type": "code",
   "execution_count": 37,
   "metadata": {},
   "outputs": [
    {
     "data": {
      "text/plain": [
       "imdb_votes            0\n",
       "imdb_rating           0\n",
       "number_of_episodes    1\n",
       "number_of_seasons     0\n",
       "awards                0\n",
       "actor_1               0\n",
       "actor_2               0\n",
       "actor_3               0\n",
       "actor_4               0\n",
       "actor_1_weighted      0\n",
       "actor_2_weighted      0\n",
       "actor_3_weighted      0\n",
       "actor_4_weighted      0\n",
       "actors_cum_sum        0\n",
       "dtype: int64"
      ]
     },
     "execution_count": 37,
     "metadata": {},
     "output_type": "execute_result"
    }
   ],
   "source": [
    "temp_df.isnull().sum()"
   ]
  },
  {
   "cell_type": "code",
   "execution_count": 38,
   "metadata": {},
   "outputs": [],
   "source": [
    "temp_df.dropna(inplace=True)"
   ]
  },
  {
   "cell_type": "code",
   "execution_count": null,
   "metadata": {},
   "outputs": [],
   "source": []
  },
  {
   "cell_type": "markdown",
   "metadata": {},
   "source": [
    "# Doing the same with Genre\n",
    "\n",
    "I will be repeating the same process as with the Actors, but with Genre this time instead. You can skip to the next bolded section, as the in-between will be mostly the same."
   ]
  },
  {
   "cell_type": "code",
   "execution_count": 39,
   "metadata": {
    "scrolled": true
   },
   "outputs": [
    {
     "data": {
      "text/plain": [
       "Index(['writer', 'number_of_episodes', 'number_of_seasons', 'status_y',\n",
       "       'actors', 'awards', 'genre_y', 'imdb_rating', 'imdb_votes', 'runtime_x',\n",
       "       'runtime_cat', 'network', 'bag_of_words'],\n",
       "      dtype='object')"
      ]
     },
     "execution_count": 39,
     "metadata": {},
     "output_type": "execute_result"
    }
   ],
   "source": [
    "nlp_df.columns"
   ]
  },
  {
   "cell_type": "code",
   "execution_count": 40,
   "metadata": {
    "scrolled": false
   },
   "outputs": [],
   "source": [
    "genre_df = nlp_df[['genre_y']]"
   ]
  },
  {
   "cell_type": "code",
   "execution_count": 41,
   "metadata": {},
   "outputs": [],
   "source": [
    "genre_df['imdb_rating'] = nlp_df[['imdb_rating']]"
   ]
  },
  {
   "cell_type": "code",
   "execution_count": 42,
   "metadata": {},
   "outputs": [],
   "source": [
    "genre_df['genre_y'] = genre_df['genre_y'].astype(str)"
   ]
  },
  {
   "cell_type": "code",
   "execution_count": 43,
   "metadata": {},
   "outputs": [],
   "source": [
    "cv = CountVectorizer(stop_words=None, analyzer='word', \n",
    "                     ngram_range=(1, 1), max_df=1.0, min_df=1, max_features=None)\n",
    "\n",
    "# List of strings\n",
    "genre_list = []\n",
    "\n",
    "for row in genre_df['genre_y']:\n",
    "    genre_list.append(row)"
   ]
  },
  {
   "cell_type": "code",
   "execution_count": 44,
   "metadata": {},
   "outputs": [],
   "source": [
    "genre_list_clean = []\n",
    "for item in range(0, len(genre_list)):\n",
    "    genre_list_clean.append(genre_list[item].lower().replace(\"'\", \"\").replace(' ', '').replace('.', '').replace('-', ''))\n"
   ]
  },
  {
   "cell_type": "code",
   "execution_count": 45,
   "metadata": {},
   "outputs": [],
   "source": [
    "genre_count = cv.fit(genre_list_clean)\n",
    "genre_bag_words = cv.transform(genre_list_clean)"
   ]
  },
  {
   "cell_type": "code",
   "execution_count": 46,
   "metadata": {},
   "outputs": [],
   "source": [
    "genre_match = cv.vocabulary_"
   ]
  },
  {
   "cell_type": "code",
   "execution_count": 47,
   "metadata": {},
   "outputs": [],
   "source": [
    "genre_split = pd.concat([genre_df['genre_y'].str.split(', ', expand=True)], axis=1)\n",
    "genre_df = pd.concat((genre_df, genre_split), axis=1)"
   ]
  },
  {
   "cell_type": "code",
   "execution_count": 48,
   "metadata": {
    "scrolled": false
   },
   "outputs": [
    {
     "data": {
      "text/html": [
       "<div>\n",
       "<style scoped>\n",
       "    .dataframe tbody tr th:only-of-type {\n",
       "        vertical-align: middle;\n",
       "    }\n",
       "\n",
       "    .dataframe tbody tr th {\n",
       "        vertical-align: top;\n",
       "    }\n",
       "\n",
       "    .dataframe thead th {\n",
       "        text-align: right;\n",
       "    }\n",
       "</style>\n",
       "<table border=\"1\" class=\"dataframe\">\n",
       "  <thead>\n",
       "    <tr style=\"text-align: right;\">\n",
       "      <th></th>\n",
       "      <th>genre_y</th>\n",
       "      <th>imdb_rating</th>\n",
       "      <th>0</th>\n",
       "      <th>1</th>\n",
       "      <th>2</th>\n",
       "      <th>3</th>\n",
       "      <th>4</th>\n",
       "      <th>5</th>\n",
       "      <th>6</th>\n",
       "      <th>7</th>\n",
       "      <th>8</th>\n",
       "      <th>9</th>\n",
       "    </tr>\n",
       "  </thead>\n",
       "  <tbody>\n",
       "    <tr>\n",
       "      <th>Game of Thrones</th>\n",
       "      <td>Action, Adventure, Drama, Fantasy, Romance</td>\n",
       "      <td>9.5</td>\n",
       "      <td>Action</td>\n",
       "      <td>Adventure</td>\n",
       "      <td>Drama</td>\n",
       "      <td>Fantasy</td>\n",
       "      <td>Romance</td>\n",
       "      <td>None</td>\n",
       "      <td>None</td>\n",
       "      <td>None</td>\n",
       "      <td>None</td>\n",
       "      <td>None</td>\n",
       "    </tr>\n",
       "    <tr>\n",
       "      <th>Westworld</th>\n",
       "      <td>Drama, Mystery, Sci-Fi</td>\n",
       "      <td>8.9</td>\n",
       "      <td>Drama</td>\n",
       "      <td>Mystery</td>\n",
       "      <td>Sci-Fi</td>\n",
       "      <td>None</td>\n",
       "      <td>None</td>\n",
       "      <td>None</td>\n",
       "      <td>None</td>\n",
       "      <td>None</td>\n",
       "      <td>None</td>\n",
       "      <td>None</td>\n",
       "    </tr>\n",
       "    <tr>\n",
       "      <th>Big Little Lies</th>\n",
       "      <td>Crime, Drama, Mystery</td>\n",
       "      <td>8.6</td>\n",
       "      <td>Crime</td>\n",
       "      <td>Drama</td>\n",
       "      <td>Mystery</td>\n",
       "      <td>None</td>\n",
       "      <td>None</td>\n",
       "      <td>None</td>\n",
       "      <td>None</td>\n",
       "      <td>None</td>\n",
       "      <td>None</td>\n",
       "      <td>None</td>\n",
       "    </tr>\n",
       "    <tr>\n",
       "      <th>The Deuce</th>\n",
       "      <td>Drama</td>\n",
       "      <td>8.1</td>\n",
       "      <td>Drama</td>\n",
       "      <td>None</td>\n",
       "      <td>None</td>\n",
       "      <td>None</td>\n",
       "      <td>None</td>\n",
       "      <td>None</td>\n",
       "      <td>None</td>\n",
       "      <td>None</td>\n",
       "      <td>None</td>\n",
       "      <td>None</td>\n",
       "    </tr>\n",
       "    <tr>\n",
       "      <th>Succession</th>\n",
       "      <td>Drama</td>\n",
       "      <td>7.6</td>\n",
       "      <td>Drama</td>\n",
       "      <td>None</td>\n",
       "      <td>None</td>\n",
       "      <td>None</td>\n",
       "      <td>None</td>\n",
       "      <td>None</td>\n",
       "      <td>None</td>\n",
       "      <td>None</td>\n",
       "      <td>None</td>\n",
       "      <td>None</td>\n",
       "    </tr>\n",
       "  </tbody>\n",
       "</table>\n",
       "</div>"
      ],
      "text/plain": [
       "                                                    genre_y imdb_rating  \\\n",
       "Game of Thrones  Action, Adventure, Drama, Fantasy, Romance         9.5   \n",
       "Westworld                            Drama, Mystery, Sci-Fi         8.9   \n",
       "Big Little Lies                       Crime, Drama, Mystery         8.6   \n",
       "The Deuce                                             Drama         8.1   \n",
       "Succession                                            Drama         7.6   \n",
       "\n",
       "                      0          1        2        3        4     5     6  \\\n",
       "Game of Thrones  Action  Adventure    Drama  Fantasy  Romance  None  None   \n",
       "Westworld         Drama    Mystery   Sci-Fi     None     None  None  None   \n",
       "Big Little Lies   Crime      Drama  Mystery     None     None  None  None   \n",
       "The Deuce         Drama       None     None     None     None  None  None   \n",
       "Succession        Drama       None     None     None     None  None  None   \n",
       "\n",
       "                    7     8     9  \n",
       "Game of Thrones  None  None  None  \n",
       "Westworld        None  None  None  \n",
       "Big Little Lies  None  None  None  \n",
       "The Deuce        None  None  None  \n",
       "Succession       None  None  None  "
      ]
     },
     "execution_count": 48,
     "metadata": {},
     "output_type": "execute_result"
    }
   ],
   "source": [
    "genre_df.head()"
   ]
  },
  {
   "cell_type": "code",
   "execution_count": 49,
   "metadata": {},
   "outputs": [],
   "source": [
    "genre_df[1] = genre_df[1].fillna(\"none\")\n",
    "genre_df[2] = genre_df[2].fillna(\"none\")\n",
    "genre_df[3] = genre_df[3].fillna(\"none\")\n",
    "genre_df[4] = genre_df[4].fillna(\"none\")\n",
    "genre_df[5] = genre_df[5].fillna(\"none\")"
   ]
  },
  {
   "cell_type": "code",
   "execution_count": 50,
   "metadata": {
    "scrolled": true
   },
   "outputs": [
    {
     "data": {
      "text/html": [
       "<div>\n",
       "<style scoped>\n",
       "    .dataframe tbody tr th:only-of-type {\n",
       "        vertical-align: middle;\n",
       "    }\n",
       "\n",
       "    .dataframe tbody tr th {\n",
       "        vertical-align: top;\n",
       "    }\n",
       "\n",
       "    .dataframe thead th {\n",
       "        text-align: right;\n",
       "    }\n",
       "</style>\n",
       "<table border=\"1\" class=\"dataframe\">\n",
       "  <thead>\n",
       "    <tr style=\"text-align: right;\">\n",
       "      <th></th>\n",
       "      <th>genre_y</th>\n",
       "      <th>imdb_rating</th>\n",
       "      <th>0</th>\n",
       "      <th>1</th>\n",
       "      <th>2</th>\n",
       "      <th>3</th>\n",
       "      <th>4</th>\n",
       "      <th>5</th>\n",
       "      <th>6</th>\n",
       "      <th>7</th>\n",
       "      <th>8</th>\n",
       "      <th>9</th>\n",
       "    </tr>\n",
       "  </thead>\n",
       "  <tbody>\n",
       "    <tr>\n",
       "      <th>Game of Thrones</th>\n",
       "      <td>Action, Adventure, Drama, Fantasy, Romance</td>\n",
       "      <td>9.5</td>\n",
       "      <td>Action</td>\n",
       "      <td>Adventure</td>\n",
       "      <td>Drama</td>\n",
       "      <td>Fantasy</td>\n",
       "      <td>Romance</td>\n",
       "      <td>none</td>\n",
       "      <td>None</td>\n",
       "      <td>None</td>\n",
       "      <td>None</td>\n",
       "      <td>None</td>\n",
       "    </tr>\n",
       "    <tr>\n",
       "      <th>Westworld</th>\n",
       "      <td>Drama, Mystery, Sci-Fi</td>\n",
       "      <td>8.9</td>\n",
       "      <td>Drama</td>\n",
       "      <td>Mystery</td>\n",
       "      <td>Sci-Fi</td>\n",
       "      <td>none</td>\n",
       "      <td>none</td>\n",
       "      <td>none</td>\n",
       "      <td>None</td>\n",
       "      <td>None</td>\n",
       "      <td>None</td>\n",
       "      <td>None</td>\n",
       "    </tr>\n",
       "    <tr>\n",
       "      <th>Big Little Lies</th>\n",
       "      <td>Crime, Drama, Mystery</td>\n",
       "      <td>8.6</td>\n",
       "      <td>Crime</td>\n",
       "      <td>Drama</td>\n",
       "      <td>Mystery</td>\n",
       "      <td>none</td>\n",
       "      <td>none</td>\n",
       "      <td>none</td>\n",
       "      <td>None</td>\n",
       "      <td>None</td>\n",
       "      <td>None</td>\n",
       "      <td>None</td>\n",
       "    </tr>\n",
       "    <tr>\n",
       "      <th>The Deuce</th>\n",
       "      <td>Drama</td>\n",
       "      <td>8.1</td>\n",
       "      <td>Drama</td>\n",
       "      <td>none</td>\n",
       "      <td>none</td>\n",
       "      <td>none</td>\n",
       "      <td>none</td>\n",
       "      <td>none</td>\n",
       "      <td>None</td>\n",
       "      <td>None</td>\n",
       "      <td>None</td>\n",
       "      <td>None</td>\n",
       "    </tr>\n",
       "    <tr>\n",
       "      <th>Succession</th>\n",
       "      <td>Drama</td>\n",
       "      <td>7.6</td>\n",
       "      <td>Drama</td>\n",
       "      <td>none</td>\n",
       "      <td>none</td>\n",
       "      <td>none</td>\n",
       "      <td>none</td>\n",
       "      <td>none</td>\n",
       "      <td>None</td>\n",
       "      <td>None</td>\n",
       "      <td>None</td>\n",
       "      <td>None</td>\n",
       "    </tr>\n",
       "  </tbody>\n",
       "</table>\n",
       "</div>"
      ],
      "text/plain": [
       "                                                    genre_y imdb_rating  \\\n",
       "Game of Thrones  Action, Adventure, Drama, Fantasy, Romance         9.5   \n",
       "Westworld                            Drama, Mystery, Sci-Fi         8.9   \n",
       "Big Little Lies                       Crime, Drama, Mystery         8.6   \n",
       "The Deuce                                             Drama         8.1   \n",
       "Succession                                            Drama         7.6   \n",
       "\n",
       "                      0          1        2        3        4     5     6  \\\n",
       "Game of Thrones  Action  Adventure    Drama  Fantasy  Romance  none  None   \n",
       "Westworld         Drama    Mystery   Sci-Fi     none     none  none  None   \n",
       "Big Little Lies   Crime      Drama  Mystery     none     none  none  None   \n",
       "The Deuce         Drama       none     none     none     none  none  None   \n",
       "Succession        Drama       none     none     none     none  none  None   \n",
       "\n",
       "                    7     8     9  \n",
       "Game of Thrones  None  None  None  \n",
       "Westworld        None  None  None  \n",
       "Big Little Lies  None  None  None  \n",
       "The Deuce        None  None  None  \n",
       "Succession       None  None  None  "
      ]
     },
     "execution_count": 50,
     "metadata": {},
     "output_type": "execute_result"
    }
   ],
   "source": [
    "genre_df.head()"
   ]
  },
  {
   "cell_type": "code",
   "execution_count": 51,
   "metadata": {},
   "outputs": [],
   "source": [
    "for number in range(0, len(genre_df)):\n",
    "    genre_df['genre_1'] = genre_df[0][number].lower().replace(\"'\", \"\").replace(' ', '').replace('.', '').replace('-', '')\n",
    "\n",
    "for number in range(0, len(genre_df)):\n",
    "    genre_df['genre_2'] = genre_df[1][number].lower().replace(\"'\", \"\").replace(' ', '').replace('.', '').replace('-', '')\n",
    "\n",
    "for number in range(0, len(genre_df)):\n",
    "    genre_df['genre_3'] = genre_df[2][number].lower().replace(\"'\", \"\").replace(' ', '').replace('.', '').replace('-', '')\n",
    "\n",
    "for number in range(0, len(genre_df)):\n",
    "    genre_df['genre_4'] = genre_df[3][number].lower().replace(\"'\", \"\").replace(' ', '').replace('.', '').replace('-', '')\n",
    "\n",
    "for number in range(0, len(genre_df)):\n",
    "    genre_df['genre_5'] = genre_df[4][number].lower().replace(\"'\", \"\").replace(' ', '').replace('.', '').replace('-', '')\n",
    "\n",
    "for number in range(0, len(genre_df)):\n",
    "    genre_df['genre_6'] = genre_df[5][number].lower().replace(\"'\", \"\").replace(' ', '').replace('.', '').replace('-', '')\n",
    "\n"
   ]
  },
  {
   "cell_type": "code",
   "execution_count": 52,
   "metadata": {},
   "outputs": [],
   "source": [
    "for number in range(0, len(genre_df)):\n",
    "    genre_df['genre_1'][number] = genre_df[0][number].lower().replace(\"'\", \"\").replace(' ', '').replace('.', '').replace('-', '')\n",
    "\n",
    "for number in range(0, len(genre_df)):\n",
    "    genre_df['genre_2'][number] = genre_df[1][number].lower().replace(\"'\", \"\").replace(' ', '').replace('.', '').replace('-', '')\n",
    "\n",
    "for number in range(0, len(genre_df)):\n",
    "    genre_df['genre_3'][number] = genre_df[2][number].lower().replace(\"'\", \"\").replace(' ', '').replace('.', '').replace('-', '')\n",
    "\n",
    "for number in range(0, len(genre_df)):\n",
    "    genre_df['genre_4'][number] = genre_df[3][number].lower().replace(\"'\", \"\").replace(' ', '').replace('.', '').replace('-', '')\n",
    "\n",
    "for number in range(0, len(genre_df)):\n",
    "    genre_df['genre_5'][number] = genre_df[4][number].lower().replace(\"'\", \"\").replace(' ', '').replace('.', '').replace('-', '')\n",
    "\n",
    "for number in range(0, len(genre_df)):\n",
    "    genre_df['genre_6'][number] = genre_df[5][number].lower().replace(\"'\", \"\").replace(' ', '').replace('.', '').replace('-', '')\n",
    "\n"
   ]
  },
  {
   "cell_type": "code",
   "execution_count": 53,
   "metadata": {},
   "outputs": [],
   "source": [
    "genre_df['genre_1'] = genre_df['genre_1'].map(genre_match).fillna(genre_df['genre_1'])\n",
    "genre_df['genre_2'] = genre_df['genre_2'].map(genre_match).fillna(genre_df['genre_2'])\n",
    "genre_df['genre_3'] = genre_df['genre_3'].map(genre_match).fillna(genre_df['genre_3'])\n",
    "genre_df['genre_4'] = genre_df['genre_4'].map(genre_match).fillna(genre_df['genre_4'])\n",
    "genre_df['genre_5'] = genre_df['genre_5'].map(genre_match).fillna(genre_df['genre_5'])\n",
    "genre_df['genre_6'] = genre_df['genre_6'].map(genre_match).fillna(genre_df['genre_6'])"
   ]
  },
  {
   "cell_type": "code",
   "execution_count": 54,
   "metadata": {},
   "outputs": [],
   "source": [
    "genre_df = genre_df.drop(['genre_y', 0, 1, 2, 3, 4, 5, 6, 7, 8, 9], axis=1)"
   ]
  },
  {
   "cell_type": "code",
   "execution_count": 55,
   "metadata": {
    "scrolled": true
   },
   "outputs": [
    {
     "data": {
      "text/html": [
       "<div>\n",
       "<style scoped>\n",
       "    .dataframe tbody tr th:only-of-type {\n",
       "        vertical-align: middle;\n",
       "    }\n",
       "\n",
       "    .dataframe tbody tr th {\n",
       "        vertical-align: top;\n",
       "    }\n",
       "\n",
       "    .dataframe thead th {\n",
       "        text-align: right;\n",
       "    }\n",
       "</style>\n",
       "<table border=\"1\" class=\"dataframe\">\n",
       "  <thead>\n",
       "    <tr style=\"text-align: right;\">\n",
       "      <th></th>\n",
       "      <th>imdb_rating</th>\n",
       "      <th>genre_1</th>\n",
       "      <th>genre_2</th>\n",
       "      <th>genre_3</th>\n",
       "      <th>genre_4</th>\n",
       "      <th>genre_5</th>\n",
       "      <th>genre_6</th>\n",
       "    </tr>\n",
       "  </thead>\n",
       "  <tbody>\n",
       "    <tr>\n",
       "      <th>Game of Thrones</th>\n",
       "      <td>9.5</td>\n",
       "      <td>0</td>\n",
       "      <td>1</td>\n",
       "      <td>7</td>\n",
       "      <td>9</td>\n",
       "      <td>18</td>\n",
       "      <td>none</td>\n",
       "    </tr>\n",
       "    <tr>\n",
       "      <th>Westworld</th>\n",
       "      <td>8.9</td>\n",
       "      <td>7</td>\n",
       "      <td>15</td>\n",
       "      <td>19</td>\n",
       "      <td>none</td>\n",
       "      <td>none</td>\n",
       "      <td>none</td>\n",
       "    </tr>\n",
       "    <tr>\n",
       "      <th>Big Little Lies</th>\n",
       "      <td>8.6</td>\n",
       "      <td>5</td>\n",
       "      <td>7</td>\n",
       "      <td>15</td>\n",
       "      <td>none</td>\n",
       "      <td>none</td>\n",
       "      <td>none</td>\n",
       "    </tr>\n",
       "  </tbody>\n",
       "</table>\n",
       "</div>"
      ],
      "text/plain": [
       "                imdb_rating  genre_1 genre_2 genre_3 genre_4 genre_5 genre_6\n",
       "Game of Thrones         9.5        0       1       7       9      18    none\n",
       "Westworld               8.9        7      15      19    none    none    none\n",
       "Big Little Lies         8.6        5       7      15    none    none    none"
      ]
     },
     "execution_count": 55,
     "metadata": {},
     "output_type": "execute_result"
    }
   ],
   "source": [
    "genre_df.head(3)"
   ]
  },
  {
   "cell_type": "code",
   "execution_count": 56,
   "metadata": {},
   "outputs": [],
   "source": [
    "remove_nones(genre_df['genre_2'])\n",
    "remove_nones(genre_df['genre_3'])\n",
    "remove_nones(genre_df['genre_4'])\n",
    "remove_nones(genre_df['genre_5'])\n",
    "remove_nones(genre_df['genre_6'])"
   ]
  },
  {
   "cell_type": "code",
   "execution_count": 57,
   "metadata": {},
   "outputs": [],
   "source": [
    "genre_df['genre_1'] = genre_df['genre_1'].astype(int)\n",
    "genre_df['genre_2'] = genre_df['genre_2'].astype(int)\n",
    "genre_df['genre_3'] = genre_df['genre_3'].astype(int)\n",
    "genre_df['genre_4'] = genre_df['genre_4'].astype(int)\n",
    "genre_df['genre_5'] = genre_df['genre_5'].astype(int)\n",
    "genre_df['genre_6'] = genre_df['genre_6'].astype(int)\n",
    "genre_df['imdb_rating'] = genre_df['imdb_rating'].astype(float)"
   ]
  },
  {
   "cell_type": "code",
   "execution_count": 58,
   "metadata": {},
   "outputs": [
    {
     "data": {
      "text/html": [
       "<div>\n",
       "<style scoped>\n",
       "    .dataframe tbody tr th:only-of-type {\n",
       "        vertical-align: middle;\n",
       "    }\n",
       "\n",
       "    .dataframe tbody tr th {\n",
       "        vertical-align: top;\n",
       "    }\n",
       "\n",
       "    .dataframe thead th {\n",
       "        text-align: right;\n",
       "    }\n",
       "</style>\n",
       "<table border=\"1\" class=\"dataframe\">\n",
       "  <thead>\n",
       "    <tr style=\"text-align: right;\">\n",
       "      <th></th>\n",
       "      <th>imdb_rating</th>\n",
       "      <th>genre_1</th>\n",
       "      <th>genre_2</th>\n",
       "      <th>genre_3</th>\n",
       "      <th>genre_4</th>\n",
       "      <th>genre_5</th>\n",
       "      <th>genre_6</th>\n",
       "      <th>genre_1_weighted</th>\n",
       "      <th>genre_2_weighted</th>\n",
       "      <th>genre_3_weighted</th>\n",
       "      <th>genre_4_weighted</th>\n",
       "      <th>genre_5_weighted</th>\n",
       "      <th>genre_6_weighted</th>\n",
       "    </tr>\n",
       "  </thead>\n",
       "  <tbody>\n",
       "    <tr>\n",
       "      <th>Game of Thrones</th>\n",
       "      <td>9.5</td>\n",
       "      <td>0</td>\n",
       "      <td>1</td>\n",
       "      <td>7</td>\n",
       "      <td>9</td>\n",
       "      <td>18</td>\n",
       "      <td>0</td>\n",
       "      <td>0.0</td>\n",
       "      <td>9.5</td>\n",
       "      <td>66.5</td>\n",
       "      <td>85.5</td>\n",
       "      <td>171.0</td>\n",
       "      <td>0.0</td>\n",
       "    </tr>\n",
       "    <tr>\n",
       "      <th>Westworld</th>\n",
       "      <td>8.9</td>\n",
       "      <td>7</td>\n",
       "      <td>15</td>\n",
       "      <td>19</td>\n",
       "      <td>0</td>\n",
       "      <td>0</td>\n",
       "      <td>0</td>\n",
       "      <td>62.3</td>\n",
       "      <td>133.5</td>\n",
       "      <td>169.1</td>\n",
       "      <td>0.0</td>\n",
       "      <td>0.0</td>\n",
       "      <td>0.0</td>\n",
       "    </tr>\n",
       "    <tr>\n",
       "      <th>Big Little Lies</th>\n",
       "      <td>8.6</td>\n",
       "      <td>5</td>\n",
       "      <td>7</td>\n",
       "      <td>15</td>\n",
       "      <td>0</td>\n",
       "      <td>0</td>\n",
       "      <td>0</td>\n",
       "      <td>43.0</td>\n",
       "      <td>60.2</td>\n",
       "      <td>129.0</td>\n",
       "      <td>0.0</td>\n",
       "      <td>0.0</td>\n",
       "      <td>0.0</td>\n",
       "    </tr>\n",
       "    <tr>\n",
       "      <th>The Deuce</th>\n",
       "      <td>8.1</td>\n",
       "      <td>7</td>\n",
       "      <td>0</td>\n",
       "      <td>0</td>\n",
       "      <td>0</td>\n",
       "      <td>0</td>\n",
       "      <td>0</td>\n",
       "      <td>56.7</td>\n",
       "      <td>0.0</td>\n",
       "      <td>0.0</td>\n",
       "      <td>0.0</td>\n",
       "      <td>0.0</td>\n",
       "      <td>0.0</td>\n",
       "    </tr>\n",
       "    <tr>\n",
       "      <th>Succession</th>\n",
       "      <td>7.6</td>\n",
       "      <td>7</td>\n",
       "      <td>0</td>\n",
       "      <td>0</td>\n",
       "      <td>0</td>\n",
       "      <td>0</td>\n",
       "      <td>0</td>\n",
       "      <td>53.2</td>\n",
       "      <td>0.0</td>\n",
       "      <td>0.0</td>\n",
       "      <td>0.0</td>\n",
       "      <td>0.0</td>\n",
       "      <td>0.0</td>\n",
       "    </tr>\n",
       "  </tbody>\n",
       "</table>\n",
       "</div>"
      ],
      "text/plain": [
       "                 imdb_rating  genre_1  genre_2  genre_3  genre_4  genre_5  \\\n",
       "Game of Thrones          9.5        0        1        7        9       18   \n",
       "Westworld                8.9        7       15       19        0        0   \n",
       "Big Little Lies          8.6        5        7       15        0        0   \n",
       "The Deuce                8.1        7        0        0        0        0   \n",
       "Succession               7.6        7        0        0        0        0   \n",
       "\n",
       "                 genre_6  genre_1_weighted  genre_2_weighted  \\\n",
       "Game of Thrones        0               0.0               9.5   \n",
       "Westworld              0              62.3             133.5   \n",
       "Big Little Lies        0              43.0              60.2   \n",
       "The Deuce              0              56.7               0.0   \n",
       "Succession             0              53.2               0.0   \n",
       "\n",
       "                 genre_3_weighted  genre_4_weighted  genre_5_weighted  \\\n",
       "Game of Thrones              66.5              85.5             171.0   \n",
       "Westworld                   169.1               0.0               0.0   \n",
       "Big Little Lies             129.0               0.0               0.0   \n",
       "The Deuce                     0.0               0.0               0.0   \n",
       "Succession                    0.0               0.0               0.0   \n",
       "\n",
       "                 genre_6_weighted  \n",
       "Game of Thrones               0.0  \n",
       "Westworld                     0.0  \n",
       "Big Little Lies               0.0  \n",
       "The Deuce                     0.0  \n",
       "Succession                    0.0  "
      ]
     },
     "execution_count": 58,
     "metadata": {},
     "output_type": "execute_result"
    }
   ],
   "source": [
    "genre_df['genre_1_weighted'] = genre_df['imdb_rating'] * genre_df['genre_1']\n",
    "genre_df['genre_2_weighted'] = genre_df['imdb_rating'] * genre_df['genre_2']\n",
    "genre_df['genre_3_weighted'] = genre_df['imdb_rating'] * genre_df['genre_3']\n",
    "genre_df['genre_4_weighted'] = genre_df['imdb_rating'] * genre_df['genre_4']\n",
    "genre_df['genre_5_weighted'] = genre_df['imdb_rating'] * genre_df['genre_5']\n",
    "genre_df['genre_6_weighted'] = genre_df['imdb_rating'] * genre_df['genre_6']\n",
    "\n",
    "genre_df.head()"
   ]
  },
  {
   "cell_type": "code",
   "execution_count": 59,
   "metadata": {},
   "outputs": [],
   "source": [
    "genre_df_weighted = genre_df.drop(['genre_1', 'genre_2', 'genre_3', 'genre_4', 'genre_5', 'genre_6'], axis=1)"
   ]
  },
  {
   "cell_type": "code",
   "execution_count": 60,
   "metadata": {},
   "outputs": [
    {
     "data": {
      "text/html": [
       "<div>\n",
       "<style scoped>\n",
       "    .dataframe tbody tr th:only-of-type {\n",
       "        vertical-align: middle;\n",
       "    }\n",
       "\n",
       "    .dataframe tbody tr th {\n",
       "        vertical-align: top;\n",
       "    }\n",
       "\n",
       "    .dataframe thead th {\n",
       "        text-align: right;\n",
       "    }\n",
       "</style>\n",
       "<table border=\"1\" class=\"dataframe\">\n",
       "  <thead>\n",
       "    <tr style=\"text-align: right;\">\n",
       "      <th></th>\n",
       "      <th>imdb_rating</th>\n",
       "      <th>genre_1_weighted</th>\n",
       "      <th>genre_2_weighted</th>\n",
       "      <th>genre_3_weighted</th>\n",
       "      <th>genre_4_weighted</th>\n",
       "      <th>genre_5_weighted</th>\n",
       "      <th>genre_6_weighted</th>\n",
       "    </tr>\n",
       "  </thead>\n",
       "  <tbody>\n",
       "    <tr>\n",
       "      <th>Game of Thrones</th>\n",
       "      <td>9.5</td>\n",
       "      <td>0.0</td>\n",
       "      <td>9.5</td>\n",
       "      <td>66.5</td>\n",
       "      <td>85.5</td>\n",
       "      <td>171.0</td>\n",
       "      <td>0.0</td>\n",
       "    </tr>\n",
       "    <tr>\n",
       "      <th>Westworld</th>\n",
       "      <td>8.9</td>\n",
       "      <td>62.3</td>\n",
       "      <td>133.5</td>\n",
       "      <td>169.1</td>\n",
       "      <td>0.0</td>\n",
       "      <td>0.0</td>\n",
       "      <td>0.0</td>\n",
       "    </tr>\n",
       "    <tr>\n",
       "      <th>Big Little Lies</th>\n",
       "      <td>8.6</td>\n",
       "      <td>43.0</td>\n",
       "      <td>60.2</td>\n",
       "      <td>129.0</td>\n",
       "      <td>0.0</td>\n",
       "      <td>0.0</td>\n",
       "      <td>0.0</td>\n",
       "    </tr>\n",
       "    <tr>\n",
       "      <th>The Deuce</th>\n",
       "      <td>8.1</td>\n",
       "      <td>56.7</td>\n",
       "      <td>0.0</td>\n",
       "      <td>0.0</td>\n",
       "      <td>0.0</td>\n",
       "      <td>0.0</td>\n",
       "      <td>0.0</td>\n",
       "    </tr>\n",
       "    <tr>\n",
       "      <th>Succession</th>\n",
       "      <td>7.6</td>\n",
       "      <td>53.2</td>\n",
       "      <td>0.0</td>\n",
       "      <td>0.0</td>\n",
       "      <td>0.0</td>\n",
       "      <td>0.0</td>\n",
       "      <td>0.0</td>\n",
       "    </tr>\n",
       "  </tbody>\n",
       "</table>\n",
       "</div>"
      ],
      "text/plain": [
       "                 imdb_rating  genre_1_weighted  genre_2_weighted  \\\n",
       "Game of Thrones          9.5               0.0               9.5   \n",
       "Westworld                8.9              62.3             133.5   \n",
       "Big Little Lies          8.6              43.0              60.2   \n",
       "The Deuce                8.1              56.7               0.0   \n",
       "Succession               7.6              53.2               0.0   \n",
       "\n",
       "                 genre_3_weighted  genre_4_weighted  genre_5_weighted  \\\n",
       "Game of Thrones              66.5              85.5             171.0   \n",
       "Westworld                   169.1               0.0               0.0   \n",
       "Big Little Lies             129.0               0.0               0.0   \n",
       "The Deuce                     0.0               0.0               0.0   \n",
       "Succession                    0.0               0.0               0.0   \n",
       "\n",
       "                 genre_6_weighted  \n",
       "Game of Thrones               0.0  \n",
       "Westworld                     0.0  \n",
       "Big Little Lies               0.0  \n",
       "The Deuce                     0.0  \n",
       "Succession                    0.0  "
      ]
     },
     "execution_count": 60,
     "metadata": {},
     "output_type": "execute_result"
    }
   ],
   "source": [
    "genre_df_weighted.head()"
   ]
  },
  {
   "cell_type": "markdown",
   "metadata": {},
   "source": [
    "# Writers\n",
    "\n",
    "And lastly, I want to do the same once again, but this time with Writers.\n",
    "\n",
    "Once again, skip to the next bolded section to avoid seeing the same cleanup."
   ]
  },
  {
   "cell_type": "code",
   "execution_count": 61,
   "metadata": {
    "scrolled": true
   },
   "outputs": [
    {
     "data": {
      "text/plain": [
       "Index(['writer', 'number_of_episodes', 'number_of_seasons', 'status_y',\n",
       "       'actors', 'awards', 'genre_y', 'imdb_rating', 'imdb_votes', 'runtime_x',\n",
       "       'runtime_cat', 'network', 'bag_of_words'],\n",
       "      dtype='object')"
      ]
     },
     "execution_count": 61,
     "metadata": {},
     "output_type": "execute_result"
    }
   ],
   "source": [
    "nlp_df.columns"
   ]
  },
  {
   "cell_type": "code",
   "execution_count": 62,
   "metadata": {
    "scrolled": false
   },
   "outputs": [],
   "source": [
    "writer_df = nlp_df[['writer']]"
   ]
  },
  {
   "cell_type": "code",
   "execution_count": 63,
   "metadata": {},
   "outputs": [],
   "source": [
    "writer_df['imdb_rating'] = nlp_df[['imdb_rating']]"
   ]
  },
  {
   "cell_type": "code",
   "execution_count": 64,
   "metadata": {},
   "outputs": [],
   "source": [
    "writer_df_clean = writer_df[writer_df['writer'] != 0]\n",
    "writer_df_clean = writer_df_clean[writer_df_clean['writer'] != '0']"
   ]
  },
  {
   "cell_type": "code",
   "execution_count": 65,
   "metadata": {},
   "outputs": [
    {
     "data": {
      "text/html": [
       "<div>\n",
       "<style scoped>\n",
       "    .dataframe tbody tr th:only-of-type {\n",
       "        vertical-align: middle;\n",
       "    }\n",
       "\n",
       "    .dataframe tbody tr th {\n",
       "        vertical-align: top;\n",
       "    }\n",
       "\n",
       "    .dataframe thead th {\n",
       "        text-align: right;\n",
       "    }\n",
       "</style>\n",
       "<table border=\"1\" class=\"dataframe\">\n",
       "  <thead>\n",
       "    <tr style=\"text-align: right;\">\n",
       "      <th></th>\n",
       "      <th>writer</th>\n",
       "      <th>imdb_rating</th>\n",
       "    </tr>\n",
       "  </thead>\n",
       "  <tbody>\n",
       "    <tr>\n",
       "      <th>Game of Thrones</th>\n",
       "      <td>David Benioff, D.B. Weiss</td>\n",
       "      <td>9.5</td>\n",
       "    </tr>\n",
       "    <tr>\n",
       "      <th>Big Little Lies</th>\n",
       "      <td>David E. Kelley</td>\n",
       "      <td>8.6</td>\n",
       "    </tr>\n",
       "    <tr>\n",
       "      <th>The Deuce</th>\n",
       "      <td>George Pelecanos, David Simon</td>\n",
       "      <td>8.1</td>\n",
       "    </tr>\n",
       "    <tr>\n",
       "      <th>Succession</th>\n",
       "      <td>Jesse Armstrong</td>\n",
       "      <td>7.6</td>\n",
       "    </tr>\n",
       "    <tr>\n",
       "      <th>Curb Your Enthusiasm</th>\n",
       "      <td>Larry David</td>\n",
       "      <td>8.7</td>\n",
       "    </tr>\n",
       "  </tbody>\n",
       "</table>\n",
       "</div>"
      ],
      "text/plain": [
       "                                             writer imdb_rating\n",
       "Game of Thrones           David Benioff, D.B. Weiss         9.5\n",
       "Big Little Lies                     David E. Kelley         8.6\n",
       "The Deuce             George Pelecanos, David Simon         8.1\n",
       "Succession                          Jesse Armstrong         7.6\n",
       "Curb Your Enthusiasm                    Larry David         8.7"
      ]
     },
     "execution_count": 65,
     "metadata": {},
     "output_type": "execute_result"
    }
   ],
   "source": [
    "writer_df_clean.head()"
   ]
  },
  {
   "cell_type": "code",
   "execution_count": 66,
   "metadata": {},
   "outputs": [
    {
     "data": {
      "text/plain": [
       "(1236, 2)"
      ]
     },
     "execution_count": 66,
     "metadata": {},
     "output_type": "execute_result"
    }
   ],
   "source": [
    "writer_df_clean.shape"
   ]
  },
  {
   "cell_type": "code",
   "execution_count": 67,
   "metadata": {
    "scrolled": true
   },
   "outputs": [],
   "source": [
    "cv = CountVectorizer(stop_words=None, analyzer='word', \n",
    "                     ngram_range=(1, 1), max_df=1.0, min_df=1, max_features=None)\n",
    "\n",
    "# List of strings\n",
    "writer_list = []\n",
    "\n",
    "for row in writer_df_clean['writer']:\n",
    "    writer_list.append(row)"
   ]
  },
  {
   "cell_type": "code",
   "execution_count": 68,
   "metadata": {},
   "outputs": [],
   "source": [
    "writer_list_clean = []\n",
    "for item in range(0, len(writer_list)):\n",
    "    writer_list_clean.append(writer_list[item].lower().replace(\"'\", \"\").replace(' ', '').replace('.', '').replace('-', ''))\n"
   ]
  },
  {
   "cell_type": "code",
   "execution_count": 69,
   "metadata": {},
   "outputs": [],
   "source": [
    "writer_count = cv.fit(writer_list_clean)\n",
    "writer_bag_words = cv.transform(writer_list_clean)"
   ]
  },
  {
   "cell_type": "code",
   "execution_count": 70,
   "metadata": {},
   "outputs": [],
   "source": [
    "writer_match = cv.vocabulary_"
   ]
  },
  {
   "cell_type": "code",
   "execution_count": 71,
   "metadata": {},
   "outputs": [],
   "source": [
    "writer_split = pd.concat([writer_df_clean['writer'].str.split(', ', expand=True)], axis=1)\n",
    "writer_df_clean = pd.concat((writer_df_clean, writer_split), axis=1)"
   ]
  },
  {
   "cell_type": "code",
   "execution_count": 72,
   "metadata": {
    "scrolled": true
   },
   "outputs": [
    {
     "data": {
      "text/html": [
       "<div>\n",
       "<style scoped>\n",
       "    .dataframe tbody tr th:only-of-type {\n",
       "        vertical-align: middle;\n",
       "    }\n",
       "\n",
       "    .dataframe tbody tr th {\n",
       "        vertical-align: top;\n",
       "    }\n",
       "\n",
       "    .dataframe thead th {\n",
       "        text-align: right;\n",
       "    }\n",
       "</style>\n",
       "<table border=\"1\" class=\"dataframe\">\n",
       "  <thead>\n",
       "    <tr style=\"text-align: right;\">\n",
       "      <th></th>\n",
       "      <th>writer</th>\n",
       "      <th>imdb_rating</th>\n",
       "      <th>0</th>\n",
       "      <th>1</th>\n",
       "      <th>2</th>\n",
       "      <th>3</th>\n",
       "      <th>4</th>\n",
       "      <th>5</th>\n",
       "      <th>6</th>\n",
       "      <th>7</th>\n",
       "      <th>...</th>\n",
       "      <th>95</th>\n",
       "      <th>96</th>\n",
       "      <th>97</th>\n",
       "      <th>98</th>\n",
       "      <th>99</th>\n",
       "      <th>100</th>\n",
       "      <th>101</th>\n",
       "      <th>102</th>\n",
       "      <th>103</th>\n",
       "      <th>104</th>\n",
       "    </tr>\n",
       "  </thead>\n",
       "  <tbody>\n",
       "    <tr>\n",
       "      <th>Game of Thrones</th>\n",
       "      <td>David Benioff, D.B. Weiss</td>\n",
       "      <td>9.5</td>\n",
       "      <td>David Benioff</td>\n",
       "      <td>D.B. Weiss</td>\n",
       "      <td>None</td>\n",
       "      <td>None</td>\n",
       "      <td>None</td>\n",
       "      <td>None</td>\n",
       "      <td>None</td>\n",
       "      <td>None</td>\n",
       "      <td>...</td>\n",
       "      <td>None</td>\n",
       "      <td>None</td>\n",
       "      <td>None</td>\n",
       "      <td>None</td>\n",
       "      <td>None</td>\n",
       "      <td>None</td>\n",
       "      <td>None</td>\n",
       "      <td>None</td>\n",
       "      <td>None</td>\n",
       "      <td>None</td>\n",
       "    </tr>\n",
       "    <tr>\n",
       "      <th>Big Little Lies</th>\n",
       "      <td>David E. Kelley</td>\n",
       "      <td>8.6</td>\n",
       "      <td>David E. Kelley</td>\n",
       "      <td>None</td>\n",
       "      <td>None</td>\n",
       "      <td>None</td>\n",
       "      <td>None</td>\n",
       "      <td>None</td>\n",
       "      <td>None</td>\n",
       "      <td>None</td>\n",
       "      <td>...</td>\n",
       "      <td>None</td>\n",
       "      <td>None</td>\n",
       "      <td>None</td>\n",
       "      <td>None</td>\n",
       "      <td>None</td>\n",
       "      <td>None</td>\n",
       "      <td>None</td>\n",
       "      <td>None</td>\n",
       "      <td>None</td>\n",
       "      <td>None</td>\n",
       "    </tr>\n",
       "    <tr>\n",
       "      <th>The Deuce</th>\n",
       "      <td>George Pelecanos, David Simon</td>\n",
       "      <td>8.1</td>\n",
       "      <td>George Pelecanos</td>\n",
       "      <td>David Simon</td>\n",
       "      <td>None</td>\n",
       "      <td>None</td>\n",
       "      <td>None</td>\n",
       "      <td>None</td>\n",
       "      <td>None</td>\n",
       "      <td>None</td>\n",
       "      <td>...</td>\n",
       "      <td>None</td>\n",
       "      <td>None</td>\n",
       "      <td>None</td>\n",
       "      <td>None</td>\n",
       "      <td>None</td>\n",
       "      <td>None</td>\n",
       "      <td>None</td>\n",
       "      <td>None</td>\n",
       "      <td>None</td>\n",
       "      <td>None</td>\n",
       "    </tr>\n",
       "    <tr>\n",
       "      <th>Succession</th>\n",
       "      <td>Jesse Armstrong</td>\n",
       "      <td>7.6</td>\n",
       "      <td>Jesse Armstrong</td>\n",
       "      <td>None</td>\n",
       "      <td>None</td>\n",
       "      <td>None</td>\n",
       "      <td>None</td>\n",
       "      <td>None</td>\n",
       "      <td>None</td>\n",
       "      <td>None</td>\n",
       "      <td>...</td>\n",
       "      <td>None</td>\n",
       "      <td>None</td>\n",
       "      <td>None</td>\n",
       "      <td>None</td>\n",
       "      <td>None</td>\n",
       "      <td>None</td>\n",
       "      <td>None</td>\n",
       "      <td>None</td>\n",
       "      <td>None</td>\n",
       "      <td>None</td>\n",
       "    </tr>\n",
       "    <tr>\n",
       "      <th>Curb Your Enthusiasm</th>\n",
       "      <td>Larry David</td>\n",
       "      <td>8.7</td>\n",
       "      <td>Larry David</td>\n",
       "      <td>None</td>\n",
       "      <td>None</td>\n",
       "      <td>None</td>\n",
       "      <td>None</td>\n",
       "      <td>None</td>\n",
       "      <td>None</td>\n",
       "      <td>None</td>\n",
       "      <td>...</td>\n",
       "      <td>None</td>\n",
       "      <td>None</td>\n",
       "      <td>None</td>\n",
       "      <td>None</td>\n",
       "      <td>None</td>\n",
       "      <td>None</td>\n",
       "      <td>None</td>\n",
       "      <td>None</td>\n",
       "      <td>None</td>\n",
       "      <td>None</td>\n",
       "    </tr>\n",
       "  </tbody>\n",
       "</table>\n",
       "<p>5 rows × 107 columns</p>\n",
       "</div>"
      ],
      "text/plain": [
       "                                             writer imdb_rating  \\\n",
       "Game of Thrones           David Benioff, D.B. Weiss         9.5   \n",
       "Big Little Lies                     David E. Kelley         8.6   \n",
       "The Deuce             George Pelecanos, David Simon         8.1   \n",
       "Succession                          Jesse Armstrong         7.6   \n",
       "Curb Your Enthusiasm                    Larry David         8.7   \n",
       "\n",
       "                                     0            1     2     3     4     5  \\\n",
       "Game of Thrones          David Benioff   D.B. Weiss  None  None  None  None   \n",
       "Big Little Lies        David E. Kelley         None  None  None  None  None   \n",
       "The Deuce             George Pelecanos  David Simon  None  None  None  None   \n",
       "Succession             Jesse Armstrong         None  None  None  None  None   \n",
       "Curb Your Enthusiasm       Larry David         None  None  None  None  None   \n",
       "\n",
       "                         6     7  ...     95    96    97    98    99   100  \\\n",
       "Game of Thrones       None  None  ...   None  None  None  None  None  None   \n",
       "Big Little Lies       None  None  ...   None  None  None  None  None  None   \n",
       "The Deuce             None  None  ...   None  None  None  None  None  None   \n",
       "Succession            None  None  ...   None  None  None  None  None  None   \n",
       "Curb Your Enthusiasm  None  None  ...   None  None  None  None  None  None   \n",
       "\n",
       "                       101   102   103   104  \n",
       "Game of Thrones       None  None  None  None  \n",
       "Big Little Lies       None  None  None  None  \n",
       "The Deuce             None  None  None  None  \n",
       "Succession            None  None  None  None  \n",
       "Curb Your Enthusiasm  None  None  None  None  \n",
       "\n",
       "[5 rows x 107 columns]"
      ]
     },
     "execution_count": 72,
     "metadata": {},
     "output_type": "execute_result"
    }
   ],
   "source": [
    "writer_df_clean.head()"
   ]
  },
  {
   "cell_type": "code",
   "execution_count": 73,
   "metadata": {
    "scrolled": true
   },
   "outputs": [
    {
     "data": {
      "text/plain": [
       "writer            0\n",
       "imdb_rating       0\n",
       "0                 0\n",
       "1               605\n",
       "2              1022\n",
       "3              1171\n",
       "4              1217\n",
       "5              1225\n",
       "6              1231\n",
       "7              1231\n",
       "8              1231\n",
       "9              1232\n",
       "10             1232\n",
       "11             1232\n",
       "12             1233\n",
       "13             1234\n",
       "14             1234\n",
       "15             1234\n",
       "16             1234\n",
       "17             1235\n",
       "18             1235\n",
       "19             1235\n",
       "20             1235\n",
       "21             1235\n",
       "22             1235\n",
       "23             1235\n",
       "24             1235\n",
       "25             1235\n",
       "26             1235\n",
       "27             1235\n",
       "               ... \n",
       "75             1235\n",
       "76             1235\n",
       "77             1235\n",
       "78             1235\n",
       "79             1235\n",
       "80             1235\n",
       "81             1235\n",
       "82             1235\n",
       "83             1235\n",
       "84             1235\n",
       "85             1235\n",
       "86             1235\n",
       "87             1235\n",
       "88             1235\n",
       "89             1235\n",
       "90             1235\n",
       "91             1235\n",
       "92             1235\n",
       "93             1235\n",
       "94             1235\n",
       "95             1235\n",
       "96             1235\n",
       "97             1235\n",
       "98             1235\n",
       "99             1235\n",
       "100            1235\n",
       "101            1235\n",
       "102            1235\n",
       "103            1235\n",
       "104            1235\n",
       "Length: 107, dtype: int64"
      ]
     },
     "execution_count": 73,
     "metadata": {},
     "output_type": "execute_result"
    }
   ],
   "source": [
    "writer_df_clean.isnull().sum()"
   ]
  },
  {
   "cell_type": "code",
   "execution_count": 74,
   "metadata": {},
   "outputs": [],
   "source": [
    "writer_df_reduced = writer_df_clean.drop([6, 7, 8, 9, 10, 11, 12, 13, 14, 15, 16, 17, 18, 19, 20, 21, 22, 23, 24, 25, 26, 27, 28, 29, 30, 31, 32, 33, 34, 35, 36, 37, 38, 39, 40, 41, 42, 43, 44, 45, 46, 47, 48, 49, 50, 51, 52, 53, 54, 55, 56, 57, 58, 59, 60, 61, 62, 63, 64, 65, 66, 67, 68, 69, 70, 71, 72, 73, 74, 75, 76, 77, 78, 79, 80, 81, 82, 83, 84, 85, 86, 87, 88, 89, 90, 91, 92, 93, 94, 95, 96, 97, 98, 99, 100, 101, 102, 103, 104], axis=1)"
   ]
  },
  {
   "cell_type": "code",
   "execution_count": 75,
   "metadata": {},
   "outputs": [
    {
     "data": {
      "text/html": [
       "<div>\n",
       "<style scoped>\n",
       "    .dataframe tbody tr th:only-of-type {\n",
       "        vertical-align: middle;\n",
       "    }\n",
       "\n",
       "    .dataframe tbody tr th {\n",
       "        vertical-align: top;\n",
       "    }\n",
       "\n",
       "    .dataframe thead th {\n",
       "        text-align: right;\n",
       "    }\n",
       "</style>\n",
       "<table border=\"1\" class=\"dataframe\">\n",
       "  <thead>\n",
       "    <tr style=\"text-align: right;\">\n",
       "      <th></th>\n",
       "      <th>writer</th>\n",
       "      <th>imdb_rating</th>\n",
       "      <th>0</th>\n",
       "      <th>1</th>\n",
       "      <th>2</th>\n",
       "      <th>3</th>\n",
       "      <th>4</th>\n",
       "      <th>5</th>\n",
       "    </tr>\n",
       "  </thead>\n",
       "  <tbody>\n",
       "    <tr>\n",
       "      <th>Game of Thrones</th>\n",
       "      <td>David Benioff, D.B. Weiss</td>\n",
       "      <td>9.5</td>\n",
       "      <td>David Benioff</td>\n",
       "      <td>D.B. Weiss</td>\n",
       "      <td>None</td>\n",
       "      <td>None</td>\n",
       "      <td>None</td>\n",
       "      <td>None</td>\n",
       "    </tr>\n",
       "    <tr>\n",
       "      <th>Big Little Lies</th>\n",
       "      <td>David E. Kelley</td>\n",
       "      <td>8.6</td>\n",
       "      <td>David E. Kelley</td>\n",
       "      <td>None</td>\n",
       "      <td>None</td>\n",
       "      <td>None</td>\n",
       "      <td>None</td>\n",
       "      <td>None</td>\n",
       "    </tr>\n",
       "    <tr>\n",
       "      <th>The Deuce</th>\n",
       "      <td>George Pelecanos, David Simon</td>\n",
       "      <td>8.1</td>\n",
       "      <td>George Pelecanos</td>\n",
       "      <td>David Simon</td>\n",
       "      <td>None</td>\n",
       "      <td>None</td>\n",
       "      <td>None</td>\n",
       "      <td>None</td>\n",
       "    </tr>\n",
       "    <tr>\n",
       "      <th>Succession</th>\n",
       "      <td>Jesse Armstrong</td>\n",
       "      <td>7.6</td>\n",
       "      <td>Jesse Armstrong</td>\n",
       "      <td>None</td>\n",
       "      <td>None</td>\n",
       "      <td>None</td>\n",
       "      <td>None</td>\n",
       "      <td>None</td>\n",
       "    </tr>\n",
       "    <tr>\n",
       "      <th>Curb Your Enthusiasm</th>\n",
       "      <td>Larry David</td>\n",
       "      <td>8.7</td>\n",
       "      <td>Larry David</td>\n",
       "      <td>None</td>\n",
       "      <td>None</td>\n",
       "      <td>None</td>\n",
       "      <td>None</td>\n",
       "      <td>None</td>\n",
       "    </tr>\n",
       "  </tbody>\n",
       "</table>\n",
       "</div>"
      ],
      "text/plain": [
       "                                             writer imdb_rating  \\\n",
       "Game of Thrones           David Benioff, D.B. Weiss         9.5   \n",
       "Big Little Lies                     David E. Kelley         8.6   \n",
       "The Deuce             George Pelecanos, David Simon         8.1   \n",
       "Succession                          Jesse Armstrong         7.6   \n",
       "Curb Your Enthusiasm                    Larry David         8.7   \n",
       "\n",
       "                                     0            1     2     3     4     5  \n",
       "Game of Thrones          David Benioff   D.B. Weiss  None  None  None  None  \n",
       "Big Little Lies        David E. Kelley         None  None  None  None  None  \n",
       "The Deuce             George Pelecanos  David Simon  None  None  None  None  \n",
       "Succession             Jesse Armstrong         None  None  None  None  None  \n",
       "Curb Your Enthusiasm       Larry David         None  None  None  None  None  "
      ]
     },
     "execution_count": 75,
     "metadata": {},
     "output_type": "execute_result"
    }
   ],
   "source": [
    "writer_df_reduced.head()"
   ]
  },
  {
   "cell_type": "code",
   "execution_count": 76,
   "metadata": {},
   "outputs": [],
   "source": [
    "writer_df_reduced[1] = writer_df_reduced[1].fillna(\"none\")\n",
    "writer_df_reduced[2] = writer_df_reduced[2].fillna(\"none\")\n",
    "writer_df_reduced[3] = writer_df_reduced[3].fillna(\"none\")\n",
    "writer_df_reduced[4] = writer_df_reduced[4].fillna(\"none\")\n",
    "writer_df_reduced[5] = writer_df_reduced[5].fillna(\"none\")"
   ]
  },
  {
   "cell_type": "code",
   "execution_count": 77,
   "metadata": {},
   "outputs": [],
   "source": [
    "for number in range(0, len(writer_df_reduced)):\n",
    "    writer_df_reduced['writer_1'] = writer_df_reduced[0][number].lower().replace(\"'\", \"\").replace(' ', '').replace('.', '').replace('-', '')\n",
    "\n",
    "for number in range(0, len(writer_df_reduced)):\n",
    "    writer_df_reduced['writer_2'] = writer_df_reduced[1][number].lower().replace(\"'\", \"\").replace(' ', '').replace('.', '').replace('-', '')\n",
    "\n",
    "for number in range(0, len(writer_df_reduced)):\n",
    "    writer_df_reduced['writer_3'] = writer_df_reduced[2][number].lower().replace(\"'\", \"\").replace(' ', '').replace('.', '').replace('-', '')\n",
    "\n",
    "for number in range(0, len(writer_df_reduced)):\n",
    "    writer_df_reduced['writer_4'] = writer_df_reduced[3][number].lower().replace(\"'\", \"\").replace(' ', '').replace('.', '').replace('-', '')\n",
    "\n",
    "for number in range(0, len(writer_df_reduced)):\n",
    "    writer_df_reduced['writer_5'] = writer_df_reduced[4][number].lower().replace(\"'\", \"\").replace(' ', '').replace('.', '').replace('-', '')\n",
    "    \n",
    "for number in range(0, len(writer_df_reduced)):\n",
    "    writer_df_reduced['writer_6'] = writer_df_reduced[5][number].lower().replace(\"'\", \"\").replace(' ', '').replace('.', '').replace('-', '')"
   ]
  },
  {
   "cell_type": "code",
   "execution_count": 78,
   "metadata": {},
   "outputs": [],
   "source": [
    "for number in range(0, len(writer_df_reduced)):\n",
    "    writer_df_reduced['writer_1'][number] = writer_df_reduced[0][number].lower().replace(\"'\", \"\").replace(' ', '').replace('.', '').replace('-', '')\n",
    "\n",
    "for number in range(0, len(writer_df_reduced)):\n",
    "    writer_df_reduced['writer_2'][number] = writer_df_reduced[1][number].lower().replace(\"'\", \"\").replace(' ', '').replace('.', '').replace('-', '')\n",
    "\n",
    "for number in range(0, len(writer_df_reduced)):\n",
    "    writer_df_reduced['writer_3'][number] = writer_df_reduced[2][number].lower().replace(\"'\", \"\").replace(' ', '').replace('.', '').replace('-', '')\n",
    "\n",
    "for number in range(0, len(writer_df_reduced)):\n",
    "    writer_df_reduced['writer_4'][number] = writer_df_reduced[3][number].lower().replace(\"'\", \"\").replace(' ', '').replace('.', '').replace('-', '')\n",
    "\n",
    "for number in range(0, len(writer_df_reduced)):\n",
    "    writer_df_reduced['writer_5'][number] = writer_df_reduced[4][number].lower().replace(\"'\", \"\").replace(' ', '').replace('.', '').replace('-', '')\n",
    "    \n",
    "for number in range(0, len(writer_df_reduced)):\n",
    "    writer_df_reduced['writer_6'][number] = writer_df_reduced[5][number].lower().replace(\"'\", \"\").replace(' ', '').replace('.', '').replace('-', '')"
   ]
  },
  {
   "cell_type": "code",
   "execution_count": 79,
   "metadata": {},
   "outputs": [
    {
     "data": {
      "text/plain": [
       "writer         object\n",
       "imdb_rating    object\n",
       "0              object\n",
       "1              object\n",
       "2              object\n",
       "3              object\n",
       "4              object\n",
       "5              object\n",
       "writer_1       object\n",
       "writer_2       object\n",
       "writer_3       object\n",
       "writer_4       object\n",
       "writer_5       object\n",
       "writer_6       object\n",
       "dtype: object"
      ]
     },
     "execution_count": 79,
     "metadata": {},
     "output_type": "execute_result"
    }
   ],
   "source": [
    "writer_df_reduced.dtypes"
   ]
  },
  {
   "cell_type": "code",
   "execution_count": 80,
   "metadata": {},
   "outputs": [],
   "source": [
    "writer_df_reduced['writer_1'] = writer_df_reduced['writer_1'].map(writer_match).fillna(writer_df_reduced['writer_1'])\n",
    "writer_df_reduced['writer_2'] = writer_df_reduced['writer_2'].map(writer_match).fillna(writer_df_reduced['writer_2'])\n",
    "writer_df_reduced['writer_3'] = writer_df_reduced['writer_3'].map(writer_match).fillna(writer_df_reduced['writer_3'])\n",
    "writer_df_reduced['writer_4'] = writer_df_reduced['writer_4'].map(writer_match).fillna(writer_df_reduced['writer_4'])\n",
    "writer_df_reduced['writer_5'] = writer_df_reduced['writer_5'].map(writer_match).fillna(writer_df_reduced['writer_5'])\n",
    "writer_df_reduced['writer_6'] = writer_df_reduced['writer_6'].map(writer_match).fillna(writer_df_reduced['writer_6'])"
   ]
  },
  {
   "cell_type": "code",
   "execution_count": 81,
   "metadata": {},
   "outputs": [],
   "source": [
    "writer_df_reduced = writer_df_reduced.drop(['writer', 0, 1, 2, 3, 4, 5], axis=1)"
   ]
  },
  {
   "cell_type": "code",
   "execution_count": 82,
   "metadata": {
    "scrolled": true
   },
   "outputs": [
    {
     "data": {
      "text/html": [
       "<div>\n",
       "<style scoped>\n",
       "    .dataframe tbody tr th:only-of-type {\n",
       "        vertical-align: middle;\n",
       "    }\n",
       "\n",
       "    .dataframe tbody tr th {\n",
       "        vertical-align: top;\n",
       "    }\n",
       "\n",
       "    .dataframe thead th {\n",
       "        text-align: right;\n",
       "    }\n",
       "</style>\n",
       "<table border=\"1\" class=\"dataframe\">\n",
       "  <thead>\n",
       "    <tr style=\"text-align: right;\">\n",
       "      <th></th>\n",
       "      <th>imdb_rating</th>\n",
       "      <th>writer_1</th>\n",
       "      <th>writer_2</th>\n",
       "      <th>writer_3</th>\n",
       "      <th>writer_4</th>\n",
       "      <th>writer_5</th>\n",
       "      <th>writer_6</th>\n",
       "    </tr>\n",
       "  </thead>\n",
       "  <tbody>\n",
       "    <tr>\n",
       "      <th>Game of Thrones</th>\n",
       "      <td>9.5</td>\n",
       "      <td>406</td>\n",
       "      <td>465</td>\n",
       "      <td>none</td>\n",
       "      <td>none</td>\n",
       "      <td>none</td>\n",
       "      <td>none</td>\n",
       "    </tr>\n",
       "    <tr>\n",
       "      <th>Big Little Lies</th>\n",
       "      <td>8.6</td>\n",
       "      <td>416</td>\n",
       "      <td>none</td>\n",
       "      <td>none</td>\n",
       "      <td>none</td>\n",
       "      <td>none</td>\n",
       "      <td>none</td>\n",
       "    </tr>\n",
       "    <tr>\n",
       "      <th>The Deuce</th>\n",
       "      <td>8.1</td>\n",
       "      <td>637</td>\n",
       "      <td>448</td>\n",
       "      <td>none</td>\n",
       "      <td>none</td>\n",
       "      <td>none</td>\n",
       "      <td>none</td>\n",
       "    </tr>\n",
       "  </tbody>\n",
       "</table>\n",
       "</div>"
      ],
      "text/plain": [
       "                imdb_rating  writer_1 writer_2 writer_3 writer_4 writer_5  \\\n",
       "Game of Thrones         9.5       406      465     none     none     none   \n",
       "Big Little Lies         8.6       416     none     none     none     none   \n",
       "The Deuce               8.1       637      448     none     none     none   \n",
       "\n",
       "                writer_6  \n",
       "Game of Thrones     none  \n",
       "Big Little Lies     none  \n",
       "The Deuce           none  "
      ]
     },
     "execution_count": 82,
     "metadata": {},
     "output_type": "execute_result"
    }
   ],
   "source": [
    "writer_df_reduced.head(3)"
   ]
  },
  {
   "cell_type": "code",
   "execution_count": 83,
   "metadata": {},
   "outputs": [],
   "source": [
    "remove_nones(writer_df_reduced['writer_2'])\n",
    "remove_nones(writer_df_reduced['writer_3'])\n",
    "remove_nones(writer_df_reduced['writer_4'])\n",
    "remove_nones(writer_df_reduced['writer_5'])\n",
    "remove_nones(writer_df_reduced['writer_6'])"
   ]
  },
  {
   "cell_type": "code",
   "execution_count": 84,
   "metadata": {},
   "outputs": [],
   "source": [
    "writer_df_reduced['writer_1'] = writer_df_reduced['writer_1'].astype(int)\n",
    "writer_df_reduced['writer_2'] = writer_df_reduced['writer_2'].astype(int)\n",
    "writer_df_reduced['writer_3'] = writer_df_reduced['writer_3'].astype(int)\n",
    "writer_df_reduced['writer_4'] = writer_df_reduced['writer_4'].astype(int)\n",
    "writer_df_reduced['writer_5'] = writer_df_reduced['writer_5'].astype(int)\n",
    "writer_df_reduced['writer_6'] = writer_df_reduced['writer_6'].astype(int)\n",
    "writer_df_reduced['imdb_rating'] = writer_df_reduced['imdb_rating'].astype(float)"
   ]
  },
  {
   "cell_type": "code",
   "execution_count": 85,
   "metadata": {},
   "outputs": [
    {
     "data": {
      "text/html": [
       "<div>\n",
       "<style scoped>\n",
       "    .dataframe tbody tr th:only-of-type {\n",
       "        vertical-align: middle;\n",
       "    }\n",
       "\n",
       "    .dataframe tbody tr th {\n",
       "        vertical-align: top;\n",
       "    }\n",
       "\n",
       "    .dataframe thead th {\n",
       "        text-align: right;\n",
       "    }\n",
       "</style>\n",
       "<table border=\"1\" class=\"dataframe\">\n",
       "  <thead>\n",
       "    <tr style=\"text-align: right;\">\n",
       "      <th></th>\n",
       "      <th>imdb_rating</th>\n",
       "      <th>writer_1</th>\n",
       "      <th>writer_2</th>\n",
       "      <th>writer_3</th>\n",
       "      <th>writer_4</th>\n",
       "      <th>writer_5</th>\n",
       "      <th>writer_6</th>\n",
       "      <th>writer_1_weighted</th>\n",
       "      <th>writer_2_weighted</th>\n",
       "      <th>writer_3_weighted</th>\n",
       "      <th>writer_4_weighted</th>\n",
       "      <th>writer_5_weighted</th>\n",
       "      <th>writer_6_weighted</th>\n",
       "    </tr>\n",
       "  </thead>\n",
       "  <tbody>\n",
       "    <tr>\n",
       "      <th>Game of Thrones</th>\n",
       "      <td>9.5</td>\n",
       "      <td>406</td>\n",
       "      <td>465</td>\n",
       "      <td>0</td>\n",
       "      <td>0</td>\n",
       "      <td>0</td>\n",
       "      <td>0</td>\n",
       "      <td>3857.0</td>\n",
       "      <td>4417.5</td>\n",
       "      <td>0.0</td>\n",
       "      <td>0.0</td>\n",
       "      <td>0.0</td>\n",
       "      <td>0.0</td>\n",
       "    </tr>\n",
       "    <tr>\n",
       "      <th>Big Little Lies</th>\n",
       "      <td>8.6</td>\n",
       "      <td>416</td>\n",
       "      <td>0</td>\n",
       "      <td>0</td>\n",
       "      <td>0</td>\n",
       "      <td>0</td>\n",
       "      <td>0</td>\n",
       "      <td>3577.6</td>\n",
       "      <td>0.0</td>\n",
       "      <td>0.0</td>\n",
       "      <td>0.0</td>\n",
       "      <td>0.0</td>\n",
       "      <td>0.0</td>\n",
       "    </tr>\n",
       "    <tr>\n",
       "      <th>The Deuce</th>\n",
       "      <td>8.1</td>\n",
       "      <td>637</td>\n",
       "      <td>448</td>\n",
       "      <td>0</td>\n",
       "      <td>0</td>\n",
       "      <td>0</td>\n",
       "      <td>0</td>\n",
       "      <td>5159.7</td>\n",
       "      <td>3628.8</td>\n",
       "      <td>0.0</td>\n",
       "      <td>0.0</td>\n",
       "      <td>0.0</td>\n",
       "      <td>0.0</td>\n",
       "    </tr>\n",
       "    <tr>\n",
       "      <th>Succession</th>\n",
       "      <td>7.6</td>\n",
       "      <td>829</td>\n",
       "      <td>0</td>\n",
       "      <td>0</td>\n",
       "      <td>0</td>\n",
       "      <td>0</td>\n",
       "      <td>0</td>\n",
       "      <td>6300.4</td>\n",
       "      <td>0.0</td>\n",
       "      <td>0.0</td>\n",
       "      <td>0.0</td>\n",
       "      <td>0.0</td>\n",
       "      <td>0.0</td>\n",
       "    </tr>\n",
       "    <tr>\n",
       "      <th>Curb Your Enthusiasm</th>\n",
       "      <td>8.7</td>\n",
       "      <td>1039</td>\n",
       "      <td>0</td>\n",
       "      <td>0</td>\n",
       "      <td>0</td>\n",
       "      <td>0</td>\n",
       "      <td>0</td>\n",
       "      <td>9039.3</td>\n",
       "      <td>0.0</td>\n",
       "      <td>0.0</td>\n",
       "      <td>0.0</td>\n",
       "      <td>0.0</td>\n",
       "      <td>0.0</td>\n",
       "    </tr>\n",
       "  </tbody>\n",
       "</table>\n",
       "</div>"
      ],
      "text/plain": [
       "                      imdb_rating  writer_1  writer_2  writer_3  writer_4  \\\n",
       "Game of Thrones               9.5       406       465         0         0   \n",
       "Big Little Lies               8.6       416         0         0         0   \n",
       "The Deuce                     8.1       637       448         0         0   \n",
       "Succession                    7.6       829         0         0         0   \n",
       "Curb Your Enthusiasm          8.7      1039         0         0         0   \n",
       "\n",
       "                      writer_5  writer_6  writer_1_weighted  \\\n",
       "Game of Thrones              0         0             3857.0   \n",
       "Big Little Lies              0         0             3577.6   \n",
       "The Deuce                    0         0             5159.7   \n",
       "Succession                   0         0             6300.4   \n",
       "Curb Your Enthusiasm         0         0             9039.3   \n",
       "\n",
       "                      writer_2_weighted  writer_3_weighted  writer_4_weighted  \\\n",
       "Game of Thrones                  4417.5                0.0                0.0   \n",
       "Big Little Lies                     0.0                0.0                0.0   \n",
       "The Deuce                        3628.8                0.0                0.0   \n",
       "Succession                          0.0                0.0                0.0   \n",
       "Curb Your Enthusiasm                0.0                0.0                0.0   \n",
       "\n",
       "                      writer_5_weighted  writer_6_weighted  \n",
       "Game of Thrones                     0.0                0.0  \n",
       "Big Little Lies                     0.0                0.0  \n",
       "The Deuce                           0.0                0.0  \n",
       "Succession                          0.0                0.0  \n",
       "Curb Your Enthusiasm                0.0                0.0  "
      ]
     },
     "execution_count": 85,
     "metadata": {},
     "output_type": "execute_result"
    }
   ],
   "source": [
    "writer_df_reduced['writer_1_weighted'] = writer_df_reduced['imdb_rating'] * writer_df_reduced['writer_1']\n",
    "writer_df_reduced['writer_2_weighted'] = writer_df_reduced['imdb_rating'] * writer_df_reduced['writer_2']\n",
    "writer_df_reduced['writer_3_weighted'] = writer_df_reduced['imdb_rating'] * writer_df_reduced['writer_3']\n",
    "writer_df_reduced['writer_4_weighted'] = writer_df_reduced['imdb_rating'] * writer_df_reduced['writer_4']\n",
    "writer_df_reduced['writer_5_weighted'] = writer_df_reduced['imdb_rating'] * writer_df_reduced['writer_5']\n",
    "writer_df_reduced['writer_6_weighted'] = writer_df_reduced['imdb_rating'] * writer_df_reduced['writer_6']\n",
    "\n",
    "writer_df_reduced.head()"
   ]
  },
  {
   "cell_type": "code",
   "execution_count": 86,
   "metadata": {},
   "outputs": [],
   "source": [
    "writer_df_weighted = writer_df_reduced.drop(['writer_1', 'writer_2', 'writer_3', 'writer_4', 'writer_5', 'writer_6'], axis=1)"
   ]
  },
  {
   "cell_type": "code",
   "execution_count": null,
   "metadata": {},
   "outputs": [],
   "source": []
  },
  {
   "cell_type": "code",
   "execution_count": null,
   "metadata": {},
   "outputs": [],
   "source": []
  },
  {
   "cell_type": "markdown",
   "metadata": {},
   "source": [
    "# Testing out the weights\n",
    "\n",
    "For the purpose of determining whether the engineered features are having a positive or negative effect on my model, I will see how each of those features alone predict my target value. "
   ]
  },
  {
   "cell_type": "markdown",
   "metadata": {},
   "source": [
    "## Simple model for actors"
   ]
  },
  {
   "cell_type": "code",
   "execution_count": 87,
   "metadata": {
    "scrolled": true
   },
   "outputs": [
    {
     "data": {
      "text/plain": [
       "Index(['imdb_votes', 'imdb_rating', 'number_of_episodes', 'number_of_seasons',\n",
       "       'awards', 'actor_1', 'actor_2', 'actor_3', 'actor_4',\n",
       "       'actor_1_weighted', 'actor_2_weighted', 'actor_3_weighted',\n",
       "       'actor_4_weighted', 'actors_cum_sum'],\n",
       "      dtype='object')"
      ]
     },
     "execution_count": 87,
     "metadata": {},
     "output_type": "execute_result"
    }
   ],
   "source": [
    "temp_df.columns"
   ]
  },
  {
   "cell_type": "code",
   "execution_count": 88,
   "metadata": {},
   "outputs": [],
   "source": [
    "temp_df = temp_df.dropna()"
   ]
  },
  {
   "cell_type": "code",
   "execution_count": 89,
   "metadata": {},
   "outputs": [],
   "source": [
    "X = temp_df.drop(['imdb_rating', 'imdb_votes', 'number_of_episodes', 'number_of_seasons', 'awards', 'actor_1', 'actor_2', 'actor_3', 'actor_4'], axis=1)\n",
    "X_1 = temp_df[['actors_cum_sum']]\n",
    "y = temp_df['imdb_rating']"
   ]
  },
  {
   "cell_type": "code",
   "execution_count": 90,
   "metadata": {},
   "outputs": [],
   "source": [
    "X_train, X_test, y_train, y_test = train_test_split(X, y, random_state=42)"
   ]
  },
  {
   "cell_type": "code",
   "execution_count": 91,
   "metadata": {},
   "outputs": [],
   "source": [
    "ss = StandardScaler()\n",
    "X_train_sc = ss.fit_transform(X_train)\n",
    "X_test_sc = ss.transform(X_test)"
   ]
  },
  {
   "cell_type": "code",
   "execution_count": 92,
   "metadata": {},
   "outputs": [
    {
     "data": {
      "text/plain": [
       "(0.17473065409407174, 0.08932844980377641)"
      ]
     },
     "execution_count": 92,
     "metadata": {},
     "output_type": "execute_result"
    }
   ],
   "source": [
    "lr = LinearRegression()\n",
    "lr.fit(X_train_sc, y_train)\n",
    "lr.score(X_train_sc, y_train), lr.score(X_test_sc, y_test)"
   ]
  },
  {
   "cell_type": "markdown",
   "metadata": {},
   "source": [
    "#### Modeling with only dummied variables"
   ]
  },
  {
   "cell_type": "code",
   "execution_count": 93,
   "metadata": {},
   "outputs": [
    {
     "data": {
      "text/plain": [
       "(1889, 14)"
      ]
     },
     "execution_count": 93,
     "metadata": {},
     "output_type": "execute_result"
    }
   ],
   "source": [
    "test_df.dropna(inplace=True)\n",
    "test_df.shape"
   ]
  },
  {
   "cell_type": "code",
   "execution_count": 94,
   "metadata": {},
   "outputs": [],
   "source": [
    "s = test_df['actors'].str.split(', ')"
   ]
  },
  {
   "cell_type": "code",
   "execution_count": 95,
   "metadata": {},
   "outputs": [
    {
     "data": {
      "text/html": [
       "<div>\n",
       "<style scoped>\n",
       "    .dataframe tbody tr th:only-of-type {\n",
       "        vertical-align: middle;\n",
       "    }\n",
       "\n",
       "    .dataframe tbody tr th {\n",
       "        vertical-align: top;\n",
       "    }\n",
       "\n",
       "    .dataframe thead th {\n",
       "        text-align: right;\n",
       "    }\n",
       "</style>\n",
       "<table border=\"1\" class=\"dataframe\">\n",
       "  <thead>\n",
       "    <tr style=\"text-align: right;\">\n",
       "      <th></th>\n",
       "      <th>'Big' LeRoy Mobley</th>\n",
       "      <th>'Weird Al' Yankovic</th>\n",
       "      <th>0</th>\n",
       "      <th>A.D. Miles</th>\n",
       "      <th>A.J. Cook</th>\n",
       "      <th>A.J. Johnson</th>\n",
       "      <th>A.J. Langer</th>\n",
       "      <th>AJ Gibson</th>\n",
       "      <th>Aaron Ashmore</th>\n",
       "      <th>Aaron Paul</th>\n",
       "      <th>...</th>\n",
       "      <th>Zalman King</th>\n",
       "      <th>Zeeko Zaki</th>\n",
       "      <th>Zevi Wolmark</th>\n",
       "      <th>Zienia Merton</th>\n",
       "      <th>Zoe Perry</th>\n",
       "      <th>Zoie Palmer</th>\n",
       "      <th>Zooey Deschanel</th>\n",
       "      <th>Zora Andrich</th>\n",
       "      <th>Zoë Kravitz</th>\n",
       "      <th>Zuleikha Robinson</th>\n",
       "    </tr>\n",
       "  </thead>\n",
       "  <tbody>\n",
       "    <tr>\n",
       "      <th>Game of Thrones</th>\n",
       "      <td>0</td>\n",
       "      <td>0</td>\n",
       "      <td>0</td>\n",
       "      <td>0</td>\n",
       "      <td>0</td>\n",
       "      <td>0</td>\n",
       "      <td>0</td>\n",
       "      <td>0</td>\n",
       "      <td>0</td>\n",
       "      <td>0</td>\n",
       "      <td>...</td>\n",
       "      <td>0</td>\n",
       "      <td>0</td>\n",
       "      <td>0</td>\n",
       "      <td>0</td>\n",
       "      <td>0</td>\n",
       "      <td>0</td>\n",
       "      <td>0</td>\n",
       "      <td>0</td>\n",
       "      <td>0</td>\n",
       "      <td>0</td>\n",
       "    </tr>\n",
       "    <tr>\n",
       "      <th>Westworld</th>\n",
       "      <td>0</td>\n",
       "      <td>0</td>\n",
       "      <td>0</td>\n",
       "      <td>0</td>\n",
       "      <td>0</td>\n",
       "      <td>0</td>\n",
       "      <td>0</td>\n",
       "      <td>0</td>\n",
       "      <td>0</td>\n",
       "      <td>0</td>\n",
       "      <td>...</td>\n",
       "      <td>0</td>\n",
       "      <td>0</td>\n",
       "      <td>0</td>\n",
       "      <td>0</td>\n",
       "      <td>0</td>\n",
       "      <td>0</td>\n",
       "      <td>0</td>\n",
       "      <td>0</td>\n",
       "      <td>0</td>\n",
       "      <td>0</td>\n",
       "    </tr>\n",
       "    <tr>\n",
       "      <th>Big Little Lies</th>\n",
       "      <td>0</td>\n",
       "      <td>0</td>\n",
       "      <td>0</td>\n",
       "      <td>0</td>\n",
       "      <td>0</td>\n",
       "      <td>0</td>\n",
       "      <td>0</td>\n",
       "      <td>0</td>\n",
       "      <td>0</td>\n",
       "      <td>0</td>\n",
       "      <td>...</td>\n",
       "      <td>0</td>\n",
       "      <td>0</td>\n",
       "      <td>0</td>\n",
       "      <td>0</td>\n",
       "      <td>0</td>\n",
       "      <td>0</td>\n",
       "      <td>0</td>\n",
       "      <td>0</td>\n",
       "      <td>1</td>\n",
       "      <td>0</td>\n",
       "    </tr>\n",
       "    <tr>\n",
       "      <th>The Deuce</th>\n",
       "      <td>0</td>\n",
       "      <td>0</td>\n",
       "      <td>0</td>\n",
       "      <td>0</td>\n",
       "      <td>0</td>\n",
       "      <td>0</td>\n",
       "      <td>0</td>\n",
       "      <td>0</td>\n",
       "      <td>0</td>\n",
       "      <td>0</td>\n",
       "      <td>...</td>\n",
       "      <td>0</td>\n",
       "      <td>0</td>\n",
       "      <td>0</td>\n",
       "      <td>0</td>\n",
       "      <td>0</td>\n",
       "      <td>0</td>\n",
       "      <td>0</td>\n",
       "      <td>0</td>\n",
       "      <td>0</td>\n",
       "      <td>0</td>\n",
       "    </tr>\n",
       "    <tr>\n",
       "      <th>Succession</th>\n",
       "      <td>0</td>\n",
       "      <td>0</td>\n",
       "      <td>0</td>\n",
       "      <td>0</td>\n",
       "      <td>0</td>\n",
       "      <td>0</td>\n",
       "      <td>0</td>\n",
       "      <td>0</td>\n",
       "      <td>0</td>\n",
       "      <td>0</td>\n",
       "      <td>...</td>\n",
       "      <td>0</td>\n",
       "      <td>0</td>\n",
       "      <td>0</td>\n",
       "      <td>0</td>\n",
       "      <td>0</td>\n",
       "      <td>0</td>\n",
       "      <td>0</td>\n",
       "      <td>0</td>\n",
       "      <td>0</td>\n",
       "      <td>0</td>\n",
       "    </tr>\n",
       "  </tbody>\n",
       "</table>\n",
       "<p>5 rows × 5342 columns</p>\n",
       "</div>"
      ],
      "text/plain": [
       "                 'Big' LeRoy Mobley  'Weird Al' Yankovic  0  A.D. Miles  \\\n",
       "Game of Thrones                   0                    0  0           0   \n",
       "Westworld                         0                    0  0           0   \n",
       "Big Little Lies                   0                    0  0           0   \n",
       "The Deuce                         0                    0  0           0   \n",
       "Succession                        0                    0  0           0   \n",
       "\n",
       "                 A.J. Cook  A.J. Johnson  A.J. Langer  AJ Gibson  \\\n",
       "Game of Thrones          0             0            0          0   \n",
       "Westworld                0             0            0          0   \n",
       "Big Little Lies          0             0            0          0   \n",
       "The Deuce                0             0            0          0   \n",
       "Succession               0             0            0          0   \n",
       "\n",
       "                 Aaron Ashmore  Aaron Paul        ...          Zalman King  \\\n",
       "Game of Thrones              0           0        ...                    0   \n",
       "Westworld                    0           0        ...                    0   \n",
       "Big Little Lies              0           0        ...                    0   \n",
       "The Deuce                    0           0        ...                    0   \n",
       "Succession                   0           0        ...                    0   \n",
       "\n",
       "                 Zeeko Zaki  Zevi Wolmark  Zienia Merton  Zoe Perry  \\\n",
       "Game of Thrones           0             0              0          0   \n",
       "Westworld                 0             0              0          0   \n",
       "Big Little Lies           0             0              0          0   \n",
       "The Deuce                 0             0              0          0   \n",
       "Succession                0             0              0          0   \n",
       "\n",
       "                 Zoie Palmer  Zooey Deschanel  Zora Andrich  Zoë Kravitz  \\\n",
       "Game of Thrones            0                0             0            0   \n",
       "Westworld                  0                0             0            0   \n",
       "Big Little Lies            0                0             0            1   \n",
       "The Deuce                  0                0             0            0   \n",
       "Succession                 0                0             0            0   \n",
       "\n",
       "                 Zuleikha Robinson  \n",
       "Game of Thrones                  0  \n",
       "Westworld                        0  \n",
       "Big Little Lies                  0  \n",
       "The Deuce                        0  \n",
       "Succession                       0  \n",
       "\n",
       "[5 rows x 5342 columns]"
      ]
     },
     "execution_count": 95,
     "metadata": {},
     "output_type": "execute_result"
    }
   ],
   "source": [
    "dum_actors = pd.get_dummies(s.apply(pd.Series).stack()).sum(level=0)\n",
    "dum_actors.head()"
   ]
  },
  {
   "cell_type": "code",
   "execution_count": 96,
   "metadata": {},
   "outputs": [],
   "source": [
    "X = dum_actors\n",
    "X_train, X_test, y_train, y_test = train_test_split(X, y, random_state=42)"
   ]
  },
  {
   "cell_type": "code",
   "execution_count": 97,
   "metadata": {},
   "outputs": [],
   "source": [
    "ss = StandardScaler()\n",
    "X_train_sc = ss.fit_transform(X_train)\n",
    "X_test_sc = ss.transform(X_test)"
   ]
  },
  {
   "cell_type": "code",
   "execution_count": 98,
   "metadata": {},
   "outputs": [
    {
     "data": {
      "text/plain": [
       "(0.9658608385114963, -2.332319466543675e+26)"
      ]
     },
     "execution_count": 98,
     "metadata": {},
     "output_type": "execute_result"
    }
   ],
   "source": [
    "lr = LinearRegression()\n",
    "lr.fit(X_train_sc, y_train)\n",
    "lr.score(X_train_sc, y_train), lr.score(X_test_sc, y_test)"
   ]
  },
  {
   "cell_type": "markdown",
   "metadata": {},
   "source": [
    "I can see that the weighted actors is performing much better than using just the dummied actors alone. The dummied actors-based model is grossly overfitting (96% explained variance on the training data...), so it goes without saying that I will be using the weighted features. The dummied actors simply have too many unique observations to be informative to the model."
   ]
  },
  {
   "cell_type": "markdown",
   "metadata": {},
   "source": [
    "## Cumulative weight versus categorized weights by actor"
   ]
  },
  {
   "cell_type": "code",
   "execution_count": 99,
   "metadata": {},
   "outputs": [],
   "source": [
    "X_train, X_test, y_train, y_test = train_test_split(X_1, y, random_state=42)"
   ]
  },
  {
   "cell_type": "code",
   "execution_count": 100,
   "metadata": {},
   "outputs": [],
   "source": [
    "ss = StandardScaler()\n",
    "X_train_sc = ss.fit_transform(X_train)\n",
    "X_test_sc = ss.transform(X_test)"
   ]
  },
  {
   "cell_type": "code",
   "execution_count": 101,
   "metadata": {},
   "outputs": [
    {
     "data": {
      "text/plain": [
       "(0.1669388024549112, 0.08424217817979174)"
      ]
     },
     "execution_count": 101,
     "metadata": {},
     "output_type": "execute_result"
    }
   ],
   "source": [
    "lr = LinearRegression()\n",
    "lr.fit(X_train_sc, y_train)\n",
    "lr.score(X_train_sc, y_train), lr.score(X_test_sc, y_test)"
   ]
  },
  {
   "cell_type": "markdown",
   "metadata": {},
   "source": [
    "Comparing this model with the weighted actors (split columns) model, I can see that performance is very similar. It seems that there would be little difference in which model I choose, but I plan to go with the split columns/weights."
   ]
  },
  {
   "cell_type": "markdown",
   "metadata": {},
   "source": [
    "# Simple model for genres"
   ]
  },
  {
   "cell_type": "code",
   "execution_count": 102,
   "metadata": {},
   "outputs": [],
   "source": [
    "X = genre_df_weighted.drop('imdb_rating', axis=1)\n",
    "y = genre_df_weighted['imdb_rating']"
   ]
  },
  {
   "cell_type": "code",
   "execution_count": 103,
   "metadata": {},
   "outputs": [],
   "source": [
    "X_train, X_test, y_train, y_test = train_test_split(X, y, random_state=42)"
   ]
  },
  {
   "cell_type": "code",
   "execution_count": 104,
   "metadata": {},
   "outputs": [],
   "source": [
    "ss = StandardScaler()\n",
    "X_train_sc = ss.fit_transform(X_train)\n",
    "X_test_sc = ss.transform(X_test)"
   ]
  },
  {
   "cell_type": "code",
   "execution_count": 105,
   "metadata": {},
   "outputs": [
    {
     "data": {
      "text/plain": [
       "(0.054594296961762545, 0.0677784685078392)"
      ]
     },
     "execution_count": 105,
     "metadata": {},
     "output_type": "execute_result"
    }
   ],
   "source": [
    "lr = LinearRegression()\n",
    "lr.fit(X_train_sc, y_train)\n",
    "lr.score(X_train_sc, y_train), lr.score(X_test_sc, y_test)"
   ]
  },
  {
   "cell_type": "markdown",
   "metadata": {},
   "source": [
    "#### Modeling with only dummied variables"
   ]
  },
  {
   "cell_type": "code",
   "execution_count": 106,
   "metadata": {
    "scrolled": true
   },
   "outputs": [
    {
     "data": {
      "text/plain": [
       "Index(['number_of_episodes', 'number_of_seasons', 'awards', 'imdb_rating',\n",
       "       'imdb_votes', 'timeslot_00:00', 'timeslot_afternoon',\n",
       "       'timeslot_evening', 'timeslot_latenight', 'timeslot_morning',\n",
       "       'timeslot_unknown', 'day_0', 'day_1', 'day_2', 'day_3', 'day_4',\n",
       "       'day_5', 'day_6', 'month_1', 'month_2', 'month_3', 'month_4', 'month_5',\n",
       "       'month_6', 'month_7', 'month_8', 'month_9', 'month_10', 'month_11',\n",
       "       'month_12', ' Action', ' Adventure', ' Animation', ' Comedy', ' Crime',\n",
       "       ' Drama', ' Family', ' Fantasy', ' Game-Show', ' History', ' Horror',\n",
       "       ' Music', ' Musical', ' Mystery', ' News', ' Reality-TV', ' Romance',\n",
       "       ' Sci-Fi', ' Short', ' Sport', ' Talk-Show', ' Thriller', ' War',\n",
       "       ' Western', 'Action', 'Adventure', 'Animation', 'Biography', 'Comedy',\n",
       "       'Crime', 'Documentary', 'Drama', 'Family', 'Fantasy', 'Game-Show',\n",
       "       'History', 'Horror', 'Music', 'Mystery', 'News', 'Reality-TV',\n",
       "       'Romance', 'Sci-Fi', 'Sport', 'Talk-Show', 'Western', 'status_Canceled',\n",
       "       'status_Ended', 'status_In Production', 'status_Returning Series',\n",
       "       'type_Documentary', 'type_Miniseries', 'type_News', 'type_Reality',\n",
       "       'type_Scripted', 'type_Talk Show', 'type_Video', 'runtime_full',\n",
       "       'runtime_half', 'runtime_special'],\n",
       "      dtype='object')"
      ]
     },
     "execution_count": 106,
     "metadata": {},
     "output_type": "execute_result"
    }
   ],
   "source": [
    "model_df.columns"
   ]
  },
  {
   "cell_type": "code",
   "execution_count": 107,
   "metadata": {},
   "outputs": [],
   "source": [
    "model_df.dropna(inplace=True)"
   ]
  },
  {
   "cell_type": "code",
   "execution_count": 108,
   "metadata": {},
   "outputs": [],
   "source": [
    "X = model_df[[' Action', ' Adventure', ' Animation', ' Comedy', ' Crime',\n",
    "       ' Drama', ' Family', ' Fantasy', ' Game-Show', ' History', ' Horror',\n",
    "       ' Music', ' Musical', ' Mystery', ' News', ' Reality-TV', ' Romance',\n",
    "       ' Sci-Fi', ' Short', ' Sport', ' Talk-Show', ' Thriller', ' War',\n",
    "       ' Western', 'Action', 'Adventure', 'Animation', 'Biography', 'Comedy',\n",
    "       'Crime', 'Documentary', 'Drama', 'Family', 'Fantasy', 'Game-Show',\n",
    "       'History', 'Horror', 'Music', 'Mystery', 'News', 'Reality-TV',\n",
    "       'Romance', 'Sci-Fi', 'Sport', 'Talk-Show', 'Western']]\n",
    "y = model_df['imdb_rating']\n",
    "X_train, X_test, y_train, y_test = train_test_split(X, y, random_state=42)"
   ]
  },
  {
   "cell_type": "code",
   "execution_count": 109,
   "metadata": {},
   "outputs": [],
   "source": [
    "ss = StandardScaler()\n",
    "X_train_sc = ss.fit_transform(X_train)\n",
    "X_test_sc = ss.transform(X_test)"
   ]
  },
  {
   "cell_type": "code",
   "execution_count": 110,
   "metadata": {},
   "outputs": [
    {
     "data": {
      "text/plain": [
       "(0.19677923147368, 0.09611441877593818)"
      ]
     },
     "execution_count": 110,
     "metadata": {},
     "output_type": "execute_result"
    }
   ],
   "source": [
    "lr = LinearRegression()\n",
    "lr.fit(X_train_sc, y_train)\n",
    "lr.score(X_train_sc, y_train), lr.score(X_test_sc, y_test)"
   ]
  },
  {
   "cell_type": "markdown",
   "metadata": {},
   "source": [
    "In contrast to the models for the actors data, when looking at only the genre as a predictive feature, it appears that the dummied genres have a slightly better score than the weighted categories. I will be retaining the dummied features for my final model."
   ]
  },
  {
   "cell_type": "markdown",
   "metadata": {},
   "source": [
    "# Simple model for writers"
   ]
  },
  {
   "cell_type": "code",
   "execution_count": 111,
   "metadata": {},
   "outputs": [],
   "source": [
    "X = writer_df_weighted.drop('imdb_rating', axis=1)\n",
    "y = writer_df_weighted['imdb_rating']"
   ]
  },
  {
   "cell_type": "code",
   "execution_count": 112,
   "metadata": {},
   "outputs": [],
   "source": [
    "X_train, X_test, y_train, y_test = train_test_split(X, y, random_state=42)"
   ]
  },
  {
   "cell_type": "code",
   "execution_count": 113,
   "metadata": {},
   "outputs": [],
   "source": [
    "ss = StandardScaler()\n",
    "X_train_sc = ss.fit_transform(X_train)\n",
    "X_test_sc = ss.transform(X_test)"
   ]
  },
  {
   "cell_type": "code",
   "execution_count": 114,
   "metadata": {},
   "outputs": [
    {
     "data": {
      "text/plain": [
       "(0.056460690914488465, 0.06271659946369246)"
      ]
     },
     "execution_count": 114,
     "metadata": {},
     "output_type": "execute_result"
    }
   ],
   "source": [
    "lr = LinearRegression()\n",
    "lr.fit(X_train_sc, y_train)\n",
    "lr.score(X_train_sc, y_train), lr.score(X_test_sc, y_test)"
   ]
  },
  {
   "cell_type": "markdown",
   "metadata": {},
   "source": [
    "#### Modeling with only dummied variables"
   ]
  },
  {
   "cell_type": "code",
   "execution_count": 115,
   "metadata": {},
   "outputs": [],
   "source": [
    "s = writer_df_clean['writer'].str.split(', ')"
   ]
  },
  {
   "cell_type": "code",
   "execution_count": 116,
   "metadata": {},
   "outputs": [
    {
     "data": {
      "text/html": [
       "<div>\n",
       "<style scoped>\n",
       "    .dataframe tbody tr th:only-of-type {\n",
       "        vertical-align: middle;\n",
       "    }\n",
       "\n",
       "    .dataframe tbody tr th {\n",
       "        vertical-align: top;\n",
       "    }\n",
       "\n",
       "    .dataframe thead th {\n",
       "        text-align: right;\n",
       "    }\n",
       "</style>\n",
       "<table border=\"1\" class=\"dataframe\">\n",
       "  <thead>\n",
       "    <tr style=\"text-align: right;\">\n",
       "      <th></th>\n",
       "      <th>'Weird Al' Yankovic</th>\n",
       "      <th>A.I. Bezzerides</th>\n",
       "      <th>AJ Carothers</th>\n",
       "      <th>Aaron Chrenen</th>\n",
       "      <th>Aaron McGruder</th>\n",
       "      <th>Aaron Sorkin</th>\n",
       "      <th>Aaron Spelling</th>\n",
       "      <th>Aaron Zelman</th>\n",
       "      <th>Abbi Jacobson</th>\n",
       "      <th>Abby Kohn</th>\n",
       "      <th>...</th>\n",
       "      <th>Yoshiyuki Tomino</th>\n",
       "      <th>Yvette Lee Bowser</th>\n",
       "      <th>Zach Galifianakis</th>\n",
       "      <th>Zach Kanin</th>\n",
       "      <th>Zach Stafford</th>\n",
       "      <th>Zachary Crowe</th>\n",
       "      <th>Zack Bornstein</th>\n",
       "      <th>Zack Estrin</th>\n",
       "      <th>Zak Penn</th>\n",
       "      <th>Àlex Pastor</th>\n",
       "    </tr>\n",
       "  </thead>\n",
       "  <tbody>\n",
       "    <tr>\n",
       "      <th>Game of Thrones</th>\n",
       "      <td>0</td>\n",
       "      <td>0</td>\n",
       "      <td>0</td>\n",
       "      <td>0</td>\n",
       "      <td>0</td>\n",
       "      <td>0</td>\n",
       "      <td>0</td>\n",
       "      <td>0</td>\n",
       "      <td>0</td>\n",
       "      <td>0</td>\n",
       "      <td>...</td>\n",
       "      <td>0</td>\n",
       "      <td>0</td>\n",
       "      <td>0</td>\n",
       "      <td>0</td>\n",
       "      <td>0</td>\n",
       "      <td>0</td>\n",
       "      <td>0</td>\n",
       "      <td>0</td>\n",
       "      <td>0</td>\n",
       "      <td>0</td>\n",
       "    </tr>\n",
       "    <tr>\n",
       "      <th>Big Little Lies</th>\n",
       "      <td>0</td>\n",
       "      <td>0</td>\n",
       "      <td>0</td>\n",
       "      <td>0</td>\n",
       "      <td>0</td>\n",
       "      <td>0</td>\n",
       "      <td>0</td>\n",
       "      <td>0</td>\n",
       "      <td>0</td>\n",
       "      <td>0</td>\n",
       "      <td>...</td>\n",
       "      <td>0</td>\n",
       "      <td>0</td>\n",
       "      <td>0</td>\n",
       "      <td>0</td>\n",
       "      <td>0</td>\n",
       "      <td>0</td>\n",
       "      <td>0</td>\n",
       "      <td>0</td>\n",
       "      <td>0</td>\n",
       "      <td>0</td>\n",
       "    </tr>\n",
       "    <tr>\n",
       "      <th>The Deuce</th>\n",
       "      <td>0</td>\n",
       "      <td>0</td>\n",
       "      <td>0</td>\n",
       "      <td>0</td>\n",
       "      <td>0</td>\n",
       "      <td>0</td>\n",
       "      <td>0</td>\n",
       "      <td>0</td>\n",
       "      <td>0</td>\n",
       "      <td>0</td>\n",
       "      <td>...</td>\n",
       "      <td>0</td>\n",
       "      <td>0</td>\n",
       "      <td>0</td>\n",
       "      <td>0</td>\n",
       "      <td>0</td>\n",
       "      <td>0</td>\n",
       "      <td>0</td>\n",
       "      <td>0</td>\n",
       "      <td>0</td>\n",
       "      <td>0</td>\n",
       "    </tr>\n",
       "    <tr>\n",
       "      <th>Succession</th>\n",
       "      <td>0</td>\n",
       "      <td>0</td>\n",
       "      <td>0</td>\n",
       "      <td>0</td>\n",
       "      <td>0</td>\n",
       "      <td>0</td>\n",
       "      <td>0</td>\n",
       "      <td>0</td>\n",
       "      <td>0</td>\n",
       "      <td>0</td>\n",
       "      <td>...</td>\n",
       "      <td>0</td>\n",
       "      <td>0</td>\n",
       "      <td>0</td>\n",
       "      <td>0</td>\n",
       "      <td>0</td>\n",
       "      <td>0</td>\n",
       "      <td>0</td>\n",
       "      <td>0</td>\n",
       "      <td>0</td>\n",
       "      <td>0</td>\n",
       "    </tr>\n",
       "    <tr>\n",
       "      <th>Curb Your Enthusiasm</th>\n",
       "      <td>0</td>\n",
       "      <td>0</td>\n",
       "      <td>0</td>\n",
       "      <td>0</td>\n",
       "      <td>0</td>\n",
       "      <td>0</td>\n",
       "      <td>0</td>\n",
       "      <td>0</td>\n",
       "      <td>0</td>\n",
       "      <td>0</td>\n",
       "      <td>...</td>\n",
       "      <td>0</td>\n",
       "      <td>0</td>\n",
       "      <td>0</td>\n",
       "      <td>0</td>\n",
       "      <td>0</td>\n",
       "      <td>0</td>\n",
       "      <td>0</td>\n",
       "      <td>0</td>\n",
       "      <td>0</td>\n",
       "      <td>0</td>\n",
       "    </tr>\n",
       "  </tbody>\n",
       "</table>\n",
       "<p>5 rows × 1746 columns</p>\n",
       "</div>"
      ],
      "text/plain": [
       "                      'Weird Al' Yankovic  A.I. Bezzerides  AJ Carothers  \\\n",
       "Game of Thrones                         0                0             0   \n",
       "Big Little Lies                         0                0             0   \n",
       "The Deuce                               0                0             0   \n",
       "Succession                              0                0             0   \n",
       "Curb Your Enthusiasm                    0                0             0   \n",
       "\n",
       "                      Aaron Chrenen  Aaron McGruder  Aaron Sorkin  \\\n",
       "Game of Thrones                   0               0             0   \n",
       "Big Little Lies                   0               0             0   \n",
       "The Deuce                         0               0             0   \n",
       "Succession                        0               0             0   \n",
       "Curb Your Enthusiasm              0               0             0   \n",
       "\n",
       "                      Aaron Spelling  Aaron Zelman  Abbi Jacobson  Abby Kohn  \\\n",
       "Game of Thrones                    0             0              0          0   \n",
       "Big Little Lies                    0             0              0          0   \n",
       "The Deuce                          0             0              0          0   \n",
       "Succession                         0             0              0          0   \n",
       "Curb Your Enthusiasm               0             0              0          0   \n",
       "\n",
       "                         ...       Yoshiyuki Tomino  Yvette Lee Bowser  \\\n",
       "Game of Thrones          ...                      0                  0   \n",
       "Big Little Lies          ...                      0                  0   \n",
       "The Deuce                ...                      0                  0   \n",
       "Succession               ...                      0                  0   \n",
       "Curb Your Enthusiasm     ...                      0                  0   \n",
       "\n",
       "                      Zach Galifianakis  Zach Kanin  Zach Stafford  \\\n",
       "Game of Thrones                       0           0              0   \n",
       "Big Little Lies                       0           0              0   \n",
       "The Deuce                             0           0              0   \n",
       "Succession                            0           0              0   \n",
       "Curb Your Enthusiasm                  0           0              0   \n",
       "\n",
       "                      Zachary Crowe  Zack Bornstein  Zack Estrin  Zak Penn  \\\n",
       "Game of Thrones                   0               0            0         0   \n",
       "Big Little Lies                   0               0            0         0   \n",
       "The Deuce                         0               0            0         0   \n",
       "Succession                        0               0            0         0   \n",
       "Curb Your Enthusiasm              0               0            0         0   \n",
       "\n",
       "                      Àlex Pastor  \n",
       "Game of Thrones                 0  \n",
       "Big Little Lies                 0  \n",
       "The Deuce                       0  \n",
       "Succession                      0  \n",
       "Curb Your Enthusiasm            0  \n",
       "\n",
       "[5 rows x 1746 columns]"
      ]
     },
     "execution_count": 116,
     "metadata": {},
     "output_type": "execute_result"
    }
   ],
   "source": [
    "dum_writers = pd.get_dummies(s.apply(pd.Series).stack()).sum(level=0)\n",
    "dum_writers.head()"
   ]
  },
  {
   "cell_type": "code",
   "execution_count": 117,
   "metadata": {},
   "outputs": [],
   "source": [
    "X = dum_writers\n",
    "y = writer_df_weighted['imdb_rating']\n",
    "X_train, X_test, y_train, y_test = train_test_split(X, y, random_state=42)"
   ]
  },
  {
   "cell_type": "code",
   "execution_count": 118,
   "metadata": {},
   "outputs": [],
   "source": [
    "ss = StandardScaler()\n",
    "X_train_sc = ss.fit_transform(X_train)\n",
    "X_test_sc = ss.transform(X_test)"
   ]
  },
  {
   "cell_type": "code",
   "execution_count": 119,
   "metadata": {},
   "outputs": [
    {
     "data": {
      "text/plain": [
       "(0.8992503541795358, -2.6872979896613328e+25)"
      ]
     },
     "execution_count": 119,
     "metadata": {},
     "output_type": "execute_result"
    }
   ],
   "source": [
    "lr = LinearRegression()\n",
    "lr.fit(X_train_sc, y_train)\n",
    "lr.score(X_train_sc, y_train), lr.score(X_test_sc, y_test)"
   ]
  },
  {
   "cell_type": "markdown",
   "metadata": {},
   "source": [
    "Were I to proceed with using the writers as a feature (and thereby dropping around 600 observations that are missing this information, I would want to use the weighted writers rather than dummying them. Similar to the actors simple regression model, the large number of unique writers (columns) with small number of observations (rows) makes it so that the model grossly overfits. \n",
    "\n",
    "Based on this rudimentary scoring, however, I believe that it will be better to retain the observations with missing writer data and to drop that as a feature, instad."
   ]
  },
  {
   "cell_type": "code",
   "execution_count": null,
   "metadata": {},
   "outputs": [],
   "source": []
  },
  {
   "cell_type": "markdown",
   "metadata": {},
   "source": [
    "# Building the final model"
   ]
  },
  {
   "cell_type": "code",
   "execution_count": 120,
   "metadata": {},
   "outputs": [],
   "source": [
    "good_model = model_df.merge(temp_df, left_index=True, right_index=True)"
   ]
  },
  {
   "cell_type": "code",
   "execution_count": 129,
   "metadata": {},
   "outputs": [],
   "source": [
    "good_model.drop([' Action',\n",
    " ' Adventure',\n",
    " ' Animation',\n",
    " ' Comedy',\n",
    " ' Crime',\n",
    " ' Drama',\n",
    " ' Family',\n",
    " ' Fantasy',\n",
    " ' Game-Show',\n",
    " ' History',\n",
    " ' Horror',\n",
    " ' Music',\n",
    " ' Musical',\n",
    " ' Mystery',\n",
    " ' News',\n",
    " ' Reality-TV',\n",
    " ' Romance',\n",
    " ' Sci-Fi',\n",
    " ' Short',\n",
    " ' Sport',\n",
    " ' Talk-Show',\n",
    " ' Thriller',\n",
    " ' War',\n",
    " ' Western'], axis=1, inplace=True)"
   ]
  },
  {
   "cell_type": "code",
   "execution_count": 130,
   "metadata": {},
   "outputs": [
    {
     "data": {
      "text/plain": [
       "(1889, 80)"
      ]
     },
     "execution_count": 130,
     "metadata": {},
     "output_type": "execute_result"
    }
   ],
   "source": [
    "good_model.shape"
   ]
  },
  {
   "cell_type": "code",
   "execution_count": 131,
   "metadata": {},
   "outputs": [],
   "source": [
    "with open('../0_Assets_&_Data/final_model.pickle', 'wb') as f:\n",
    "    pickle.dump(good_model, f)"
   ]
  },
  {
   "cell_type": "markdown",
   "metadata": {},
   "source": [
    "I have my final features selected, so I can proceed to GridSearch the model in my next notebook."
   ]
  },
  {
   "cell_type": "code",
   "execution_count": 132,
   "metadata": {},
   "outputs": [
    {
     "data": {
      "text/plain": [
       "['number_of_episodes_x',\n",
       " 'number_of_seasons_x',\n",
       " 'awards_x',\n",
       " 'imdb_rating_x',\n",
       " 'imdb_votes_x',\n",
       " 'timeslot_00:00',\n",
       " 'timeslot_afternoon',\n",
       " 'timeslot_evening',\n",
       " 'timeslot_latenight',\n",
       " 'timeslot_morning',\n",
       " 'timeslot_unknown',\n",
       " 'day_0',\n",
       " 'day_1',\n",
       " 'day_2',\n",
       " 'day_3',\n",
       " 'day_4',\n",
       " 'day_5',\n",
       " 'day_6',\n",
       " 'month_1',\n",
       " 'month_2',\n",
       " 'month_3',\n",
       " 'month_4',\n",
       " 'month_5',\n",
       " 'month_6',\n",
       " 'month_7',\n",
       " 'month_8',\n",
       " 'month_9',\n",
       " 'month_10',\n",
       " 'month_11',\n",
       " 'month_12',\n",
       " 'Action',\n",
       " 'Adventure',\n",
       " 'Animation',\n",
       " 'Biography',\n",
       " 'Comedy',\n",
       " 'Crime',\n",
       " 'Documentary',\n",
       " 'Drama',\n",
       " 'Family',\n",
       " 'Fantasy',\n",
       " 'Game-Show',\n",
       " 'History',\n",
       " 'Horror',\n",
       " 'Music',\n",
       " 'Mystery',\n",
       " 'News',\n",
       " 'Reality-TV',\n",
       " 'Romance',\n",
       " 'Sci-Fi',\n",
       " 'Sport',\n",
       " 'Talk-Show',\n",
       " 'Western',\n",
       " 'status_Canceled',\n",
       " 'status_Ended',\n",
       " 'status_In Production',\n",
       " 'status_Returning Series',\n",
       " 'type_Documentary',\n",
       " 'type_Miniseries',\n",
       " 'type_News',\n",
       " 'type_Reality',\n",
       " 'type_Scripted',\n",
       " 'type_Talk Show',\n",
       " 'type_Video',\n",
       " 'runtime_full',\n",
       " 'runtime_half',\n",
       " 'runtime_special',\n",
       " 'imdb_votes_y',\n",
       " 'imdb_rating_y',\n",
       " 'number_of_episodes_y',\n",
       " 'number_of_seasons_y',\n",
       " 'awards_y',\n",
       " 'actor_1',\n",
       " 'actor_2',\n",
       " 'actor_3',\n",
       " 'actor_4',\n",
       " 'actor_1_weighted',\n",
       " 'actor_2_weighted',\n",
       " 'actor_3_weighted',\n",
       " 'actor_4_weighted',\n",
       " 'actors_cum_sum']"
      ]
     },
     "execution_count": 132,
     "metadata": {},
     "output_type": "execute_result"
    }
   ],
   "source": [
    "list(good_model.columns)"
   ]
  },
  {
   "cell_type": "code",
   "execution_count": null,
   "metadata": {},
   "outputs": [],
   "source": []
  }
 ],
 "metadata": {
  "kernelspec": {
   "display_name": "Python 3",
   "language": "python",
   "name": "python3"
  },
  "language_info": {
   "codemirror_mode": {
    "name": "ipython",
    "version": 3
   },
   "file_extension": ".py",
   "mimetype": "text/x-python",
   "name": "python",
   "nbconvert_exporter": "python",
   "pygments_lexer": "ipython3",
   "version": "3.6.5"
  }
 },
 "nbformat": 4,
 "nbformat_minor": 2
}
